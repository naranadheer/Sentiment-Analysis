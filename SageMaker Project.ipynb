{
 "cells": [
  {
   "cell_type": "markdown",
   "metadata": {},
   "source": [
    "# Creating a Sentiment Analysis Web App\n",
    "## Using PyTorch and SageMaker\n",
    "\n",
    "_Deep Learning Nanodegree Program | Deployment_\n",
    "\n",
    "---\n",
    "\n",
    "Now that we have a basic understanding of how SageMaker works we will try to use it to construct a complete project from end to end. Our goal will be to have a simple web page which a user can use to enter a movie review. The web page will then send the review off to our deployed model which will predict the sentiment of the entered review.\n",
    "\n",
    "## Instructions\n",
    "\n",
    "Some template code has already been provided for you, and you will need to implement additional functionality to successfully complete this notebook. You will not need to modify the included code beyond what is requested. Sections that begin with '**TODO**' in the header indicate that you need to complete or implement some portion within them. Instructions will be provided for each section and the specifics of the implementation are marked in the code block with a `# TODO: ...` comment. Please be sure to read the instructions carefully!\n",
    "\n",
    "In addition to implementing code, there will be questions for you to answer which relate to the task and your implementation. Each section where you will answer a question is preceded by a '**Question:**' header. Carefully read each question and provide your answer below the '**Answer:**' header by editing the Markdown cell.\n",
    "\n",
    "> **Note**: Code and Markdown cells can be executed using the **Shift+Enter** keyboard shortcut. In addition, a cell can be edited by typically clicking it (double-click for Markdown cells) or by pressing **Enter** while it is highlighted.\n",
    "\n",
    "## General Outline\n",
    "\n",
    "Recall the general outline for SageMaker projects using a notebook instance.\n",
    "\n",
    "1. Download or otherwise retrieve the data.\n",
    "2. Process / Prepare the data.\n",
    "3. Upload the processed data to S3.\n",
    "4. Train a chosen model.\n",
    "5. Test the trained model (typically using a batch transform job).\n",
    "6. Deploy the trained model.\n",
    "7. Use the deployed model.\n",
    "\n",
    "For this project, you will be following the steps in the general outline with some modifications. \n",
    "\n",
    "First, you will not be testing the model in its own step. You will still be testing the model, however, you will do it by deploying your model and then using the deployed model by sending the test data to it. One of the reasons for doing this is so that you can make sure that your deployed model is working correctly before moving forward.\n",
    "\n",
    "In addition, you will deploy and use your trained model a second time. In the second iteration you will customize the way that your trained model is deployed by including some of your own code. In addition, your newly deployed model will be used in the sentiment analysis web app."
   ]
  },
  {
   "cell_type": "markdown",
   "metadata": {},
   "source": [
    "## Step 1: Downloading the data\n",
    "\n",
    "As in the XGBoost in SageMaker notebook, we will be using the [IMDb dataset](http://ai.stanford.edu/~amaas/data/sentiment/)\n",
    "\n",
    "> Maas, Andrew L., et al. [Learning Word Vectors for Sentiment Analysis](http://ai.stanford.edu/~amaas/data/sentiment/). In _Proceedings of the 49th Annual Meeting of the Association for Computational Linguistics: Human Language Technologies_. Association for Computational Linguistics, 2011."
   ]
  },
  {
   "cell_type": "code",
   "execution_count": 1,
   "metadata": {},
   "outputs": [
    {
     "name": "stdout",
     "output_type": "stream",
     "text": [
      "mkdir: cannot create directory ‘../data’: File exists\n",
      "--2020-06-01 02:39:27--  http://ai.stanford.edu/~amaas/data/sentiment/aclImdb_v1.tar.gz\n",
      "Resolving ai.stanford.edu (ai.stanford.edu)... 171.64.68.10\n",
      "Connecting to ai.stanford.edu (ai.stanford.edu)|171.64.68.10|:80... connected.\n",
      "HTTP request sent, awaiting response... 200 OK\n",
      "Length: 84125825 (80M) [application/x-gzip]\n",
      "Saving to: ‘../data/aclImdb_v1.tar.gz’\n",
      "\n",
      "../data/aclImdb_v1. 100%[===================>]  80.23M  23.5MB/s    in 4.0s    \n",
      "\n",
      "2020-06-01 02:39:31 (19.9 MB/s) - ‘../data/aclImdb_v1.tar.gz’ saved [84125825/84125825]\n",
      "\n"
     ]
    }
   ],
   "source": [
    "%mkdir ../data\n",
    "!wget -O ../data/aclImdb_v1.tar.gz http://ai.stanford.edu/~amaas/data/sentiment/aclImdb_v1.tar.gz\n",
    "!tar -zxf ../data/aclImdb_v1.tar.gz -C ../data"
   ]
  },
  {
   "cell_type": "markdown",
   "metadata": {},
   "source": [
    "## Step 2: Preparing and Processing the data\n",
    "\n",
    "Also, as in the XGBoost notebook, we will be doing some initial data processing. The first few steps are the same as in the XGBoost example. To begin with, we will read in each of the reviews and combine them into a single input structure. Then, we will split the dataset into a training set and a testing set."
   ]
  },
  {
   "cell_type": "code",
   "execution_count": 2,
   "metadata": {},
   "outputs": [],
   "source": [
    "import os\n",
    "import glob\n",
    "\n",
    "def read_imdb_data(data_dir='../data/aclImdb'):\n",
    "    data = {}\n",
    "    labels = {}\n",
    "    \n",
    "    for data_type in ['train', 'test']:\n",
    "        data[data_type] = {}\n",
    "        labels[data_type] = {}\n",
    "        \n",
    "        for sentiment in ['pos', 'neg']:\n",
    "            data[data_type][sentiment] = []\n",
    "            labels[data_type][sentiment] = []\n",
    "            \n",
    "            path = os.path.join(data_dir, data_type, sentiment, '*.txt')\n",
    "            files = glob.glob(path)\n",
    "            \n",
    "            for f in files:\n",
    "                with open(f) as review:\n",
    "                    data[data_type][sentiment].append(review.read())\n",
    "                    # Here we represent a positive review by '1' and a negative review by '0'\n",
    "                    labels[data_type][sentiment].append(1 if sentiment == 'pos' else 0)\n",
    "                    \n",
    "            assert len(data[data_type][sentiment]) == len(labels[data_type][sentiment]), \\\n",
    "                    \"{}/{} data size does not match labels size\".format(data_type, sentiment)\n",
    "                \n",
    "    return data, labels"
   ]
  },
  {
   "cell_type": "code",
   "execution_count": 3,
   "metadata": {},
   "outputs": [
    {
     "name": "stdout",
     "output_type": "stream",
     "text": [
      "dict_keys(['train', 'test'])\n",
      "dict_keys(['train', 'test'])\n",
      "IMDB reviews: train = 12500 pos / 12500 neg, test = 12500 pos / 12500 neg\n"
     ]
    }
   ],
   "source": [
    "data, labels = read_imdb_data()\n",
    "print((labels.keys()))\n",
    "print((data.keys()))\n",
    "print(\"IMDB reviews: train = {} pos / {} neg, test = {} pos / {} neg\".format(\n",
    "            len(data['train']['pos']), len(data['train']['neg']),\n",
    "            len(data['test']['pos']), len(data['test']['neg'])))"
   ]
  },
  {
   "cell_type": "markdown",
   "metadata": {},
   "source": [
    "Now that we've read the raw training and testing data from the downloaded dataset, we will combine the positive and negative reviews and shuffle the resulting records."
   ]
  },
  {
   "cell_type": "code",
   "execution_count": 4,
   "metadata": {},
   "outputs": [],
   "source": [
    "from sklearn.utils import shuffle\n",
    "\n",
    "def prepare_imdb_data(data, labels):\n",
    "    \"\"\"Prepare training and test sets from IMDb movie reviews.\"\"\"\n",
    "    \n",
    "    #Combine positive and negative reviews and labels\n",
    "    data_train = data['train']['pos'] + data['train']['neg']\n",
    "    data_test = data['test']['pos'] + data['test']['neg']\n",
    "    labels_train = labels['train']['pos'] + labels['train']['neg']\n",
    "    labels_test = labels['test']['pos'] + labels['test']['neg']\n",
    "    \n",
    "    #Shuffle reviews and corresponding labels within training and test sets\n",
    "    data_train, labels_train = shuffle(data_train, labels_train)\n",
    "    data_test, labels_test = shuffle(data_test, labels_test)\n",
    "    \n",
    "    # Return a unified training data, test data, training labels, test labets\n",
    "    return data_train, data_test, labels_train, labels_test"
   ]
  },
  {
   "cell_type": "code",
   "execution_count": 5,
   "metadata": {},
   "outputs": [
    {
     "name": "stdout",
     "output_type": "stream",
     "text": [
      "IMDb reviews (combined): train = 25000, test = 25000\n"
     ]
    }
   ],
   "source": [
    "train_X, test_X, train_y, test_y = prepare_imdb_data(data, labels)\n",
    "print(\"IMDb reviews (combined): train = {}, test = {}\".format(len(train_X), len(test_X)))\n"
   ]
  },
  {
   "cell_type": "markdown",
   "metadata": {},
   "source": [
    "Now that we have our training and testing sets unified and prepared, we should do a quick check and see an example of the data our model will be trained on. This is generally a good idea as it allows you to see how each of the further processing steps affects the reviews and it also ensures that the data has been loaded correctly."
   ]
  },
  {
   "cell_type": "code",
   "execution_count": 6,
   "metadata": {},
   "outputs": [
    {
     "name": "stdout",
     "output_type": "stream",
     "text": [
      "I second the motion to make this into a movie, it would be great!! I was also amazed at the storyline and character build in this game. I have played it again and again (over 20 times) just to try something different and it gets more interesting every time. Final Fantasy eat your heart out!! THIS SHOULD BE MADE INTO A MOVIE!!!!! If anyone out there wants some help to start a petition to have this made into a movie, please contact me. I would love to help with that project any day. The graphics are great for PS1 and even make you forget it is PS1 most of the time. The multitude of side quests makes it different every time you play.\n",
      "1\n"
     ]
    }
   ],
   "source": [
    "print(train_X[100])\n",
    "print(train_y[100])"
   ]
  },
  {
   "cell_type": "markdown",
   "metadata": {},
   "source": [
    "The first step in processing the reviews is to make sure that any html tags that appear should be removed. In addition we wish to tokenize our input, that way words such as *entertained* and *entertaining* are considered the same with regard to sentiment analysis."
   ]
  },
  {
   "cell_type": "code",
   "execution_count": 7,
   "metadata": {},
   "outputs": [],
   "source": [
    "import nltk\n",
    "from nltk.corpus import stopwords\n",
    "from nltk.stem.porter import *\n",
    "\n",
    "import re\n",
    "from bs4 import BeautifulSoup\n",
    "\n",
    "def review_to_words(review):\n",
    "    nltk.download(\"stopwords\", quiet=True)\n",
    "    stemmer = PorterStemmer()\n",
    "    \n",
    "    text = BeautifulSoup(review, \"html.parser\").get_text() # Remove HTML tags\n",
    "    text = re.sub(r\"[^a-zA-Z0-9]\", \" \", text.lower()) # Convert to lower case\n",
    "    words = text.split() # Split string into words\n",
    "    words = [w for w in words if w not in stopwords.words(\"english\")] # Remove stopwords\n",
    "    words = [PorterStemmer().stem(w) for w in words] # stem\n",
    "    \n",
    "    return words"
   ]
  },
  {
   "cell_type": "markdown",
   "metadata": {},
   "source": [
    "The `review_to_words` method defined above uses `BeautifulSoup` to remove any html tags that appear and uses the `nltk` package to tokenize the reviews. As a check to ensure we know how everything is working, try applying `review_to_words` to one of the reviews in the training set."
   ]
  },
  {
   "cell_type": "code",
   "execution_count": 8,
   "metadata": {},
   "outputs": [
    {
     "name": "stdout",
     "output_type": "stream",
     "text": [
      "['second', 'motion', 'make', 'movi', 'would', 'great', 'also', 'amaz', 'storylin', 'charact', 'build', 'game', 'play', '20', 'time', 'tri', 'someth', 'differ', 'get', 'interest', 'everi', 'time', 'final', 'fantasi', 'eat', 'heart', 'made', 'movi', 'anyon', 'want', 'help', 'start', 'petit', 'made', 'movi', 'pleas', 'contact', 'would', 'love', 'help', 'project', 'day', 'graphic', 'great', 'ps1', 'even', 'make', 'forget', 'ps1', 'time', 'multitud', 'side', 'quest', 'make', 'differ', 'everi', 'time', 'play']\n"
     ]
    }
   ],
   "source": [
    "# TODO: Apply review_to_words to a review (train_X[100] or any other review)\n",
    "words=review_to_words(train_X[100])\n",
    "print(words)\n"
   ]
  },
  {
   "cell_type": "markdown",
   "metadata": {},
   "source": [
    "**Question:** Above we mentioned that `review_to_words` method removes html formatting and allows us to tokenize the words found in a review, for example, converting *entertained* and *entertaining* into *entertain* so that they are treated as though they are the same word. What else, if anything, does this method do to the input?"
   ]
  },
  {
   "cell_type": "markdown",
   "metadata": {},
   "source": [
    "**Answer:**"
   ]
  },
  {
   "cell_type": "markdown",
   "metadata": {},
   "source": [
    "The method below applies the `review_to_words` method to each of the reviews in the training and testing datasets. In addition it caches the results. This is because performing this processing step can take a long time. This way if you are unable to complete the notebook in the current session, you can come back without needing to process the data a second time."
   ]
  },
  {
   "cell_type": "code",
   "execution_count": 9,
   "metadata": {},
   "outputs": [],
   "source": [
    "import pickle\n",
    "\n",
    "cache_dir = os.path.join(\"../cache\", \"sentiment_analysis\")  # where to store cache files\n",
    "os.makedirs(cache_dir, exist_ok=True)  # ensure cache directory exists\n",
    "\n",
    "def preprocess_data(data_train, data_test, labels_train, labels_test,\n",
    "                    cache_dir=cache_dir, cache_file=\"preprocessed_data.pkl\"):\n",
    "    \"\"\"Convert each review to words; read from cache if available.\"\"\"\n",
    "\n",
    "    # If cache_file is not None, try to read from it first\n",
    "    cache_data = None\n",
    "    if cache_file is not None:\n",
    "        try:\n",
    "            with open(os.path.join(cache_dir, cache_file), \"rb\") as f:\n",
    "                cache_data = pickle.load(f)\n",
    "            print(\"Read preprocessed data from cache file:\", cache_file)\n",
    "        except:\n",
    "            pass  # unable to read from cache, but that's okay\n",
    "    \n",
    "    # If cache is missing, then do the heavy lifting\n",
    "    if cache_data is None:\n",
    "        # Preprocess training and test data to obtain words for each review\n",
    "        #words_train = list(map(review_to_words, data_train))\n",
    "        #words_test = list(map(review_to_words, data_test))\n",
    "        words_train = [review_to_words(review) for review in data_train]\n",
    "        words_test = [review_to_words(review) for review in data_test]\n",
    "        \n",
    "        # Write to cache file for future runs\n",
    "        if cache_file is not None:\n",
    "            cache_data = dict(words_train=words_train, words_test=words_test,\n",
    "                              labels_train=labels_train, labels_test=labels_test)\n",
    "            with open(os.path.join(cache_dir, cache_file), \"wb\") as f:\n",
    "                pickle.dump(cache_data, f)\n",
    "            print(\"Wrote preprocessed data to cache file:\", cache_file)\n",
    "    else:\n",
    "        # Unpack data loaded from cache file\n",
    "        words_train, words_test, labels_train, labels_test = (cache_data['words_train'],\n",
    "                cache_data['words_test'], cache_data['labels_train'], cache_data['labels_test'])\n",
    "    \n",
    "    return words_train, words_test, labels_train, labels_test"
   ]
  },
  {
   "cell_type": "code",
   "execution_count": 10,
   "metadata": {},
   "outputs": [
    {
     "name": "stdout",
     "output_type": "stream",
     "text": [
      "Read preprocessed data from cache file: preprocessed_data.pkl\n"
     ]
    }
   ],
   "source": [
    "# Preprocess data\n",
    "train_X, test_X, train_y, test_y = preprocess_data(train_X, test_X, train_y, test_y)"
   ]
  },
  {
   "cell_type": "markdown",
   "metadata": {},
   "source": [
    "## Transform the data\n",
    "\n",
    "In the XGBoost notebook we transformed the data from its word representation to a bag-of-words feature representation. For the model we are going to construct in this notebook we will construct a feature representation which is very similar. To start, we will represent each word as an integer. Of course, some of the words that appear in the reviews occur very infrequently and so likely don't contain much information for the purposes of sentiment analysis. The way we will deal with this problem is that we will fix the size of our working vocabulary and we will only include the words that appear most frequently. We will then combine all of the infrequent words into a single category and, in our case, we will label it as `1`.\n",
    "\n",
    "Since we will be using a recurrent neural network, it will be convenient if the length of each review is the same. To do this, we will fix a size for our reviews and then pad short reviews with the category 'no word' (which we will label `0`) and truncate long reviews."
   ]
  },
  {
   "cell_type": "markdown",
   "metadata": {},
   "source": [
    "### (TODO) Create a word dictionary\n",
    "\n",
    "To begin with, we need to construct a way to map words that appear in the reviews to integers. Here we fix the size of our vocabulary (including the 'no word' and 'infrequent' categories) to be `5000` but you may wish to change this to see how it affects the model.\n",
    "\n",
    "> **TODO:** Complete the implementation for the `build_dict()` method below. Note that even though the vocab_size is set to `5000`, we only want to construct a mapping for the most frequently appearing `4998` words. This is because we want to reserve the special labels `0` for 'no word' and `1` for 'infrequent word'."
   ]
  },
  {
   "cell_type": "code",
   "execution_count": 11,
   "metadata": {},
   "outputs": [],
   "source": [
    "import numpy as np\n",
    "\n",
    "def build_dict(data, vocab_size = 5000):\n",
    "    \"\"\"Construct and return a dictionary mapping each of the most frequently appearing words to a unique integer.\"\"\"\n",
    "    \n",
    "    # TODO: Determine how often each word appears in `data`. Note that `data` is a list of sentences and that a\n",
    "    #       sentence is a list of words.\n",
    "    \n",
    "    \n",
    "    word_count = {} # A dict storing the words that appear in the reviews along with how often they occur\n",
    "    \n",
    "    for line in data:\n",
    "        for word in line:\n",
    "            if word in word_count:\n",
    "                word_count[word]+=1\n",
    "            else:\n",
    "                word_count[word]=1\n",
    "                \n",
    "        \n",
    "    \n",
    "    # TODO: Sort the words found in `data` so that sorted_words[0] is the most frequently appearing word and\n",
    "    #       sorted_words[-1] is the least frequently appearing word.\n",
    "#     print(word_count)\n",
    "    sorted_words = sorted(word_count, key=lambda x: word_count[x],reverse=True)\n",
    "#     print(sorted_words)\n",
    "    word_dict = {} # This is what we are building, a dictionary that translates words into integers\n",
    "    for idx, word in enumerate(sorted_words[:vocab_size - 2]): # The -2 is so that we save room for the 'no word'\n",
    "        word_dict[word] = idx + 2                              # 'infrequent' labels\n",
    "        \n",
    "    return word_dict"
   ]
  },
  {
   "cell_type": "code",
   "execution_count": 12,
   "metadata": {},
   "outputs": [
    {
     "name": "stdout",
     "output_type": "stream",
     "text": [
      "{'movi': 2, 'film': 3, 'one': 4, 'like': 5, 'time': 6, 'good': 7, 'make': 8, 'charact': 9, 'get': 10, 'see': 11, 'watch': 12, 'stori': 13, 'even': 14, 'would': 15, 'realli': 16, 'well': 17, 'scene': 18, 'look': 19, 'show': 20, 'much': 21, 'end': 22, 'peopl': 23, 'bad': 24, 'go': 25, 'great': 26, 'also': 27, 'first': 28, 'love': 29, 'think': 30, 'way': 31, 'act': 32, 'play': 33, 'made': 34, 'thing': 35, 'could': 36, 'know': 37, 'say': 38, 'seem': 39, 'work': 40, 'plot': 41, 'two': 42, 'actor': 43, 'year': 44, 'come': 45, 'mani': 46, 'seen': 47, 'take': 48, 'life': 49, 'want': 50, 'never': 51, 'littl': 52, 'best': 53, 'tri': 54, 'man': 55, 'ever': 56, 'give': 57, 'better': 58, 'still': 59, 'perform': 60, 'find': 61, 'feel': 62, 'part': 63, 'back': 64, 'use': 65, 'someth': 66, 'director': 67, 'actual': 68, 'interest': 69, 'lot': 70, 'real': 71, 'old': 72, 'cast': 73, 'though': 74, 'live': 75, 'star': 76, 'enjoy': 77, 'guy': 78, 'anoth': 79, 'new': 80, 'role': 81, 'noth': 82, '10': 83, 'funni': 84, 'music': 85, 'point': 86, 'start': 87, 'set': 88, 'girl': 89, 'origin': 90, 'day': 91, 'world': 92, 'everi': 93, 'believ': 94, 'turn': 95, 'quit': 96, 'us': 97, 'direct': 98, 'thought': 99, 'fact': 100, 'minut': 101, 'horror': 102, 'kill': 103, 'action': 104, 'comedi': 105, 'pretti': 106, 'young': 107, 'wonder': 108, 'happen': 109, 'around': 110, 'got': 111, 'effect': 112, 'right': 113, 'long': 114, 'howev': 115, 'big': 116, 'line': 117, 'famili': 118, 'enough': 119, 'seri': 120, 'may': 121, 'need': 122, 'fan': 123, 'bit': 124, 'script': 125, 'beauti': 126, 'person': 127, 'becom': 128, 'without': 129, 'must': 130, 'alway': 131, 'friend': 132, 'tell': 133, 'reason': 134, 'saw': 135, 'last': 136, 'final': 137, 'kid': 138, 'almost': 139, 'put': 140, 'least': 141, 'sure': 142, 'done': 143, 'whole': 144, 'place': 145, 'complet': 146, 'kind': 147, 'expect': 148, 'differ': 149, 'shot': 150, 'far': 151, 'mean': 152, 'anyth': 153, 'book': 154, 'laugh': 155, 'might': 156, 'name': 157, 'sinc': 158, 'begin': 159, '2': 160, 'probabl': 161, 'woman': 162, 'help': 163, 'entertain': 164, 'let': 165, 'screen': 166, 'call': 167, 'tv': 168, 'moment': 169, 'away': 170, 'read': 171, 'yet': 172, 'rather': 173, 'worst': 174, 'run': 175, 'fun': 176, 'lead': 177, 'hard': 178, 'audienc': 179, 'idea': 180, 'anyon': 181, 'episod': 182, 'american': 183, 'found': 184, 'appear': 185, 'bore': 186, 'especi': 187, 'although': 188, 'hope': 189, 'cours': 190, 'keep': 191, 'anim': 192, 'job': 193, 'goe': 194, 'move': 195, 'sens': 196, 'dvd': 197, 'version': 198, 'war': 199, 'money': 200, 'someon': 201, 'mind': 202, 'mayb': 203, 'problem': 204, 'true': 205, 'hous': 206, 'everyth': 207, 'nice': 208, 'second': 209, 'rate': 210, 'three': 211, 'night': 212, 'follow': 213, 'face': 214, 'recommend': 215, 'main': 216, 'product': 217, 'worth': 218, 'leav': 219, 'human': 220, 'special': 221, 'excel': 222, 'togeth': 223, 'wast': 224, 'everyon': 225, 'sound': 226, 'john': 227, 'hand': 228, '1': 229, 'father': 230, 'later': 231, 'eye': 232, 'said': 233, 'view': 234, 'instead': 235, 'review': 236, 'boy': 237, 'high': 238, 'hour': 239, 'miss': 240, 'classic': 241, 'talk': 242, 'wife': 243, 'understand': 244, 'left': 245, 'care': 246, 'black': 247, 'death': 248, 'open': 249, 'murder': 250, 'write': 251, 'half': 252, 'head': 253, 'rememb': 254, 'chang': 255, 'viewer': 256, 'fight': 257, 'gener': 258, 'surpris': 259, 'short': 260, 'includ': 261, 'die': 262, 'fall': 263, 'less': 264, 'els': 265, 'entir': 266, 'piec': 267, 'involv': 268, 'pictur': 269, 'simpli': 270, 'power': 271, 'top': 272, 'home': 273, 'total': 274, 'usual': 275, 'budget': 276, 'attempt': 277, 'suppos': 278, 'releas': 279, 'hollywood': 280, 'terribl': 281, 'song': 282, 'men': 283, 'possibl': 284, 'featur': 285, 'portray': 286, 'disappoint': 287, 'poor': 288, '3': 289, 'coupl': 290, 'stupid': 291, 'camera': 292, 'dead': 293, 'wrong': 294, 'low': 295, 'produc': 296, 'video': 297, 'either': 298, 'aw': 299, 'definit': 300, 'except': 301, 'rest': 302, 'given': 303, 'absolut': 304, 'women': 305, 'lack': 306, 'word': 307, 'writer': 308, 'titl': 309, 'talent': 310, 'decid': 311, 'full': 312, 'perfect': 313, 'along': 314, 'style': 315, 'close': 316, 'truli': 317, 'school': 318, 'save': 319, 'emot': 320, 'sex': 321, 'age': 322, 'next': 323, 'bring': 324, 'mr': 325, 'case': 326, 'killer': 327, 'heart': 328, 'comment': 329, 'sort': 330, 'creat': 331, 'perhap': 332, 'came': 333, 'brother': 334, 'sever': 335, 'joke': 336, 'art': 337, 'dialogu': 338, 'game': 339, 'small': 340, 'base': 341, 'flick': 342, 'written': 343, 'sequenc': 344, 'meet': 345, 'earli': 346, 'often': 347, 'other': 348, 'mother': 349, 'develop': 350, 'humor': 351, 'actress': 352, 'consid': 353, 'dark': 354, 'guess': 355, 'amaz': 356, 'unfortun': 357, 'light': 358, 'lost': 359, 'exampl': 360, 'cinema': 361, 'drama': 362, 'ye': 363, 'white': 364, 'experi': 365, 'imagin': 366, 'mention': 367, 'stop': 368, 'natur': 369, 'forc': 370, 'manag': 371, 'felt': 372, 'present': 373, 'cut': 374, 'children': 375, 'fail': 376, 'son': 377, 'qualiti': 378, 'support': 379, 'car': 380, 'ask': 381, 'hit': 382, 'side': 383, 'voic': 384, 'extrem': 385, 'impress': 386, 'wors': 387, 'evil': 388, 'stand': 389, 'went': 390, 'certainli': 391, 'basic': 392, 'oh': 393, 'overal': 394, 'favorit': 395, 'horribl': 396, 'mysteri': 397, 'number': 398, 'type': 399, 'danc': 400, 'wait': 401, 'hero': 402, 'alreadi': 403, '5': 404, 'learn': 405, 'matter': 406, '4': 407, 'michael': 408, 'genr': 409, 'fine': 410, 'despit': 411, 'throughout': 412, 'walk': 413, 'success': 414, 'histori': 415, 'question': 416, 'zombi': 417, 'town': 418, 'relationship': 419, 'realiz': 420, 'past': 421, 'child': 422, 'daughter': 423, 'late': 424, 'b': 425, 'wish': 426, 'hate': 427, 'credit': 428, 'event': 429, 'theme': 430, 'touch': 431, 'citi': 432, 'today': 433, 'sometim': 434, 'behind': 435, 'god': 436, 'twist': 437, 'sit': 438, 'stay': 439, 'deal': 440, 'annoy': 441, 'abl': 442, 'rent': 443, 'pleas': 444, 'edit': 445, 'blood': 446, 'deserv': 447, 'comic': 448, 'anyway': 449, 'appar': 450, 'soon': 451, 'gave': 452, 'etc': 453, 'level': 454, 'slow': 455, 'chanc': 456, 'score': 457, 'bodi': 458, 'brilliant': 459, 'incred': 460, 'figur': 461, 'situat': 462, 'major': 463, 'self': 464, 'stuff': 465, 'decent': 466, 'element': 467, 'dream': 468, 'return': 469, 'obvious': 470, 'continu': 471, 'order': 472, 'pace': 473, 'ridicul': 474, 'happi': 475, 'group': 476, 'highli': 477, 'add': 478, 'thank': 479, 'ladi': 480, 'novel': 481, 'pain': 482, 'speak': 483, 'career': 484, 'shoot': 485, 'strang': 486, 'heard': 487, 'sad': 488, 'husband': 489, 'polic': 490, 'import': 491, 'break': 492, 'took': 493, 'strong': 494, 'cannot': 495, 'robert': 496, 'predict': 497, 'violenc': 498, 'hilari': 499, 'recent': 500, 'countri': 501, 'known': 502, 'particularli': 503, 'pick': 504, 'documentari': 505, 'season': 506, 'critic': 507, 'jame': 508, 'compar': 509, 'obviou': 510, 'alon': 511, 'told': 512, 'state': 513, 'rock': 514, 'visual': 515, 'theater': 516, 'exist': 517, 'offer': 518, 'opinion': 519, 'gore': 520, 'crap': 521, 'hold': 522, 'result': 523, 'room': 524, 'hear': 525, 'realiti': 526, 'clich': 527, 'effort': 528, 'thriller': 529, 'caus': 530, 'sequel': 531, 'serious': 532, 'explain': 533, 'king': 534, 'local': 535, 'ago': 536, 'hell': 537, 'none': 538, 'note': 539, 'allow': 540, 'sister': 541, 'david': 542, 'simpl': 543, 'femal': 544, 'deliv': 545, 'ok': 546, 'class': 547, 'convinc': 548, 'check': 549, 'suspens': 550, 'win': 551, 'buy': 552, 'oscar': 553, 'huge': 554, 'valu': 555, 'sexual': 556, 'scari': 557, 'cool': 558, 'similar': 559, 'excit': 560, 'apart': 561, 'exactli': 562, 'provid': 563, 'shown': 564, 'avoid': 565, 'seriou': 566, 'english': 567, 'taken': 568, 'whose': 569, 'cinematographi': 570, 'shock': 571, 'polit': 572, 'spoiler': 573, 'offic': 574, 'across': 575, 'middl': 576, 'pass': 577, 'street': 578, 'messag': 579, 'silli': 580, 'charm': 581, 'somewhat': 582, 'modern': 583, 'confus': 584, 'filmmak': 585, 'form': 586, 'tale': 587, 'singl': 588, 'jack': 589, 'mostli': 590, 'william': 591, 'attent': 592, 'carri': 593, 'sing': 594, 'five': 595, 'subject': 596, 'prove': 597, 'richard': 598, 'team': 599, 'stage': 600, 'unlik': 601, 'cop': 602, 'georg': 603, 'monster': 604, 'televis': 605, 'earth': 606, 'cover': 607, 'villain': 608, 'pay': 609, 'marri': 610, 'toward': 611, 'build': 612, 'pull': 613, 'parent': 614, 'due': 615, 'respect': 616, 'fill': 617, 'four': 618, 'dialog': 619, 'remind': 620, 'futur': 621, 'typic': 622, 'weak': 623, '7': 624, 'cheap': 625, 'intellig': 626, 'atmospher': 627, 'british': 628, '80': 629, 'clearli': 630, 'non': 631, 'dog': 632, 'paul': 633, 'fast': 634, '8': 635, 'knew': 636, 'artist': 637, 'crime': 638, 'easili': 639, 'escap': 640, 'adult': 641, 'doubt': 642, 'detail': 643, 'date': 644, 'member': 645, 'romant': 646, 'fire': 647, 'gun': 648, 'drive': 649, 'straight': 650, 'beyond': 651, 'fit': 652, 'attack': 653, 'imag': 654, 'upon': 655, 'posit': 656, 'whether': 657, 'fantast': 658, 'peter': 659, 'aspect': 660, 'appreci': 661, 'captur': 662, 'ten': 663, 'plan': 664, 'discov': 665, 'remain': 666, 'period': 667, 'near': 668, 'realist': 669, 'air': 670, 'mark': 671, 'red': 672, 'dull': 673, 'adapt': 674, 'within': 675, 'lose': 676, 'spend': 677, 'materi': 678, 'color': 679, 'chase': 680, 'mari': 681, 'storylin': 682, 'forget': 683, 'bunch': 684, 'clear': 685, 'lee': 686, 'victim': 687, 'nearli': 688, 'box': 689, 'york': 690, 'inspir': 691, 'match': 692, 'finish': 693, 'mess': 694, 'standard': 695, 'easi': 696, 'truth': 697, 'suffer': 698, 'busi': 699, 'dramat': 700, 'space': 701, 'bill': 702, 'western': 703, 'e': 704, 'list': 705, 'battl': 706, 'notic': 707, 'de': 708, 'french': 709, 'ad': 710, '9': 711, 'tom': 712, 'larg': 713, 'among': 714, 'eventu': 715, 'train': 716, 'accept': 717, 'agre': 718, 'spirit': 719, 'soundtrack': 720, 'third': 721, 'teenag': 722, 'soldier': 723, 'adventur': 724, 'suggest': 725, 'famou': 726, 'sorri': 727, 'drug': 728, 'normal': 729, 'cri': 730, 'babi': 731, 'ultim': 732, 'troubl': 733, 'contain': 734, 'certain': 735, 'cultur': 736, 'romanc': 737, 'rare': 738, 'lame': 739, 'somehow': 740, 'mix': 741, 'disney': 742, 'gone': 743, 'cartoon': 744, 'student': 745, 'fear': 746, 'reveal': 747, 'suck': 748, 'kept': 749, 'attract': 750, 'appeal': 751, 'premis': 752, 'greatest': 753, 'design': 754, 'secret': 755, 'shame': 756, 'throw': 757, 'scare': 758, 'copi': 759, 'wit': 760, 'admit': 761, 'america': 762, 'brought': 763, 'relat': 764, 'particular': 765, 'screenplay': 766, 'whatev': 767, 'pure': 768, '70': 769, 'averag': 770, 'harri': 771, 'master': 772, 'describ': 773, 'male': 774, 'treat': 775, '20': 776, 'issu': 777, 'fantasi': 778, 'warn': 779, 'inde': 780, 'background': 781, 'forward': 782, 'free': 783, 'project': 784, 'memor': 785, 'japanes': 786, 'poorli': 787, 'award': 788, 'locat': 789, 'potenti': 790, 'amus': 791, 'struggl': 792, 'magic': 793, 'weird': 794, 'societi': 795, 'okay': 796, 'accent': 797, 'imdb': 798, 'doctor': 799, 'hot': 800, 'water': 801, 'express': 802, '30': 803, 'dr': 804, 'alien': 805, 'odd': 806, 'choic': 807, 'crazi': 808, 'studio': 809, 'fiction': 810, 'control': 811, 'becam': 812, 'masterpiec': 813, 'difficult': 814, 'fli': 815, 'joe': 816, 'scream': 817, 'costum': 818, 'lover': 819, 'refer': 820, 'uniqu': 821, 'remak': 822, 'vampir': 823, 'girlfriend': 824, 'prison': 825, 'execut': 826, 'wear': 827, 'jump': 828, 'wood': 829, 'unless': 830, 'creepi': 831, 'cheesi': 832, 'superb': 833, 'otherwis': 834, 'parti': 835, 'ghost': 836, 'roll': 837, 'mad': 838, 'public': 839, 'depict': 840, 'earlier': 841, 'badli': 842, 'week': 843, 'moral': 844, 'jane': 845, 'dumb': 846, 'fi': 847, 'grow': 848, 'flaw': 849, 'deep': 850, 'sci': 851, 'cat': 852, 'maker': 853, 'footag': 854, 'older': 855, 'connect': 856, 'plenti': 857, 'bother': 858, 'outsid': 859, 'stick': 860, 'gay': 861, 'catch': 862, 'plu': 863, 'co': 864, 'popular': 865, 'equal': 866, 'social': 867, 'disturb': 868, 'quickli': 869, 'perfectli': 870, 'dress': 871, 'era': 872, '90': 873, 'mistak': 874, 'lie': 875, 'previou': 876, 'ride': 877, 'combin': 878, 'band': 879, 'concept': 880, 'rich': 881, 'surviv': 882, 'answer': 883, 'front': 884, 'sweet': 885, 'christma': 886, 'insid': 887, 'bare': 888, 'concern': 889, 'eat': 890, 'beat': 891, 'listen': 892, 'ben': 893, 'c': 894, 'serv': 895, 'term': 896, 'german': 897, 'meant': 898, 'la': 899, 'stereotyp': 900, 'hardli': 901, 'law': 902, 'innoc': 903, 'desper': 904, 'promis': 905, 'memori': 906, 'cute': 907, 'intent': 908, 'inform': 909, 'variou': 910, 'steal': 911, 'brain': 912, 'post': 913, 'tone': 914, 'island': 915, 'amount': 916, 'track': 917, 'nuditi': 918, 'compani': 919, 'store': 920, 'claim': 921, '50': 922, 'hair': 923, 'flat': 924, 'univers': 925, 'land': 926, 'fairli': 927, 'scott': 928, 'kick': 929, 'danger': 930, 'player': 931, 'step': 932, 'plain': 933, 'crew': 934, 'toni': 935, 'share': 936, 'tast': 937, 'centuri': 938, 'engag': 939, 'achiev': 940, 'cold': 941, 'travel': 942, 'record': 943, 'rip': 944, 'suit': 945, 'sadli': 946, 'manner': 947, 'tension': 948, 'spot': 949, 'wrote': 950, 'intens': 951, 'fascin': 952, 'familiar': 953, 'depth': 954, 'burn': 955, 'remark': 956, 'histor': 957, 'destroy': 958, 'sleep': 959, 'purpos': 960, 'languag': 961, 'ignor': 962, 'ruin': 963, 'delight': 964, 'unbeliev': 965, 'italian': 966, 'abil': 967, 'collect': 968, 'soul': 969, 'detect': 970, 'clever': 971, 'violent': 972, 'rape': 973, 'reach': 974, 'door': 975, 'scienc': 976, 'liter': 977, 'trash': 978, 'commun': 979, 'reveng': 980, 'caught': 981, 'creatur': 982, 'trip': 983, 'approach': 984, 'intrigu': 985, 'fashion': 986, 'skill': 987, 'introduc': 988, 'paint': 989, 'channel': 990, 'complex': 991, 'camp': 992, 'christian': 993, 'extra': 994, 'hole': 995, 'mental': 996, 'ann': 997, 'limit': 998, 'immedi': 999, 'mere': 1000, 'slightli': 1001, '6': 1002, 'million': 1003, 'comput': 1004, 'slasher': 1005, 'conclus': 1006, 'imposs': 1007, 'suddenli': 1008, 'crimin': 1009, 'teen': 1010, 'neither': 1011, 'nation': 1012, 'spent': 1013, 'physic': 1014, 'respons': 1015, 'planet': 1016, 'receiv': 1017, 'fake': 1018, 'sick': 1019, 'blue': 1020, 'bizarr': 1021, 'embarrass': 1022, 'indian': 1023, '15': 1024, 'ring': 1025, 'drop': 1026, 'pop': 1027, 'drag': 1028, 'haunt': 1029, 'pointless': 1030, 'suspect': 1031, 'edg': 1032, 'search': 1033, 'handl': 1034, 'biggest': 1035, 'common': 1036, 'arriv': 1037, 'faith': 1038, 'hurt': 1039, 'technic': 1040, 'angel': 1041, 'genuin': 1042, 'dad': 1043, 'solid': 1044, 'f': 1045, 'awesom': 1046, 'van': 1047, 'colleg': 1048, 'former': 1049, 'focu': 1050, 'count': 1051, 'tear': 1052, 'heavi': 1053, 'rais': 1054, 'wall': 1055, 'younger': 1056, 'visit': 1057, 'laughabl': 1058, 'excus': 1059, 'sign': 1060, 'fair': 1061, 'cult': 1062, 'motion': 1063, 'tough': 1064, 'key': 1065, 'super': 1066, 'desir': 1067, 'addit': 1068, 'stun': 1069, 'exploit': 1070, 'cloth': 1071, 'smith': 1072, 'tortur': 1073, 'race': 1074, 'davi': 1075, 'cross': 1076, 'author': 1077, 'jim': 1078, 'compel': 1079, 'minor': 1080, 'focus': 1081, 'consist': 1082, 'commit': 1083, 'pathet': 1084, 'chemistri': 1085, 'park': 1086, 'tradit': 1087, 'frank': 1088, 'obsess': 1089, 'grade': 1090, '60': 1091, 'asid': 1092, 'brutal': 1093, 'somewher': 1094, 'steve': 1095, 'rule': 1096, 'depress': 1097, 'opportun': 1098, 'explor': 1099, 'grant': 1100, 'u': 1101, 'honest': 1102, 'besid': 1103, 'dub': 1104, 'anti': 1105, 'intend': 1106, 'trailer': 1107, 'bar': 1108, 'longer': 1109, 'scientist': 1110, 'regard': 1111, 'west': 1112, 'decad': 1113, 'judg': 1114, 'silent': 1115, 'armi': 1116, 'creativ': 1117, 'wild': 1118, 'g': 1119, 'stewart': 1120, 'south': 1121, 'draw': 1122, 'road': 1123, 'govern': 1124, 'ex': 1125, 'boss': 1126, 'practic': 1127, 'surprisingli': 1128, 'gang': 1129, 'motiv': 1130, 'club': 1131, 'festiv': 1132, 'redeem': 1133, 'page': 1134, 'london': 1135, 'green': 1136, 'militari': 1137, 'aliv': 1138, 'display': 1139, 'idiot': 1140, 'machin': 1141, 'thrill': 1142, 'repeat': 1143, 'yeah': 1144, 'nobodi': 1145, 'folk': 1146, '100': 1147, '40': 1148, 'journey': 1149, 'garbag': 1150, 'ground': 1151, 'smile': 1152, 'tire': 1153, 'bought': 1154, 'mood': 1155, 'sam': 1156, 'cost': 1157, 'stone': 1158, 'mouth': 1159, 'noir': 1160, 'agent': 1161, 'terrif': 1162, 'utterli': 1163, 'requir': 1164, 'area': 1165, 'sexi': 1166, 'honestli': 1167, 'geniu': 1168, 'report': 1169, 'investig': 1170, 'enter': 1171, 'humour': 1172, 'glad': 1173, 'serial': 1174, 'passion': 1175, 'occasion': 1176, 'narr': 1177, 'marriag': 1178, 'climax': 1179, 'industri': 1180, 'studi': 1181, 'ship': 1182, 'center': 1183, 'demon': 1184, 'charli': 1185, 'nowher': 1186, 'hors': 1187, 'bear': 1188, 'loos': 1189, 'wow': 1190, 'hang': 1191, 'graphic': 1192, 'admir': 1193, 'giant': 1194, 'send': 1195, 'loud': 1196, 'damn': 1197, 'profession': 1198, 'nake': 1199, 'subtl': 1200, 'rel': 1201, 'blow': 1202, 'bottom': 1203, 'batman': 1204, 'insult': 1205, 'boyfriend': 1206, 'r': 1207, 'doubl': 1208, 'kelli': 1209, 'initi': 1210, 'frame': 1211, 'gem': 1212, 'opera': 1213, 'drawn': 1214, 'church': 1215, 'affect': 1216, 'cinemat': 1217, 'challeng': 1218, 'nightmar': 1219, 'seek': 1220, 'evid': 1221, 'l': 1222, 'fulli': 1223, 'j': 1224, 'essenti': 1225, 'arm': 1226, 'conflict': 1227, 'grace': 1228, 'wind': 1229, 'christoph': 1230, 'henri': 1231, 'narrat': 1232, 'assum': 1233, 'witch': 1234, 'hunt': 1235, 'push': 1236, 'wise': 1237, 'chri': 1238, 'nomin': 1239, 'month': 1240, 'repres': 1241, 'sceneri': 1242, 'affair': 1243, 'avail': 1244, 'hide': 1245, 'justic': 1246, 'thu': 1247, 'bond': 1248, 'smart': 1249, 'flashback': 1250, 'outstand': 1251, 'interview': 1252, 'constantli': 1253, 'satisfi': 1254, 'presenc': 1255, 'central': 1256, 'bed': 1257, 'sell': 1258, 'iron': 1259, 'content': 1260, 'gag': 1261, 'everybodi': 1262, 'slowli': 1263, 'hotel': 1264, 'hire': 1265, 'system': 1266, 'individu': 1267, 'thrown': 1268, 'adam': 1269, 'charl': 1270, 'hey': 1271, 'jone': 1272, 'allen': 1273, 'mediocr': 1274, 'ray': 1275, 'billi': 1276, 'lesson': 1277, 'cameo': 1278, 'photographi': 1279, 'fellow': 1280, 'pari': 1281, 'strike': 1282, 'absurd': 1283, 'brief': 1284, 'independ': 1285, 'rise': 1286, 'neg': 1287, 'phone': 1288, 'impact': 1289, 'ill': 1290, 'born': 1291, 'model': 1292, 'spoil': 1293, 'fresh': 1294, 'angl': 1295, 'abus': 1296, 'likabl': 1297, 'hill': 1298, 'discuss': 1299, 'ahead': 1300, 'sight': 1301, 'sent': 1302, 'photograph': 1303, 'blame': 1304, 'logic': 1305, 'shine': 1306, 'occur': 1307, 'mainli': 1308, 'bruce': 1309, 'commerci': 1310, 'forev': 1311, 'skip': 1312, 'teacher': 1313, 'surround': 1314, 'segment': 1315, 'held': 1316, 'zero': 1317, 'blond': 1318, 'trap': 1319, 'summer': 1320, 'resembl': 1321, 'satir': 1322, 'ball': 1323, 'six': 1324, 'fool': 1325, 'queen': 1326, 'tragedi': 1327, 'sub': 1328, 'twice': 1329, 'reaction': 1330, 'pack': 1331, 'bomb': 1332, 'hospit': 1333, 'protagonist': 1334, 'will': 1335, 'sport': 1336, 'mile': 1337, 'drink': 1338, 'vote': 1339, 'mom': 1340, 'trust': 1341, 'jerri': 1342, 'encount': 1343, 'plane': 1344, 'station': 1345, 'al': 1346, 'program': 1347, 'current': 1348, 'celebr': 1349, 'martin': 1350, 'choos': 1351, 'join': 1352, 'tragic': 1353, 'field': 1354, 'round': 1355, 'lord': 1356, 'favourit': 1357, 'vision': 1358, 'jean': 1359, 'robot': 1360, 'arthur': 1361, 'tie': 1362, 'random': 1363, 'fortun': 1364, 'roger': 1365, 'dread': 1366, 'intern': 1367, 'psycholog': 1368, 'improv': 1369, 'nonsens': 1370, 'epic': 1371, 'prefer': 1372, 'formula': 1373, 'highlight': 1374, 'legend': 1375, 'pleasur': 1376, '11': 1377, 'dollar': 1378, 'tape': 1379, 'fox': 1380, 'gorgeou': 1381, 'object': 1382, 'porn': 1383, 'wide': 1384, 'thin': 1385, 'buddi': 1386, 'ugli': 1387, 'influenc': 1388, 'ii': 1389, 'nasti': 1390, 'prepar': 1391, 'reflect': 1392, 'supposedli': 1393, 'progress': 1394, 'warm': 1395, 'youth': 1396, 'worthi': 1397, 'latter': 1398, 'length': 1399, 'unusu': 1400, 'crash': 1401, 'seven': 1402, 'childhood': 1403, 'superior': 1404, 'shop': 1405, 'theatr': 1406, 'remot': 1407, 'funniest': 1408, 'paid': 1409, 'disgust': 1410, 'pilot': 1411, 'trick': 1412, 'convers': 1413, 'castl': 1414, 'fell': 1415, 'rob': 1416, 'disast': 1417, 'establish': 1418, 'gangster': 1419, 'mine': 1420, 'disappear': 1421, 'ident': 1422, 'suicid': 1423, 'heaven': 1424, 'tend': 1425, 'singer': 1426, 'heroin': 1427, 'mask': 1428, 'forgotten': 1429, 'decis': 1430, 'partner': 1431, 'brian': 1432, 'desert': 1433, 'recogn': 1434, 'alan': 1435, 'stuck': 1436, 'p': 1437, 'sky': 1438, 'thoroughli': 1439, 'ms': 1440, 'replac': 1441, 'accur': 1442, 'market': 1443, 'uncl': 1444, 'eddi': 1445, 'clue': 1446, 'seemingli': 1447, 'commentari': 1448, 'danni': 1449, 'andi': 1450, 'jackson': 1451, 'devil': 1452, 'therefor': 1453, 'refus': 1454, 'pair': 1455, 'that': 1456, 'accid': 1457, 'ed': 1458, 'fault': 1459, 'fate': 1460, 'river': 1461, 'unit': 1462, 'afraid': 1463, 'tune': 1464, 'stephen': 1465, 'clean': 1466, 'hidden': 1467, 'russian': 1468, 'test': 1469, 'instanc': 1470, 'captain': 1471, 'irrit': 1472, 'convey': 1473, 'readi': 1474, 'quick': 1475, 'european': 1476, 'insan': 1477, 'frustrat': 1478, 'daniel': 1479, 'food': 1480, 'chines': 1481, 'rescu': 1482, '1950': 1483, 'wed': 1484, 'angri': 1485, 'dirti': 1486, 'lock': 1487, 'joy': 1488, 'price': 1489, 'steven': 1490, 'bland': 1491, 'cage': 1492, 'rang': 1493, 'anymor': 1494, 'wooden': 1495, 'rush': 1496, 'news': 1497, 'jason': 1498, 'n': 1499, 'martial': 1500, 'worri': 1501, 'led': 1502, 'twenti': 1503, '12': 1504, 'board': 1505, 'cgi': 1506, 'symbol': 1507, 'transform': 1508, 'hunter': 1509, 'johnni': 1510, 'sentiment': 1511, 'onto': 1512, 'x': 1513, 'piti': 1514, 'invent': 1515, 'explan': 1516, 'process': 1517, 'attitud': 1518, 'awar': 1519, 'owner': 1520, 'aim': 1521, 'target': 1522, 'favor': 1523, 'floor': 1524, 'energi': 1525, 'necessari': 1526, 'religi': 1527, 'opposit': 1528, 'window': 1529, 'insight': 1530, 'blind': 1531, 'chick': 1532, 'movement': 1533, 'mountain': 1534, 'research': 1535, 'deepli': 1536, 'comparison': 1537, 'possess': 1538, 'whatsoev': 1539, 'comed': 1540, 'grand': 1541, 'rain': 1542, 'shadow': 1543, 'mid': 1544, 'bank': 1545, 'began': 1546, 'parodi': 1547, 'princ': 1548, 'credibl': 1549, 'pre': 1550, 'friendship': 1551, 'weapon': 1552, 'taylor': 1553, 'flesh': 1554, 'teach': 1555, 'dougla': 1556, 'bloodi': 1557, 'protect': 1558, 'terror': 1559, 'hint': 1560, 'marvel': 1561, 'watchabl': 1562, 'anybodi': 1563, 'load': 1564, 'superman': 1565, 'accord': 1566, 'leader': 1567, 'drunk': 1568, 'freddi': 1569, 'brown': 1570, 'seat': 1571, 'jeff': 1572, 'tim': 1573, 'appropri': 1574, 'hitler': 1575, 'unknown': 1576, 'charg': 1577, 'keaton': 1578, 'villag': 1579, 'knock': 1580, 'england': 1581, 'unnecessari': 1582, 'enemi': 1583, 'empti': 1584, 'media': 1585, 'utter': 1586, 'perspect': 1587, 'dare': 1588, 'strength': 1589, 'craft': 1590, 'wave': 1591, 'buck': 1592, 'correct': 1593, 'contrast': 1594, 'kiss': 1595, 'nativ': 1596, 'ford': 1597, 'speed': 1598, 'anywher': 1599, 'knowledg': 1600, 'distract': 1601, 'soap': 1602, 'magnific': 1603, 'nazi': 1604, 'chill': 1605, '1980': 1606, 'breath': 1607, 'ice': 1608, 'fred': 1609, 'mission': 1610, 'joan': 1611, 'moon': 1612, 'crowd': 1613, 'jr': 1614, 'frighten': 1615, '000': 1616, 'soft': 1617, 'kate': 1618, 'dick': 1619, 'hundr': 1620, 'nick': 1621, 'dan': 1622, 'somebodi': 1623, 'radio': 1624, 'simon': 1625, 'dozen': 1626, 'academi': 1627, 'thousand': 1628, 'loss': 1629, 'shakespear': 1630, 'andrew': 1631, 'vehicl': 1632, 'root': 1633, 'account': 1634, 'sum': 1635, 'quot': 1636, 'leg': 1637, 'behavior': 1638, 'convent': 1639, '1970': 1640, 'regular': 1641, 'gold': 1642, 'pretenti': 1643, 'compet': 1644, 'worker': 1645, 'demand': 1646, 'candi': 1647, 'notabl': 1648, 'privat': 1649, 'explos': 1650, 'lynch': 1651, 'interpret': 1652, 'stretch': 1653, 'japan': 1654, 'constant': 1655, 'debut': 1656, 'tarzan': 1657, 'translat': 1658, 'prais': 1659, 'spi': 1660, 'revolv': 1661, 'sea': 1662, 'failur': 1663, 'ass': 1664, 'sat': 1665, 'technolog': 1666, 'threaten': 1667, 'quiet': 1668, 'franc': 1669, 'jesu': 1670, 'met': 1671, 'higher': 1672, 'kevin': 1673, 'punch': 1674, 'toy': 1675, 'aid': 1676, 'interact': 1677, 'mike': 1678, 'vh': 1679, 'abandon': 1680, 'separ': 1681, 'bet': 1682, 'confront': 1683, 'command': 1684, 'servic': 1685, 'stunt': 1686, 'techniqu': 1687, 'belong': 1688, 'site': 1689, 'gotten': 1690, 'recal': 1691, 'freak': 1692, 'foot': 1693, 'cabl': 1694, 'bug': 1695, 'capabl': 1696, 'fu': 1697, 'bright': 1698, 'jimmi': 1699, 'african': 1700, 'stock': 1701, 'succeed': 1702, 'presid': 1703, 'fat': 1704, 'clark': 1705, 'boat': 1706, 'structur': 1707, 'spanish': 1708, 'gene': 1709, 'kidnap': 1710, 'paper': 1711, 'belief': 1712, 'factor': 1713, 'whilst': 1714, 'realis': 1715, 'tree': 1716, 'witti': 1717, 'realism': 1718, 'complic': 1719, 'bob': 1720, 'attend': 1721, 'educ': 1722, 'finest': 1723, 'assist': 1724, 'broken': 1725, 'santa': 1726, 'smoke': 1727, 'observ': 1728, 'determin': 1729, 'v': 1730, 'up': 1731, 'depart': 1732, 'domin': 1733, 'routin': 1734, 'oper': 1735, 'lewi': 1736, 'rubbish': 1737, 'hat': 1738, 'fame': 1739, 'lone': 1740, 'advanc': 1741, 'foreign': 1742, 'hook': 1743, 'morgan': 1744, 'safe': 1745, 'kinda': 1746, 'numer': 1747, 'rank': 1748, 'civil': 1749, 'vs': 1750, 'werewolf': 1751, 'shape': 1752, 'shallow': 1753, 'washington': 1754, 'rose': 1755, 'gari': 1756, 'morn': 1757, 'accomplish': 1758, 'kong': 1759, 'ordinari': 1760, 'winner': 1761, 'grab': 1762, 'peac': 1763, 'virtual': 1764, 'whenev': 1765, 'luck': 1766, 'h': 1767, 'offens': 1768, 'unfunni': 1769, 'activ': 1770, 'patient': 1771, 'contriv': 1772, 'complain': 1773, 'bigger': 1774, 'welcom': 1775, 'trek': 1776, 'pretend': 1777, 'dimension': 1778, 'con': 1779, 'lesbian': 1780, 'wake': 1781, 'dri': 1782, 'code': 1783, 'flash': 1784, 'eric': 1785, 'cain': 1786, 'guard': 1787, 'dancer': 1788, 'statu': 1789, 'manipul': 1790, 'albert': 1791, 'corrupt': 1792, 'sourc': 1793, 'awkward': 1794, 'speech': 1795, 'context': 1796, 'signific': 1797, 'gain': 1798, 'corni': 1799, 'clip': 1800, 'anthoni': 1801, 'psycho': 1802, 'sean': 1803, '13': 1804, 'theatric': 1805, 'priest': 1806, 'religion': 1807, 'curiou': 1808, 'advic': 1809, 'reli': 1810, 'w': 1811, 'addict': 1812, 'flow': 1813, 'specif': 1814, 'secur': 1815, 'skin': 1816, 'asian': 1817, 'howard': 1818, 'jennif': 1819, 'organ': 1820, 'comfort': 1821, 'golden': 1822, 'core': 1823, 'luke': 1824, 'promot': 1825, 'cheat': 1826, 'lucki': 1827, 'cash': 1828, 'associ': 1829, 'lower': 1830, 'dislik': 1831, 'spell': 1832, 'balanc': 1833, 'wing': 1834, 'degre': 1835, 'devic': 1836, 'frankli': 1837, 'regret': 1838, 'frequent': 1839, 'contribut': 1840, 'lake': 1841, 'forgiv': 1842, 'sake': 1843, 'print': 1844, 'mass': 1845, 'thoma': 1846, 'betti': 1847, 'unexpect': 1848, 'crack': 1849, 'gordon': 1850, 'amateur': 1851, 'invit': 1852, 'depend': 1853, 'construct': 1854, 'categori': 1855, 'unfold': 1856, 'grown': 1857, 'anna': 1858, 'matur': 1859, 'grew': 1860, 'intellectu': 1861, 'honor': 1862, 'condit': 1863, 'walter': 1864, 'veteran': 1865, 'sudden': 1866, 'sole': 1867, 'spectacular': 1868, 'mirror': 1869, 'experienc': 1870, 'robin': 1871, 'liner': 1872, 'overli': 1873, 'gift': 1874, 'grip': 1875, 'demonstr': 1876, 'freedom': 1877, 'card': 1878, 'meanwhil': 1879, 'colour': 1880, 'theori': 1881, 'crappi': 1882, 'subtitl': 1883, 'sheriff': 1884, 'circumst': 1885, 'section': 1886, 'brilliantli': 1887, 'unabl': 1888, 'oliv': 1889, 'drew': 1890, 'pile': 1891, 'sheer': 1892, 'cook': 1893, 'laughter': 1894, 'parker': 1895, 'altern': 1896, 'matt': 1897, 'path': 1898, 'accident': 1899, 'hall': 1900, 'sinatra': 1901, 'wander': 1902, 'treatment': 1903, 'defin': 1904, 'relief': 1905, 'lawyer': 1906, 'captiv': 1907, 'dragon': 1908, 'hank': 1909, 'gratuit': 1910, 'halloween': 1911, 'moor': 1912, 'cowboy': 1913, 'kung': 1914, 'jacki': 1915, 'barbara': 1916, 'wayn': 1917, 'k': 1918, 'unintent': 1919, 'broadway': 1920, 'wound': 1921, 'statement': 1922, 'canadian': 1923, 'surreal': 1924, 'winter': 1925, 'spoof': 1926, 'gonna': 1927, 'fare': 1928, 'compos': 1929, 'treasur': 1930, 'cheer': 1931, 'fish': 1932, 'victor': 1933, 'unrealist': 1934, 'emerg': 1935, 'woodi': 1936, 'sensit': 1937, 'ran': 1938, 'sympathet': 1939, 'neighbor': 1940, 'driven': 1941, 'menac': 1942, 'overlook': 1943, 'glass': 1944, 'authent': 1945, 'expos': 1946, 'topic': 1947, 'gross': 1948, 'ancient': 1949, 'handsom': 1950, 'chief': 1951, 'michel': 1952, 'russel': 1953, 'nevertheless': 1954, 'comedian': 1955, 'pleasant': 1956, 'feet': 1957, 'contemporari': 1958, 'stranger': 1959, 'built': 1960, 'network': 1961, 'cinderella': 1962, 'gori': 1963, 'blockbust': 1964, 'consider': 1965, 'miser': 1966, 'earn': 1967, 'endless': 1968, 'underr': 1969, 'letter': 1970, 'brook': 1971, 'switch': 1972, 'solv': 1973, 'convict': 1974, 'bullet': 1975, 'victoria': 1976, 'edward': 1977, 'joseph': 1978, 'virgin': 1979, 'scale': 1980, 'chosen': 1981, 'cynic': 1982, 'scenario': 1983, 'alex': 1984, '0': 1985, 'outrag': 1986, 'gut': 1987, 'curs': 1988, 'com': 1989, 'sword': 1990, 'uk': 1991, 'driver': 1992, 'wrap': 1993, 'screenwrit': 1994, 'proper': 1995, 'monkey': 1996, 'juli': 1997, 'substanc': 1998, 'indic': 1999, 'par': 2000, 'court': 2001, 'remov': 2002, 'bird': 2003, 'inevit': 2004, 'grave': 2005, 'naiv': 2006, 'advertis': 2007, 'loser': 2008, 'roy': 2009, 'nanci': 2010, 'consequ': 2011, 'rental': 2012, 'brave': 2013, 'invis': 2014, 'germani': 2015, 'slap': 2016, 'bridg': 2017, 'fatal': 2018, 'le': 2019, 'footbal': 2020, 'loui': 2021, 'ador': 2022, 'anger': 2023, 'provok': 2024, 'chan': 2025, 'anderson': 2026, 'alcohol': 2027, 'stumbl': 2028, 'professor': 2029, 'willi': 2030, 'ryan': 2031, 'australian': 2032, 'sharp': 2033, 'bat': 2034, '1930': 2035, 'assassin': 2036, 'patrick': 2037, 'cell': 2038, 'refresh': 2039, 'strongli': 2040, 'trilog': 2041, 'liber': 2042, 'saturday': 2043, 'deni': 2044, 'eight': 2045, 'lousi': 2046, 'ape': 2047, 'heck': 2048, 'amateurish': 2049, 'sin': 2050, 'san': 2051, 'vagu': 2052, 'resid': 2053, 'justifi': 2054, 'sympathi': 2055, 'indi': 2056, 'reput': 2057, 'defeat': 2058, 'terrifi': 2059, 'creator': 2060, 'mini': 2061, 'task': 2062, 'tabl': 2063, 'endur': 2064, 'tediou': 2065, 'prevent': 2066, 'expert': 2067, 'imit': 2068, 'employ': 2069, 'basebal': 2070, 'trial': 2071, 'rival': 2072, 'che': 2073, 'offend': 2074, 'europ': 2075, 'beach': 2076, 'complaint': 2077, 'weekend': 2078, 'fairi': 2079, 'dig': 2080, 'pitch': 2081, 'max': 2082, 'purchas': 2083, 'murphi': 2084, 'format': 2085, 'risk': 2086, 'glimps': 2087, 'bite': 2088, 'hype': 2089, 'nois': 2090, 'reminisc': 2091, 'harsh': 2092, 'titan': 2093, 'tini': 2094, 'powel': 2095, 'prime': 2096, 'till': 2097, 'fals': 2098, 'asleep': 2099, '14': 2100, 'north': 2101, 'strip': 2102, 'texa': 2103, 'africa': 2104, 'destruct': 2105, 'revel': 2106, 'descript': 2107, 'uninterest': 2108, 'surfac': 2109, 'spin': 2110, 'semi': 2111, 'excess': 2112, 'arrest': 2113, 'sitcom': 2114, 'inner': 2115, 'hitchcock': 2116, 'makeup': 2117, 'twin': 2118, 'controversi': 2119, 'argu': 2120, 'massiv': 2121, 'maintain': 2122, 'dinosaur': 2123, 'stare': 2124, 'melodrama': 2125, 'ideal': 2126, 'kim': 2127, 'insist': 2128, 'expens': 2129, 'ludicr': 2130, 'reject': 2131, 'nail': 2132, 'forest': 2133, 'press': 2134, 'supernatur': 2135, 'host': 2136, 'columbo': 2137, 'atroci': 2138, 'subplot': 2139, 'erot': 2140, 'ga': 2141, 'ala': 2142, 'identifi': 2143, 'presum': 2144, 'dude': 2145, 'cant': 2146, 'notch': 2147, 'method': 2148, 'character': 2149, 'forgett': 2150, 'crude': 2151, 'closer': 2152, 'plagu': 2153, 'guest': 2154, 'foster': 2155, 'lion': 2156, 'landscap': 2157, 'border': 2158, 'ear': 2159, 'beast': 2160, 'princess': 2161, 'urban': 2162, 'pacino': 2163, 'aunt': 2164, 'accus': 2165, 'previous': 2166, 'birth': 2167, 'storytel': 2168, 'damag': 2169, 'bound': 2170, 'jungl': 2171, 'jess': 2172, 'doll': 2173, 'thirti': 2174, 'emma': 2175, 'guid': 2176, 'nude': 2177, 'chose': 2178, 'propaganda': 2179, 'mainstream': 2180, 'mate': 2181, 'whoever': 2182, 'pet': 2183, 'warrior': 2184, '25': 2185, 'exact': 2186, 'gritti': 2187, 'upset': 2188, 'latest': 2189, 'friday': 2190, 'merit': 2191, 'cooper': 2192, 'poster': 2193, 'deadli': 2194, 'size': 2195, 'blend': 2196, 'sun': 2197, 'settl': 2198, 'corps': 2199, '1990': 2200, 'warner': 2201, 'contact': 2202, 'buff': 2203, 'ton': 2204, 'popul': 2205, 'contest': 2206, 'citizen': 2207, 'rough': 2208, 'wilson': 2209, 'widow': 2210, 'bu': 2211, 'overcom': 2212, 'select': 2213, 'rat': 2214, 'environ': 2215, 'pitt': 2216, 'mgm': 2217, 'alic': 2218, 'metal': 2219, 'particip': 2220, 'link': 2221, 'revolut': 2222, 'guilti': 2223, 'ted': 2224, 'lift': 2225, 'corner': 2226, '1960': 2227, 'exagger': 2228, 'corpor': 2229, 'matrix': 2230, 'accompani': 2231, 'johnson': 2232, 'afternoon': 2233, 'moron': 2234, 'prostitut': 2235, 'friendli': 2236, 'holm': 2237, 'multipl': 2238, 'instal': 2239, 'doom': 2240, 'sincer': 2241, 'clair': 2242, 'leagu': 2243, 'hood': 2244, 'sunday': 2245, 'examin': 2246, 'aka': 2247, 'junk': 2248, 'hip': 2249, 'string': 2250, 'grim': 2251, 'irish': 2252, 'advis': 2253, 'lugosi': 2254, 'defend': 2255, 'campi': 2256, 'blah': 2257, 'tight': 2258, 'confid': 2259, 'rachel': 2260, 'icon': 2261, 'shut': 2262, 'varieti': 2263, 'pro': 2264, 'shake': 2265, 'mexican': 2266, 'directli': 2267, 'jaw': 2268, 'attach': 2269, 'medic': 2270, 'denni': 2271, 'sullivan': 2272, 'goal': 2273, 'sentenc': 2274, 'courag': 2275, 'truck': 2276, 'dean': 2277, 'prior': 2278, 'bourn': 2279, 'duke': 2280, 'terrorist': 2281, 'breast': 2282, 'legendari': 2283, 'vietnam': 2284, 'sarah': 2285, 'behav': 2286, 'donald': 2287, 'entri': 2288, 'nose': 2289, 'proceed': 2290, 'yell': 2291, 'hong': 2292, 'split': 2293, 'un': 2294, 'forth': 2295, 'lifetim': 2296, 'concentr': 2297, 'swim': 2298, 'everywher': 2299, 'unconvinc': 2300, 'stolen': 2301, 'buri': 2302, 'borrow': 2303, 'crush': 2304, 'gather': 2305, 'confess': 2306, 'jerk': 2307, 'turkey': 2308, 'pan': 2309, 'deliveri': 2310, 'lip': 2311, 'spite': 2312, 'california': 2313, 'julia': 2314, 'reward': 2315, 'offici': 2316, 'china': 2317, 'quest': 2318, 'freeman': 2319, 'downright': 2320, 'proud': 2321, 'hoffman': 2322, 'flight': 2323, 'encourag': 2324, 'jail': 2325, 'worthwhil': 2326, 'notori': 2327, 'betray': 2328, 'fade': 2329, 'lazi': 2330, 'inept': 2331, 'jon': 2332, 'sink': 2333, 'fabul': 2334, 'sir': 2335, 'survivor': 2336, 'bell': 2337, 'bag': 2338, 'shower': 2339, 'teeth': 2340, 'imageri': 2341, 'susan': 2342, 'branagh': 2343, 'storm': 2344, 'relev': 2345, 'lisa': 2346, 'retard': 2347, 'cousin': 2348, 'toler': 2349, 'summari': 2350, 'tremend': 2351, 'finger': 2352, 'alright': 2353, 'mexico': 2354, 'facial': 2355, 'hugh': 2356, 'quirki': 2357, 'stab': 2358, 'trade': 2359, 'bride': 2360, 'shark': 2361, 'blown': 2362, 'ha': 2363, 'hyster': 2364, 'bitter': 2365, 'pose': 2366, 'von': 2367, 'christ': 2368, 'cruel': 2369, 'address': 2370, 'afterward': 2371, 'larri': 2372, 'scheme': 2373, 'ned': 2374, 'bone': 2375, 'ron': 2376, 'snake': 2377, 'traci': 2378, 'distinct': 2379, 'tour': 2380, 'swear': 2381, 'beg': 2382, 'thumb': 2383, 'feed': 2384, 'pursu': 2385, 'screw': 2386, 'mechan': 2387, 'stomach': 2388, 'raw': 2389, 'obscur': 2390, 'occas': 2391, 'chair': 2392, 'photo': 2393, 'cabin': 2394, 'necessarili': 2395, 'chain': 2396, 'render': 2397, 'resist': 2398, 'holiday': 2399, 'gruesom': 2400, 'southern': 2401, 'argument': 2402, 'heavili': 2403, 'sidney': 2404, 'hardi': 2405, 'understood': 2406, 'indulg': 2407, 'satan': 2408, 'india': 2409, 'philip': 2410, 'racist': 2411, 'lay': 2412, 'tongu': 2413, 'obnoxi': 2414, 'midnight': 2415, 'forgot': 2416, 'integr': 2417, 'belov': 2418, 'outfit': 2419, 'stalk': 2420, 'pregnant': 2421, 'fourth': 2422, 'magazin': 2423, 'slapstick': 2424, 'restor': 2425, 'inhabit': 2426, 'garden': 2427, '17': 2428, 'carol': 2429, 'deeper': 2430, 'ticket': 2431, 'devot': 2432, 'shoe': 2433, 'lincoln': 2434, 'brad': 2435, 'incid': 2436, 'anticip': 2437, 'lili': 2438, 'benefit': 2439, 'divorc': 2440, 'maria': 2441, 'disbelief': 2442, 'guarante': 2443, 'elizabeth': 2444, 'underground': 2445, 'sandler': 2446, 'princip': 2447, 'bbc': 2448, 'capit': 2449, 'explod': 2450, 'slave': 2451, 'amazingli': 2452, 'cring': 2453, 'mildli': 2454, 'greater': 2455, 'creation': 2456, 'lesli': 2457, 'extraordinari': 2458, 'halfway': 2459, 'funnier': 2460, 'introduct': 2461, 'extent': 2462, 'advantag': 2463, 'punish': 2464, 'overwhelm': 2465, 'wreck': 2466, 'transfer': 2467, 'enhanc': 2468, 'tap': 2469, 'text': 2470, 'deliber': 2471, 'plant': 2472, 'lo': 2473, 'jessica': 2474, 'dynam': 2475, 'east': 2476, 'preview': 2477, 'lane': 2478, 'horrif': 2479, 'error': 2480, 'vacat': 2481, 'appli': 2482, '2000': 2483, 'ensu': 2484, 'sophist': 2485, 'basi': 2486, 'miscast': 2487, 'miller': 2488, 'vincent': 2489, 'homosexu': 2490, 'spoken': 2491, 'bollywood': 2492, 'elev': 2493, 'steel': 2494, 'via': 2495, 'sleazi': 2496, 'extend': 2497, 'uncomfort': 2498, 'measur': 2499, 'mansion': 2500, 'reed': 2501, 'alter': 2502, 'assign': 2503, 'beer': 2504, 'overact': 2505, 'stanley': 2506, 'cathol': 2507, 'dentist': 2508, 'conceiv': 2509, 'breathtak': 2510, 'savag': 2511, 'hippi': 2512, 'fix': 2513, 'daili': 2514, 'goofi': 2515, 'mous': 2516, 'melt': 2517, 'blair': 2518, 'everyday': 2519, 'subsequ': 2520, 'properli': 2521, 'burt': 2522, 'succe': 2523, 'oppos': 2524, 'inspector': 2525, 'sacrific': 2526, 'nowaday': 2527, 'carpent': 2528, 'circl': 2529, 'massacr': 2530, 'neck': 2531, 'block': 2532, 'laura': 2533, 'fay': 2534, 'mob': 2535, 'lesser': 2536, 'concert': 2537, 'pool': 2538, 'christi': 2539, 'portrait': 2540, 'grey': 2541, 'access': 2542, 'fallen': 2543, 'seagal': 2544, 'usa': 2545, 'jewish': 2546, 'chees': 2547, 'sinist': 2548, 'isol': 2549, 'relax': 2550, 'react': 2551, 'jake': 2552, 'competit': 2553, 'nine': 2554, 'nonetheless': 2555, 'creep': 2556, 'appal': 2557, 'ironi': 2558, 'chop': 2559, 'suitabl': 2560, 'immens': 2561, 'lyric': 2562, '2006': 2563, 'spiritu': 2564, 'stink': 2565, 'spring': 2566, 'user': 2567, 'shirt': 2568, 'adopt': 2569, 'rage': 2570, 'needless': 2571, 'luci': 2572, 'franchis': 2573, 'sold': 2574, 'reduc': 2575, 'retir': 2576, 'nut': 2577, 'navi': 2578, 'showcas': 2579, 'asham': 2580, 'bulli': 2581, 'stanwyck': 2582, 'uninspir': 2583, 'jay': 2584, 'nurs': 2585, 'zone': 2586, 'bath': 2587, 'per': 2588, 'digit': 2589, 'laid': 2590, 'amongst': 2591, 'oddli': 2592, 'illustr': 2593, 'broadcast': 2594, 'upper': 2595, '1940': 2596, 'sutherland': 2597, '2001': 2598, 'baker': 2599, 'throat': 2600, 'fulfil': 2601, 'disguis': 2602, 'aspir': 2603, 'stylish': 2604, 'brando': 2605, 'pride': 2606, 'neighborhood': 2607, 'wanna': 2608, 'endear': 2609, 'em': 2610, 'thief': 2611, '18': 2612, 'pound': 2613, 'wwii': 2614, 'impli': 2615, 'nobl': 2616, 'diseas': 2617, 'coher': 2618, 'shoulder': 2619, 'dinner': 2620, '16': 2621, 'tens': 2622, 'bett': 2623, 'distribut': 2624, 'bo': 2625, 'albeit': 2626, 'prop': 2627, 'dawn': 2628, 'shift': 2629, 'cinematograph': 2630, 'rochest': 2631, 'shout': 2632, 'silenc': 2633, 'rebel': 2634, 'knife': 2635, 'contract': 2636, 'poignant': 2637, 'forti': 2638, 'snow': 2639, 'function': 2640, 'surf': 2641, 'wash': 2642, 'matthau': 2643, 'horrend': 2644, 'reunion': 2645, 'height': 2646, 'duti': 2647, 'mindless': 2648, 'cannib': 2649, 'internet': 2650, 'chuck': 2651, 'proof': 2652, 'derek': 2653, 'cancel': 2654, 'widmark': 2655, 'henc': 2656, 'heat': 2657, 'eeri': 2658, 'instinct': 2659, 'silver': 2660, 'elvira': 2661, 'mill': 2662, 'premier': 2663, 'musician': 2664, 'incoher': 2665, 'etern': 2666, 'innov': 2667, 'repetit': 2668, 'neat': 2669, 'torn': 2670, 'pie': 2671, 'alik': 2672, 'greatli': 2673, 'glori': 2674, 'elvi': 2675, 'spielberg': 2676, 'absorb': 2677, 'itali': 2678, 'crisi': 2679, 'nelson': 2680, 'britain': 2681, 'homag': 2682, 'racism': 2683, 'trite': 2684, 'lovabl': 2685, 'bang': 2686, 'redempt': 2687, 'precis': 2688, 'wealthi': 2689, 'infam': 2690, 'announc': 2691, 'burton': 2692, 'diamond': 2693, 'horrifi': 2694, 'blank': 2695, 'fbi': 2696, 'dedic': 2697, 'resolut': 2698, 'wilder': 2699, 'ensembl': 2700, 'parallel': 2701, 'hammer': 2702, 'chaplin': 2703, 'pat': 2704, 'flop': 2705, 'happili': 2706, 'streisand': 2707, 'helen': 2708, 'carter': 2709, 'mar': 2710, 'cube': 2711, 'triumph': 2712, 'disagre': 2713, 'plastic': 2714, 'oil': 2715, 'factori': 2716, 'st': 2717, 'broke': 2718, 'conclud': 2719, 'fighter': 2720, 'vega': 2721, 'rocket': 2722, 'chuckl': 2723, 'climb': 2724, 'own': 2725, 'row': 2726, 'weight': 2727, 'march': 2728, 'bush': 2729, 'kurt': 2730, 'boot': 2731, 'thug': 2732, 'meaning': 2733, 'spare': 2734, 'unforgett': 2735, 'lust': 2736, 'wherea': 2737, 'dump': 2738, 'dane': 2739, 'luca': 2740, 'sensibl': 2741, 'mst3k': 2742, 'enorm': 2743, 'butt': 2744, 'caricatur': 2745, 'threat': 2746, 'brand': 2747, 'dear': 2748, 'arnold': 2749, 'stress': 2750, 'fifti': 2751, 'engin': 2752, 'rap': 2753, 'difficulti': 2754, 'adequ': 2755, 'bobbi': 2756, 'karloff': 2757, 'barri': 2758, 'elabor': 2759, 'journalist': 2760, 'ralph': 2761, 'arrog': 2762, 'flynn': 2763, 'secretari': 2764, 'swing': 2765, 'polish': 2766, 'hamlet': 2767, 'fest': 2768, 'ego': 2769, 'homeless': 2770, 'grate': 2771, 'float': 2772, 'induc': 2773, 'unbear': 2774, 'fanci': 2775, 'conspiraci': 2776, 'arrang': 2777, 'puppet': 2778, 'simpson': 2779, 'spike': 2780, 'resort': 2781, 'tool': 2782, 'pig': 2783, 'exercis': 2784, 'tribut': 2785, 'cruis': 2786, 'choreograph': 2787, 'muppet': 2788, 'basement': 2789, 'boll': 2790, 'phillip': 2791, 'guilt': 2792, 'toilet': 2793, 'medium': 2794, 'document': 2795, 'file': 2796, 'korean': 2797, 'puzzl': 2798, 'scarecrow': 2799, 'ham': 2800, 'editor': 2801, 'layer': 2802, 'tower': 2803, 'item': 2804, 'slip': 2805, 'fianc': 2806, '24': 2807, 'ward': 2808, 'stan': 2809, 'babe': 2810, 'slaughter': 2811, 'assur': 2812, 'superfici': 2813, 'minim': 2814, 'transit': 2815, 'librari': 2816, 'portion': 2817, 'larger': 2818, 'orient': 2819, 'persona': 2820, 'glover': 2821, 'spark': 2822, 'denzel': 2823, 'philosoph': 2824, 'doc': 2825, 'territori': 2826, 'inexplic': 2827, 'catherin': 2828, 'ban': 2829, 'jet': 2830, 'boredom': 2831, 'wolf': 2832, 'shi': 2833, 'walken': 2834, 'curti': 2835, 'owe': 2836, 'financi': 2837, 'dorothi': 2838, 'pg': 2839, 'jeremi': 2840, 'sneak': 2841, 'multi': 2842, 'eleph': 2843, 'metaphor': 2844, 'backdrop': 2845, 'profound': 2846, 'ambigu': 2847, 'hudson': 2848, 'whale': 2849, 'cusack': 2850, 'elsewher': 2851, '2005': 2852, 'implaus': 2853, 'ultra': 2854, 'stiff': 2855, 'viru': 2856, 'gadget': 2857, 'notion': 2858, 'birthday': 2859, 'hack': 2860, 'union': 2861, 'rave': 2862, 'poison': 2863, 'disc': 2864, 'superhero': 2865, 'canada': 2866, 'bibl': 2867, 'slight': 2868, 'urg': 2869, 'eastwood': 2870, 'afford': 2871, '1st': 2872, 'hawk': 2873, 'lloyd': 2874, 'newspap': 2875, 'reader': 2876, 'deriv': 2877, 'squar': 2878, 'pad': 2879, 'eva': 2880, 'distanc': 2881, 'spread': 2882, 'cure': 2883, 'drown': 2884, 'button': 2885, 'sadist': 2886, 'skit': 2887, 'huh': 2888, 'restaur': 2889, 'heston': 2890, 'montag': 2891, 'essenc': 2892, 'health': 2893, 'charisma': 2894, 'fetch': 2895, 'invest': 2896, 'maniac': 2897, 'dealt': 2898, 'godfath': 2899, 'peak': 2900, 'muslim': 2901, 'lab': 2902, 'estat': 2903, 'companion': 2904, 'gradual': 2905, 'scoobi': 2906, 'subtleti': 2907, 'countless': 2908, 'alli': 2909, 'tea': 2910, 'miik': 2911, 'kane': 2912, 'gothic': 2913, 'ritter': 2914, 'servant': 2915, 'cup': 2916, 'electr': 2917, 'briefli': 2918, 'heroic': 2919, 'charismat': 2920, 'salli': 2921, 'iii': 2922, 'elect': 2923, 'wannab': 2924, 'cole': 2925, 'tender': 2926, 'resourc': 2927, 'grandmoth': 2928, 'toss': 2929, 'admittedli': 2930, 'bud': 2931, 'nuanc': 2932, 'reel': 2933, 'neil': 2934, 'ingredi': 2935, 'stronger': 2936, 'mafia': 2937, 'poverti': 2938, 'stood': 2939, 'gate': 2940, 'mild': 2941, 'pit': 2942, 'punk': 2943, 'pauli': 2944, 'kubrick': 2945, 'carrey': 2946, 'shall': 2947, 'label': 2948, 'reev': 2949, 'dawson': 2950, 'smash': 2951, 'useless': 2952, 'smooth': 2953, 'ian': 2954, 'updat': 2955, 'outcom': 2956, 'assault': 2957, 'astair': 2958, 'cox': 2959, 'fond': 2960, 'easier': 2961, 'tag': 2962, 'terri': 2963, 'burst': 2964, 'cardboard': 2965, 'bakshi': 2966, 'vari': 2967, 'qualifi': 2968, 'samurai': 2969, 'sketch': 2970, 'vulner': 2971, 'resolv': 2972, 'fist': 2973, 'melodramat': 2974, 'increasingli': 2975, 'exchang': 2976, 'divers': 2977, '2002': 2978, 'coincid': 2979, 'rex': 2980, 'tame': 2981, 'luckili': 2982, 'reynold': 2983, 'blast': 2984, 'brillianc': 2985, 'suspend': 2986, 'conveni': 2987, 'templ': 2988, 'insert': 2989, 'be': 2990, 'scratch': 2991, 'nuclear': 2992, 'strictli': 2993, 'walker': 2994, 'fisher': 2995, 'coach': 2996, 'seventi': 2997, 'meat': 2998, 'jami': 2999, 'gotta': 3000, 'soprano': 3001, 'hamilton': 3002, 'ambiti': 3003, 'matthew': 3004, 'farm': 3005, 'pin': 3006, 'struck': 3007, 'grasp': 3008, 'empir': 3009, 'instantli': 3010, 'butcher': 3011, 'eccentr': 3012, 'convolut': 3013, 'recreat': 3014, 'timeless': 3015, 'discoveri': 3016, 'revers': 3017, 'spooki': 3018, 'monk': 3019, 'brosnan': 3020, 'kudo': 3021, 'ninja': 3022, 'worthless': 3023, 'closet': 3024, 'joey': 3025, 'cave': 3026, 'clock': 3027, 'cliff': 3028, 'miracl': 3029, 'partli': 3030, 'fifteen': 3031, 'importantli': 3032, 'clown': 3033, 'wipe': 3034, 'seller': 3035, 'communist': 3036, 'gray': 3037, 'selfish': 3038, 'inconsist': 3039, 'pal': 3040, 'sidekick': 3041, 'mitchel': 3042, 'eighti': 3043, 'sloppi': 3044, 'declar': 3045, 'evok': 3046, 'bleak': 3047, 'norman': 3048, 'enthusiast': 3049, '45': 3050, 'websit': 3051, 'psychiatrist': 3052, 'flawless': 3053, 'destin': 3054, 'cheek': 3055, 'seed': 3056, 'debat': 3057, 'ho': 3058, 'chew': 3059, 'farc': 3060, 'piano': 3061, 'lifestyl': 3062, 'superbl': 3063, 'australia': 3064, 'stoog': 3065, 'aforement': 3066, 'bash': 3067, 'incompet': 3068, 'drivel': 3069, 'slice': 3070, 'pressur': 3071, 'regardless': 3072, 'dire': 3073, 'kitchen': 3074, 'splatter': 3075, 'wick': 3076, 'emili': 3077, 'soviet': 3078, 'akshay': 3079, 'dash': 3080, 'directori': 3081, 'anni': 3082, 'wrestl': 3083, 'abc': 3084, 'suppli': 3085, 'chapter': 3086, 'judi': 3087, 'glow': 3088, 'flower': 3089, 'pleasantli': 3090, 'curios': 3091, 'prize': 3092, 'helicopt': 3093, 'boil': 3094, 'seduc': 3095, 'jar': 3096, 'increas': 3097, 'cia': 3098, 'recov': 3099, 'artifici': 3100, 'distant': 3101, 'duo': 3102, 'beaten': 3103, 'blob': 3104, 'ken': 3105, 'lou': 3106, 'dave': 3107, 'cameron': 3108, 'doo': 3109, 'mann': 3110, 'cagney': 3111, 'glenn': 3112, 'craven': 3113, 'combat': 3114, 'favour': 3115, 'hop': 3116, 'splendid': 3117, 'turner': 3118, 'drunken': 3119, 'eleg': 3120, 'perri': 3121, 'web': 3122, 'panic': 3123, 'francisco': 3124, 'psychot': 3125, 'craig': 3126, 'laurel': 3127, 'ranger': 3128, 'goldberg': 3129, 'ellen': 3130, 'plausibl': 3131, 'slightest': 3132, 'shortli': 3133, 'greek': 3134, 'philosophi': 3135, 'rid': 3136, 'falk': 3137, 'gentl': 3138, 'ruth': 3139, 'wizard': 3140, 'min': 3141, 'alexand': 3142, 'fx': 3143, 'graduat': 3144, 'hatr': 3145, 'gandhi': 3146, 'flip': 3147, '20th': 3148, 'modesti': 3149, 'we': 3150, 'futurist': 3151, 'unpleas': 3152, 'fund': 3153, 'knight': 3154, 'tall': 3155, 'harm': 3156, 'manhattan': 3157, 'felix': 3158, 'preciou': 3159, 'legal': 3160, 'lend': 3161, 'ocean': 3162, 'holi': 3163, 'jealou': 3164, 'dracula': 3165, 'reviv': 3166, 'nod': 3167, 'explicit': 3168, 'giallo': 3169, 'childish': 3170, 'thread': 3171, 'forbidden': 3172, 'bless': 3173, 'digniti': 3174, 'mock': 3175, 'tank': 3176, 'overdon': 3177, 'scientif': 3178, 'ami': 3179, 'broad': 3180, 'mel': 3181, 'nerv': 3182, 'pirat': 3183, 'yesterday': 3184, 'fever': 3185, 'elderli': 3186, 'repeatedli': 3187, 'awe': 3188, 'thick': 3189, 'margaret': 3190, 'torment': 3191, '2004': 3192, 'awaken': 3193, 'verhoeven': 3194, 'eve': 3195, 'unwatch': 3196, '99': 3197, 'automat': 3198, 'absenc': 3199, 'publish': 3200, 'timothi': 3201, 'launch': 3202, 'custom': 3203, 'ambit': 3204, 'romero': 3205, 'royal': 3206, 'ah': 3207, 'lean': 3208, 'politician': 3209, 'kay': 3210, 'roman': 3211, 'uniform': 3212, 'stiller': 3213, 'bin': 3214, 'rivet': 3215, 'acclaim': 3216, 'eas': 3217, 'griffith': 3218, 'foul': 3219, 'warren': 3220, 'darker': 3221, 'stinker': 3222, 'sunshin': 3223, 'transport': 3224, 'bathroom': 3225, 'tomato': 3226, 'crook': 3227, 'homicid': 3228, 'pulp': 3229, 'pierc': 3230, 'phrase': 3231, 'antic': 3232, 'termin': 3233, 'gabriel': 3234, 'wallac': 3235, 'purpl': 3236, 'pray': 3237, 'q': 3238, 'li': 3239, 'packag': 3240, 'sixti': 3241, 'rambo': 3242, '2003': 3243, 'choreographi': 3244, 'hollow': 3245, 'album': 3246, 'coloni': 3247, 'awak': 3248, 'kenneth': 3249, 'prom': 3250, 'donna': 3251, 'contrari': 3252, 'ought': 3253, 'viciou': 3254, 'marin': 3255, 'revolutionari': 3256, 'evolv': 3257, 'horrid': 3258, 'juvenil': 3259, 'eyr': 3260, 'brazil': 3261, 'saint': 3262, 'karen': 3263, 'dose': 3264, 'ireland': 3265, 'boast': 3266, 'twelv': 3267, 'conserv': 3268, 'stole': 3269, 'defi': 3270, 'candid': 3271, 'overr': 3272, 'mildr': 3273, 'ramon': 3274, 'blade': 3275, 'nerd': 3276, 'mummi': 3277, 'beatti': 3278, 'kapoor': 3279, 'option': 3280, 'funer': 3281, 'global': 3282, 'kirk': 3283, 'flame': 3284, 'detract': 3285, 'collabor': 3286, 'confirm': 3287, 'trio': 3288, 'altman': 3289, 'natali': 3290, 'astonish': 3291, 'protest': 3292, 'jazz': 3293, 'fulci': 3294, 'bull': 3295, 'enterpris': 3296, 'shade': 3297, 'audio': 3298, 'mystic': 3299, 'destini': 3300, 'bottl': 3301, 'tommi': 3302, 'yellow': 3303, 'whip': 3304, 'racial': 3305, 'leap': 3306, 'nicholson': 3307, 'delici': 3308, 'blake': 3309, 'spit': 3310, 'altogeth': 3311, 'swedish': 3312, 'reunit': 3313, 'meaningless': 3314, 'pseudo': 3315, 'neo': 3316, 'bedroom': 3317, 'vivid': 3318, 'enchant': 3319, 'adolesc': 3320, 'popcorn': 3321, 'fonda': 3322, 'staff': 3323, 'inherit': 3324, 'threw': 3325, 'harder': 3326, 'merci': 3327, 'visibl': 3328, 'todd': 3329, 'tip': 3330, 'fanat': 3331, 'synopsi': 3332, 'atlanti': 3333, 'respond': 3334, 'kennedi': 3335, 'ruthless': 3336, 'moodi': 3337, 'madonna': 3338, 'roommat': 3339, 'voight': 3340, 'reserv': 3341, 'decor': 3342, 'lawrenc': 3343, 'uneven': 3344, 'edi': 3345, 'befriend': 3346, 'exhibit': 3347, 'bust': 3348, 'suspici': 3349, 'crocodil': 3350, 'lemmon': 3351, 'await': 3352, 'jew': 3353, 'wire': 3354, 'leonard': 3355, 'bold': 3356, 'rural': 3357, 'carl': 3358, 'centr': 3359, 'chao': 3360, 'dimens': 3361, 'clint': 3362, 'incident': 3363, 'audit': 3364, 'ventur': 3365, 'unsettl': 3366, 'voyag': 3367, 'holli': 3368, '2007': 3369, 'clumsi': 3370, 'bargain': 3371, 'palma': 3372, 'abysm': 3373, 'garner': 3374, 'bradi': 3375, 'characterist': 3376, 'acknowledg': 3377, 'imperson': 3378, 'immigr': 3379, 'trail': 3380, 'ant': 3381, 'versu': 3382, 'daddi': 3383, 'tiger': 3384, 'echo': 3385, 'neglect': 3386, 'nearbi': 3387, 'poetic': 3388, 'lit': 3389, 'humili': 3390, 'troop': 3391, 'hart': 3392, 'cd': 3393, 'timon': 3394, 'elimin': 3395, 'mall': 3396, 'cuba': 3397, 'wealth': 3398, 'cari': 3399, '2nd': 3400, 'mistaken': 3401, 'repuls': 3402, 'solo': 3403, 'pun': 3404, 'paus': 3405, 'domest': 3406, 'jeffrey': 3407, 'prejudic': 3408, 'saga': 3409, 'marshal': 3410, 'mickey': 3411, 'celluloid': 3412, 'collaps': 3413, 'infect': 3414, 'homer': 3415, 'coat': 3416, 'sore': 3417, 'equip': 3418, 'pant': 3419, 'cake': 3420, 'inappropri': 3421, 'apolog': 3422, 'coffe': 3423, '1996': 3424, 'assembl': 3425, 'milk': 3426, 'ginger': 3427, 'chest': 3428, 'leon': 3429, 'gear': 3430, 'promin': 3431, 'undoubtedli': 3432, 'interrupt': 3433, 'olivi': 3434, 'tribe': 3435, 'harvey': 3436, 'inan': 3437, 'hbo': 3438, 'trace': 3439, 'instant': 3440, 'colleagu': 3441, 'institut': 3442, 'florida': 3443, 'highest': 3444, 'pot': 3445, 'furthermor': 3446, 'brooklyn': 3447, 'aveng': 3448, 'embrac': 3449, 'exot': 3450, 'solut': 3451, 'maggi': 3452, 'consum': 3453, 'primari': 3454, 'humbl': 3455, 'polanski': 3456, 'colonel': 3457, 'retain': 3458, 'airplan': 3459, 'devast': 3460, 'vulgar': 3461, 'jenni': 3462, 'pen': 3463, 'disabl': 3464, 'bowl': 3465, 'cope': 3466, 'poke': 3467, 'dian': 3468, 'ya': 3469, 'seduct': 3470, 'smaller': 3471, '1999': 3472, 'principl': 3473, 'illog': 3474, 'rick': 3475, 'strain': 3476, 'linda': 3477, 'wive': 3478, 'dutch': 3479, 'gender': 3480, 'descend': 3481, 'godzilla': 3482, 'outer': 3483, '3rd': 3484, 'sale': 3485, 'lol': 3486, 'predecessor': 3487, 'blatant': 3488, 'secondli': 3489, 'rabbit': 3490, 'bubbl': 3491, 'dud': 3492, 'devoid': 3493, 'mixtur': 3494, 'cue': 3495, 'scope': 3496, 'yard': 3497, 'inferior': 3498, 'beneath': 3499, 'gloriou': 3500, 'dive': 3501, 'glamor': 3502, 'vast': 3503, 'hal': 3504, 'gundam': 3505, 'primarili': 3506, 'casual': 3507, 'shirley': 3508, 'simplist': 3509, 'alert': 3510, 'aggress': 3511, 'domino': 3512, 'shelf': 3513, 'talki': 3514, 'myer': 3515, 'trademark': 3516, 'alfr': 3517, 'disjoint': 3518, 'arab': 3519, 'z': 3520, 'breed': 3521, 'et': 3522, 'garbo': 3523, 'april': 3524, 'hideou': 3525, 'senseless': 3526, 'grinch': 3527, 'streep': 3528, 'countrysid': 3529, 'pearl': 3530, 'invas': 3531, 'museum': 3532, 'mail': 3533, 'boom': 3534, 'disgrac': 3535, 'loyal': 3536, 'robberi': 3537, 'acid': 3538, 'obtain': 3539, 'oz': 3540, 'unhappi': 3541, 'hopeless': 3542, 'stellar': 3543, 'slide': 3544, 'illeg': 3545, 'defens': 3546, 'stack': 3547, 'vanish': 3548, 'robinson': 3549, 'stir': 3550, 'experiment': 3551, 'hardcor': 3552, 'uwe': 3553, 'maci': 3554, 'khan': 3555, 'rendit': 3556, 'applaud': 3557, 'sh': 3558, 'mayor': 3559, 'psychic': 3560, 'span': 3561, 'spider': 3562, 'incomprehens': 3563, 'topless': 3564, 'counter': 3565, 'soccer': 3566, 'diana': 3567, 'blew': 3568, 'recruit': 3569, 'emphasi': 3570, 'fri': 3571, 'dismiss': 3572, 'tenant': 3573, 'tempt': 3574, 'wont': 3575, 'berlin': 3576, 'declin': 3577, 'dicken': 3578, 'scroog': 3579, 'amanda': 3580, 'grandfath': 3581, 'craze': 3582, 'rifl': 3583, 'hartley': 3584, 'shaw': 3585, 'ethnic': 3586, 'goer': 3587, 'sibl': 3588, 'shed': 3589, 'intim': 3590, 'parad': 3591, 'porno': 3592, 'revolt': 3593, 'trashi': 3594, 'sympath': 3595, 'bitch': 3596, 'lumet': 3597, 'niro': 3598, 'riot': 3599, 'justin': 3600, 'resurrect': 3601, 'wet': 3602, 'ration': 3603, 'faster': 3604, 'woo': 3605, 'rider': 3606, 'ensur': 3607, 'hesit': 3608, 'region': 3609, 'enlighten': 3610, 'biographi': 3611, 'partial': 3612, 'weakest': 3613, 'jonathan': 3614, 'choru': 3615, 'wheel': 3616, 'nephew': 3617, 'worm': 3618, 'honesti': 3619, 'unreal': 3620, 'wendi': 3621, 'dealer': 3622, 'immort': 3623, 'steam': 3624, 'andr': 3625, 'slick': 3626, 'commend': 3627, 'patriot': 3628, '00': 3629, 'gap': 3630, 'farmer': 3631, 'eager': 3632, 'mario': 3633, 'hopper': 3634, 'feminist': 3635, 'ballet': 3636, 'lena': 3637, 'wore': 3638, 'skull': 3639, 'franco': 3640, 'victori': 3641, 'composit': 3642, 'confin': 3643, 'charlott': 3644, 'snap': 3645, 'repress': 3646, 'similarli': 3647, 'nostalg': 3648, 'properti': 3649, 'mutant': 3650, 'sappi': 3651, 'leo': 3652, 'vice': 3653, 'kingdom': 3654, 'psychopath': 3655, 'owen': 3656, 'sandra': 3657, 'prequel': 3658, 'hung': 3659, 'blunt': 3660, 'safeti': 3661, 'morri': 3662, 'util': 3663, 'macarthur': 3664, 'compens': 3665, 'nervou': 3666, 'latin': 3667, 'hyde': 3668, 'del': 3669, 'heartbreak': 3670, 'emperor': 3671, '1972': 3672, 'compass': 3673, 'tail': 3674, 'recycl': 3675, 'acquir': 3676, 'bow': 3677, 'bumbl': 3678, 'campbel': 3679, 'pattern': 3680, 'cg': 3681, 'rocki': 3682, 'dust': 3683, 'rope': 3684, 'repli': 3685, 'rambl': 3686, 'speci': 3687, 'exit': 3688, 'drum': 3689, 'bonu': 3690, 'valuabl': 3691, 'bergman': 3692, 'tad': 3693, 'strand': 3694, 'despair': 3695, 'kyle': 3696, 'farrel': 3697, 'deed': 3698, 'dalton': 3699, 'montana': 3700, 'drain': 3701, 'snl': 3702, 'whoopi': 3703, 'miseri': 3704, 'thru': 3705, 'roth': 3706, 'pour': 3707, 'martian': 3708, 'da': 3709, 'gimmick': 3710, 'bleed': 3711, 'carradin': 3712, 'tonight': 3713, 'radic': 3714, 'mistress': 3715, 'rotten': 3716, 'wacki': 3717, 'oppress': 3718, 'contempl': 3719, '35': 3720, 'gal': 3721, 'downhil': 3722, 'orson': 3723, 'romp': 3724, 'chess': 3725, 'olli': 3726, 'rapist': 3727, 'slug': 3728, 'airport': 3729, 'percept': 3730, 'champion': 3731, '1983': 3732, 'taught': 3733, 'unpredict': 3734, 'belt': 3735, 'arc': 3736, 'attorney': 3737, 'arguabl': 3738, 'banal': 3739, 'programm': 3740, 'slash': 3741, 'pervert': 3742, 'melodi': 3743, 'tackl': 3744, 'shelley': 3745, 'preach': 3746, 'mislead': 3747, 'stilt': 3748, 'dazzl': 3749, 'edgar': 3750, 'pursuit': 3751, 'tooth': 3752, 'pervers': 3753, 'paltrow': 3754, 'heal': 3755, 'franki': 3756, 'cleverli': 3757, 'virginia': 3758, 'orang': 3759, 'closest': 3760, 'chicken': 3761, 'mesmer': 3762, 'passeng': 3763, 'maid': 3764, 'tiresom': 3765, 'rubi': 3766, 'plight': 3767, 'duval': 3768, 'bela': 3769, 'poem': 3770, 'vocal': 3771, 'marti': 3772, 'gambl': 3773, 'graham': 3774, 'conneri': 3775, 'sensat': 3776, 'uplift': 3777, 'raymond': 3778, 'employe': 3779, 'vengeanc': 3780, 'dixon': 3781, 'clone': 3782, 'swallow': 3783, 'climact': 3784, 'volum': 3785, 'gerard': 3786, 'suffic': 3787, 'outing': 3788, 'quarter': 3789, 'numb': 3790, 'amitabh': 3791, 'mute': 3792, 'habit': 3793, 'abraham': 3794, 'engross': 3795, 'profan': 3796, 'yawn': 3797, '1968': 3798, 'whine': 3799, 'scottish': 3800, 'calm': 3801, 'monologu': 3802, 'tube': 3803, 'inject': 3804, 'sirk': 3805, 'convincingli': 3806, 'crystal': 3807, 'iran': 3808, 'secretli': 3809, 'giggl': 3810, 'pokemon': 3811, 'bay': 3812, 'paranoia': 3813, 'lundgren': 3814, 'extens': 3815, 'surpass': 3816, 'lowest': 3817, 'chicago': 3818, 'meander': 3819, 'backward': 3820, 'spock': 3821, 'taxi': 3822, 'fed': 3823, 'bend': 3824, 'linger': 3825, 'frankenstein': 3826, 'plod': 3827, 'abort': 3828, 'septemb': 3829, 'ethan': 3830, 'junior': 3831, 'im': 3832, 'poetri': 3833, 'richardson': 3834, 'nichola': 3835, 'trend': 3836, 'profess': 3837, 'expand': 3838, 'earl': 3839, 'underst': 3840, 'franci': 3841, 'grotesqu': 3842, 'austen': 3843, 'dispos': 3844, 'eugen': 3845, 'cannon': 3846, 'compliment': 3847, 'tourist': 3848, 'econom': 3849, 'der': 3850, 'dysfunct': 3851, 'greedi': 3852, 'lure': 3853, 'simplic': 3854, 'stallon': 3855, 'sue': 3856, 'household': 3857, 'hum': 3858, 'rubber': 3859, 'muddl': 3860, 'waitress': 3861, 'spoke': 3862, 'mundan': 3863, 'catchi': 3864, 'literatur': 3865, 'descent': 3866, 'nostalgia': 3867, 'myth': 3868, 'rant': 3869, 'instrument': 3870, 'mortal': 3871, 'recognis': 3872, 'june': 3873, 'molli': 3874, 'hello': 3875, 'dement': 3876, 'irrelev': 3877, 'equival': 3878, 'deaf': 3879, 'damon': 3880, 'recognit': 3881, 'map': 3882, 'crucial': 3883, 'lang': 3884, 'flee': 3885, 'insur': 3886, 'phantom': 3887, 'occupi': 3888, 'carel': 3889, 'eaten': 3890, 'cent': 3891, 'alongsid': 3892, 'dictat': 3893, 'omen': 3894, 'coast': 3895, 'phoni': 3896, 'mankind': 3897, 'firstli': 3898, 'duck': 3899, 'randi': 3900, 'louis': 3901, 'stale': 3902, 'sissi': 3903, 'bacal': 3904, 'furi': 3905, 'bike': 3906, 'heel': 3907, 'antwon': 3908, 'ashley': 3909, 'rude': 3910, 'loyalti': 3911, 'wisdom': 3912, 'freez': 3913, 'dreari': 3914, '1973': 3915, 'daisi': 3916, 'newli': 3917, 'bump': 3918, 'reign': 3919, 'twilight': 3920, 'damm': 3921, 'buffalo': 3922, 'likewis': 3923, 'drake': 3924, 'grayson': 3925, 'distinguish': 3926, 'labor': 3927, 'biko': 3928, 'onlin': 3929, 'lengthi': 3930, 'cyborg': 3931, 'blackmail': 3932, 'rooney': 3933, 'sailor': 3934, 'startl': 3935, 'provoc': 3936, 'tunnel': 3937, 'proce': 3938, 'chronicl': 3939, 'ridden': 3940, 'worn': 3941, 'baddi': 3942, 'boxer': 3943, 'attribut': 3944, 'approv': 3945, 'prey': 3946, 'unorigin': 3947, 'butler': 3948, 'pink': 3949, 'basketbal': 3950, 'incorpor': 3951, 'barrymor': 3952, 'nineti': 3953, 'inher': 3954, 'interior': 3955, 'emphas': 3956, 'vein': 3957, 'keith': 3958, 'exposur': 3959, 'analysi': 3960, 'hypnot': 3961, 'condemn': 3962, 'drift': 3963, 'stalker': 3964, 'substitut': 3965, 'elm': 3966, 'mighti': 3967, 'bunni': 3968, 'improvis': 3969, 'indiffer': 3970, 'barrel': 3971, 'undeni': 3972, 'mormon': 3973, 'meyer': 3974, 'predat': 3975, 'belushi': 3976, 'othello': 3977, 'millionair': 3978, 'meg': 3979, 'nicol': 3980, 'simmon': 3981, 'underli': 3982, 'robbin': 3983, 'walsh': 3984, 'fleet': 3985, 'julian': 3986, 'degrad': 3987, 'unrel': 3988, 'carla': 3989, 'er': 3990, 'shove': 3991, 'alarm': 3992, 'palac': 3993, 'lampoon': 3994, 'mtv': 3995, '3d': 3996, 'hay': 3997, 'edgi': 3998, 'alison': 3999, 'nyc': 4000, 'watson': 4001, 'marion': 4002, 'enthusiasm': 4003, 'vital': 4004, 'exquisit': 4005, 'warmth': 4006, 'priceless': 4007, 'errol': 4008, 'roof': 4009, 'unawar': 4010, 'greed': 4011, 'novak': 4012, 'agenda': 4013, 'disord': 4014, 'firm': 4015, 'dolph': 4016, 'rukh': 4017, 'reid': 4018, 'coup': 4019, 'nun': 4020, 'spain': 4021, 'what': 4022, 'sergeant': 4023, 'peck': 4024, 'randomli': 4025, '1933': 4026, '13th': 4027, 'profit': 4028, 'peril': 4029, 'drip': 4030, 'thompson': 4031, 'orlean': 4032, 'petti': 4033, 'campaign': 4034, 'session': 4035, 'eastern': 4036, 'minimum': 4037, 'iraq': 4038, 'preserv': 4039, 'israel': 4040, 'glanc': 4041, 'gestur': 4042, 'crown': 4043, 'distort': 4044, 'beatl': 4045, 'unleash': 4046, 'ponder': 4047, 'championship': 4048, 'showdown': 4049, 'simultan': 4050, 'testament': 4051, 'angela': 4052, 'zizek': 4053, 'valentin': 4054, 'pamela': 4055, 'cassidi': 4056, 'calib': 4057, 'crow': 4058, 'crawl': 4059, 'mon': 4060, 'scotland': 4061, 'unimagin': 4062, 'stake': 4063, 'han': 4064, 'stroke': 4065, 'rout': 4066, 'wig': 4067, 'realm': 4068, 'quinn': 4069, 'cream': 4070, 'regist': 4071, 'reson': 4072, 'contradict': 4073, 'brenda': 4074, 'perpetu': 4075, 'miyazaki': 4076, 'buster': 4077, '1984': 4078, 'represent': 4079, 'shootout': 4080, 'gentleman': 4081, 'bro': 4082, 'cooki': 4083, 'empathi': 4084, 'climat': 4085, 'jan': 4086, 'kurosawa': 4087, 'valley': 4088, 'travesti': 4089, 'exposit': 4090, 'sabrina': 4091, 'restrain': 4092, 'fido': 4093, 'din': 4094, 'demis': 4095, 'sucker': 4096, 'unseen': 4097, 'passabl': 4098, 'delic': 4099, 'painter': 4100, 'darren': 4101, 'abomin': 4102, 'spacey': 4103, '1987': 4104, 'stargat': 4105, 'ross': 4106, 'wax': 4107, 'shaki': 4108, 'cloud': 4109, 'perceiv': 4110, 'tacki': 4111, 'dana': 4112, '1997': 4113, 'businessman': 4114, 'distress': 4115, 'shoddi': 4116, 'warrant': 4117, 'josh': 4118, 'pole': 4119, 'baldwin': 4120, 'crawford': 4121, 'compromis': 4122, 'fuller': 4123, 'censor': 4124, 'femm': 4125, 'greg': 4126, 'absent': 4127, 'derang': 4128, 'unsatisfi': 4129, 'soderbergh': 4130, 'pretens': 4131, 'monoton': 4132, 'meryl': 4133, 'geek': 4134, 'sammi': 4135, 'traumat': 4136, 'mclaglen': 4137, 'ustinov': 4138, 'click': 4139, 'judgment': 4140, 'seal': 4141, 'deceas': 4142, 'deniro': 4143, 'uncov': 4144, '1993': 4145, 'polici': 4146, 'primit': 4147, 'valid': 4148, 'clash': 4149, 'antonioni': 4150, 'fog': 4151, 'correctli': 4152, 'norm': 4153, 'dee': 4154, 'fenc': 4155, 'anchor': 4156, 'verbal': 4157, 'kumar': 4158, 'expedit': 4159, 'nathan': 4160, 'furiou': 4161, 'accuraci': 4162, 'wholli': 4163, 'reluct': 4164, 'sid': 4165, 'tech': 4166, 'austin': 4167, 'unravel': 4168, 'jewel': 4169, 'tarantino': 4170, 'exclus': 4171, 'sustain': 4172, 'seldom': 4173, 'temper': 4174, 'wretch': 4175, 'patienc': 4176, 'dreck': 4177, 'roller': 4178, 'ritual': 4179, 'hallucin': 4180, 'fabric': 4181, 'clerk': 4182, 'nicola': 4183, 'conduct': 4184, 'crippl': 4185, '1995': 4186, 'joel': 4187, '1971': 4188, 'enforc': 4189, 'sheet': 4190, 'unfair': 4191, 'malon': 4192, 'behold': 4193, 'logan': 4194, 'trait': 4195, 'sunni': 4196, 'shanghai': 4197, 'vanc': 4198, 'pocket': 4199, 'bake': 4200, '3000': 4201, 'debt': 4202, 'fart': 4203, 'darn': 4204, 'slam': 4205, 'mode': 4206, 'wang': 4207, 'alec': 4208, 'tax': 4209, 'fought': 4210, 'murray': 4211, 'sand': 4212, '2008': 4213, 'critiqu': 4214, 'divid': 4215, 'tactic': 4216, 'soup': 4217, 'preposter': 4218, 'schedul': 4219, 'runner': 4220, 'conscious': 4221, 'shell': 4222, 'fundament': 4223, 'exhaust': 4224, 'legaci': 4225, 'squad': 4226, 'phil': 4227, 'guitar': 4228, 'robber': 4229, 'stark': 4230, 'despis': 4231, 'scriptwrit': 4232, 'sweep': 4233, 'stuart': 4234, 'bias': 4235, 'clau': 4236, 'technicolor': 4237, 'pete': 4238, 'helpless': 4239, 'preston': 4240, 'outlin': 4241, 'rita': 4242, 'grief': 4243, 'isabel': 4244, 'canyon': 4245, 'penni': 4246, 'bridget': 4247, 'implic': 4248, 'sugar': 4249, 'vomit': 4250, 'agenc': 4251, 'lacklust': 4252, 'inabl': 4253, 'propos': 4254, 'passag': 4255, 'sentinel': 4256, 'rear': 4257, 'flair': 4258, 'culmin': 4259, 'bloom': 4260, 'downey': 4261, 'unexpectedli': 4262, 'consciou': 4263, 'jacket': 4264, 'rehash': 4265, 'newman': 4266, 'palanc': 4267, 'delv': 4268, 'connor': 4269, 'gregori': 4270, 'liberti': 4271, 'jodi': 4272, 'invad': 4273, 'russia': 4274, 'restrict': 4275, 'alley': 4276, 'drove': 4277, 'marc': 4278, 'sniper': 4279, 'cigarett': 4280, 'alicia': 4281, 'boyl': 4282, 'kansa': 4283, 'tendenc': 4284, 'asylum': 4285, 'kolchak': 4286, 'chainsaw': 4287, 'arrow': 4288, 'ladder': 4289, 'mccoy': 4290, 'rehears': 4291, 'improb': 4292, 'awhil': 4293, 'behaviour': 4294, '22': 4295, 'yeti': 4296, '1936': 4297, 'horn': 4298, 'wrench': 4299, 'vet': 4300, 'foxx': 4301, 'aesthet': 4302, 'bacon': 4303, 'tripe': 4304, 'rod': 4305, 'cap': 4306, 'karl': 4307, 'lush': 4308, 'pale': 4309, 'rampag': 4310, 'delet': 4311, 'sharon': 4312, 'feat': 4313, 'hungri': 4314, '1988': 4315, 'tomorrow': 4316, '1978': 4317, 'minu': 4318, 'stream': 4319, 'lurk': 4320, 'shortcom': 4321, '1920': 4322, 'paradis': 4323, 'newcom': 4324, 'coaster': 4325, 'suffici': 4326, 'hackney': 4327, 'conscienc': 4328, 'aristocrat': 4329, 'fright': 4330, 'loneli': 4331, 'globe': 4332, 'tasteless': 4333, 'visitor': 4334, 'underneath': 4335, 'weav': 4336, 'amazon': 4337, 'sung': 4338, 'wildli': 4339, 'rumor': 4340, 'thunderbird': 4341, 'spice': 4342, '19th': 4343, 'el': 4344, 'financ': 4345, 'filler': 4346, 'hulk': 4347, 'scoop': 4348, 'suspicion': 4349, 'elit': 4350, 'basing': 4351, 'paramount': 4352, 'prank': 4353, 'wagner': 4354, 'rhythm': 4355, 'ram': 4356, 'atroc': 4357, 'standout': 4358, 'couch': 4359, '75': 4360, 'dirt': 4361, 'worship': 4362, 'recogniz': 4363, '1989': 4364, 'rub': 4365, 'posey': 4366, 'bread': 4367, 'abrupt': 4368, 'ingeni': 4369, 'grudg': 4370, 'immers': 4371, 'counterpart': 4372, 'heist': 4373, 'hopkin': 4374, 'secondari': 4375, 'brit': 4376, 'en': 4377, 'entranc': 4378, 'smell': 4379, 'straightforward': 4380, 'quietli': 4381, 'impos': 4382, 'inmat': 4383, 'cancer': 4384, 'penn': 4385, 'leigh': 4386, 'teas': 4387, 'lectur': 4388, 'literari': 4389, 'choppi': 4390, 'naughti': 4391, '1939': 4392, 'tierney': 4393, 'curli': 4394, 'springer': 4395, 'wwe': 4396, 'paxton': 4397, 'beverli': 4398, 'minist': 4399, 'chavez': 4400, 'iv': 4401, 'chamberlain': 4402, 'entitl': 4403, 'skeptic': 4404, 'clan': 4405, 'missil': 4406, 'misguid': 4407, 'duel': 4408, 'variat': 4409, 'convert': 4410, 'morbid': 4411, 'sublim': 4412, 'policeman': 4413, 'yearn': 4414, 'nemesi': 4415, 'injuri': 4416, 'heartfelt': 4417, 'transcend': 4418, '1986': 4419, 'laurenc': 4420, 'ace': 4421, 'watcher': 4422, 'cattl': 4423, 'moreov': 4424, 'bernard': 4425, 'geni': 4426, 'esther': 4427, 'lindsay': 4428, 'quaid': 4429, 'ratso': 4430, 'nolan': 4431, 'attenborough': 4432, 'enthral': 4433, 'sassi': 4434, 'net': 4435, 'out': 4436, 'spiral': 4437, 'characteris': 4438, 'vader': 4439, 'cruelti': 4440, 'kitti': 4441, 'brood': 4442, 'dont': 4443, 'youngest': 4444, 'buzz': 4445, 'hk': 4446, 'graini': 4447, '1979': 4448, 'setup': 4449, 'puppi': 4450, 'facil': 4451, 'reliabl': 4452, 'uncut': 4453, 'moder': 4454, 'rosemari': 4455, 'grin': 4456, 'bye': 4457, 'kidman': 4458, 'obstacl': 4459, 'carlito': 4460, 'diari': 4461, 'egg': 4462, 'mytholog': 4463, 'hopelessli': 4464, 'steadi': 4465, 'enabl': 4466, 'unexplain': 4467, 'poe': 4468, 'bean': 4469, 'tyler': 4470, 'artsi': 4471, 'heap': 4472, 'despic': 4473, 'decept': 4474, 'acquaint': 4475, 'hammi': 4476, 'spontan': 4477, 'exterior': 4478, 'niec': 4479, 'bewar': 4480, 'weather': 4481, 'bronson': 4482, 'patricia': 4483, 'effici': 4484, 'fuel': 4485, 'kline': 4486, 'baffl': 4487, 'hain': 4488, 'preming': 4489, 'oblig': 4490, 'athlet': 4491, 'narrow': 4492, 'clueless': 4493, 'underworld': 4494, 'bounc': 4495, 'gillian': 4496, 'disastr': 4497, 'gina': 4498, 'sweat': 4499, 'brendan': 4500, 'christin': 4501, 'martha': 4502, '1969': 4503, 'harmless': 4504, 'insipid': 4505, 'goof': 4506, 'hepburn': 4507, 'loath': 4508, 'dilemma': 4509, 'biker': 4510, 'trigger': 4511, 'viewpoint': 4512, 'sleepwalk': 4513, 'astound': 4514, 'analyz': 4515, 'scar': 4516, 'virtu': 4517, 'angst': 4518, '19': 4519, 'fontain': 4520, 'rome': 4521, 'headach': 4522, 'shatter': 4523, 'mayhem': 4524, 'circu': 4525, '73': 4526, 'enlist': 4527, 'uh': 4528, 'outlaw': 4529, 'renaiss': 4530, 'lester': 4531, 'taboo': 4532, 'housewif': 4533, 'mermaid': 4534, 'sooner': 4535, 'suprem': 4536, 'tick': 4537, 'candl': 4538, 'injur': 4539, 'dandi': 4540, 'loi': 4541, 'preachi': 4542, 'redund': 4543, 'filth': 4544, 'amor': 4545, 'surgeri': 4546, 'overlong': 4547, 'macho': 4548, 'hokey': 4549, 'immatur': 4550, 'steer': 4551, 'whore': 4552, 'ebert': 4553, 'hostag': 4554, 'foolish': 4555, 'fluff': 4556, 'zoom': 4557, 'sox': 4558, 'idol': 4559, 'dismal': 4560, 'spade': 4561, 'boston': 4562, 'scorses': 4563, 'salt': 4564, 'oldest': 4565, 'tripl': 4566, 'hooker': 4567, 'contempt': 4568, 'stimul': 4569, 'phenomenon': 4570, 'corbett': 4571, 'slimi': 4572, 'glorifi': 4573, 'claustrophob': 4574, 'dish': 4575, 'guin': 4576, 'bent': 4577, 'camcord': 4578, 'cassavet': 4579, 'gere': 4580, 'intric': 4581, 'stair': 4582, 'ariel': 4583, 'muscl': 4584, 'proport': 4585, 'antagonist': 4586, 'spree': 4587, 'down': 4588, 'flashi': 4589, 'gasp': 4590, 'strongest': 4591, '1976': 4592, 'nolt': 4593, 'obligatori': 4594, 'mutual': 4595, 'margin': 4596, 'preced': 4597, 'perman': 4598, 'cush': 4599, 'beard': 4600, 'flag': 4601, 'astronaut': 4602, 'spinal': 4603, 'messi': 4604, 'gabl': 4605, 'conquer': 4606, '1981': 4607, 'widescreen': 4608, 'harold': 4609, 'schlock': 4610, 'dwarf': 4611, 'mount': 4612, 'assert': 4613, 'cohen': 4614, 'faint': 4615, 'frantic': 4616, 'shred': 4617, 'rhyme': 4618, 'shield': 4619, 'joker': 4620, 'cow': 4621, 'remad': 4622, 'alvin': 4623, 'trivia': 4624, 'keen': 4625, 'fascist': 4626, 'flirt': 4627, 'corman': 4628, 'naschi': 4629, 'radiat': 4630, 'transplant': 4631, 'zane': 4632, '1945': 4633, '95': 4634, 'discern': 4635, 'scandal': 4636, 'off': 4637, 'raj': 4638, 'resum': 4639, 'brush': 4640, 'neurot': 4641, 'claud': 4642, 'divin': 4643, 'strive': 4644, 'mobil': 4645, 'aborigin': 4646, 'departur': 4647, 'someday': 4648, 'fishburn': 4649, 'wield': 4650, 'hara': 4651, 'carey': 4652, 'triangl': 4653, 'sensual': 4654, 'barn': 4655, '28': 4656, 'archiv': 4657, 'bitten': 4658, 'inflict': 4659, 'info': 4660, 'deer': 4661, 'www': 4662, 'repris': 4663, 'instruct': 4664, 'persuad': 4665, 'bachelor': 4666, 'interestingli': 4667, 'vaniti': 4668, 'danish': 4669, 'boob': 4670, 'ritchi': 4671, 'flock': 4672, 'mol': 4673, 'axe': 4674, 'ish': 4675, 'cliffhang': 4676, 'jade': 4677, 'proclaim': 4678, 'wendigo': 4679, 'recit': 4680, 'traffic': 4681, 'clad': 4682, 'biblic': 4683, 'casino': 4684, 'heartwarm': 4685, 'dim': 4686, 'undermin': 4687, 'rot': 4688, 'colin': 4689, 'luka': 4690, 'kathryn': 4691, 'mobster': 4692, 'carlo': 4693, 'anton': 4694, 'harrison': 4695, 'cycl': 4696, 'fragil': 4697, 'helm': 4698, 'hilar': 4699, 'pixar': 4700, 'melissa': 4701, 'cb': 4702, 'artwork': 4703, 'miracul': 4704, 'vibrant': 4705, 'hapless': 4706, 'europa': 4707, 'hug': 4708, 'timberlak': 4709, 'submit': 4710, 'loretta': 4711, 'dame': 4712, 'senior': 4713, 'prophet': 4714, 'earnest': 4715, 'pacif': 4716, 'bate': 4717, 'parson': 4718, 'frontier': 4719, 'banter': 4720, 'dylan': 4721, 'neill': 4722, 'cher': 4723, 'pickford': 4724, 'wardrob': 4725, 'alexandr': 4726, 'venom': 4727, 'eli': 4728, 'flavor': 4729, 'winchest': 4730, 'lui': 4731, 'aris': 4732, 'legitim': 4733, 'articl': 4734, 'redneck': 4735, 'lucil': 4736, 'toronto': 4737, 'cerebr': 4738, 'bikini': 4739, 'token': 4740, 'akin': 4741, 'jordan': 4742, 'northern': 4743, 'holocaust': 4744, 'bondag': 4745, 'sicken': 4746, 'razor': 4747, 'breakfast': 4748, 'vanessa': 4749, 'misfortun': 4750, 'orphan': 4751, 'mason': 4752, 'illus': 4753, 'uma': 4754, 'choke': 4755, 'milo': 4756, 'nope': 4757, 'http': 4758, 'marlon': 4759, 'antholog': 4760, 'trier': 4761, 'estrang': 4762, 'rooki': 4763, 'blatantli': 4764, 'seedi': 4765, 'static': 4766, 'electron': 4767, 'feast': 4768, 'isra': 4769, 'vile': 4770, 'jo': 4771, 'mathieu': 4772, 'pc': 4773, 'shepherd': 4774, 'foil': 4775, 'feminin': 4776, 'fifth': 4777, 'highway': 4778, 'smack': 4779, 'howl': 4780, 'swept': 4781, 'disregard': 4782, 'tack': 4783, 'gilbert': 4784, 'turd': 4785, 'charlton': 4786, 'abund': 4787, 'peer': 4788, 'huston': 4789, 'boyer': 4790, 'comprehend': 4791, 'linear': 4792, 'dudley': 4793, 'deem': 4794, 'styliz': 4795, 'oppon': 4796, 'shorter': 4797, 'clinic': 4798, 'ideolog': 4799, 'audrey': 4800, 'ceremoni': 4801, 'knightley': 4802, 'nightclub': 4803, 'affleck': 4804, 'retriev': 4805, 'psych': 4806, 'frog': 4807, 'magician': 4808, 'leather': 4809, 'cartoonish': 4810, 'glare': 4811, 'outdat': 4812, 'gunga': 4813, 'wrestler': 4814, 'boo': 4815, 'lighter': 4816, 'senat': 4817, 'cuban': 4818, 'collector': 4819, 'client': 4820, '4th': 4821, 'cemeteri': 4822, 'compris': 4823, 'plate': 4824, 'spine': 4825, 'newer': 4826, 'spawn': 4827, 'toe': 4828, 'breakdown': 4829, 'durat': 4830, 'energet': 4831, 'braveheart': 4832, 'tara': 4833, 'monument': 4834, 'lifeless': 4835, '1994': 4836, 'corn': 4837, 'snatch': 4838, 'bogu': 4839, 'salman': 4840, 'bastard': 4841, 'evolut': 4842, 'deliver': 4843, 'chip': 4844, 'whack': 4845, 'greet': 4846, 'conrad': 4847, 'uniformli': 4848, 'btw': 4849, 'moe': 4850, 'phenomen': 4851, 'mitch': 4852, 'goldsworthi': 4853, 'lavish': 4854, 'summar': 4855, '1991': 4856, 'potter': 4857, 'sleaz': 4858, 'einstein': 4859, 'pronounc': 4860, 'alleg': 4861, 'judd': 4862, 'fluid': 4863, 'armstrong': 4864, 'embark': 4865, 'jedi': 4866, 'ol': 4867, '1974': 4868, 'lex': 4869, 'eleven': 4870, 'luxuri': 4871, 'cecil': 4872, 'outright': 4873, 'trauma': 4874, 'jam': 4875, 'liu': 4876, 'belli': 4877, 'appl': 4878, 'bori': 4879, 'replay': 4880, 'kazan': 4881, 'ie': 4882, 'undertak': 4883, 'jule': 4884, 'wtf': 4885, 'nina': 4886, 'neatli': 4887, 'evelyn': 4888, 'inaccuraci': 4889, 'signal': 4890, 'sorrow': 4891, 'clara': 4892, 'jare': 4893, 'bulk': 4894, 'spectacl': 4895, 'randolph': 4896, 'capot': 4897, 'mcqueen': 4898, 'healthi': 4899, 'firmli': 4900, 'kent': 4901, 'undead': 4902, 'constitut': 4903, 'occup': 4904, '1977': 4905, 'creek': 4906, 'historian': 4907, 'gilliam': 4908, 'kiddi': 4909, 'relentless': 4910, 'unsuspect': 4911, 'sidewalk': 4912, 'comprehens': 4913, 'galaxi': 4914, 'groan': 4915, 'curtain': 4916, 'conan': 4917, 'spray': 4918, 'inclus': 4919, 'mum': 4920, 'roar': 4921, 'walt': 4922, 'miniseri': 4923, 'tokyo': 4924, 'poker': 4925, 'goldblum': 4926, 'ash': 4927, 'meal': 4928, 'id': 4929, 'abound': 4930, '1985': 4931, 'propheci': 4932, 'pepper': 4933, 'bait': 4934, 'congratul': 4935, 'porter': 4936, 'carmen': 4937, 'aussi': 4938, 'knee': 4939, 'pioneer': 4940, 'forgiven': 4941, 'sacrif': 4942, 'lanc': 4943, 'subtli': 4944, 'genet': 4945, 'fruit': 4946, 'vignett': 4947, 'unattract': 4948, 'basket': 4949, 'paula': 4950, 'miami': 4951, 'vain': 4952, 'antonio': 4953, 'lauren': 4954, 'inaccur': 4955, 'decapit': 4956, 'cape': 4957, 'blur': 4958, 'palm': 4959, 'comb': 4960, 'rosario': 4961, 'bsg': 4962, 'truman': 4963, 'casper': 4964, 'asset': 4965, 'macabr': 4966, 'vastli': 4967, 'rapidli': 4968, 'frontal': 4969, 'profil': 4970, 'hackman': 4971, 'dubiou': 4972, 'bravo': 4973, 'substanti': 4974, 'hostil': 4975, 'handicap': 4976, 'reincarn': 4977, 'epitom': 4978, 'incorrect': 4979, 'monti': 4980, 'sparkl': 4981, 'bach': 4982, 'playboy': 4983, 'jill': 4984, 'assort': 4985, 'victorian': 4986, 'optimist': 4987, 'motorcycl': 4988, 'orchestr': 4989, 'drone': 4990, 'verg': 4991, 'detach': 4992, 'weari': 4993, 'masterson': 4994, 'evan': 4995, 'mice': 4996, 'omin': 4997, 'sophi': 4998, 'ghetto': 4999}\n"
     ]
    }
   ],
   "source": [
    "word_dict = build_dict(train_X)\n",
    "print(word_dict)"
   ]
  },
  {
   "cell_type": "markdown",
   "metadata": {},
   "source": [
    "**Question:** What are the five most frequently appearing (tokenized) words in the training set? Does it makes sense that these words appear frequently in the training set?"
   ]
  },
  {
   "cell_type": "markdown",
   "metadata": {},
   "source": [
    "**Answer:**"
   ]
  },
  {
   "cell_type": "code",
   "execution_count": 13,
   "metadata": {},
   "outputs": [
    {
     "name": "stdout",
     "output_type": "stream",
     "text": [
      "{'movi': 2, 'film': 3, 'one': 4, 'like': 5, 'time': 6, 'good': 7, 'make': 8, 'charact': 9, 'get': 10, 'see': 11, 'watch': 12, 'stori': 13, 'even': 14, 'would': 15, 'realli': 16, 'well': 17, 'scene': 18, 'look': 19, 'show': 20, 'much': 21, 'end': 22, 'peopl': 23, 'bad': 24, 'go': 25, 'great': 26, 'also': 27, 'first': 28, 'love': 29, 'think': 30, 'way': 31, 'act': 32, 'play': 33, 'made': 34, 'thing': 35, 'could': 36, 'know': 37, 'say': 38, 'seem': 39, 'work': 40, 'plot': 41, 'two': 42, 'actor': 43, 'year': 44, 'come': 45, 'mani': 46, 'seen': 47, 'take': 48, 'life': 49, 'want': 50, 'never': 51, 'littl': 52, 'best': 53, 'tri': 54, 'man': 55, 'ever': 56, 'give': 57, 'better': 58, 'still': 59, 'perform': 60, 'find': 61, 'feel': 62, 'part': 63, 'back': 64, 'use': 65, 'someth': 66, 'director': 67, 'actual': 68, 'interest': 69, 'lot': 70, 'real': 71, 'old': 72, 'cast': 73, 'though': 74, 'live': 75, 'star': 76, 'enjoy': 77, 'guy': 78, 'anoth': 79, 'new': 80, 'role': 81, 'noth': 82, '10': 83, 'funni': 84, 'music': 85, 'point': 86, 'start': 87, 'set': 88, 'girl': 89, 'origin': 90, 'day': 91, 'world': 92, 'everi': 93, 'believ': 94, 'turn': 95, 'quit': 96, 'us': 97, 'direct': 98, 'thought': 99, 'fact': 100, 'minut': 101, 'horror': 102, 'kill': 103, 'action': 104, 'comedi': 105, 'pretti': 106, 'young': 107, 'wonder': 108, 'happen': 109, 'around': 110, 'got': 111, 'effect': 112, 'right': 113, 'long': 114, 'howev': 115, 'big': 116, 'line': 117, 'famili': 118, 'enough': 119, 'seri': 120, 'may': 121, 'need': 122, 'fan': 123, 'bit': 124, 'script': 125, 'beauti': 126, 'person': 127, 'becom': 128, 'without': 129, 'must': 130, 'alway': 131, 'friend': 132, 'tell': 133, 'reason': 134, 'saw': 135, 'last': 136, 'final': 137, 'kid': 138, 'almost': 139, 'put': 140, 'least': 141, 'sure': 142, 'done': 143, 'whole': 144, 'place': 145, 'complet': 146, 'kind': 147, 'expect': 148, 'differ': 149, 'shot': 150, 'far': 151, 'mean': 152, 'anyth': 153, 'book': 154, 'laugh': 155, 'might': 156, 'name': 157, 'sinc': 158, 'begin': 159, '2': 160, 'probabl': 161, 'woman': 162, 'help': 163, 'entertain': 164, 'let': 165, 'screen': 166, 'call': 167, 'tv': 168, 'moment': 169, 'away': 170, 'read': 171, 'yet': 172, 'rather': 173, 'worst': 174, 'run': 175, 'fun': 176, 'lead': 177, 'hard': 178, 'audienc': 179, 'idea': 180, 'anyon': 181, 'episod': 182, 'american': 183, 'found': 184, 'appear': 185, 'bore': 186, 'especi': 187, 'although': 188, 'hope': 189, 'cours': 190, 'keep': 191, 'anim': 192, 'job': 193, 'goe': 194, 'move': 195, 'sens': 196, 'dvd': 197, 'version': 198, 'war': 199, 'money': 200, 'someon': 201, 'mind': 202, 'mayb': 203, 'problem': 204, 'true': 205, 'hous': 206, 'everyth': 207, 'nice': 208, 'second': 209, 'rate': 210, 'three': 211, 'night': 212, 'follow': 213, 'face': 214, 'recommend': 215, 'main': 216, 'product': 217, 'worth': 218, 'leav': 219, 'human': 220, 'special': 221, 'excel': 222, 'togeth': 223, 'wast': 224, 'everyon': 225, 'sound': 226, 'john': 227, 'hand': 228, '1': 229, 'father': 230, 'later': 231, 'eye': 232, 'said': 233, 'view': 234, 'instead': 235, 'review': 236, 'boy': 237, 'high': 238, 'hour': 239, 'miss': 240, 'classic': 241, 'talk': 242, 'wife': 243, 'understand': 244, 'left': 245, 'care': 246, 'black': 247, 'death': 248, 'open': 249, 'murder': 250, 'write': 251, 'half': 252, 'head': 253, 'rememb': 254, 'chang': 255, 'viewer': 256, 'fight': 257, 'gener': 258, 'surpris': 259, 'short': 260, 'includ': 261, 'die': 262, 'fall': 263, 'less': 264, 'els': 265, 'entir': 266, 'piec': 267, 'involv': 268, 'pictur': 269, 'simpli': 270, 'power': 271, 'top': 272, 'home': 273, 'total': 274, 'usual': 275, 'budget': 276, 'attempt': 277, 'suppos': 278, 'releas': 279, 'hollywood': 280, 'terribl': 281, 'song': 282, 'men': 283, 'possibl': 284, 'featur': 285, 'portray': 286, 'disappoint': 287, 'poor': 288, '3': 289, 'coupl': 290, 'stupid': 291, 'camera': 292, 'dead': 293, 'wrong': 294, 'low': 295, 'produc': 296, 'video': 297, 'either': 298, 'aw': 299, 'definit': 300, 'except': 301, 'rest': 302, 'given': 303, 'absolut': 304, 'women': 305, 'lack': 306, 'word': 307, 'writer': 308, 'titl': 309, 'talent': 310, 'decid': 311, 'full': 312, 'perfect': 313, 'along': 314, 'style': 315, 'close': 316, 'truli': 317, 'school': 318, 'save': 319, 'emot': 320, 'sex': 321, 'age': 322, 'next': 323, 'bring': 324, 'mr': 325, 'case': 326, 'killer': 327, 'heart': 328, 'comment': 329, 'sort': 330, 'creat': 331, 'perhap': 332, 'came': 333, 'brother': 334, 'sever': 335, 'joke': 336, 'art': 337, 'dialogu': 338, 'game': 339, 'small': 340, 'base': 341, 'flick': 342, 'written': 343, 'sequenc': 344, 'meet': 345, 'earli': 346, 'often': 347, 'other': 348, 'mother': 349, 'develop': 350, 'humor': 351, 'actress': 352, 'consid': 353, 'dark': 354, 'guess': 355, 'amaz': 356, 'unfortun': 357, 'light': 358, 'lost': 359, 'exampl': 360, 'cinema': 361, 'drama': 362, 'ye': 363, 'white': 364, 'experi': 365, 'imagin': 366, 'mention': 367, 'stop': 368, 'natur': 369, 'forc': 370, 'manag': 371, 'felt': 372, 'present': 373, 'cut': 374, 'children': 375, 'fail': 376, 'son': 377, 'qualiti': 378, 'support': 379, 'car': 380, 'ask': 381, 'hit': 382, 'side': 383, 'voic': 384, 'extrem': 385, 'impress': 386, 'wors': 387, 'evil': 388, 'stand': 389, 'went': 390, 'certainli': 391, 'basic': 392, 'oh': 393, 'overal': 394, 'favorit': 395, 'horribl': 396, 'mysteri': 397, 'number': 398, 'type': 399, 'danc': 400, 'wait': 401, 'hero': 402, 'alreadi': 403, '5': 404, 'learn': 405, 'matter': 406, '4': 407, 'michael': 408, 'genr': 409, 'fine': 410, 'despit': 411, 'throughout': 412, 'walk': 413, 'success': 414, 'histori': 415, 'question': 416, 'zombi': 417, 'town': 418, 'relationship': 419, 'realiz': 420, 'past': 421, 'child': 422, 'daughter': 423, 'late': 424, 'b': 425, 'wish': 426, 'hate': 427, 'credit': 428, 'event': 429, 'theme': 430, 'touch': 431, 'citi': 432, 'today': 433, 'sometim': 434, 'behind': 435, 'god': 436, 'twist': 437, 'sit': 438, 'stay': 439, 'deal': 440, 'annoy': 441, 'abl': 442, 'rent': 443, 'pleas': 444, 'edit': 445, 'blood': 446, 'deserv': 447, 'comic': 448, 'anyway': 449, 'appar': 450, 'soon': 451, 'gave': 452, 'etc': 453, 'level': 454, 'slow': 455, 'chanc': 456, 'score': 457, 'bodi': 458, 'brilliant': 459, 'incred': 460, 'figur': 461, 'situat': 462, 'major': 463, 'self': 464, 'stuff': 465, 'decent': 466, 'element': 467, 'dream': 468, 'return': 469, 'obvious': 470, 'continu': 471, 'order': 472, 'pace': 473, 'ridicul': 474, 'happi': 475, 'group': 476, 'highli': 477, 'add': 478, 'thank': 479, 'ladi': 480, 'novel': 481, 'pain': 482, 'speak': 483, 'career': 484, 'shoot': 485, 'strang': 486, 'heard': 487, 'sad': 488, 'husband': 489, 'polic': 490, 'import': 491, 'break': 492, 'took': 493, 'strong': 494, 'cannot': 495, 'robert': 496, 'predict': 497, 'violenc': 498, 'hilari': 499, 'recent': 500, 'countri': 501, 'known': 502, 'particularli': 503, 'pick': 504, 'documentari': 505, 'season': 506, 'critic': 507, 'jame': 508, 'compar': 509, 'obviou': 510, 'alon': 511, 'told': 512, 'state': 513, 'rock': 514, 'visual': 515, 'theater': 516, 'exist': 517, 'offer': 518, 'opinion': 519, 'gore': 520, 'crap': 521, 'hold': 522, 'result': 523, 'room': 524, 'hear': 525, 'realiti': 526, 'clich': 527, 'effort': 528, 'thriller': 529, 'caus': 530, 'sequel': 531, 'serious': 532, 'explain': 533, 'king': 534, 'local': 535, 'ago': 536, 'hell': 537, 'none': 538, 'note': 539, 'allow': 540, 'sister': 541, 'david': 542, 'simpl': 543, 'femal': 544, 'deliv': 545, 'ok': 546, 'class': 547, 'convinc': 548, 'check': 549, 'suspens': 550, 'win': 551, 'buy': 552, 'oscar': 553, 'huge': 554, 'valu': 555, 'sexual': 556, 'scari': 557, 'cool': 558, 'similar': 559, 'excit': 560, 'apart': 561, 'exactli': 562, 'provid': 563, 'shown': 564, 'avoid': 565, 'seriou': 566, 'english': 567, 'taken': 568, 'whose': 569, 'cinematographi': 570, 'shock': 571, 'polit': 572, 'spoiler': 573, 'offic': 574, 'across': 575, 'middl': 576, 'pass': 577, 'street': 578, 'messag': 579, 'silli': 580, 'charm': 581, 'somewhat': 582, 'modern': 583, 'confus': 584, 'filmmak': 585, 'form': 586, 'tale': 587, 'singl': 588, 'jack': 589, 'mostli': 590, 'william': 591, 'attent': 592, 'carri': 593, 'sing': 594, 'five': 595, 'subject': 596, 'prove': 597, 'richard': 598, 'team': 599, 'stage': 600, 'unlik': 601, 'cop': 602, 'georg': 603, 'monster': 604, 'televis': 605, 'earth': 606, 'cover': 607, 'villain': 608, 'pay': 609, 'marri': 610, 'toward': 611, 'build': 612, 'pull': 613, 'parent': 614, 'due': 615, 'respect': 616, 'fill': 617, 'four': 618, 'dialog': 619, 'remind': 620, 'futur': 621, 'typic': 622, 'weak': 623, '7': 624, 'cheap': 625, 'intellig': 626, 'atmospher': 627, 'british': 628, '80': 629, 'clearli': 630, 'non': 631, 'dog': 632, 'paul': 633, 'fast': 634, '8': 635, 'knew': 636, 'artist': 637, 'crime': 638, 'easili': 639, 'escap': 640, 'adult': 641, 'doubt': 642, 'detail': 643, 'date': 644, 'member': 645, 'romant': 646, 'fire': 647, 'gun': 648, 'drive': 649, 'straight': 650, 'beyond': 651, 'fit': 652, 'attack': 653, 'imag': 654, 'upon': 655, 'posit': 656, 'whether': 657, 'fantast': 658, 'peter': 659, 'aspect': 660, 'appreci': 661, 'captur': 662, 'ten': 663, 'plan': 664, 'discov': 665, 'remain': 666, 'period': 667, 'near': 668, 'realist': 669, 'air': 670, 'mark': 671, 'red': 672, 'dull': 673, 'adapt': 674, 'within': 675, 'lose': 676, 'spend': 677, 'materi': 678, 'color': 679, 'chase': 680, 'mari': 681, 'storylin': 682, 'forget': 683, 'bunch': 684, 'clear': 685, 'lee': 686, 'victim': 687, 'nearli': 688, 'box': 689, 'york': 690, 'inspir': 691, 'match': 692, 'finish': 693, 'mess': 694, 'standard': 695, 'easi': 696, 'truth': 697, 'suffer': 698, 'busi': 699, 'dramat': 700, 'space': 701, 'bill': 702, 'western': 703, 'e': 704, 'list': 705, 'battl': 706, 'notic': 707, 'de': 708, 'french': 709, 'ad': 710, '9': 711, 'tom': 712, 'larg': 713, 'among': 714, 'eventu': 715, 'train': 716, 'accept': 717, 'agre': 718, 'spirit': 719, 'soundtrack': 720, 'third': 721, 'teenag': 722, 'soldier': 723, 'adventur': 724, 'suggest': 725, 'famou': 726, 'sorri': 727, 'drug': 728, 'normal': 729, 'cri': 730, 'babi': 731, 'ultim': 732, 'troubl': 733, 'contain': 734, 'certain': 735, 'cultur': 736, 'romanc': 737, 'rare': 738, 'lame': 739, 'somehow': 740, 'mix': 741, 'disney': 742, 'gone': 743, 'cartoon': 744, 'student': 745, 'fear': 746, 'reveal': 747, 'suck': 748, 'kept': 749, 'attract': 750, 'appeal': 751, 'premis': 752, 'greatest': 753, 'design': 754, 'secret': 755, 'shame': 756, 'throw': 757, 'scare': 758, 'copi': 759, 'wit': 760, 'admit': 761, 'america': 762, 'brought': 763, 'relat': 764, 'particular': 765, 'screenplay': 766, 'whatev': 767, 'pure': 768, '70': 769, 'averag': 770, 'harri': 771, 'master': 772, 'describ': 773, 'male': 774, 'treat': 775, '20': 776, 'issu': 777, 'fantasi': 778, 'warn': 779, 'inde': 780, 'background': 781, 'forward': 782, 'free': 783, 'project': 784, 'memor': 785, 'japanes': 786, 'poorli': 787, 'award': 788, 'locat': 789, 'potenti': 790, 'amus': 791, 'struggl': 792, 'magic': 793, 'weird': 794, 'societi': 795, 'okay': 796, 'accent': 797, 'imdb': 798, 'doctor': 799, 'hot': 800, 'water': 801, 'express': 802, '30': 803, 'dr': 804, 'alien': 805, 'odd': 806, 'choic': 807, 'crazi': 808, 'studio': 809, 'fiction': 810, 'control': 811, 'becam': 812, 'masterpiec': 813, 'difficult': 814, 'fli': 815, 'joe': 816, 'scream': 817, 'costum': 818, 'lover': 819, 'refer': 820, 'uniqu': 821, 'remak': 822, 'vampir': 823, 'girlfriend': 824, 'prison': 825, 'execut': 826, 'wear': 827, 'jump': 828, 'wood': 829, 'unless': 830, 'creepi': 831, 'cheesi': 832, 'superb': 833, 'otherwis': 834, 'parti': 835, 'ghost': 836, 'roll': 837, 'mad': 838, 'public': 839, 'depict': 840, 'earlier': 841, 'badli': 842, 'week': 843, 'moral': 844, 'jane': 845, 'dumb': 846, 'fi': 847, 'grow': 848, 'flaw': 849, 'deep': 850, 'sci': 851, 'cat': 852, 'maker': 853, 'footag': 854, 'older': 855, 'connect': 856, 'plenti': 857, 'bother': 858, 'outsid': 859, 'stick': 860, 'gay': 861, 'catch': 862, 'plu': 863, 'co': 864, 'popular': 865, 'equal': 866, 'social': 867, 'disturb': 868, 'quickli': 869, 'perfectli': 870, 'dress': 871, 'era': 872, '90': 873, 'mistak': 874, 'lie': 875, 'previou': 876, 'ride': 877, 'combin': 878, 'band': 879, 'concept': 880, 'rich': 881, 'surviv': 882, 'answer': 883, 'front': 884, 'sweet': 885, 'christma': 886, 'insid': 887, 'bare': 888, 'concern': 889, 'eat': 890, 'beat': 891, 'listen': 892, 'ben': 893, 'c': 894, 'serv': 895, 'term': 896, 'german': 897, 'meant': 898, 'la': 899, 'stereotyp': 900, 'hardli': 901, 'law': 902, 'innoc': 903, 'desper': 904, 'promis': 905, 'memori': 906, 'cute': 907, 'intent': 908, 'inform': 909, 'variou': 910, 'steal': 911, 'brain': 912, 'post': 913, 'tone': 914, 'island': 915, 'amount': 916, 'track': 917, 'nuditi': 918, 'compani': 919, 'store': 920, 'claim': 921, '50': 922, 'hair': 923, 'flat': 924, 'univers': 925, 'land': 926, 'fairli': 927, 'scott': 928, 'kick': 929, 'danger': 930, 'player': 931, 'step': 932, 'plain': 933, 'crew': 934, 'toni': 935, 'share': 936, 'tast': 937, 'centuri': 938, 'engag': 939, 'achiev': 940, 'cold': 941, 'travel': 942, 'record': 943, 'rip': 944, 'suit': 945, 'sadli': 946, 'manner': 947, 'tension': 948, 'spot': 949, 'wrote': 950, 'intens': 951, 'fascin': 952, 'familiar': 953, 'depth': 954, 'burn': 955, 'remark': 956, 'histor': 957, 'destroy': 958, 'sleep': 959, 'purpos': 960, 'languag': 961, 'ignor': 962, 'ruin': 963, 'delight': 964, 'unbeliev': 965, 'italian': 966, 'abil': 967, 'collect': 968, 'soul': 969, 'detect': 970, 'clever': 971, 'violent': 972, 'rape': 973, 'reach': 974, 'door': 975, 'scienc': 976, 'liter': 977, 'trash': 978, 'commun': 979, 'reveng': 980, 'caught': 981, 'creatur': 982, 'trip': 983, 'approach': 984, 'intrigu': 985, 'fashion': 986, 'skill': 987, 'introduc': 988, 'paint': 989, 'channel': 990, 'complex': 991, 'camp': 992, 'christian': 993, 'extra': 994, 'hole': 995, 'mental': 996, 'ann': 997, 'limit': 998, 'immedi': 999, 'mere': 1000, 'slightli': 1001, '6': 1002, 'million': 1003, 'comput': 1004, 'slasher': 1005, 'conclus': 1006, 'imposs': 1007, 'suddenli': 1008, 'crimin': 1009, 'teen': 1010, 'neither': 1011, 'nation': 1012, 'spent': 1013, 'physic': 1014, 'respons': 1015, 'planet': 1016, 'receiv': 1017, 'fake': 1018, 'sick': 1019, 'blue': 1020, 'bizarr': 1021, 'embarrass': 1022, 'indian': 1023, '15': 1024, 'ring': 1025, 'drop': 1026, 'pop': 1027, 'drag': 1028, 'haunt': 1029, 'pointless': 1030, 'suspect': 1031, 'edg': 1032, 'search': 1033, 'handl': 1034, 'biggest': 1035, 'common': 1036, 'arriv': 1037, 'faith': 1038, 'hurt': 1039, 'technic': 1040, 'angel': 1041, 'genuin': 1042, 'dad': 1043, 'solid': 1044, 'f': 1045, 'awesom': 1046, 'van': 1047, 'colleg': 1048, 'former': 1049, 'focu': 1050, 'count': 1051, 'tear': 1052, 'heavi': 1053, 'rais': 1054, 'wall': 1055, 'younger': 1056, 'visit': 1057, 'laughabl': 1058, 'excus': 1059, 'sign': 1060, 'fair': 1061, 'cult': 1062, 'motion': 1063, 'tough': 1064, 'key': 1065, 'super': 1066, 'desir': 1067, 'addit': 1068, 'stun': 1069, 'exploit': 1070, 'cloth': 1071, 'smith': 1072, 'tortur': 1073, 'race': 1074, 'davi': 1075, 'cross': 1076, 'author': 1077, 'jim': 1078, 'compel': 1079, 'minor': 1080, 'focus': 1081, 'consist': 1082, 'commit': 1083, 'pathet': 1084, 'chemistri': 1085, 'park': 1086, 'tradit': 1087, 'frank': 1088, 'obsess': 1089, 'grade': 1090, '60': 1091, 'asid': 1092, 'brutal': 1093, 'somewher': 1094, 'steve': 1095, 'rule': 1096, 'depress': 1097, 'opportun': 1098, 'explor': 1099, 'grant': 1100, 'u': 1101, 'honest': 1102, 'besid': 1103, 'dub': 1104, 'anti': 1105, 'intend': 1106, 'trailer': 1107, 'bar': 1108, 'longer': 1109, 'scientist': 1110, 'regard': 1111, 'west': 1112, 'decad': 1113, 'judg': 1114, 'silent': 1115, 'armi': 1116, 'creativ': 1117, 'wild': 1118, 'g': 1119, 'stewart': 1120, 'south': 1121, 'draw': 1122, 'road': 1123, 'govern': 1124, 'ex': 1125, 'boss': 1126, 'practic': 1127, 'surprisingli': 1128, 'gang': 1129, 'motiv': 1130, 'club': 1131, 'festiv': 1132, 'redeem': 1133, 'page': 1134, 'london': 1135, 'green': 1136, 'militari': 1137, 'aliv': 1138, 'display': 1139, 'idiot': 1140, 'machin': 1141, 'thrill': 1142, 'repeat': 1143, 'yeah': 1144, 'nobodi': 1145, 'folk': 1146, '100': 1147, '40': 1148, 'journey': 1149, 'garbag': 1150, 'ground': 1151, 'smile': 1152, 'tire': 1153, 'bought': 1154, 'mood': 1155, 'sam': 1156, 'cost': 1157, 'stone': 1158, 'mouth': 1159, 'noir': 1160, 'agent': 1161, 'terrif': 1162, 'utterli': 1163, 'requir': 1164, 'area': 1165, 'sexi': 1166, 'honestli': 1167, 'geniu': 1168, 'report': 1169, 'investig': 1170, 'enter': 1171, 'humour': 1172, 'glad': 1173, 'serial': 1174, 'passion': 1175, 'occasion': 1176, 'narr': 1177, 'marriag': 1178, 'climax': 1179, 'industri': 1180, 'studi': 1181, 'ship': 1182, 'center': 1183, 'demon': 1184, 'charli': 1185, 'nowher': 1186, 'hors': 1187, 'bear': 1188, 'loos': 1189, 'wow': 1190, 'hang': 1191, 'graphic': 1192, 'admir': 1193, 'giant': 1194, 'send': 1195, 'loud': 1196, 'damn': 1197, 'profession': 1198, 'nake': 1199, 'subtl': 1200, 'rel': 1201, 'blow': 1202, 'bottom': 1203, 'batman': 1204, 'insult': 1205, 'boyfriend': 1206, 'r': 1207, 'doubl': 1208, 'kelli': 1209, 'initi': 1210, 'frame': 1211, 'gem': 1212, 'opera': 1213, 'drawn': 1214, 'church': 1215, 'affect': 1216, 'cinemat': 1217, 'challeng': 1218, 'nightmar': 1219, 'seek': 1220, 'evid': 1221, 'l': 1222, 'fulli': 1223, 'j': 1224, 'essenti': 1225, 'arm': 1226, 'conflict': 1227, 'grace': 1228, 'wind': 1229, 'christoph': 1230, 'henri': 1231, 'narrat': 1232, 'assum': 1233, 'witch': 1234, 'hunt': 1235, 'push': 1236, 'wise': 1237, 'chri': 1238, 'nomin': 1239, 'month': 1240, 'repres': 1241, 'sceneri': 1242, 'affair': 1243, 'avail': 1244, 'hide': 1245, 'justic': 1246, 'thu': 1247, 'bond': 1248, 'smart': 1249, 'flashback': 1250, 'outstand': 1251, 'interview': 1252, 'constantli': 1253, 'satisfi': 1254, 'presenc': 1255, 'central': 1256, 'bed': 1257, 'sell': 1258, 'iron': 1259, 'content': 1260, 'gag': 1261, 'everybodi': 1262, 'slowli': 1263, 'hotel': 1264, 'hire': 1265, 'system': 1266, 'individu': 1267, 'thrown': 1268, 'adam': 1269, 'charl': 1270, 'hey': 1271, 'jone': 1272, 'allen': 1273, 'mediocr': 1274, 'ray': 1275, 'billi': 1276, 'lesson': 1277, 'cameo': 1278, 'photographi': 1279, 'fellow': 1280, 'pari': 1281, 'strike': 1282, 'absurd': 1283, 'brief': 1284, 'independ': 1285, 'rise': 1286, 'neg': 1287, 'phone': 1288, 'impact': 1289, 'ill': 1290, 'born': 1291, 'model': 1292, 'spoil': 1293, 'fresh': 1294, 'angl': 1295, 'abus': 1296, 'likabl': 1297, 'hill': 1298, 'discuss': 1299, 'ahead': 1300, 'sight': 1301, 'sent': 1302, 'photograph': 1303, 'blame': 1304, 'logic': 1305, 'shine': 1306, 'occur': 1307, 'mainli': 1308, 'bruce': 1309, 'commerci': 1310, 'forev': 1311, 'skip': 1312, 'teacher': 1313, 'surround': 1314, 'segment': 1315, 'held': 1316, 'zero': 1317, 'blond': 1318, 'trap': 1319, 'summer': 1320, 'resembl': 1321, 'satir': 1322, 'ball': 1323, 'six': 1324, 'fool': 1325, 'queen': 1326, 'tragedi': 1327, 'sub': 1328, 'twice': 1329, 'reaction': 1330, 'pack': 1331, 'bomb': 1332, 'hospit': 1333, 'protagonist': 1334, 'will': 1335, 'sport': 1336, 'mile': 1337, 'drink': 1338, 'vote': 1339, 'mom': 1340, 'trust': 1341, 'jerri': 1342, 'encount': 1343, 'plane': 1344, 'station': 1345, 'al': 1346, 'program': 1347, 'current': 1348, 'celebr': 1349, 'martin': 1350, 'choos': 1351, 'join': 1352, 'tragic': 1353, 'field': 1354, 'round': 1355, 'lord': 1356, 'favourit': 1357, 'vision': 1358, 'jean': 1359, 'robot': 1360, 'arthur': 1361, 'tie': 1362, 'random': 1363, 'fortun': 1364, 'roger': 1365, 'dread': 1366, 'intern': 1367, 'psycholog': 1368, 'improv': 1369, 'nonsens': 1370, 'epic': 1371, 'prefer': 1372, 'formula': 1373, 'highlight': 1374, 'legend': 1375, 'pleasur': 1376, '11': 1377, 'dollar': 1378, 'tape': 1379, 'fox': 1380, 'gorgeou': 1381, 'object': 1382, 'porn': 1383, 'wide': 1384, 'thin': 1385, 'buddi': 1386, 'ugli': 1387, 'influenc': 1388, 'ii': 1389, 'nasti': 1390, 'prepar': 1391, 'reflect': 1392, 'supposedli': 1393, 'progress': 1394, 'warm': 1395, 'youth': 1396, 'worthi': 1397, 'latter': 1398, 'length': 1399, 'unusu': 1400, 'crash': 1401, 'seven': 1402, 'childhood': 1403, 'superior': 1404, 'shop': 1405, 'theatr': 1406, 'remot': 1407, 'funniest': 1408, 'paid': 1409, 'disgust': 1410, 'pilot': 1411, 'trick': 1412, 'convers': 1413, 'castl': 1414, 'fell': 1415, 'rob': 1416, 'disast': 1417, 'establish': 1418, 'gangster': 1419, 'mine': 1420, 'disappear': 1421, 'ident': 1422, 'suicid': 1423, 'heaven': 1424, 'tend': 1425, 'singer': 1426, 'heroin': 1427, 'mask': 1428, 'forgotten': 1429, 'decis': 1430, 'partner': 1431, 'brian': 1432, 'desert': 1433, 'recogn': 1434, 'alan': 1435, 'stuck': 1436, 'p': 1437, 'sky': 1438, 'thoroughli': 1439, 'ms': 1440, 'replac': 1441, 'accur': 1442, 'market': 1443, 'uncl': 1444, 'eddi': 1445, 'clue': 1446, 'seemingli': 1447, 'commentari': 1448, 'danni': 1449, 'andi': 1450, 'jackson': 1451, 'devil': 1452, 'therefor': 1453, 'refus': 1454, 'pair': 1455, 'that': 1456, 'accid': 1457, 'ed': 1458, 'fault': 1459, 'fate': 1460, 'river': 1461, 'unit': 1462, 'afraid': 1463, 'tune': 1464, 'stephen': 1465, 'clean': 1466, 'hidden': 1467, 'russian': 1468, 'test': 1469, 'instanc': 1470, 'captain': 1471, 'irrit': 1472, 'convey': 1473, 'readi': 1474, 'quick': 1475, 'european': 1476, 'insan': 1477, 'frustrat': 1478, 'daniel': 1479, 'food': 1480, 'chines': 1481, 'rescu': 1482, '1950': 1483, 'wed': 1484, 'angri': 1485, 'dirti': 1486, 'lock': 1487, 'joy': 1488, 'price': 1489, 'steven': 1490, 'bland': 1491, 'cage': 1492, 'rang': 1493, 'anymor': 1494, 'wooden': 1495, 'rush': 1496, 'news': 1497, 'jason': 1498, 'n': 1499, 'martial': 1500, 'worri': 1501, 'led': 1502, 'twenti': 1503, '12': 1504, 'board': 1505, 'cgi': 1506, 'symbol': 1507, 'transform': 1508, 'hunter': 1509, 'johnni': 1510, 'sentiment': 1511, 'onto': 1512, 'x': 1513, 'piti': 1514, 'invent': 1515, 'explan': 1516, 'process': 1517, 'attitud': 1518, 'awar': 1519, 'owner': 1520, 'aim': 1521, 'target': 1522, 'favor': 1523, 'floor': 1524, 'energi': 1525, 'necessari': 1526, 'religi': 1527, 'opposit': 1528, 'window': 1529, 'insight': 1530, 'blind': 1531, 'chick': 1532, 'movement': 1533, 'mountain': 1534, 'research': 1535, 'deepli': 1536, 'comparison': 1537, 'possess': 1538, 'whatsoev': 1539, 'comed': 1540, 'grand': 1541, 'rain': 1542, 'shadow': 1543, 'mid': 1544, 'bank': 1545, 'began': 1546, 'parodi': 1547, 'princ': 1548, 'credibl': 1549, 'pre': 1550, 'friendship': 1551, 'weapon': 1552, 'taylor': 1553, 'flesh': 1554, 'teach': 1555, 'dougla': 1556, 'bloodi': 1557, 'protect': 1558, 'terror': 1559, 'hint': 1560, 'marvel': 1561, 'watchabl': 1562, 'anybodi': 1563, 'load': 1564, 'superman': 1565, 'accord': 1566, 'leader': 1567, 'drunk': 1568, 'freddi': 1569, 'brown': 1570, 'seat': 1571, 'jeff': 1572, 'tim': 1573, 'appropri': 1574, 'hitler': 1575, 'unknown': 1576, 'charg': 1577, 'keaton': 1578, 'villag': 1579, 'knock': 1580, 'england': 1581, 'unnecessari': 1582, 'enemi': 1583, 'empti': 1584, 'media': 1585, 'utter': 1586, 'perspect': 1587, 'dare': 1588, 'strength': 1589, 'craft': 1590, 'wave': 1591, 'buck': 1592, 'correct': 1593, 'contrast': 1594, 'kiss': 1595, 'nativ': 1596, 'ford': 1597, 'speed': 1598, 'anywher': 1599, 'knowledg': 1600, 'distract': 1601, 'soap': 1602, 'magnific': 1603, 'nazi': 1604, 'chill': 1605, '1980': 1606, 'breath': 1607, 'ice': 1608, 'fred': 1609, 'mission': 1610, 'joan': 1611, 'moon': 1612, 'crowd': 1613, 'jr': 1614, 'frighten': 1615, '000': 1616, 'soft': 1617, 'kate': 1618, 'dick': 1619, 'hundr': 1620, 'nick': 1621, 'dan': 1622, 'somebodi': 1623, 'radio': 1624, 'simon': 1625, 'dozen': 1626, 'academi': 1627, 'thousand': 1628, 'loss': 1629, 'shakespear': 1630, 'andrew': 1631, 'vehicl': 1632, 'root': 1633, 'account': 1634, 'sum': 1635, 'quot': 1636, 'leg': 1637, 'behavior': 1638, 'convent': 1639, '1970': 1640, 'regular': 1641, 'gold': 1642, 'pretenti': 1643, 'compet': 1644, 'worker': 1645, 'demand': 1646, 'candi': 1647, 'notabl': 1648, 'privat': 1649, 'explos': 1650, 'lynch': 1651, 'interpret': 1652, 'stretch': 1653, 'japan': 1654, 'constant': 1655, 'debut': 1656, 'tarzan': 1657, 'translat': 1658, 'prais': 1659, 'spi': 1660, 'revolv': 1661, 'sea': 1662, 'failur': 1663, 'ass': 1664, 'sat': 1665, 'technolog': 1666, 'threaten': 1667, 'quiet': 1668, 'franc': 1669, 'jesu': 1670, 'met': 1671, 'higher': 1672, 'kevin': 1673, 'punch': 1674, 'toy': 1675, 'aid': 1676, 'interact': 1677, 'mike': 1678, 'vh': 1679, 'abandon': 1680, 'separ': 1681, 'bet': 1682, 'confront': 1683, 'command': 1684, 'servic': 1685, 'stunt': 1686, 'techniqu': 1687, 'belong': 1688, 'site': 1689, 'gotten': 1690, 'recal': 1691, 'freak': 1692, 'foot': 1693, 'cabl': 1694, 'bug': 1695, 'capabl': 1696, 'fu': 1697, 'bright': 1698, 'jimmi': 1699, 'african': 1700, 'stock': 1701, 'succeed': 1702, 'presid': 1703, 'fat': 1704, 'clark': 1705, 'boat': 1706, 'structur': 1707, 'spanish': 1708, 'gene': 1709, 'kidnap': 1710, 'paper': 1711, 'belief': 1712, 'factor': 1713, 'whilst': 1714, 'realis': 1715, 'tree': 1716, 'witti': 1717, 'realism': 1718, 'complic': 1719, 'bob': 1720, 'attend': 1721, 'educ': 1722, 'finest': 1723, 'assist': 1724, 'broken': 1725, 'santa': 1726, 'smoke': 1727, 'observ': 1728, 'determin': 1729, 'v': 1730, 'up': 1731, 'depart': 1732, 'domin': 1733, 'routin': 1734, 'oper': 1735, 'lewi': 1736, 'rubbish': 1737, 'hat': 1738, 'fame': 1739, 'lone': 1740, 'advanc': 1741, 'foreign': 1742, 'hook': 1743, 'morgan': 1744, 'safe': 1745, 'kinda': 1746, 'numer': 1747, 'rank': 1748, 'civil': 1749, 'vs': 1750, 'werewolf': 1751, 'shape': 1752, 'shallow': 1753, 'washington': 1754, 'rose': 1755, 'gari': 1756, 'morn': 1757, 'accomplish': 1758, 'kong': 1759, 'ordinari': 1760, 'winner': 1761, 'grab': 1762, 'peac': 1763, 'virtual': 1764, 'whenev': 1765, 'luck': 1766, 'h': 1767, 'offens': 1768, 'unfunni': 1769, 'activ': 1770, 'patient': 1771, 'contriv': 1772, 'complain': 1773, 'bigger': 1774, 'welcom': 1775, 'trek': 1776, 'pretend': 1777, 'dimension': 1778, 'con': 1779, 'lesbian': 1780, 'wake': 1781, 'dri': 1782, 'code': 1783, 'flash': 1784, 'eric': 1785, 'cain': 1786, 'guard': 1787, 'dancer': 1788, 'statu': 1789, 'manipul': 1790, 'albert': 1791, 'corrupt': 1792, 'sourc': 1793, 'awkward': 1794, 'speech': 1795, 'context': 1796, 'signific': 1797, 'gain': 1798, 'corni': 1799, 'clip': 1800, 'anthoni': 1801, 'psycho': 1802, 'sean': 1803, '13': 1804, 'theatric': 1805, 'priest': 1806, 'religion': 1807, 'curiou': 1808, 'advic': 1809, 'reli': 1810, 'w': 1811, 'addict': 1812, 'flow': 1813, 'specif': 1814, 'secur': 1815, 'skin': 1816, 'asian': 1817, 'howard': 1818, 'jennif': 1819, 'organ': 1820, 'comfort': 1821, 'golden': 1822, 'core': 1823, 'luke': 1824, 'promot': 1825, 'cheat': 1826, 'lucki': 1827, 'cash': 1828, 'associ': 1829, 'lower': 1830, 'dislik': 1831, 'spell': 1832, 'balanc': 1833, 'wing': 1834, 'degre': 1835, 'devic': 1836, 'frankli': 1837, 'regret': 1838, 'frequent': 1839, 'contribut': 1840, 'lake': 1841, 'forgiv': 1842, 'sake': 1843, 'print': 1844, 'mass': 1845, 'thoma': 1846, 'betti': 1847, 'unexpect': 1848, 'crack': 1849, 'gordon': 1850, 'amateur': 1851, 'invit': 1852, 'depend': 1853, 'construct': 1854, 'categori': 1855, 'unfold': 1856, 'grown': 1857, 'anna': 1858, 'matur': 1859, 'grew': 1860, 'intellectu': 1861, 'honor': 1862, 'condit': 1863, 'walter': 1864, 'veteran': 1865, 'sudden': 1866, 'sole': 1867, 'spectacular': 1868, 'mirror': 1869, 'experienc': 1870, 'robin': 1871, 'liner': 1872, 'overli': 1873, 'gift': 1874, 'grip': 1875, 'demonstr': 1876, 'freedom': 1877, 'card': 1878, 'meanwhil': 1879, 'colour': 1880, 'theori': 1881, 'crappi': 1882, 'subtitl': 1883, 'sheriff': 1884, 'circumst': 1885, 'section': 1886, 'brilliantli': 1887, 'unabl': 1888, 'oliv': 1889, 'drew': 1890, 'pile': 1891, 'sheer': 1892, 'cook': 1893, 'laughter': 1894, 'parker': 1895, 'altern': 1896, 'matt': 1897, 'path': 1898, 'accident': 1899, 'hall': 1900, 'sinatra': 1901, 'wander': 1902, 'treatment': 1903, 'defin': 1904, 'relief': 1905, 'lawyer': 1906, 'captiv': 1907, 'dragon': 1908, 'hank': 1909, 'gratuit': 1910, 'halloween': 1911, 'moor': 1912, 'cowboy': 1913, 'kung': 1914, 'jacki': 1915, 'barbara': 1916, 'wayn': 1917, 'k': 1918, 'unintent': 1919, 'broadway': 1920, 'wound': 1921, 'statement': 1922, 'canadian': 1923, 'surreal': 1924, 'winter': 1925, 'spoof': 1926, 'gonna': 1927, 'fare': 1928, 'compos': 1929, 'treasur': 1930, 'cheer': 1931, 'fish': 1932, 'victor': 1933, 'unrealist': 1934, 'emerg': 1935, 'woodi': 1936, 'sensit': 1937, 'ran': 1938, 'sympathet': 1939, 'neighbor': 1940, 'driven': 1941, 'menac': 1942, 'overlook': 1943, 'glass': 1944, 'authent': 1945, 'expos': 1946, 'topic': 1947, 'gross': 1948, 'ancient': 1949, 'handsom': 1950, 'chief': 1951, 'michel': 1952, 'russel': 1953, 'nevertheless': 1954, 'comedian': 1955, 'pleasant': 1956, 'feet': 1957, 'contemporari': 1958, 'stranger': 1959, 'built': 1960, 'network': 1961, 'cinderella': 1962, 'gori': 1963, 'blockbust': 1964, 'consider': 1965, 'miser': 1966, 'earn': 1967, 'endless': 1968, 'underr': 1969, 'letter': 1970, 'brook': 1971, 'switch': 1972, 'solv': 1973, 'convict': 1974, 'bullet': 1975, 'victoria': 1976, 'edward': 1977, 'joseph': 1978, 'virgin': 1979, 'scale': 1980, 'chosen': 1981, 'cynic': 1982, 'scenario': 1983, 'alex': 1984, '0': 1985, 'outrag': 1986, 'gut': 1987, 'curs': 1988, 'com': 1989, 'sword': 1990, 'uk': 1991, 'driver': 1992, 'wrap': 1993, 'screenwrit': 1994, 'proper': 1995, 'monkey': 1996, 'juli': 1997, 'substanc': 1998, 'indic': 1999, 'par': 2000, 'court': 2001, 'remov': 2002, 'bird': 2003, 'inevit': 2004, 'grave': 2005, 'naiv': 2006, 'advertis': 2007, 'loser': 2008, 'roy': 2009, 'nanci': 2010, 'consequ': 2011, 'rental': 2012, 'brave': 2013, 'invis': 2014, 'germani': 2015, 'slap': 2016, 'bridg': 2017, 'fatal': 2018, 'le': 2019, 'footbal': 2020, 'loui': 2021, 'ador': 2022, 'anger': 2023, 'provok': 2024, 'chan': 2025, 'anderson': 2026, 'alcohol': 2027, 'stumbl': 2028, 'professor': 2029, 'willi': 2030, 'ryan': 2031, 'australian': 2032, 'sharp': 2033, 'bat': 2034, '1930': 2035, 'assassin': 2036, 'patrick': 2037, 'cell': 2038, 'refresh': 2039, 'strongli': 2040, 'trilog': 2041, 'liber': 2042, 'saturday': 2043, 'deni': 2044, 'eight': 2045, 'lousi': 2046, 'ape': 2047, 'heck': 2048, 'amateurish': 2049, 'sin': 2050, 'san': 2051, 'vagu': 2052, 'resid': 2053, 'justifi': 2054, 'sympathi': 2055, 'indi': 2056, 'reput': 2057, 'defeat': 2058, 'terrifi': 2059, 'creator': 2060, 'mini': 2061, 'task': 2062, 'tabl': 2063, 'endur': 2064, 'tediou': 2065, 'prevent': 2066, 'expert': 2067, 'imit': 2068, 'employ': 2069, 'basebal': 2070, 'trial': 2071, 'rival': 2072, 'che': 2073, 'offend': 2074, 'europ': 2075, 'beach': 2076, 'complaint': 2077, 'weekend': 2078, 'fairi': 2079, 'dig': 2080, 'pitch': 2081, 'max': 2082, 'purchas': 2083, 'murphi': 2084, 'format': 2085, 'risk': 2086, 'glimps': 2087, 'bite': 2088, 'hype': 2089, 'nois': 2090, 'reminisc': 2091, 'harsh': 2092, 'titan': 2093, 'tini': 2094, 'powel': 2095, 'prime': 2096, 'till': 2097, 'fals': 2098, 'asleep': 2099, '14': 2100, 'north': 2101, 'strip': 2102, 'texa': 2103, 'africa': 2104, 'destruct': 2105, 'revel': 2106, 'descript': 2107, 'uninterest': 2108, 'surfac': 2109, 'spin': 2110, 'semi': 2111, 'excess': 2112, 'arrest': 2113, 'sitcom': 2114, 'inner': 2115, 'hitchcock': 2116, 'makeup': 2117, 'twin': 2118, 'controversi': 2119, 'argu': 2120, 'massiv': 2121, 'maintain': 2122, 'dinosaur': 2123, 'stare': 2124, 'melodrama': 2125, 'ideal': 2126, 'kim': 2127, 'insist': 2128, 'expens': 2129, 'ludicr': 2130, 'reject': 2131, 'nail': 2132, 'forest': 2133, 'press': 2134, 'supernatur': 2135, 'host': 2136, 'columbo': 2137, 'atroci': 2138, 'subplot': 2139, 'erot': 2140, 'ga': 2141, 'ala': 2142, 'identifi': 2143, 'presum': 2144, 'dude': 2145, 'cant': 2146, 'notch': 2147, 'method': 2148, 'character': 2149, 'forgett': 2150, 'crude': 2151, 'closer': 2152, 'plagu': 2153, 'guest': 2154, 'foster': 2155, 'lion': 2156, 'landscap': 2157, 'border': 2158, 'ear': 2159, 'beast': 2160, 'princess': 2161, 'urban': 2162, 'pacino': 2163, 'aunt': 2164, 'accus': 2165, 'previous': 2166, 'birth': 2167, 'storytel': 2168, 'damag': 2169, 'bound': 2170, 'jungl': 2171, 'jess': 2172, 'doll': 2173, 'thirti': 2174, 'emma': 2175, 'guid': 2176, 'nude': 2177, 'chose': 2178, 'propaganda': 2179, 'mainstream': 2180, 'mate': 2181, 'whoever': 2182, 'pet': 2183, 'warrior': 2184, '25': 2185, 'exact': 2186, 'gritti': 2187, 'upset': 2188, 'latest': 2189, 'friday': 2190, 'merit': 2191, 'cooper': 2192, 'poster': 2193, 'deadli': 2194, 'size': 2195, 'blend': 2196, 'sun': 2197, 'settl': 2198, 'corps': 2199, '1990': 2200, 'warner': 2201, 'contact': 2202, 'buff': 2203, 'ton': 2204, 'popul': 2205, 'contest': 2206, 'citizen': 2207, 'rough': 2208, 'wilson': 2209, 'widow': 2210, 'bu': 2211, 'overcom': 2212, 'select': 2213, 'rat': 2214, 'environ': 2215, 'pitt': 2216, 'mgm': 2217, 'alic': 2218, 'metal': 2219, 'particip': 2220, 'link': 2221, 'revolut': 2222, 'guilti': 2223, 'ted': 2224, 'lift': 2225, 'corner': 2226, '1960': 2227, 'exagger': 2228, 'corpor': 2229, 'matrix': 2230, 'accompani': 2231, 'johnson': 2232, 'afternoon': 2233, 'moron': 2234, 'prostitut': 2235, 'friendli': 2236, 'holm': 2237, 'multipl': 2238, 'instal': 2239, 'doom': 2240, 'sincer': 2241, 'clair': 2242, 'leagu': 2243, 'hood': 2244, 'sunday': 2245, 'examin': 2246, 'aka': 2247, 'junk': 2248, 'hip': 2249, 'string': 2250, 'grim': 2251, 'irish': 2252, 'advis': 2253, 'lugosi': 2254, 'defend': 2255, 'campi': 2256, 'blah': 2257, 'tight': 2258, 'confid': 2259, 'rachel': 2260, 'icon': 2261, 'shut': 2262, 'varieti': 2263, 'pro': 2264, 'shake': 2265, 'mexican': 2266, 'directli': 2267, 'jaw': 2268, 'attach': 2269, 'medic': 2270, 'denni': 2271, 'sullivan': 2272, 'goal': 2273, 'sentenc': 2274, 'courag': 2275, 'truck': 2276, 'dean': 2277, 'prior': 2278, 'bourn': 2279, 'duke': 2280, 'terrorist': 2281, 'breast': 2282, 'legendari': 2283, 'vietnam': 2284, 'sarah': 2285, 'behav': 2286, 'donald': 2287, 'entri': 2288, 'nose': 2289, 'proceed': 2290, 'yell': 2291, 'hong': 2292, 'split': 2293, 'un': 2294, 'forth': 2295, 'lifetim': 2296, 'concentr': 2297, 'swim': 2298, 'everywher': 2299, 'unconvinc': 2300, 'stolen': 2301, 'buri': 2302, 'borrow': 2303, 'crush': 2304, 'gather': 2305, 'confess': 2306, 'jerk': 2307, 'turkey': 2308, 'pan': 2309, 'deliveri': 2310, 'lip': 2311, 'spite': 2312, 'california': 2313, 'julia': 2314, 'reward': 2315, 'offici': 2316, 'china': 2317, 'quest': 2318, 'freeman': 2319, 'downright': 2320, 'proud': 2321, 'hoffman': 2322, 'flight': 2323, 'encourag': 2324, 'jail': 2325, 'worthwhil': 2326, 'notori': 2327, 'betray': 2328, 'fade': 2329, 'lazi': 2330, 'inept': 2331, 'jon': 2332, 'sink': 2333, 'fabul': 2334, 'sir': 2335, 'survivor': 2336, 'bell': 2337, 'bag': 2338, 'shower': 2339, 'teeth': 2340, 'imageri': 2341, 'susan': 2342, 'branagh': 2343, 'storm': 2344, 'relev': 2345, 'lisa': 2346, 'retard': 2347, 'cousin': 2348, 'toler': 2349, 'summari': 2350, 'tremend': 2351, 'finger': 2352, 'alright': 2353, 'mexico': 2354, 'facial': 2355, 'hugh': 2356, 'quirki': 2357, 'stab': 2358, 'trade': 2359, 'bride': 2360, 'shark': 2361, 'blown': 2362, 'ha': 2363, 'hyster': 2364, 'bitter': 2365, 'pose': 2366, 'von': 2367, 'christ': 2368, 'cruel': 2369, 'address': 2370, 'afterward': 2371, 'larri': 2372, 'scheme': 2373, 'ned': 2374, 'bone': 2375, 'ron': 2376, 'snake': 2377, 'traci': 2378, 'distinct': 2379, 'tour': 2380, 'swear': 2381, 'beg': 2382, 'thumb': 2383, 'feed': 2384, 'pursu': 2385, 'screw': 2386, 'mechan': 2387, 'stomach': 2388, 'raw': 2389, 'obscur': 2390, 'occas': 2391, 'chair': 2392, 'photo': 2393, 'cabin': 2394, 'necessarili': 2395, 'chain': 2396, 'render': 2397, 'resist': 2398, 'holiday': 2399, 'gruesom': 2400, 'southern': 2401, 'argument': 2402, 'heavili': 2403, 'sidney': 2404, 'hardi': 2405, 'understood': 2406, 'indulg': 2407, 'satan': 2408, 'india': 2409, 'philip': 2410, 'racist': 2411, 'lay': 2412, 'tongu': 2413, 'obnoxi': 2414, 'midnight': 2415, 'forgot': 2416, 'integr': 2417, 'belov': 2418, 'outfit': 2419, 'stalk': 2420, 'pregnant': 2421, 'fourth': 2422, 'magazin': 2423, 'slapstick': 2424, 'restor': 2425, 'inhabit': 2426, 'garden': 2427, '17': 2428, 'carol': 2429, 'deeper': 2430, 'ticket': 2431, 'devot': 2432, 'shoe': 2433, 'lincoln': 2434, 'brad': 2435, 'incid': 2436, 'anticip': 2437, 'lili': 2438, 'benefit': 2439, 'divorc': 2440, 'maria': 2441, 'disbelief': 2442, 'guarante': 2443, 'elizabeth': 2444, 'underground': 2445, 'sandler': 2446, 'princip': 2447, 'bbc': 2448, 'capit': 2449, 'explod': 2450, 'slave': 2451, 'amazingli': 2452, 'cring': 2453, 'mildli': 2454, 'greater': 2455, 'creation': 2456, 'lesli': 2457, 'extraordinari': 2458, 'halfway': 2459, 'funnier': 2460, 'introduct': 2461, 'extent': 2462, 'advantag': 2463, 'punish': 2464, 'overwhelm': 2465, 'wreck': 2466, 'transfer': 2467, 'enhanc': 2468, 'tap': 2469, 'text': 2470, 'deliber': 2471, 'plant': 2472, 'lo': 2473, 'jessica': 2474, 'dynam': 2475, 'east': 2476, 'preview': 2477, 'lane': 2478, 'horrif': 2479, 'error': 2480, 'vacat': 2481, 'appli': 2482, '2000': 2483, 'ensu': 2484, 'sophist': 2485, 'basi': 2486, 'miscast': 2487, 'miller': 2488, 'vincent': 2489, 'homosexu': 2490, 'spoken': 2491, 'bollywood': 2492, 'elev': 2493, 'steel': 2494, 'via': 2495, 'sleazi': 2496, 'extend': 2497, 'uncomfort': 2498, 'measur': 2499, 'mansion': 2500, 'reed': 2501, 'alter': 2502, 'assign': 2503, 'beer': 2504, 'overact': 2505, 'stanley': 2506, 'cathol': 2507, 'dentist': 2508, 'conceiv': 2509, 'breathtak': 2510, 'savag': 2511, 'hippi': 2512, 'fix': 2513, 'daili': 2514, 'goofi': 2515, 'mous': 2516, 'melt': 2517, 'blair': 2518, 'everyday': 2519, 'subsequ': 2520, 'properli': 2521, 'burt': 2522, 'succe': 2523, 'oppos': 2524, 'inspector': 2525, 'sacrific': 2526, 'nowaday': 2527, 'carpent': 2528, 'circl': 2529, 'massacr': 2530, 'neck': 2531, 'block': 2532, 'laura': 2533, 'fay': 2534, 'mob': 2535, 'lesser': 2536, 'concert': 2537, 'pool': 2538, 'christi': 2539, 'portrait': 2540, 'grey': 2541, 'access': 2542, 'fallen': 2543, 'seagal': 2544, 'usa': 2545, 'jewish': 2546, 'chees': 2547, 'sinist': 2548, 'isol': 2549, 'relax': 2550, 'react': 2551, 'jake': 2552, 'competit': 2553, 'nine': 2554, 'nonetheless': 2555, 'creep': 2556, 'appal': 2557, 'ironi': 2558, 'chop': 2559, 'suitabl': 2560, 'immens': 2561, 'lyric': 2562, '2006': 2563, 'spiritu': 2564, 'stink': 2565, 'spring': 2566, 'user': 2567, 'shirt': 2568, 'adopt': 2569, 'rage': 2570, 'needless': 2571, 'luci': 2572, 'franchis': 2573, 'sold': 2574, 'reduc': 2575, 'retir': 2576, 'nut': 2577, 'navi': 2578, 'showcas': 2579, 'asham': 2580, 'bulli': 2581, 'stanwyck': 2582, 'uninspir': 2583, 'jay': 2584, 'nurs': 2585, 'zone': 2586, 'bath': 2587, 'per': 2588, 'digit': 2589, 'laid': 2590, 'amongst': 2591, 'oddli': 2592, 'illustr': 2593, 'broadcast': 2594, 'upper': 2595, '1940': 2596, 'sutherland': 2597, '2001': 2598, 'baker': 2599, 'throat': 2600, 'fulfil': 2601, 'disguis': 2602, 'aspir': 2603, 'stylish': 2604, 'brando': 2605, 'pride': 2606, 'neighborhood': 2607, 'wanna': 2608, 'endear': 2609, 'em': 2610, 'thief': 2611, '18': 2612, 'pound': 2613, 'wwii': 2614, 'impli': 2615, 'nobl': 2616, 'diseas': 2617, 'coher': 2618, 'shoulder': 2619, 'dinner': 2620, '16': 2621, 'tens': 2622, 'bett': 2623, 'distribut': 2624, 'bo': 2625, 'albeit': 2626, 'prop': 2627, 'dawn': 2628, 'shift': 2629, 'cinematograph': 2630, 'rochest': 2631, 'shout': 2632, 'silenc': 2633, 'rebel': 2634, 'knife': 2635, 'contract': 2636, 'poignant': 2637, 'forti': 2638, 'snow': 2639, 'function': 2640, 'surf': 2641, 'wash': 2642, 'matthau': 2643, 'horrend': 2644, 'reunion': 2645, 'height': 2646, 'duti': 2647, 'mindless': 2648, 'cannib': 2649, 'internet': 2650, 'chuck': 2651, 'proof': 2652, 'derek': 2653, 'cancel': 2654, 'widmark': 2655, 'henc': 2656, 'heat': 2657, 'eeri': 2658, 'instinct': 2659, 'silver': 2660, 'elvira': 2661, 'mill': 2662, 'premier': 2663, 'musician': 2664, 'incoher': 2665, 'etern': 2666, 'innov': 2667, 'repetit': 2668, 'neat': 2669, 'torn': 2670, 'pie': 2671, 'alik': 2672, 'greatli': 2673, 'glori': 2674, 'elvi': 2675, 'spielberg': 2676, 'absorb': 2677, 'itali': 2678, 'crisi': 2679, 'nelson': 2680, 'britain': 2681, 'homag': 2682, 'racism': 2683, 'trite': 2684, 'lovabl': 2685, 'bang': 2686, 'redempt': 2687, 'precis': 2688, 'wealthi': 2689, 'infam': 2690, 'announc': 2691, 'burton': 2692, 'diamond': 2693, 'horrifi': 2694, 'blank': 2695, 'fbi': 2696, 'dedic': 2697, 'resolut': 2698, 'wilder': 2699, 'ensembl': 2700, 'parallel': 2701, 'hammer': 2702, 'chaplin': 2703, 'pat': 2704, 'flop': 2705, 'happili': 2706, 'streisand': 2707, 'helen': 2708, 'carter': 2709, 'mar': 2710, 'cube': 2711, 'triumph': 2712, 'disagre': 2713, 'plastic': 2714, 'oil': 2715, 'factori': 2716, 'st': 2717, 'broke': 2718, 'conclud': 2719, 'fighter': 2720, 'vega': 2721, 'rocket': 2722, 'chuckl': 2723, 'climb': 2724, 'own': 2725, 'row': 2726, 'weight': 2727, 'march': 2728, 'bush': 2729, 'kurt': 2730, 'boot': 2731, 'thug': 2732, 'meaning': 2733, 'spare': 2734, 'unforgett': 2735, 'lust': 2736, 'wherea': 2737, 'dump': 2738, 'dane': 2739, 'luca': 2740, 'sensibl': 2741, 'mst3k': 2742, 'enorm': 2743, 'butt': 2744, 'caricatur': 2745, 'threat': 2746, 'brand': 2747, 'dear': 2748, 'arnold': 2749, 'stress': 2750, 'fifti': 2751, 'engin': 2752, 'rap': 2753, 'difficulti': 2754, 'adequ': 2755, 'bobbi': 2756, 'karloff': 2757, 'barri': 2758, 'elabor': 2759, 'journalist': 2760, 'ralph': 2761, 'arrog': 2762, 'flynn': 2763, 'secretari': 2764, 'swing': 2765, 'polish': 2766, 'hamlet': 2767, 'fest': 2768, 'ego': 2769, 'homeless': 2770, 'grate': 2771, 'float': 2772, 'induc': 2773, 'unbear': 2774, 'fanci': 2775, 'conspiraci': 2776, 'arrang': 2777, 'puppet': 2778, 'simpson': 2779, 'spike': 2780, 'resort': 2781, 'tool': 2782, 'pig': 2783, 'exercis': 2784, 'tribut': 2785, 'cruis': 2786, 'choreograph': 2787, 'muppet': 2788, 'basement': 2789, 'boll': 2790, 'phillip': 2791, 'guilt': 2792, 'toilet': 2793, 'medium': 2794, 'document': 2795, 'file': 2796, 'korean': 2797, 'puzzl': 2798, 'scarecrow': 2799, 'ham': 2800, 'editor': 2801, 'layer': 2802, 'tower': 2803, 'item': 2804, 'slip': 2805, 'fianc': 2806, '24': 2807, 'ward': 2808, 'stan': 2809, 'babe': 2810, 'slaughter': 2811, 'assur': 2812, 'superfici': 2813, 'minim': 2814, 'transit': 2815, 'librari': 2816, 'portion': 2817, 'larger': 2818, 'orient': 2819, 'persona': 2820, 'glover': 2821, 'spark': 2822, 'denzel': 2823, 'philosoph': 2824, 'doc': 2825, 'territori': 2826, 'inexplic': 2827, 'catherin': 2828, 'ban': 2829, 'jet': 2830, 'boredom': 2831, 'wolf': 2832, 'shi': 2833, 'walken': 2834, 'curti': 2835, 'owe': 2836, 'financi': 2837, 'dorothi': 2838, 'pg': 2839, 'jeremi': 2840, 'sneak': 2841, 'multi': 2842, 'eleph': 2843, 'metaphor': 2844, 'backdrop': 2845, 'profound': 2846, 'ambigu': 2847, 'hudson': 2848, 'whale': 2849, 'cusack': 2850, 'elsewher': 2851, '2005': 2852, 'implaus': 2853, 'ultra': 2854, 'stiff': 2855, 'viru': 2856, 'gadget': 2857, 'notion': 2858, 'birthday': 2859, 'hack': 2860, 'union': 2861, 'rave': 2862, 'poison': 2863, 'disc': 2864, 'superhero': 2865, 'canada': 2866, 'bibl': 2867, 'slight': 2868, 'urg': 2869, 'eastwood': 2870, 'afford': 2871, '1st': 2872, 'hawk': 2873, 'lloyd': 2874, 'newspap': 2875, 'reader': 2876, 'deriv': 2877, 'squar': 2878, 'pad': 2879, 'eva': 2880, 'distanc': 2881, 'spread': 2882, 'cure': 2883, 'drown': 2884, 'button': 2885, 'sadist': 2886, 'skit': 2887, 'huh': 2888, 'restaur': 2889, 'heston': 2890, 'montag': 2891, 'essenc': 2892, 'health': 2893, 'charisma': 2894, 'fetch': 2895, 'invest': 2896, 'maniac': 2897, 'dealt': 2898, 'godfath': 2899, 'peak': 2900, 'muslim': 2901, 'lab': 2902, 'estat': 2903, 'companion': 2904, 'gradual': 2905, 'scoobi': 2906, 'subtleti': 2907, 'countless': 2908, 'alli': 2909, 'tea': 2910, 'miik': 2911, 'kane': 2912, 'gothic': 2913, 'ritter': 2914, 'servant': 2915, 'cup': 2916, 'electr': 2917, 'briefli': 2918, 'heroic': 2919, 'charismat': 2920, 'salli': 2921, 'iii': 2922, 'elect': 2923, 'wannab': 2924, 'cole': 2925, 'tender': 2926, 'resourc': 2927, 'grandmoth': 2928, 'toss': 2929, 'admittedli': 2930, 'bud': 2931, 'nuanc': 2932, 'reel': 2933, 'neil': 2934, 'ingredi': 2935, 'stronger': 2936, 'mafia': 2937, 'poverti': 2938, 'stood': 2939, 'gate': 2940, 'mild': 2941, 'pit': 2942, 'punk': 2943, 'pauli': 2944, 'kubrick': 2945, 'carrey': 2946, 'shall': 2947, 'label': 2948, 'reev': 2949, 'dawson': 2950, 'smash': 2951, 'useless': 2952, 'smooth': 2953, 'ian': 2954, 'updat': 2955, 'outcom': 2956, 'assault': 2957, 'astair': 2958, 'cox': 2959, 'fond': 2960, 'easier': 2961, 'tag': 2962, 'terri': 2963, 'burst': 2964, 'cardboard': 2965, 'bakshi': 2966, 'vari': 2967, 'qualifi': 2968, 'samurai': 2969, 'sketch': 2970, 'vulner': 2971, 'resolv': 2972, 'fist': 2973, 'melodramat': 2974, 'increasingli': 2975, 'exchang': 2976, 'divers': 2977, '2002': 2978, 'coincid': 2979, 'rex': 2980, 'tame': 2981, 'luckili': 2982, 'reynold': 2983, 'blast': 2984, 'brillianc': 2985, 'suspend': 2986, 'conveni': 2987, 'templ': 2988, 'insert': 2989, 'be': 2990, 'scratch': 2991, 'nuclear': 2992, 'strictli': 2993, 'walker': 2994, 'fisher': 2995, 'coach': 2996, 'seventi': 2997, 'meat': 2998, 'jami': 2999, 'gotta': 3000, 'soprano': 3001, 'hamilton': 3002, 'ambiti': 3003, 'matthew': 3004, 'farm': 3005, 'pin': 3006, 'struck': 3007, 'grasp': 3008, 'empir': 3009, 'instantli': 3010, 'butcher': 3011, 'eccentr': 3012, 'convolut': 3013, 'recreat': 3014, 'timeless': 3015, 'discoveri': 3016, 'revers': 3017, 'spooki': 3018, 'monk': 3019, 'brosnan': 3020, 'kudo': 3021, 'ninja': 3022, 'worthless': 3023, 'closet': 3024, 'joey': 3025, 'cave': 3026, 'clock': 3027, 'cliff': 3028, 'miracl': 3029, 'partli': 3030, 'fifteen': 3031, 'importantli': 3032, 'clown': 3033, 'wipe': 3034, 'seller': 3035, 'communist': 3036, 'gray': 3037, 'selfish': 3038, 'inconsist': 3039, 'pal': 3040, 'sidekick': 3041, 'mitchel': 3042, 'eighti': 3043, 'sloppi': 3044, 'declar': 3045, 'evok': 3046, 'bleak': 3047, 'norman': 3048, 'enthusiast': 3049, '45': 3050, 'websit': 3051, 'psychiatrist': 3052, 'flawless': 3053, 'destin': 3054, 'cheek': 3055, 'seed': 3056, 'debat': 3057, 'ho': 3058, 'chew': 3059, 'farc': 3060, 'piano': 3061, 'lifestyl': 3062, 'superbl': 3063, 'australia': 3064, 'stoog': 3065, 'aforement': 3066, 'bash': 3067, 'incompet': 3068, 'drivel': 3069, 'slice': 3070, 'pressur': 3071, 'regardless': 3072, 'dire': 3073, 'kitchen': 3074, 'splatter': 3075, 'wick': 3076, 'emili': 3077, 'soviet': 3078, 'akshay': 3079, 'dash': 3080, 'directori': 3081, 'anni': 3082, 'wrestl': 3083, 'abc': 3084, 'suppli': 3085, 'chapter': 3086, 'judi': 3087, 'glow': 3088, 'flower': 3089, 'pleasantli': 3090, 'curios': 3091, 'prize': 3092, 'helicopt': 3093, 'boil': 3094, 'seduc': 3095, 'jar': 3096, 'increas': 3097, 'cia': 3098, 'recov': 3099, 'artifici': 3100, 'distant': 3101, 'duo': 3102, 'beaten': 3103, 'blob': 3104, 'ken': 3105, 'lou': 3106, 'dave': 3107, 'cameron': 3108, 'doo': 3109, 'mann': 3110, 'cagney': 3111, 'glenn': 3112, 'craven': 3113, 'combat': 3114, 'favour': 3115, 'hop': 3116, 'splendid': 3117, 'turner': 3118, 'drunken': 3119, 'eleg': 3120, 'perri': 3121, 'web': 3122, 'panic': 3123, 'francisco': 3124, 'psychot': 3125, 'craig': 3126, 'laurel': 3127, 'ranger': 3128, 'goldberg': 3129, 'ellen': 3130, 'plausibl': 3131, 'slightest': 3132, 'shortli': 3133, 'greek': 3134, 'philosophi': 3135, 'rid': 3136, 'falk': 3137, 'gentl': 3138, 'ruth': 3139, 'wizard': 3140, 'min': 3141, 'alexand': 3142, 'fx': 3143, 'graduat': 3144, 'hatr': 3145, 'gandhi': 3146, 'flip': 3147, '20th': 3148, 'modesti': 3149, 'we': 3150, 'futurist': 3151, 'unpleas': 3152, 'fund': 3153, 'knight': 3154, 'tall': 3155, 'harm': 3156, 'manhattan': 3157, 'felix': 3158, 'preciou': 3159, 'legal': 3160, 'lend': 3161, 'ocean': 3162, 'holi': 3163, 'jealou': 3164, 'dracula': 3165, 'reviv': 3166, 'nod': 3167, 'explicit': 3168, 'giallo': 3169, 'childish': 3170, 'thread': 3171, 'forbidden': 3172, 'bless': 3173, 'digniti': 3174, 'mock': 3175, 'tank': 3176, 'overdon': 3177, 'scientif': 3178, 'ami': 3179, 'broad': 3180, 'mel': 3181, 'nerv': 3182, 'pirat': 3183, 'yesterday': 3184, 'fever': 3185, 'elderli': 3186, 'repeatedli': 3187, 'awe': 3188, 'thick': 3189, 'margaret': 3190, 'torment': 3191, '2004': 3192, 'awaken': 3193, 'verhoeven': 3194, 'eve': 3195, 'unwatch': 3196, '99': 3197, 'automat': 3198, 'absenc': 3199, 'publish': 3200, 'timothi': 3201, 'launch': 3202, 'custom': 3203, 'ambit': 3204, 'romero': 3205, 'royal': 3206, 'ah': 3207, 'lean': 3208, 'politician': 3209, 'kay': 3210, 'roman': 3211, 'uniform': 3212, 'stiller': 3213, 'bin': 3214, 'rivet': 3215, 'acclaim': 3216, 'eas': 3217, 'griffith': 3218, 'foul': 3219, 'warren': 3220, 'darker': 3221, 'stinker': 3222, 'sunshin': 3223, 'transport': 3224, 'bathroom': 3225, 'tomato': 3226, 'crook': 3227, 'homicid': 3228, 'pulp': 3229, 'pierc': 3230, 'phrase': 3231, 'antic': 3232, 'termin': 3233, 'gabriel': 3234, 'wallac': 3235, 'purpl': 3236, 'pray': 3237, 'q': 3238, 'li': 3239, 'packag': 3240, 'sixti': 3241, 'rambo': 3242, '2003': 3243, 'choreographi': 3244, 'hollow': 3245, 'album': 3246, 'coloni': 3247, 'awak': 3248, 'kenneth': 3249, 'prom': 3250, 'donna': 3251, 'contrari': 3252, 'ought': 3253, 'viciou': 3254, 'marin': 3255, 'revolutionari': 3256, 'evolv': 3257, 'horrid': 3258, 'juvenil': 3259, 'eyr': 3260, 'brazil': 3261, 'saint': 3262, 'karen': 3263, 'dose': 3264, 'ireland': 3265, 'boast': 3266, 'twelv': 3267, 'conserv': 3268, 'stole': 3269, 'defi': 3270, 'candid': 3271, 'overr': 3272, 'mildr': 3273, 'ramon': 3274, 'blade': 3275, 'nerd': 3276, 'mummi': 3277, 'beatti': 3278, 'kapoor': 3279, 'option': 3280, 'funer': 3281, 'global': 3282, 'kirk': 3283, 'flame': 3284, 'detract': 3285, 'collabor': 3286, 'confirm': 3287, 'trio': 3288, 'altman': 3289, 'natali': 3290, 'astonish': 3291, 'protest': 3292, 'jazz': 3293, 'fulci': 3294, 'bull': 3295, 'enterpris': 3296, 'shade': 3297, 'audio': 3298, 'mystic': 3299, 'destini': 3300, 'bottl': 3301, 'tommi': 3302, 'yellow': 3303, 'whip': 3304, 'racial': 3305, 'leap': 3306, 'nicholson': 3307, 'delici': 3308, 'blake': 3309, 'spit': 3310, 'altogeth': 3311, 'swedish': 3312, 'reunit': 3313, 'meaningless': 3314, 'pseudo': 3315, 'neo': 3316, 'bedroom': 3317, 'vivid': 3318, 'enchant': 3319, 'adolesc': 3320, 'popcorn': 3321, 'fonda': 3322, 'staff': 3323, 'inherit': 3324, 'threw': 3325, 'harder': 3326, 'merci': 3327, 'visibl': 3328, 'todd': 3329, 'tip': 3330, 'fanat': 3331, 'synopsi': 3332, 'atlanti': 3333, 'respond': 3334, 'kennedi': 3335, 'ruthless': 3336, 'moodi': 3337, 'madonna': 3338, 'roommat': 3339, 'voight': 3340, 'reserv': 3341, 'decor': 3342, 'lawrenc': 3343, 'uneven': 3344, 'edi': 3345, 'befriend': 3346, 'exhibit': 3347, 'bust': 3348, 'suspici': 3349, 'crocodil': 3350, 'lemmon': 3351, 'await': 3352, 'jew': 3353, 'wire': 3354, 'leonard': 3355, 'bold': 3356, 'rural': 3357, 'carl': 3358, 'centr': 3359, 'chao': 3360, 'dimens': 3361, 'clint': 3362, 'incident': 3363, 'audit': 3364, 'ventur': 3365, 'unsettl': 3366, 'voyag': 3367, 'holli': 3368, '2007': 3369, 'clumsi': 3370, 'bargain': 3371, 'palma': 3372, 'abysm': 3373, 'garner': 3374, 'bradi': 3375, 'characterist': 3376, 'acknowledg': 3377, 'imperson': 3378, 'immigr': 3379, 'trail': 3380, 'ant': 3381, 'versu': 3382, 'daddi': 3383, 'tiger': 3384, 'echo': 3385, 'neglect': 3386, 'nearbi': 3387, 'poetic': 3388, 'lit': 3389, 'humili': 3390, 'troop': 3391, 'hart': 3392, 'cd': 3393, 'timon': 3394, 'elimin': 3395, 'mall': 3396, 'cuba': 3397, 'wealth': 3398, 'cari': 3399, '2nd': 3400, 'mistaken': 3401, 'repuls': 3402, 'solo': 3403, 'pun': 3404, 'paus': 3405, 'domest': 3406, 'jeffrey': 3407, 'prejudic': 3408, 'saga': 3409, 'marshal': 3410, 'mickey': 3411, 'celluloid': 3412, 'collaps': 3413, 'infect': 3414, 'homer': 3415, 'coat': 3416, 'sore': 3417, 'equip': 3418, 'pant': 3419, 'cake': 3420, 'inappropri': 3421, 'apolog': 3422, 'coffe': 3423, '1996': 3424, 'assembl': 3425, 'milk': 3426, 'ginger': 3427, 'chest': 3428, 'leon': 3429, 'gear': 3430, 'promin': 3431, 'undoubtedli': 3432, 'interrupt': 3433, 'olivi': 3434, 'tribe': 3435, 'harvey': 3436, 'inan': 3437, 'hbo': 3438, 'trace': 3439, 'instant': 3440, 'colleagu': 3441, 'institut': 3442, 'florida': 3443, 'highest': 3444, 'pot': 3445, 'furthermor': 3446, 'brooklyn': 3447, 'aveng': 3448, 'embrac': 3449, 'exot': 3450, 'solut': 3451, 'maggi': 3452, 'consum': 3453, 'primari': 3454, 'humbl': 3455, 'polanski': 3456, 'colonel': 3457, 'retain': 3458, 'airplan': 3459, 'devast': 3460, 'vulgar': 3461, 'jenni': 3462, 'pen': 3463, 'disabl': 3464, 'bowl': 3465, 'cope': 3466, 'poke': 3467, 'dian': 3468, 'ya': 3469, 'seduct': 3470, 'smaller': 3471, '1999': 3472, 'principl': 3473, 'illog': 3474, 'rick': 3475, 'strain': 3476, 'linda': 3477, 'wive': 3478, 'dutch': 3479, 'gender': 3480, 'descend': 3481, 'godzilla': 3482, 'outer': 3483, '3rd': 3484, 'sale': 3485, 'lol': 3486, 'predecessor': 3487, 'blatant': 3488, 'secondli': 3489, 'rabbit': 3490, 'bubbl': 3491, 'dud': 3492, 'devoid': 3493, 'mixtur': 3494, 'cue': 3495, 'scope': 3496, 'yard': 3497, 'inferior': 3498, 'beneath': 3499, 'gloriou': 3500, 'dive': 3501, 'glamor': 3502, 'vast': 3503, 'hal': 3504, 'gundam': 3505, 'primarili': 3506, 'casual': 3507, 'shirley': 3508, 'simplist': 3509, 'alert': 3510, 'aggress': 3511, 'domino': 3512, 'shelf': 3513, 'talki': 3514, 'myer': 3515, 'trademark': 3516, 'alfr': 3517, 'disjoint': 3518, 'arab': 3519, 'z': 3520, 'breed': 3521, 'et': 3522, 'garbo': 3523, 'april': 3524, 'hideou': 3525, 'senseless': 3526, 'grinch': 3527, 'streep': 3528, 'countrysid': 3529, 'pearl': 3530, 'invas': 3531, 'museum': 3532, 'mail': 3533, 'boom': 3534, 'disgrac': 3535, 'loyal': 3536, 'robberi': 3537, 'acid': 3538, 'obtain': 3539, 'oz': 3540, 'unhappi': 3541, 'hopeless': 3542, 'stellar': 3543, 'slide': 3544, 'illeg': 3545, 'defens': 3546, 'stack': 3547, 'vanish': 3548, 'robinson': 3549, 'stir': 3550, 'experiment': 3551, 'hardcor': 3552, 'uwe': 3553, 'maci': 3554, 'khan': 3555, 'rendit': 3556, 'applaud': 3557, 'sh': 3558, 'mayor': 3559, 'psychic': 3560, 'span': 3561, 'spider': 3562, 'incomprehens': 3563, 'topless': 3564, 'counter': 3565, 'soccer': 3566, 'diana': 3567, 'blew': 3568, 'recruit': 3569, 'emphasi': 3570, 'fri': 3571, 'dismiss': 3572, 'tenant': 3573, 'tempt': 3574, 'wont': 3575, 'berlin': 3576, 'declin': 3577, 'dicken': 3578, 'scroog': 3579, 'amanda': 3580, 'grandfath': 3581, 'craze': 3582, 'rifl': 3583, 'hartley': 3584, 'shaw': 3585, 'ethnic': 3586, 'goer': 3587, 'sibl': 3588, 'shed': 3589, 'intim': 3590, 'parad': 3591, 'porno': 3592, 'revolt': 3593, 'trashi': 3594, 'sympath': 3595, 'bitch': 3596, 'lumet': 3597, 'niro': 3598, 'riot': 3599, 'justin': 3600, 'resurrect': 3601, 'wet': 3602, 'ration': 3603, 'faster': 3604, 'woo': 3605, 'rider': 3606, 'ensur': 3607, 'hesit': 3608, 'region': 3609, 'enlighten': 3610, 'biographi': 3611, 'partial': 3612, 'weakest': 3613, 'jonathan': 3614, 'choru': 3615, 'wheel': 3616, 'nephew': 3617, 'worm': 3618, 'honesti': 3619, 'unreal': 3620, 'wendi': 3621, 'dealer': 3622, 'immort': 3623, 'steam': 3624, 'andr': 3625, 'slick': 3626, 'commend': 3627, 'patriot': 3628, '00': 3629, 'gap': 3630, 'farmer': 3631, 'eager': 3632, 'mario': 3633, 'hopper': 3634, 'feminist': 3635, 'ballet': 3636, 'lena': 3637, 'wore': 3638, 'skull': 3639, 'franco': 3640, 'victori': 3641, 'composit': 3642, 'confin': 3643, 'charlott': 3644, 'snap': 3645, 'repress': 3646, 'similarli': 3647, 'nostalg': 3648, 'properti': 3649, 'mutant': 3650, 'sappi': 3651, 'leo': 3652, 'vice': 3653, 'kingdom': 3654, 'psychopath': 3655, 'owen': 3656, 'sandra': 3657, 'prequel': 3658, 'hung': 3659, 'blunt': 3660, 'safeti': 3661, 'morri': 3662, 'util': 3663, 'macarthur': 3664, 'compens': 3665, 'nervou': 3666, 'latin': 3667, 'hyde': 3668, 'del': 3669, 'heartbreak': 3670, 'emperor': 3671, '1972': 3672, 'compass': 3673, 'tail': 3674, 'recycl': 3675, 'acquir': 3676, 'bow': 3677, 'bumbl': 3678, 'campbel': 3679, 'pattern': 3680, 'cg': 3681, 'rocki': 3682, 'dust': 3683, 'rope': 3684, 'repli': 3685, 'rambl': 3686, 'speci': 3687, 'exit': 3688, 'drum': 3689, 'bonu': 3690, 'valuabl': 3691, 'bergman': 3692, 'tad': 3693, 'strand': 3694, 'despair': 3695, 'kyle': 3696, 'farrel': 3697, 'deed': 3698, 'dalton': 3699, 'montana': 3700, 'drain': 3701, 'snl': 3702, 'whoopi': 3703, 'miseri': 3704, 'thru': 3705, 'roth': 3706, 'pour': 3707, 'martian': 3708, 'da': 3709, 'gimmick': 3710, 'bleed': 3711, 'carradin': 3712, 'tonight': 3713, 'radic': 3714, 'mistress': 3715, 'rotten': 3716, 'wacki': 3717, 'oppress': 3718, 'contempl': 3719, '35': 3720, 'gal': 3721, 'downhil': 3722, 'orson': 3723, 'romp': 3724, 'chess': 3725, 'olli': 3726, 'rapist': 3727, 'slug': 3728, 'airport': 3729, 'percept': 3730, 'champion': 3731, '1983': 3732, 'taught': 3733, 'unpredict': 3734, 'belt': 3735, 'arc': 3736, 'attorney': 3737, 'arguabl': 3738, 'banal': 3739, 'programm': 3740, 'slash': 3741, 'pervert': 3742, 'melodi': 3743, 'tackl': 3744, 'shelley': 3745, 'preach': 3746, 'mislead': 3747, 'stilt': 3748, 'dazzl': 3749, 'edgar': 3750, 'pursuit': 3751, 'tooth': 3752, 'pervers': 3753, 'paltrow': 3754, 'heal': 3755, 'franki': 3756, 'cleverli': 3757, 'virginia': 3758, 'orang': 3759, 'closest': 3760, 'chicken': 3761, 'mesmer': 3762, 'passeng': 3763, 'maid': 3764, 'tiresom': 3765, 'rubi': 3766, 'plight': 3767, 'duval': 3768, 'bela': 3769, 'poem': 3770, 'vocal': 3771, 'marti': 3772, 'gambl': 3773, 'graham': 3774, 'conneri': 3775, 'sensat': 3776, 'uplift': 3777, 'raymond': 3778, 'employe': 3779, 'vengeanc': 3780, 'dixon': 3781, 'clone': 3782, 'swallow': 3783, 'climact': 3784, 'volum': 3785, 'gerard': 3786, 'suffic': 3787, 'outing': 3788, 'quarter': 3789, 'numb': 3790, 'amitabh': 3791, 'mute': 3792, 'habit': 3793, 'abraham': 3794, 'engross': 3795, 'profan': 3796, 'yawn': 3797, '1968': 3798, 'whine': 3799, 'scottish': 3800, 'calm': 3801, 'monologu': 3802, 'tube': 3803, 'inject': 3804, 'sirk': 3805, 'convincingli': 3806, 'crystal': 3807, 'iran': 3808, 'secretli': 3809, 'giggl': 3810, 'pokemon': 3811, 'bay': 3812, 'paranoia': 3813, 'lundgren': 3814, 'extens': 3815, 'surpass': 3816, 'lowest': 3817, 'chicago': 3818, 'meander': 3819, 'backward': 3820, 'spock': 3821, 'taxi': 3822, 'fed': 3823, 'bend': 3824, 'linger': 3825, 'frankenstein': 3826, 'plod': 3827, 'abort': 3828, 'septemb': 3829, 'ethan': 3830, 'junior': 3831, 'im': 3832, 'poetri': 3833, 'richardson': 3834, 'nichola': 3835, 'trend': 3836, 'profess': 3837, 'expand': 3838, 'earl': 3839, 'underst': 3840, 'franci': 3841, 'grotesqu': 3842, 'austen': 3843, 'dispos': 3844, 'eugen': 3845, 'cannon': 3846, 'compliment': 3847, 'tourist': 3848, 'econom': 3849, 'der': 3850, 'dysfunct': 3851, 'greedi': 3852, 'lure': 3853, 'simplic': 3854, 'stallon': 3855, 'sue': 3856, 'household': 3857, 'hum': 3858, 'rubber': 3859, 'muddl': 3860, 'waitress': 3861, 'spoke': 3862, 'mundan': 3863, 'catchi': 3864, 'literatur': 3865, 'descent': 3866, 'nostalgia': 3867, 'myth': 3868, 'rant': 3869, 'instrument': 3870, 'mortal': 3871, 'recognis': 3872, 'june': 3873, 'molli': 3874, 'hello': 3875, 'dement': 3876, 'irrelev': 3877, 'equival': 3878, 'deaf': 3879, 'damon': 3880, 'recognit': 3881, 'map': 3882, 'crucial': 3883, 'lang': 3884, 'flee': 3885, 'insur': 3886, 'phantom': 3887, 'occupi': 3888, 'carel': 3889, 'eaten': 3890, 'cent': 3891, 'alongsid': 3892, 'dictat': 3893, 'omen': 3894, 'coast': 3895, 'phoni': 3896, 'mankind': 3897, 'firstli': 3898, 'duck': 3899, 'randi': 3900, 'louis': 3901, 'stale': 3902, 'sissi': 3903, 'bacal': 3904, 'furi': 3905, 'bike': 3906, 'heel': 3907, 'antwon': 3908, 'ashley': 3909, 'rude': 3910, 'loyalti': 3911, 'wisdom': 3912, 'freez': 3913, 'dreari': 3914, '1973': 3915, 'daisi': 3916, 'newli': 3917, 'bump': 3918, 'reign': 3919, 'twilight': 3920, 'damm': 3921, 'buffalo': 3922, 'likewis': 3923, 'drake': 3924, 'grayson': 3925, 'distinguish': 3926, 'labor': 3927, 'biko': 3928, 'onlin': 3929, 'lengthi': 3930, 'cyborg': 3931, 'blackmail': 3932, 'rooney': 3933, 'sailor': 3934, 'startl': 3935, 'provoc': 3936, 'tunnel': 3937, 'proce': 3938, 'chronicl': 3939, 'ridden': 3940, 'worn': 3941, 'baddi': 3942, 'boxer': 3943, 'attribut': 3944, 'approv': 3945, 'prey': 3946, 'unorigin': 3947, 'butler': 3948, 'pink': 3949, 'basketbal': 3950, 'incorpor': 3951, 'barrymor': 3952, 'nineti': 3953, 'inher': 3954, 'interior': 3955, 'emphas': 3956, 'vein': 3957, 'keith': 3958, 'exposur': 3959, 'analysi': 3960, 'hypnot': 3961, 'condemn': 3962, 'drift': 3963, 'stalker': 3964, 'substitut': 3965, 'elm': 3966, 'mighti': 3967, 'bunni': 3968, 'improvis': 3969, 'indiffer': 3970, 'barrel': 3971, 'undeni': 3972, 'mormon': 3973, 'meyer': 3974, 'predat': 3975, 'belushi': 3976, 'othello': 3977, 'millionair': 3978, 'meg': 3979, 'nicol': 3980, 'simmon': 3981, 'underli': 3982, 'robbin': 3983, 'walsh': 3984, 'fleet': 3985, 'julian': 3986, 'degrad': 3987, 'unrel': 3988, 'carla': 3989, 'er': 3990, 'shove': 3991, 'alarm': 3992, 'palac': 3993, 'lampoon': 3994, 'mtv': 3995, '3d': 3996, 'hay': 3997, 'edgi': 3998, 'alison': 3999, 'nyc': 4000, 'watson': 4001, 'marion': 4002, 'enthusiasm': 4003, 'vital': 4004, 'exquisit': 4005, 'warmth': 4006, 'priceless': 4007, 'errol': 4008, 'roof': 4009, 'unawar': 4010, 'greed': 4011, 'novak': 4012, 'agenda': 4013, 'disord': 4014, 'firm': 4015, 'dolph': 4016, 'rukh': 4017, 'reid': 4018, 'coup': 4019, 'nun': 4020, 'spain': 4021, 'what': 4022, 'sergeant': 4023, 'peck': 4024, 'randomli': 4025, '1933': 4026, '13th': 4027, 'profit': 4028, 'peril': 4029, 'drip': 4030, 'thompson': 4031, 'orlean': 4032, 'petti': 4033, 'campaign': 4034, 'session': 4035, 'eastern': 4036, 'minimum': 4037, 'iraq': 4038, 'preserv': 4039, 'israel': 4040, 'glanc': 4041, 'gestur': 4042, 'crown': 4043, 'distort': 4044, 'beatl': 4045, 'unleash': 4046, 'ponder': 4047, 'championship': 4048, 'showdown': 4049, 'simultan': 4050, 'testament': 4051, 'angela': 4052, 'zizek': 4053, 'valentin': 4054, 'pamela': 4055, 'cassidi': 4056, 'calib': 4057, 'crow': 4058, 'crawl': 4059, 'mon': 4060, 'scotland': 4061, 'unimagin': 4062, 'stake': 4063, 'han': 4064, 'stroke': 4065, 'rout': 4066, 'wig': 4067, 'realm': 4068, 'quinn': 4069, 'cream': 4070, 'regist': 4071, 'reson': 4072, 'contradict': 4073, 'brenda': 4074, 'perpetu': 4075, 'miyazaki': 4076, 'buster': 4077, '1984': 4078, 'represent': 4079, 'shootout': 4080, 'gentleman': 4081, 'bro': 4082, 'cooki': 4083, 'empathi': 4084, 'climat': 4085, 'jan': 4086, 'kurosawa': 4087, 'valley': 4088, 'travesti': 4089, 'exposit': 4090, 'sabrina': 4091, 'restrain': 4092, 'fido': 4093, 'din': 4094, 'demis': 4095, 'sucker': 4096, 'unseen': 4097, 'passabl': 4098, 'delic': 4099, 'painter': 4100, 'darren': 4101, 'abomin': 4102, 'spacey': 4103, '1987': 4104, 'stargat': 4105, 'ross': 4106, 'wax': 4107, 'shaki': 4108, 'cloud': 4109, 'perceiv': 4110, 'tacki': 4111, 'dana': 4112, '1997': 4113, 'businessman': 4114, 'distress': 4115, 'shoddi': 4116, 'warrant': 4117, 'josh': 4118, 'pole': 4119, 'baldwin': 4120, 'crawford': 4121, 'compromis': 4122, 'fuller': 4123, 'censor': 4124, 'femm': 4125, 'greg': 4126, 'absent': 4127, 'derang': 4128, 'unsatisfi': 4129, 'soderbergh': 4130, 'pretens': 4131, 'monoton': 4132, 'meryl': 4133, 'geek': 4134, 'sammi': 4135, 'traumat': 4136, 'mclaglen': 4137, 'ustinov': 4138, 'click': 4139, 'judgment': 4140, 'seal': 4141, 'deceas': 4142, 'deniro': 4143, 'uncov': 4144, '1993': 4145, 'polici': 4146, 'primit': 4147, 'valid': 4148, 'clash': 4149, 'antonioni': 4150, 'fog': 4151, 'correctli': 4152, 'norm': 4153, 'dee': 4154, 'fenc': 4155, 'anchor': 4156, 'verbal': 4157, 'kumar': 4158, 'expedit': 4159, 'nathan': 4160, 'furiou': 4161, 'accuraci': 4162, 'wholli': 4163, 'reluct': 4164, 'sid': 4165, 'tech': 4166, 'austin': 4167, 'unravel': 4168, 'jewel': 4169, 'tarantino': 4170, 'exclus': 4171, 'sustain': 4172, 'seldom': 4173, 'temper': 4174, 'wretch': 4175, 'patienc': 4176, 'dreck': 4177, 'roller': 4178, 'ritual': 4179, 'hallucin': 4180, 'fabric': 4181, 'clerk': 4182, 'nicola': 4183, 'conduct': 4184, 'crippl': 4185, '1995': 4186, 'joel': 4187, '1971': 4188, 'enforc': 4189, 'sheet': 4190, 'unfair': 4191, 'malon': 4192, 'behold': 4193, 'logan': 4194, 'trait': 4195, 'sunni': 4196, 'shanghai': 4197, 'vanc': 4198, 'pocket': 4199, 'bake': 4200, '3000': 4201, 'debt': 4202, 'fart': 4203, 'darn': 4204, 'slam': 4205, 'mode': 4206, 'wang': 4207, 'alec': 4208, 'tax': 4209, 'fought': 4210, 'murray': 4211, 'sand': 4212, '2008': 4213, 'critiqu': 4214, 'divid': 4215, 'tactic': 4216, 'soup': 4217, 'preposter': 4218, 'schedul': 4219, 'runner': 4220, 'conscious': 4221, 'shell': 4222, 'fundament': 4223, 'exhaust': 4224, 'legaci': 4225, 'squad': 4226, 'phil': 4227, 'guitar': 4228, 'robber': 4229, 'stark': 4230, 'despis': 4231, 'scriptwrit': 4232, 'sweep': 4233, 'stuart': 4234, 'bias': 4235, 'clau': 4236, 'technicolor': 4237, 'pete': 4238, 'helpless': 4239, 'preston': 4240, 'outlin': 4241, 'rita': 4242, 'grief': 4243, 'isabel': 4244, 'canyon': 4245, 'penni': 4246, 'bridget': 4247, 'implic': 4248, 'sugar': 4249, 'vomit': 4250, 'agenc': 4251, 'lacklust': 4252, 'inabl': 4253, 'propos': 4254, 'passag': 4255, 'sentinel': 4256, 'rear': 4257, 'flair': 4258, 'culmin': 4259, 'bloom': 4260, 'downey': 4261, 'unexpectedli': 4262, 'consciou': 4263, 'jacket': 4264, 'rehash': 4265, 'newman': 4266, 'palanc': 4267, 'delv': 4268, 'connor': 4269, 'gregori': 4270, 'liberti': 4271, 'jodi': 4272, 'invad': 4273, 'russia': 4274, 'restrict': 4275, 'alley': 4276, 'drove': 4277, 'marc': 4278, 'sniper': 4279, 'cigarett': 4280, 'alicia': 4281, 'boyl': 4282, 'kansa': 4283, 'tendenc': 4284, 'asylum': 4285, 'kolchak': 4286, 'chainsaw': 4287, 'arrow': 4288, 'ladder': 4289, 'mccoy': 4290, 'rehears': 4291, 'improb': 4292, 'awhil': 4293, 'behaviour': 4294, '22': 4295, 'yeti': 4296, '1936': 4297, 'horn': 4298, 'wrench': 4299, 'vet': 4300, 'foxx': 4301, 'aesthet': 4302, 'bacon': 4303, 'tripe': 4304, 'rod': 4305, 'cap': 4306, 'karl': 4307, 'lush': 4308, 'pale': 4309, 'rampag': 4310, 'delet': 4311, 'sharon': 4312, 'feat': 4313, 'hungri': 4314, '1988': 4315, 'tomorrow': 4316, '1978': 4317, 'minu': 4318, 'stream': 4319, 'lurk': 4320, 'shortcom': 4321, '1920': 4322, 'paradis': 4323, 'newcom': 4324, 'coaster': 4325, 'suffici': 4326, 'hackney': 4327, 'conscienc': 4328, 'aristocrat': 4329, 'fright': 4330, 'loneli': 4331, 'globe': 4332, 'tasteless': 4333, 'visitor': 4334, 'underneath': 4335, 'weav': 4336, 'amazon': 4337, 'sung': 4338, 'wildli': 4339, 'rumor': 4340, 'thunderbird': 4341, 'spice': 4342, '19th': 4343, 'el': 4344, 'financ': 4345, 'filler': 4346, 'hulk': 4347, 'scoop': 4348, 'suspicion': 4349, 'elit': 4350, 'basing': 4351, 'paramount': 4352, 'prank': 4353, 'wagner': 4354, 'rhythm': 4355, 'ram': 4356, 'atroc': 4357, 'standout': 4358, 'couch': 4359, '75': 4360, 'dirt': 4361, 'worship': 4362, 'recogniz': 4363, '1989': 4364, 'rub': 4365, 'posey': 4366, 'bread': 4367, 'abrupt': 4368, 'ingeni': 4369, 'grudg': 4370, 'immers': 4371, 'counterpart': 4372, 'heist': 4373, 'hopkin': 4374, 'secondari': 4375, 'brit': 4376, 'en': 4377, 'entranc': 4378, 'smell': 4379, 'straightforward': 4380, 'quietli': 4381, 'impos': 4382, 'inmat': 4383, 'cancer': 4384, 'penn': 4385, 'leigh': 4386, 'teas': 4387, 'lectur': 4388, 'literari': 4389, 'choppi': 4390, 'naughti': 4391, '1939': 4392, 'tierney': 4393, 'curli': 4394, 'springer': 4395, 'wwe': 4396, 'paxton': 4397, 'beverli': 4398, 'minist': 4399, 'chavez': 4400, 'iv': 4401, 'chamberlain': 4402, 'entitl': 4403, 'skeptic': 4404, 'clan': 4405, 'missil': 4406, 'misguid': 4407, 'duel': 4408, 'variat': 4409, 'convert': 4410, 'morbid': 4411, 'sublim': 4412, 'policeman': 4413, 'yearn': 4414, 'nemesi': 4415, 'injuri': 4416, 'heartfelt': 4417, 'transcend': 4418, '1986': 4419, 'laurenc': 4420, 'ace': 4421, 'watcher': 4422, 'cattl': 4423, 'moreov': 4424, 'bernard': 4425, 'geni': 4426, 'esther': 4427, 'lindsay': 4428, 'quaid': 4429, 'ratso': 4430, 'nolan': 4431, 'attenborough': 4432, 'enthral': 4433, 'sassi': 4434, 'net': 4435, 'out': 4436, 'spiral': 4437, 'characteris': 4438, 'vader': 4439, 'cruelti': 4440, 'kitti': 4441, 'brood': 4442, 'dont': 4443, 'youngest': 4444, 'buzz': 4445, 'hk': 4446, 'graini': 4447, '1979': 4448, 'setup': 4449, 'puppi': 4450, 'facil': 4451, 'reliabl': 4452, 'uncut': 4453, 'moder': 4454, 'rosemari': 4455, 'grin': 4456, 'bye': 4457, 'kidman': 4458, 'obstacl': 4459, 'carlito': 4460, 'diari': 4461, 'egg': 4462, 'mytholog': 4463, 'hopelessli': 4464, 'steadi': 4465, 'enabl': 4466, 'unexplain': 4467, 'poe': 4468, 'bean': 4469, 'tyler': 4470, 'artsi': 4471, 'heap': 4472, 'despic': 4473, 'decept': 4474, 'acquaint': 4475, 'hammi': 4476, 'spontan': 4477, 'exterior': 4478, 'niec': 4479, 'bewar': 4480, 'weather': 4481, 'bronson': 4482, 'patricia': 4483, 'effici': 4484, 'fuel': 4485, 'kline': 4486, 'baffl': 4487, 'hain': 4488, 'preming': 4489, 'oblig': 4490, 'athlet': 4491, 'narrow': 4492, 'clueless': 4493, 'underworld': 4494, 'bounc': 4495, 'gillian': 4496, 'disastr': 4497, 'gina': 4498, 'sweat': 4499, 'brendan': 4500, 'christin': 4501, 'martha': 4502, '1969': 4503, 'harmless': 4504, 'insipid': 4505, 'goof': 4506, 'hepburn': 4507, 'loath': 4508, 'dilemma': 4509, 'biker': 4510, 'trigger': 4511, 'viewpoint': 4512, 'sleepwalk': 4513, 'astound': 4514, 'analyz': 4515, 'scar': 4516, 'virtu': 4517, 'angst': 4518, '19': 4519, 'fontain': 4520, 'rome': 4521, 'headach': 4522, 'shatter': 4523, 'mayhem': 4524, 'circu': 4525, '73': 4526, 'enlist': 4527, 'uh': 4528, 'outlaw': 4529, 'renaiss': 4530, 'lester': 4531, 'taboo': 4532, 'housewif': 4533, 'mermaid': 4534, 'sooner': 4535, 'suprem': 4536, 'tick': 4537, 'candl': 4538, 'injur': 4539, 'dandi': 4540, 'loi': 4541, 'preachi': 4542, 'redund': 4543, 'filth': 4544, 'amor': 4545, 'surgeri': 4546, 'overlong': 4547, 'macho': 4548, 'hokey': 4549, 'immatur': 4550, 'steer': 4551, 'whore': 4552, 'ebert': 4553, 'hostag': 4554, 'foolish': 4555, 'fluff': 4556, 'zoom': 4557, 'sox': 4558, 'idol': 4559, 'dismal': 4560, 'spade': 4561, 'boston': 4562, 'scorses': 4563, 'salt': 4564, 'oldest': 4565, 'tripl': 4566, 'hooker': 4567, 'contempt': 4568, 'stimul': 4569, 'phenomenon': 4570, 'corbett': 4571, 'slimi': 4572, 'glorifi': 4573, 'claustrophob': 4574, 'dish': 4575, 'guin': 4576, 'bent': 4577, 'camcord': 4578, 'cassavet': 4579, 'gere': 4580, 'intric': 4581, 'stair': 4582, 'ariel': 4583, 'muscl': 4584, 'proport': 4585, 'antagonist': 4586, 'spree': 4587, 'down': 4588, 'flashi': 4589, 'gasp': 4590, 'strongest': 4591, '1976': 4592, 'nolt': 4593, 'obligatori': 4594, 'mutual': 4595, 'margin': 4596, 'preced': 4597, 'perman': 4598, 'cush': 4599, 'beard': 4600, 'flag': 4601, 'astronaut': 4602, 'spinal': 4603, 'messi': 4604, 'gabl': 4605, 'conquer': 4606, '1981': 4607, 'widescreen': 4608, 'harold': 4609, 'schlock': 4610, 'dwarf': 4611, 'mount': 4612, 'assert': 4613, 'cohen': 4614, 'faint': 4615, 'frantic': 4616, 'shred': 4617, 'rhyme': 4618, 'shield': 4619, 'joker': 4620, 'cow': 4621, 'remad': 4622, 'alvin': 4623, 'trivia': 4624, 'keen': 4625, 'fascist': 4626, 'flirt': 4627, 'corman': 4628, 'naschi': 4629, 'radiat': 4630, 'transplant': 4631, 'zane': 4632, '1945': 4633, '95': 4634, 'discern': 4635, 'scandal': 4636, 'off': 4637, 'raj': 4638, 'resum': 4639, 'brush': 4640, 'neurot': 4641, 'claud': 4642, 'divin': 4643, 'strive': 4644, 'mobil': 4645, 'aborigin': 4646, 'departur': 4647, 'someday': 4648, 'fishburn': 4649, 'wield': 4650, 'hara': 4651, 'carey': 4652, 'triangl': 4653, 'sensual': 4654, 'barn': 4655, '28': 4656, 'archiv': 4657, 'bitten': 4658, 'inflict': 4659, 'info': 4660, 'deer': 4661, 'www': 4662, 'repris': 4663, 'instruct': 4664, 'persuad': 4665, 'bachelor': 4666, 'interestingli': 4667, 'vaniti': 4668, 'danish': 4669, 'boob': 4670, 'ritchi': 4671, 'flock': 4672, 'mol': 4673, 'axe': 4674, 'ish': 4675, 'cliffhang': 4676, 'jade': 4677, 'proclaim': 4678, 'wendigo': 4679, 'recit': 4680, 'traffic': 4681, 'clad': 4682, 'biblic': 4683, 'casino': 4684, 'heartwarm': 4685, 'dim': 4686, 'undermin': 4687, 'rot': 4688, 'colin': 4689, 'luka': 4690, 'kathryn': 4691, 'mobster': 4692, 'carlo': 4693, 'anton': 4694, 'harrison': 4695, 'cycl': 4696, 'fragil': 4697, 'helm': 4698, 'hilar': 4699, 'pixar': 4700, 'melissa': 4701, 'cb': 4702, 'artwork': 4703, 'miracul': 4704, 'vibrant': 4705, 'hapless': 4706, 'europa': 4707, 'hug': 4708, 'timberlak': 4709, 'submit': 4710, 'loretta': 4711, 'dame': 4712, 'senior': 4713, 'prophet': 4714, 'earnest': 4715, 'pacif': 4716, 'bate': 4717, 'parson': 4718, 'frontier': 4719, 'banter': 4720, 'dylan': 4721, 'neill': 4722, 'cher': 4723, 'pickford': 4724, 'wardrob': 4725, 'alexandr': 4726, 'venom': 4727, 'eli': 4728, 'flavor': 4729, 'winchest': 4730, 'lui': 4731, 'aris': 4732, 'legitim': 4733, 'articl': 4734, 'redneck': 4735, 'lucil': 4736, 'toronto': 4737, 'cerebr': 4738, 'bikini': 4739, 'token': 4740, 'akin': 4741, 'jordan': 4742, 'northern': 4743, 'holocaust': 4744, 'bondag': 4745, 'sicken': 4746, 'razor': 4747, 'breakfast': 4748, 'vanessa': 4749, 'misfortun': 4750, 'orphan': 4751, 'mason': 4752, 'illus': 4753, 'uma': 4754, 'choke': 4755, 'milo': 4756, 'nope': 4757, 'http': 4758, 'marlon': 4759, 'antholog': 4760, 'trier': 4761, 'estrang': 4762, 'rooki': 4763, 'blatantli': 4764, 'seedi': 4765, 'static': 4766, 'electron': 4767, 'feast': 4768, 'isra': 4769, 'vile': 4770, 'jo': 4771, 'mathieu': 4772, 'pc': 4773, 'shepherd': 4774, 'foil': 4775, 'feminin': 4776, 'fifth': 4777, 'highway': 4778, 'smack': 4779, 'howl': 4780, 'swept': 4781, 'disregard': 4782, 'tack': 4783, 'gilbert': 4784, 'turd': 4785, 'charlton': 4786, 'abund': 4787, 'peer': 4788, 'huston': 4789, 'boyer': 4790, 'comprehend': 4791, 'linear': 4792, 'dudley': 4793, 'deem': 4794, 'styliz': 4795, 'oppon': 4796, 'shorter': 4797, 'clinic': 4798, 'ideolog': 4799, 'audrey': 4800, 'ceremoni': 4801, 'knightley': 4802, 'nightclub': 4803, 'affleck': 4804, 'retriev': 4805, 'psych': 4806, 'frog': 4807, 'magician': 4808, 'leather': 4809, 'cartoonish': 4810, 'glare': 4811, 'outdat': 4812, 'gunga': 4813, 'wrestler': 4814, 'boo': 4815, 'lighter': 4816, 'senat': 4817, 'cuban': 4818, 'collector': 4819, 'client': 4820, '4th': 4821, 'cemeteri': 4822, 'compris': 4823, 'plate': 4824, 'spine': 4825, 'newer': 4826, 'spawn': 4827, 'toe': 4828, 'breakdown': 4829, 'durat': 4830, 'energet': 4831, 'braveheart': 4832, 'tara': 4833, 'monument': 4834, 'lifeless': 4835, '1994': 4836, 'corn': 4837, 'snatch': 4838, 'bogu': 4839, 'salman': 4840, 'bastard': 4841, 'evolut': 4842, 'deliver': 4843, 'chip': 4844, 'whack': 4845, 'greet': 4846, 'conrad': 4847, 'uniformli': 4848, 'btw': 4849, 'moe': 4850, 'phenomen': 4851, 'mitch': 4852, 'goldsworthi': 4853, 'lavish': 4854, 'summar': 4855, '1991': 4856, 'potter': 4857, 'sleaz': 4858, 'einstein': 4859, 'pronounc': 4860, 'alleg': 4861, 'judd': 4862, 'fluid': 4863, 'armstrong': 4864, 'embark': 4865, 'jedi': 4866, 'ol': 4867, '1974': 4868, 'lex': 4869, 'eleven': 4870, 'luxuri': 4871, 'cecil': 4872, 'outright': 4873, 'trauma': 4874, 'jam': 4875, 'liu': 4876, 'belli': 4877, 'appl': 4878, 'bori': 4879, 'replay': 4880, 'kazan': 4881, 'ie': 4882, 'undertak': 4883, 'jule': 4884, 'wtf': 4885, 'nina': 4886, 'neatli': 4887, 'evelyn': 4888, 'inaccuraci': 4889, 'signal': 4890, 'sorrow': 4891, 'clara': 4892, 'jare': 4893, 'bulk': 4894, 'spectacl': 4895, 'randolph': 4896, 'capot': 4897, 'mcqueen': 4898, 'healthi': 4899, 'firmli': 4900, 'kent': 4901, 'undead': 4902, 'constitut': 4903, 'occup': 4904, '1977': 4905, 'creek': 4906, 'historian': 4907, 'gilliam': 4908, 'kiddi': 4909, 'relentless': 4910, 'unsuspect': 4911, 'sidewalk': 4912, 'comprehens': 4913, 'galaxi': 4914, 'groan': 4915, 'curtain': 4916, 'conan': 4917, 'spray': 4918, 'inclus': 4919, 'mum': 4920, 'roar': 4921, 'walt': 4922, 'miniseri': 4923, 'tokyo': 4924, 'poker': 4925, 'goldblum': 4926, 'ash': 4927, 'meal': 4928, 'id': 4929, 'abound': 4930, '1985': 4931, 'propheci': 4932, 'pepper': 4933, 'bait': 4934, 'congratul': 4935, 'porter': 4936, 'carmen': 4937, 'aussi': 4938, 'knee': 4939, 'pioneer': 4940, 'forgiven': 4941, 'sacrif': 4942, 'lanc': 4943, 'subtli': 4944, 'genet': 4945, 'fruit': 4946, 'vignett': 4947, 'unattract': 4948, 'basket': 4949, 'paula': 4950, 'miami': 4951, 'vain': 4952, 'antonio': 4953, 'lauren': 4954, 'inaccur': 4955, 'decapit': 4956, 'cape': 4957, 'blur': 4958, 'palm': 4959, 'comb': 4960, 'rosario': 4961, 'bsg': 4962, 'truman': 4963, 'casper': 4964, 'asset': 4965, 'macabr': 4966, 'vastli': 4967, 'rapidli': 4968, 'frontal': 4969, 'profil': 4970, 'hackman': 4971, 'dubiou': 4972, 'bravo': 4973, 'substanti': 4974, 'hostil': 4975, 'handicap': 4976, 'reincarn': 4977, 'epitom': 4978, 'incorrect': 4979, 'monti': 4980, 'sparkl': 4981, 'bach': 4982, 'playboy': 4983, 'jill': 4984, 'assort': 4985, 'victorian': 4986, 'optimist': 4987, 'motorcycl': 4988, 'orchestr': 4989, 'drone': 4990, 'verg': 4991, 'detach': 4992, 'weari': 4993, 'masterson': 4994, 'evan': 4995, 'mice': 4996, 'omin': 4997, 'sophi': 4998, 'ghetto': 4999}\n"
     ]
    }
   ],
   "source": [
    "# TODO: Use this space to determine the five most frequently appearing words in the training set.\n",
    "print(word_dict)\n"
   ]
  },
  {
   "cell_type": "markdown",
   "metadata": {},
   "source": [
    "### Save `word_dict`\n",
    "\n",
    "Later on when we construct an endpoint which processes a submitted review we will need to make use of the `word_dict` which we have created. As such, we will save it to a file now for future use."
   ]
  },
  {
   "cell_type": "code",
   "execution_count": 14,
   "metadata": {},
   "outputs": [],
   "source": [
    "data_dir = '../data/pytorch' # The folder we will use for storing data\n",
    "if not os.path.exists(data_dir): # Make sure that the folder exists\n",
    "    os.makedirs(data_dir)"
   ]
  },
  {
   "cell_type": "code",
   "execution_count": 15,
   "metadata": {},
   "outputs": [],
   "source": [
    "with open(os.path.join(data_dir, 'word_dict.pkl'), \"wb\") as f:\n",
    "    pickle.dump(word_dict, f)"
   ]
  },
  {
   "cell_type": "markdown",
   "metadata": {},
   "source": [
    "### Transform the reviews\n",
    "\n",
    "Now that we have our word dictionary which allows us to transform the words appearing in the reviews into integers, it is time to make use of it and convert our reviews to their integer sequence representation, making sure to pad or truncate to a fixed length, which in our case is `500`."
   ]
  },
  {
   "cell_type": "code",
   "execution_count": 16,
   "metadata": {},
   "outputs": [],
   "source": [
    "def convert_and_pad(word_dict, sentence, pad=500):\n",
    "    NOWORD = 0 # We will use 0 to represent the 'no word' category\n",
    "    INFREQ = 1 # and we use 1 to represent the infrequent words, i.e., words not appearing in word_dict\n",
    "    \n",
    "    working_sentence = [NOWORD] * pad\n",
    "    \n",
    "    for word_index, word in enumerate(sentence[:pad]):\n",
    "        if word in word_dict:\n",
    "            working_sentence[word_index] = word_dict[word]\n",
    "        else:\n",
    "            working_sentence[word_index] = INFREQ\n",
    "            \n",
    "    return working_sentence, min(len(sentence), pad)\n",
    "\n",
    "def convert_and_pad_data(word_dict, data, pad=500):\n",
    "    result = []\n",
    "    lengths = []\n",
    "    \n",
    "    for sentence in data:\n",
    "        converted, leng = convert_and_pad(word_dict, sentence, pad)\n",
    "        result.append(converted)\n",
    "        lengths.append(leng)\n",
    "        \n",
    "    return np.array(result), np.array(lengths)"
   ]
  },
  {
   "cell_type": "code",
   "execution_count": 17,
   "metadata": {},
   "outputs": [],
   "source": [
    "train_X, train_X_len = convert_and_pad_data(word_dict, train_X)\n",
    "test_X, test_X_len = convert_and_pad_data(word_dict, test_X)"
   ]
  },
  {
   "cell_type": "markdown",
   "metadata": {},
   "source": [
    "As a quick check to make sure that things are working as intended, check to see what one of the reviews in the training set looks like after having been processeed. Does this look reasonable? What is the length of a review in the training set?"
   ]
  },
  {
   "cell_type": "code",
   "execution_count": 18,
   "metadata": {},
   "outputs": [
    {
     "name": "stdout",
     "output_type": "stream",
     "text": [
      "500\n",
      "[ 64 193 184 ... 109  28 315]\n"
     ]
    }
   ],
   "source": [
    "# Use this cell to examine one of the processed reviews to make sure everything is working as intended.\n",
    "print(len(test_X[100]))\n",
    "print(train_X_len)"
   ]
  },
  {
   "cell_type": "markdown",
   "metadata": {},
   "source": [
    "**Question:** In the cells above we use the `preprocess_data` and `convert_and_pad_data` methods to process both the training and testing set. Why or why not might this be a problem?"
   ]
  },
  {
   "cell_type": "markdown",
   "metadata": {},
   "source": [
    "**Answer:**\n",
    "\n",
    "The preprocess_data converts to words which helps to see how frequent they are and useful to vectorize,since model only understands vectors.\n",
    "\n",
    "convert_and_pad_data maps frequent and no frequent words with only 500 words in a review,since first 500 is enough to analyze review."
   ]
  },
  {
   "cell_type": "markdown",
   "metadata": {},
   "source": [
    "## Step 3: Upload the data to S3\n",
    "\n",
    "As in the XGBoost notebook, we will need to upload the training dataset to S3 in order for our training code to access it. For now we will save it locally and we will upload to S3 later on.\n",
    "\n",
    "### Save the processed training dataset locally\n",
    "\n",
    "It is important to note the format of the data that we are saving as we will need to know it when we write the training code. In our case, each row of the dataset has the form `label`, `length`, `review[500]` where `review[500]` is a sequence of `500` integers representing the words in the review."
   ]
  },
  {
   "cell_type": "code",
   "execution_count": 19,
   "metadata": {},
   "outputs": [],
   "source": [
    "import pandas as pd\n",
    "    \n",
    "pd.concat([pd.DataFrame(train_y), pd.DataFrame(train_X_len), pd.DataFrame(train_X)], axis=1) \\\n",
    "        .to_csv(os.path.join(data_dir, 'train.csv'), header=False, index=False)"
   ]
  },
  {
   "cell_type": "markdown",
   "metadata": {},
   "source": [
    "### Uploading the training data\n",
    "\n",
    "\n",
    "Next, we need to upload the training data to the SageMaker default S3 bucket so that we can provide access to it while training our model."
   ]
  },
  {
   "cell_type": "code",
   "execution_count": 20,
   "metadata": {},
   "outputs": [],
   "source": [
    "import sagemaker\n",
    "\n",
    "sagemaker_session = sagemaker.Session()\n",
    "\n",
    "bucket = sagemaker_session.default_bucket()\n",
    "prefix = 'sagemaker/sentiment_rnn'\n",
    "\n",
    "role = sagemaker.get_execution_role()"
   ]
  },
  {
   "cell_type": "code",
   "execution_count": 21,
   "metadata": {},
   "outputs": [],
   "source": [
    "input_data = sagemaker_session.upload_data(path=data_dir, bucket=bucket, key_prefix=prefix)"
   ]
  },
  {
   "cell_type": "markdown",
   "metadata": {},
   "source": [
    "**NOTE:** The cell above uploads the entire contents of our data directory. This includes the `word_dict.pkl` file. This is fortunate as we will need this later on when we create an endpoint that accepts an arbitrary review. For now, we will just take note of the fact that it resides in the data directory (and so also in the S3 training bucket) and that we will need to make sure it gets saved in the model directory."
   ]
  },
  {
   "cell_type": "markdown",
   "metadata": {},
   "source": [
    "## Step 4: Build and Train the PyTorch Model\n",
    "\n",
    "In the XGBoost notebook we discussed what a model is in the SageMaker framework. In particular, a model comprises three objects\n",
    "\n",
    " - Model Artifacts,\n",
    " - Training Code, and\n",
    " - Inference Code,\n",
    " \n",
    "each of which interact with one another. In the XGBoost example we used training and inference code that was provided by Amazon. Here we will still be using containers provided by Amazon with the added benefit of being able to include our own custom code.\n",
    "\n",
    "We will start by implementing our own neural network in PyTorch along with a training script. For the purposes of this project we have provided the necessary model object in the `model.py` file, inside of the `train` folder. You can see the provided implementation by running the cell below."
   ]
  },
  {
   "cell_type": "code",
   "execution_count": 22,
   "metadata": {},
   "outputs": [
    {
     "name": "stdout",
     "output_type": "stream",
     "text": [
      "\u001b[34mimport\u001b[39;49;00m \u001b[04m\u001b[36mtorch.nn\u001b[39;49;00m \u001b[34mas\u001b[39;49;00m \u001b[04m\u001b[36mnn\u001b[39;49;00m\r\n",
      "\r\n",
      "\u001b[34mclass\u001b[39;49;00m \u001b[04m\u001b[32mLSTMClassifier\u001b[39;49;00m(nn.Module):\r\n",
      "    \u001b[33m\"\"\"\u001b[39;49;00m\r\n",
      "\u001b[33m    This is the simple RNN model we will be using to perform Sentiment Analysis.\u001b[39;49;00m\r\n",
      "\u001b[33m    \"\"\"\u001b[39;49;00m\r\n",
      "\r\n",
      "    \u001b[34mdef\u001b[39;49;00m \u001b[32m__init__\u001b[39;49;00m(\u001b[36mself\u001b[39;49;00m, embedding_dim, hidden_dim, vocab_size):\r\n",
      "        \u001b[33m\"\"\"\u001b[39;49;00m\r\n",
      "\u001b[33m        Initialize the model by settingg up the various layers.\u001b[39;49;00m\r\n",
      "\u001b[33m        \"\"\"\u001b[39;49;00m\r\n",
      "        \u001b[36msuper\u001b[39;49;00m(LSTMClassifier, \u001b[36mself\u001b[39;49;00m).\u001b[32m__init__\u001b[39;49;00m()\r\n",
      "\r\n",
      "        \u001b[36mself\u001b[39;49;00m.embedding = nn.Embedding(vocab_size, embedding_dim, padding_idx=\u001b[34m0\u001b[39;49;00m)\r\n",
      "        \u001b[36mself\u001b[39;49;00m.lstm = nn.LSTM(embedding_dim, hidden_dim)\r\n",
      "        \u001b[36mself\u001b[39;49;00m.dense = nn.Linear(in_features=hidden_dim, out_features=\u001b[34m1\u001b[39;49;00m)\r\n",
      "        \u001b[36mself\u001b[39;49;00m.sig = nn.Sigmoid()\r\n",
      "        \r\n",
      "        \u001b[36mself\u001b[39;49;00m.word_dict = \u001b[36mNone\u001b[39;49;00m\r\n",
      "\r\n",
      "    \u001b[34mdef\u001b[39;49;00m \u001b[32mforward\u001b[39;49;00m(\u001b[36mself\u001b[39;49;00m, x):\r\n",
      "        \u001b[33m\"\"\"\u001b[39;49;00m\r\n",
      "\u001b[33m        Perform a forward pass of our model on some input.\u001b[39;49;00m\r\n",
      "\u001b[33m        \"\"\"\u001b[39;49;00m\r\n",
      "        x = x.t()\r\n",
      "        lengths = x[\u001b[34m0\u001b[39;49;00m,:]\r\n",
      "        reviews = x[\u001b[34m1\u001b[39;49;00m:,:]\r\n",
      "        embeds = \u001b[36mself\u001b[39;49;00m.embedding(reviews)\r\n",
      "        lstm_out, _ = \u001b[36mself\u001b[39;49;00m.lstm(embeds)\r\n",
      "        out = \u001b[36mself\u001b[39;49;00m.dense(lstm_out)\r\n",
      "        out = out[lengths - \u001b[34m1\u001b[39;49;00m, \u001b[36mrange\u001b[39;49;00m(\u001b[36mlen\u001b[39;49;00m(lengths))]\r\n",
      "        \u001b[34mreturn\u001b[39;49;00m \u001b[36mself\u001b[39;49;00m.sig(out.squeeze())\r\n"
     ]
    }
   ],
   "source": [
    "!pygmentize train/model.py"
   ]
  },
  {
   "cell_type": "markdown",
   "metadata": {},
   "source": [
    "The important takeaway from the implementation provided is that there are three parameters that we may wish to tweak to improve the performance of our model. These are the embedding dimension, the hidden dimension and the size of the vocabulary. We will likely want to make these parameters configurable in the training script so that if we wish to modify them we do not need to modify the script itself. We will see how to do this later on. To start we will write some of the training code in the notebook so that we can more easily diagnose any issues that arise.\n",
    "\n",
    "First we will load a small portion of the training data set to use as a sample. It would be very time consuming to try and train the model completely in the notebook as we do not have access to a gpu and the compute instance that we are using is not particularly powerful. However, we can work on a small bit of the data to get a feel for how our training script is behaving."
   ]
  },
  {
   "cell_type": "code",
   "execution_count": 23,
   "metadata": {},
   "outputs": [],
   "source": [
    "import torch\n",
    "import torch.utils.data\n",
    "\n",
    "# Read in only the first 250 rows\n",
    "train_sample = pd.read_csv(os.path.join(data_dir, 'train.csv'), header=None, names=None, nrows=250)\n",
    "\n",
    "# Turn the input pandas dataframe into tensors\n",
    "train_sample_y = torch.from_numpy(train_sample[[0]].values).float().squeeze()\n",
    "train_sample_X = torch.from_numpy(train_sample.drop([0], axis=1).values).long()\n",
    "\n",
    "# Build the dataset\n",
    "train_sample_ds = torch.utils.data.TensorDataset(train_sample_X, train_sample_y)\n",
    "# Build the dataloader\n",
    "train_sample_dl = torch.utils.data.DataLoader(train_sample_ds, batch_size=50)"
   ]
  },
  {
   "cell_type": "markdown",
   "metadata": {},
   "source": [
    "### (TODO) Writing the training method\n",
    "\n",
    "Next we need to write the training code itself. This should be very similar to training methods that you have written before to train PyTorch models. We will leave any difficult aspects such as model saving / loading and parameter loading until a little later."
   ]
  },
  {
   "cell_type": "code",
   "execution_count": 24,
   "metadata": {},
   "outputs": [],
   "source": [
    "def train(model, train_loader, epochs, optimizer, loss_fn, device):\n",
    "    for epoch in range(1, epochs + 1):\n",
    "        model.train()\n",
    "        total_loss = 0\n",
    "        for batch in train_loader:         \n",
    "            batch_X, batch_y = batch\n",
    "            \n",
    "            batch_X = batch_X.to(device)\n",
    "            batch_y = batch_y.to(device)\n",
    "            \n",
    "            # TODO: Complete this train method to train the model provided.\n",
    "            optimizer.zero_grad()\n",
    "            output = model.forward(batch_X)\n",
    "            loss = loss_fn(output,batch_y)\n",
    "            loss.backward()\n",
    "            optimizer.step()\n",
    "            \n",
    "            total_loss += loss.data.item()\n",
    "        print(\"Epoch: {}, BCELoss: {}\".format(epoch, total_loss / len(train_loader)))"
   ]
  },
  {
   "cell_type": "markdown",
   "metadata": {},
   "source": [
    "Supposing we have the training method above, we will test that it is working by writing a bit of code in the notebook that executes our training method on the small sample training set that we loaded earlier. The reason for doing this in the notebook is so that we have an opportunity to fix any errors that arise early when they are easier to diagnose."
   ]
  },
  {
   "cell_type": "code",
   "execution_count": 25,
   "metadata": {},
   "outputs": [
    {
     "name": "stdout",
     "output_type": "stream",
     "text": [
      "Epoch: 1, BCELoss: 0.6954108953475953\n",
      "Epoch: 2, BCELoss: 0.686105751991272\n",
      "Epoch: 3, BCELoss: 0.6779274463653564\n",
      "Epoch: 4, BCELoss: 0.6687973499298095\n",
      "Epoch: 5, BCELoss: 0.6574286580085754\n"
     ]
    }
   ],
   "source": [
    "import torch.optim as optim\n",
    "from train.model import LSTMClassifier\n",
    "\n",
    "device = torch.device(\"cuda\" if torch.cuda.is_available() else \"cpu\")\n",
    "model = LSTMClassifier(32, 100, 5000).to(device)\n",
    "optimizer = optim.Adam(model.parameters())\n",
    "loss_fn = torch.nn.BCELoss()\n",
    "\n",
    "train(model, train_sample_dl, 5, optimizer, loss_fn, device)"
   ]
  },
  {
   "cell_type": "markdown",
   "metadata": {},
   "source": [
    "In order to construct a PyTorch model using SageMaker we must provide SageMaker with a training script. We may optionally include a directory which will be copied to the container and from which our training code will be run. When the training container is executed it will check the uploaded directory (if there is one) for a `requirements.txt` file and install any required Python libraries, after which the training script will be run."
   ]
  },
  {
   "cell_type": "markdown",
   "metadata": {},
   "source": [
    "### (TODO) Training the model\n",
    "\n",
    "When a PyTorch model is constructed in SageMaker, an entry point must be specified. This is the Python file which will be executed when the model is trained. Inside of the `train` directory is a file called `train.py` which has been provided and which contains most of the necessary code to train our model. The only thing that is missing is the implementation of the `train()` method which you wrote earlier in this notebook.\n",
    "\n",
    "**TODO**: Copy the `train()` method written above and paste it into the `train/train.py` file where required.\n",
    "\n",
    "The way that SageMaker passes hyperparameters to the training script is by way of arguments. These arguments can then be parsed and used in the training script. To see how this is done take a look at the provided `train/train.py` file."
   ]
  },
  {
   "cell_type": "code",
   "execution_count": 41,
   "metadata": {},
   "outputs": [],
   "source": [
    "from sagemaker.pytorch import PyTorch\n",
    "\n",
    "estimator = PyTorch(entry_point=\"train.py\",\n",
    "                    source_dir=\"train\",\n",
    "                    role=role,\n",
    "                    framework_version='0.4.0',\n",
    "                    train_instance_count=1,\n",
    "                    train_instance_type='ml.p2.xlarge',\n",
    "                    hyperparameters={\n",
    "                        'epochs': 10,\n",
    "                        'hidden_dim': 200,\n",
    "                    })"
   ]
  },
  {
   "cell_type": "code",
   "execution_count": 42,
   "metadata": {},
   "outputs": [
    {
     "name": "stdout",
     "output_type": "stream",
     "text": [
      "2020-06-01 03:17:15 Starting - Starting the training job...\n",
      "2020-06-01 03:17:17 Starting - Launching requested ML instances......\n",
      "2020-06-01 03:18:20 Starting - Preparing the instances for training......\n",
      "2020-06-01 03:19:37 Downloading - Downloading input data......\n",
      "2020-06-01 03:20:45 Training - Training image download completed. Training in progress..\u001b[34mbash: cannot set terminal process group (-1): Inappropriate ioctl for device\u001b[0m\n",
      "\u001b[34mbash: no job control in this shell\u001b[0m\n",
      "\u001b[34m2020-06-01 03:20:46,228 sagemaker-containers INFO     Imported framework sagemaker_pytorch_container.training\u001b[0m\n",
      "\u001b[34m2020-06-01 03:20:46,253 sagemaker_pytorch_container.training INFO     Block until all host DNS lookups succeed.\u001b[0m\n",
      "\u001b[34m2020-06-01 03:20:49,286 sagemaker_pytorch_container.training INFO     Invoking user training script.\u001b[0m\n",
      "\u001b[34m2020-06-01 03:20:49,515 sagemaker-containers INFO     Module train does not provide a setup.py. \u001b[0m\n",
      "\u001b[34mGenerating setup.py\u001b[0m\n",
      "\u001b[34m2020-06-01 03:20:49,515 sagemaker-containers INFO     Generating setup.cfg\u001b[0m\n",
      "\u001b[34m2020-06-01 03:20:49,515 sagemaker-containers INFO     Generating MANIFEST.in\u001b[0m\n",
      "\u001b[34m2020-06-01 03:20:49,515 sagemaker-containers INFO     Installing module with the following command:\u001b[0m\n",
      "\u001b[34m/usr/bin/python -m pip install -U . -r requirements.txt\u001b[0m\n",
      "\u001b[34mProcessing /opt/ml/code\u001b[0m\n",
      "\u001b[34mCollecting pandas (from -r requirements.txt (line 1))\n",
      "  Downloading https://files.pythonhosted.org/packages/74/24/0cdbf8907e1e3bc5a8da03345c23cbed7044330bb8f73bb12e711a640a00/pandas-0.24.2-cp35-cp35m-manylinux1_x86_64.whl (10.0MB)\u001b[0m\n",
      "\u001b[34mCollecting numpy (from -r requirements.txt (line 2))\u001b[0m\n",
      "\u001b[34m  Downloading https://files.pythonhosted.org/packages/38/92/fa5295d9755c7876cb8490eab866e1780154033fa45978d9cf74ffbd4c68/numpy-1.18.4-cp35-cp35m-manylinux1_x86_64.whl (20.0MB)\u001b[0m\n",
      "\u001b[34mCollecting nltk (from -r requirements.txt (line 3))\n",
      "  Downloading https://files.pythonhosted.org/packages/92/75/ce35194d8e3022203cca0d2f896dbb88689f9b3fce8e9f9cff942913519d/nltk-3.5.zip (1.4MB)\u001b[0m\n",
      "\u001b[34mCollecting beautifulsoup4 (from -r requirements.txt (line 4))\n",
      "  Downloading https://files.pythonhosted.org/packages/66/25/ff030e2437265616a1e9b25ccc864e0371a0bc3adb7c5a404fd661c6f4f6/beautifulsoup4-4.9.1-py3-none-any.whl (115kB)\u001b[0m\n",
      "\u001b[34mCollecting html5lib (from -r requirements.txt (line 5))\n",
      "  Downloading https://files.pythonhosted.org/packages/a5/62/bbd2be0e7943ec8504b517e62bab011b4946e1258842bc159e5dfde15b96/html5lib-1.0.1-py2.py3-none-any.whl (117kB)\u001b[0m\n",
      "\u001b[34mRequirement already satisfied, skipping upgrade: python-dateutil>=2.5.0 in /usr/local/lib/python3.5/dist-packages (from pandas->-r requirements.txt (line 1)) (2.7.5)\u001b[0m\n",
      "\u001b[34mCollecting pytz>=2011k (from pandas->-r requirements.txt (line 1))\n",
      "  Downloading https://files.pythonhosted.org/packages/4f/a4/879454d49688e2fad93e59d7d4efda580b783c745fd2ec2a3adf87b0808d/pytz-2020.1-py2.py3-none-any.whl (510kB)\u001b[0m\n",
      "\u001b[34mRequirement already satisfied, skipping upgrade: click in /usr/local/lib/python3.5/dist-packages (from nltk->-r requirements.txt (line 3)) (7.0)\u001b[0m\n",
      "\u001b[34mCollecting joblib (from nltk->-r requirements.txt (line 3))\u001b[0m\n",
      "\u001b[34m  Downloading https://files.pythonhosted.org/packages/28/5c/cf6a2b65a321c4a209efcdf64c2689efae2cb62661f8f6f4bb28547cf1bf/joblib-0.14.1-py2.py3-none-any.whl (294kB)\u001b[0m\n",
      "\u001b[34mCollecting regex (from nltk->-r requirements.txt (line 3))\n",
      "  Downloading https://files.pythonhosted.org/packages/14/8d/d44863d358e9dba3bdfb06099bbbeddbac8fb360773ba73250a849af4b01/regex-2020.5.14.tar.gz (696kB)\u001b[0m\n",
      "\u001b[34mCollecting tqdm (from nltk->-r requirements.txt (line 3))\n",
      "  Downloading https://files.pythonhosted.org/packages/c9/40/058b12e8ba10e35f89c9b1fdfc2d4c7f8c05947df2d5eb3c7b258019fda0/tqdm-4.46.0-py2.py3-none-any.whl (63kB)\u001b[0m\n",
      "\u001b[34mCollecting soupsieve>1.2 (from beautifulsoup4->-r requirements.txt (line 4))\n",
      "  Downloading https://files.pythonhosted.org/packages/6f/8f/457f4a5390eeae1cc3aeab89deb7724c965be841ffca6cfca9197482e470/soupsieve-2.0.1-py3-none-any.whl\u001b[0m\n",
      "\u001b[34mCollecting webencodings (from html5lib->-r requirements.txt (line 5))\n",
      "  Downloading https://files.pythonhosted.org/packages/f4/24/2a3e3df732393fed8b3ebf2ec078f05546de641fe1b667ee316ec1dcf3b7/webencodings-0.5.1-py2.py3-none-any.whl\u001b[0m\n",
      "\u001b[34mRequirement already satisfied, skipping upgrade: six>=1.9 in /usr/local/lib/python3.5/dist-packages (from html5lib->-r requirements.txt (line 5)) (1.11.0)\u001b[0m\n",
      "\u001b[34mBuilding wheels for collected packages: nltk, train, regex\n",
      "  Running setup.py bdist_wheel for nltk: started\u001b[0m\n",
      "\u001b[34m  Running setup.py bdist_wheel for nltk: finished with status 'done'\n",
      "  Stored in directory: /root/.cache/pip/wheels/ae/8c/3f/b1fe0ba04555b08b57ab52ab7f86023639a526d8bc8d384306\n",
      "  Running setup.py bdist_wheel for train: started\n",
      "  Running setup.py bdist_wheel for train: finished with status 'done'\n",
      "  Stored in directory: /tmp/pip-ephem-wheel-cache-l7ds59np/wheels/35/24/16/37574d11bf9bde50616c67372a334f94fa8356bc7164af8ca3\n",
      "  Running setup.py bdist_wheel for regex: started\u001b[0m\n",
      "\u001b[34m  Running setup.py bdist_wheel for regex: finished with status 'done'\n",
      "  Stored in directory: /root/.cache/pip/wheels/ee/3a/5c/1f0ce151d6ddeee56e03e933603e21b5b8dcc727989fde82f5\u001b[0m\n",
      "\u001b[34mSuccessfully built nltk train regex\u001b[0m\n",
      "\u001b[34mInstalling collected packages: pytz, numpy, pandas, joblib, regex, tqdm, nltk, soupsieve, beautifulsoup4, webencodings, html5lib, train\n",
      "  Found existing installation: numpy 1.15.4\u001b[0m\n",
      "\u001b[34m    Uninstalling numpy-1.15.4:\n",
      "      Successfully uninstalled numpy-1.15.4\u001b[0m\n",
      "\u001b[34mSuccessfully installed beautifulsoup4-4.9.1 html5lib-1.0.1 joblib-0.14.1 nltk-3.5 numpy-1.18.4 pandas-0.24.2 pytz-2020.1 regex-2020.5.14 soupsieve-2.0.1 tqdm-4.46.0 train-1.0.0 webencodings-0.5.1\u001b[0m\n",
      "\u001b[34mYou are using pip version 18.1, however version 20.2b1 is available.\u001b[0m\n",
      "\u001b[34mYou should consider upgrading via the 'pip install --upgrade pip' command.\u001b[0m\n",
      "\u001b[34m2020-06-01 03:21:12,886 sagemaker-containers INFO     Invoking user script\n",
      "\u001b[0m\n",
      "\u001b[34mTraining Env:\n",
      "\u001b[0m\n",
      "\u001b[34m{\n",
      "    \"input_data_config\": {\n",
      "        \"training\": {\n",
      "            \"S3DistributionType\": \"FullyReplicated\",\n",
      "            \"TrainingInputMode\": \"File\",\n",
      "            \"RecordWrapperType\": \"None\"\n",
      "        }\n",
      "    },\n",
      "    \"additional_framework_parameters\": {},\n",
      "    \"hosts\": [\n",
      "        \"algo-1\"\n",
      "    ],\n",
      "    \"output_data_dir\": \"/opt/ml/output/data\",\n",
      "    \"job_name\": \"sagemaker-pytorch-2020-06-01-03-17-14-852\",\n",
      "    \"module_name\": \"train\",\n",
      "    \"current_host\": \"algo-1\",\n",
      "    \"framework_module\": \"sagemaker_pytorch_container.training:main\",\n",
      "    \"log_level\": 20,\n",
      "    \"user_entry_point\": \"train.py\",\n",
      "    \"input_config_dir\": \"/opt/ml/input/config\",\n",
      "    \"input_dir\": \"/opt/ml/input\",\n",
      "    \"num_gpus\": 1,\n",
      "    \"module_dir\": \"s3://sagemaker-us-east-2-882301670682/sagemaker-pytorch-2020-06-01-03-17-14-852/source/sourcedir.tar.gz\",\n",
      "    \"hyperparameters\": {\n",
      "        \"epochs\": 10,\n",
      "        \"hidden_dim\": 200\n",
      "    },\n",
      "    \"model_dir\": \"/opt/ml/model\",\n",
      "    \"num_cpus\": 4,\n",
      "    \"channel_input_dirs\": {\n",
      "        \"training\": \"/opt/ml/input/data/training\"\n",
      "    },\n",
      "    \"output_intermediate_dir\": \"/opt/ml/output/intermediate\",\n",
      "    \"output_dir\": \"/opt/ml/output\",\n",
      "    \"resource_config\": {\n",
      "        \"hosts\": [\n",
      "            \"algo-1\"\n",
      "        ],\n",
      "        \"current_host\": \"algo-1\",\n",
      "        \"network_interface_name\": \"eth0\"\n",
      "    },\n",
      "    \"network_interface_name\": \"eth0\"\u001b[0m\n",
      "\u001b[34m}\n",
      "\u001b[0m\n",
      "\u001b[34mEnvironment variables:\n",
      "\u001b[0m\n",
      "\u001b[34mSM_HP_EPOCHS=10\u001b[0m\n",
      "\u001b[34mSM_MODULE_NAME=train\u001b[0m\n",
      "\u001b[34mSM_HOSTS=[\"algo-1\"]\u001b[0m\n",
      "\u001b[34mSM_TRAINING_ENV={\"additional_framework_parameters\":{},\"channel_input_dirs\":{\"training\":\"/opt/ml/input/data/training\"},\"current_host\":\"algo-1\",\"framework_module\":\"sagemaker_pytorch_container.training:main\",\"hosts\":[\"algo-1\"],\"hyperparameters\":{\"epochs\":10,\"hidden_dim\":200},\"input_config_dir\":\"/opt/ml/input/config\",\"input_data_config\":{\"training\":{\"RecordWrapperType\":\"None\",\"S3DistributionType\":\"FullyReplicated\",\"TrainingInputMode\":\"File\"}},\"input_dir\":\"/opt/ml/input\",\"job_name\":\"sagemaker-pytorch-2020-06-01-03-17-14-852\",\"log_level\":20,\"model_dir\":\"/opt/ml/model\",\"module_dir\":\"s3://sagemaker-us-east-2-882301670682/sagemaker-pytorch-2020-06-01-03-17-14-852/source/sourcedir.tar.gz\",\"module_name\":\"train\",\"network_interface_name\":\"eth0\",\"num_cpus\":4,\"num_gpus\":1,\"output_data_dir\":\"/opt/ml/output/data\",\"output_dir\":\"/opt/ml/output\",\"output_intermediate_dir\":\"/opt/ml/output/intermediate\",\"resource_config\":{\"current_host\":\"algo-1\",\"hosts\":[\"algo-1\"],\"network_interface_name\":\"eth0\"},\"user_entry_point\":\"train.py\"}\u001b[0m\n",
      "\u001b[34mSM_INPUT_DIR=/opt/ml/input\u001b[0m\n",
      "\u001b[34mPYTHONPATH=/usr/local/bin:/usr/lib/python35.zip:/usr/lib/python3.5:/usr/lib/python3.5/plat-x86_64-linux-gnu:/usr/lib/python3.5/lib-dynload:/usr/local/lib/python3.5/dist-packages:/usr/lib/python3/dist-packages\u001b[0m\n",
      "\u001b[34mSM_NUM_GPUS=1\u001b[0m\n",
      "\u001b[34mSM_INPUT_CONFIG_DIR=/opt/ml/input/config\u001b[0m\n",
      "\u001b[34mSM_CHANNELS=[\"training\"]\u001b[0m\n",
      "\u001b[34mSM_OUTPUT_DIR=/opt/ml/output\u001b[0m\n",
      "\u001b[34mSM_FRAMEWORK_PARAMS={}\u001b[0m\n",
      "\u001b[34mSM_MODEL_DIR=/opt/ml/model\u001b[0m\n",
      "\u001b[34mSM_CHANNEL_TRAINING=/opt/ml/input/data/training\u001b[0m\n",
      "\u001b[34mSM_MODULE_DIR=s3://sagemaker-us-east-2-882301670682/sagemaker-pytorch-2020-06-01-03-17-14-852/source/sourcedir.tar.gz\u001b[0m\n",
      "\u001b[34mSM_USER_ARGS=[\"--epochs\",\"10\",\"--hidden_dim\",\"200\"]\u001b[0m\n",
      "\u001b[34mSM_FRAMEWORK_MODULE=sagemaker_pytorch_container.training:main\u001b[0m\n",
      "\u001b[34mSM_NETWORK_INTERFACE_NAME=eth0\u001b[0m\n",
      "\u001b[34mSM_OUTPUT_DATA_DIR=/opt/ml/output/data\u001b[0m\n",
      "\u001b[34mSM_RESOURCE_CONFIG={\"current_host\":\"algo-1\",\"hosts\":[\"algo-1\"],\"network_interface_name\":\"eth0\"}\u001b[0m\n",
      "\u001b[34mSM_OUTPUT_INTERMEDIATE_DIR=/opt/ml/output/intermediate\u001b[0m\n",
      "\u001b[34mSM_HP_HIDDEN_DIM=200\u001b[0m\n",
      "\u001b[34mSM_LOG_LEVEL=20\u001b[0m\n",
      "\u001b[34mSM_CURRENT_HOST=algo-1\u001b[0m\n",
      "\u001b[34mSM_HPS={\"epochs\":10,\"hidden_dim\":200}\u001b[0m\n",
      "\u001b[34mSM_USER_ENTRY_POINT=train.py\u001b[0m\n",
      "\u001b[34mSM_NUM_CPUS=4\u001b[0m\n",
      "\u001b[34mSM_INPUT_DATA_CONFIG={\"training\":{\"RecordWrapperType\":\"None\",\"S3DistributionType\":\"FullyReplicated\",\"TrainingInputMode\":\"File\"}}\n",
      "\u001b[0m\n",
      "\u001b[34mInvoking script with the following command:\n",
      "\u001b[0m\n",
      "\u001b[34m/usr/bin/python -m train --epochs 10 --hidden_dim 200\n",
      "\n",
      "\u001b[0m\n",
      "\u001b[34mUsing device cuda.\u001b[0m\n",
      "\u001b[34mGet train data loader.\u001b[0m\n",
      "\u001b[34mModel loaded with embedding_dim 32, hidden_dim 200, vocab_size 5000.\u001b[0m\n"
     ]
    },
    {
     "name": "stdout",
     "output_type": "stream",
     "text": [
      "\u001b[34mEpoch: 1, BCELoss: 0.6758611506345321\u001b[0m\n",
      "\u001b[34mEpoch: 2, BCELoss: 0.609941231961153\u001b[0m\n",
      "\u001b[34mEpoch: 3, BCELoss: 0.556944518064966\u001b[0m\n",
      "\u001b[34mEpoch: 4, BCELoss: 0.47709161651377774\u001b[0m\n",
      "\u001b[34mEpoch: 5, BCELoss: 0.4147035795815137\u001b[0m\n",
      "\u001b[34mEpoch: 6, BCELoss: 0.37494581451221387\u001b[0m\n",
      "\u001b[34mEpoch: 7, BCELoss: 0.34442239574023653\u001b[0m\n",
      "\u001b[34mEpoch: 8, BCELoss: 0.3226932013521389\u001b[0m\n",
      "\u001b[34mEpoch: 9, BCELoss: 0.2982354900058435\u001b[0m\n",
      "\n",
      "2020-06-01 03:24:13 Uploading - Uploading generated training model\u001b[34mEpoch: 10, BCELoss: 0.2738947138494375\u001b[0m\n",
      "\u001b[34m2020-06-01 03:24:12,261 sagemaker-containers INFO     Reporting training SUCCESS\u001b[0m\n",
      "\n",
      "2020-06-01 03:24:48 Completed - Training job completed\n",
      "Training seconds: 311\n",
      "Billable seconds: 311\n"
     ]
    }
   ],
   "source": [
    "estimator.fit({'training': input_data})"
   ]
  },
  {
   "cell_type": "markdown",
   "metadata": {},
   "source": [
    "## Step 5: Testing the model\n",
    "\n",
    "As mentioned at the top of this notebook, we will be testing this model by first deploying it and then sending the testing data to the deployed endpoint. We will do this so that we can make sure that the deployed model is working correctly.\n",
    "\n",
    "## Step 6: Deploy the model for testing\n",
    "\n",
    "Now that we have trained our model, we would like to test it to see how it performs. Currently our model takes input of the form `review_length, review[500]` where `review[500]` is a sequence of `500` integers which describe the words present in the review, encoded using `word_dict`. Fortunately for us, SageMaker provides built-in inference code for models with simple inputs such as this.\n",
    "\n",
    "There is one thing that we need to provide, however, and that is a function which loads the saved model. This function must be called `model_fn()` and takes as its only parameter a path to the directory where the model artifacts are stored. This function must also be present in the python file which we specified as the entry point. In our case the model loading function has been provided and so no changes need to be made.\n",
    "\n",
    "**NOTE**: When the built-in inference code is run it must import the `model_fn()` method from the `train.py` file. This is why the training code is wrapped in a main guard ( ie, `if __name__ == '__main__':` )\n",
    "\n",
    "Since we don't need to change anything in the code that was uploaded during training, we can simply deploy the current model as-is.\n",
    "\n",
    "**NOTE:** When deploying a model you are asking SageMaker to launch an compute instance that will wait for data to be sent to it. As a result, this compute instance will continue to run until *you* shut it down. This is important to know since the cost of a deployed endpoint depends on how long it has been running for.\n",
    "\n",
    "In other words **If you are no longer using a deployed endpoint, shut it down!**\n",
    "\n",
    "**TODO:** Deploy the trained model."
   ]
  },
  {
   "cell_type": "code",
   "execution_count": 43,
   "metadata": {},
   "outputs": [
    {
     "name": "stdout",
     "output_type": "stream",
     "text": [
      "---------------!"
     ]
    }
   ],
   "source": [
    "# TODO: Deploy the trained model\n",
    "predictor = estimator.deploy(initial_instance_count=1, instance_type='ml.p2.xlarge')"
   ]
  },
  {
   "cell_type": "markdown",
   "metadata": {},
   "source": [
    "## Step 7 - Use the model for testing\n",
    "\n",
    "Once deployed, we can read in the test data and send it off to our deployed model to get some results. Once we collect all of the results we can determine how accurate our model is."
   ]
  },
  {
   "cell_type": "code",
   "execution_count": 46,
   "metadata": {},
   "outputs": [],
   "source": [
    "test_X = pd.concat([pd.DataFrame(test_X_len), pd.DataFrame(test_X)], axis=1)"
   ]
  },
  {
   "cell_type": "code",
   "execution_count": 47,
   "metadata": {},
   "outputs": [],
   "source": [
    "# We split the data into chunks and send each chunk seperately, accumulating the results.\n",
    "\n",
    "def predict(data, rows=512):\n",
    "    split_array = np.array_split(data, int(data.shape[0] / float(rows) + 1))\n",
    "    predictions = np.array([])\n",
    "    for array in split_array:\n",
    "        predictions = np.append(predictions, predictor.predict(array))\n",
    "    \n",
    "    return predictions"
   ]
  },
  {
   "cell_type": "code",
   "execution_count": 48,
   "metadata": {},
   "outputs": [],
   "source": [
    "predictions = predict(test_X.values)\n",
    "predictions = [round(num) for num in predictions]"
   ]
  },
  {
   "cell_type": "code",
   "execution_count": 49,
   "metadata": {},
   "outputs": [
    {
     "data": {
      "text/plain": [
       "0.8298"
      ]
     },
     "execution_count": 49,
     "metadata": {},
     "output_type": "execute_result"
    }
   ],
   "source": [
    "from sklearn.metrics import accuracy_score\n",
    "accuracy_score(test_y, predictions)"
   ]
  },
  {
   "cell_type": "markdown",
   "metadata": {},
   "source": [
    "**Question:** How does this model compare to the XGBoost model you created earlier? Why might these two models perform differently on this dataset? Which do *you* think is better for sentiment analysis?"
   ]
  },
  {
   "cell_type": "markdown",
   "metadata": {},
   "source": [
    "**Answer:** Here XGBoost and RNN have alomost same performance,but hyperparameter may boost RNN performance."
   ]
  },
  {
   "cell_type": "markdown",
   "metadata": {},
   "source": [
    "(TODO) More testing\n",
    "\n",
    "We now have a trained model which has been deployed and which we can send processed reviews to and which returns the predicted sentiment. However, ultimately we would like to be able to send our model an unprocessed review. That is, we would like to send the review itself as a string. For example, suppose we wish to send the following review to our model."
   ]
  },
  {
   "cell_type": "code",
   "execution_count": 50,
   "metadata": {},
   "outputs": [],
   "source": [
    "test_review = 'The simplest pleasures in life are the best, and this film is one of them. Combining a rather basic storyline of love and adventure this movie transcends the usual weekend fair with wit and unmitigated charm.'"
   ]
  },
  {
   "cell_type": "markdown",
   "metadata": {},
   "source": [
    "The question we now need to answer is, how do we send this review to our model?\n",
    "\n",
    "Recall in the first section of this notebook we did a bunch of data processing to the IMDb dataset. In particular, we did two specific things to the provided reviews.\n",
    " - Removed any html tags and stemmed the input\n",
    " - Encoded the review as a sequence of integers using `word_dict`\n",
    " \n",
    "In order process the review we will need to repeat these two steps.\n",
    "\n",
    "**TODO**: Using the `review_to_words` and `convert_and_pad` methods from section one, convert `test_review` into a numpy array `test_data` suitable to send to our model. Remember that our model expects input of the form `review_length, review[500]`."
   ]
  },
  {
   "cell_type": "code",
   "execution_count": 78,
   "metadata": {},
   "outputs": [
    {
     "name": "stdout",
     "output_type": "stream",
     "text": [
      "[[20, 1, 1376, 49, 53, 3, 4, 878, 173, 392, 682, 29, 724, 2, 4418, 275, 2078, 1061, 760, 1, 581, 0, 0, 0, 0, 0, 0, 0, 0, 0, 0, 0, 0, 0, 0, 0, 0, 0, 0, 0, 0, 0, 0, 0, 0, 0, 0, 0, 0, 0, 0, 0, 0, 0, 0, 0, 0, 0, 0, 0, 0, 0, 0, 0, 0, 0, 0, 0, 0, 0, 0, 0, 0, 0, 0, 0, 0, 0, 0, 0, 0, 0, 0, 0, 0, 0, 0, 0, 0, 0, 0, 0, 0, 0, 0, 0, 0, 0, 0, 0, 0, 0, 0, 0, 0, 0, 0, 0, 0, 0, 0, 0, 0, 0, 0, 0, 0, 0, 0, 0, 0, 0, 0, 0, 0, 0, 0, 0, 0, 0, 0, 0, 0, 0, 0, 0, 0, 0, 0, 0, 0, 0, 0, 0, 0, 0, 0, 0, 0, 0, 0, 0, 0, 0, 0, 0, 0, 0, 0, 0, 0, 0, 0, 0, 0, 0, 0, 0, 0, 0, 0, 0, 0, 0, 0, 0, 0, 0, 0, 0, 0, 0, 0, 0, 0, 0, 0, 0, 0, 0, 0, 0, 0, 0, 0, 0, 0, 0, 0, 0, 0, 0, 0, 0, 0, 0, 0, 0, 0, 0, 0, 0, 0, 0, 0, 0, 0, 0, 0, 0, 0, 0, 0, 0, 0, 0, 0, 0, 0, 0, 0, 0, 0, 0, 0, 0, 0, 0, 0, 0, 0, 0, 0, 0, 0, 0, 0, 0, 0, 0, 0, 0, 0, 0, 0, 0, 0, 0, 0, 0, 0, 0, 0, 0, 0, 0, 0, 0, 0, 0, 0, 0, 0, 0, 0, 0, 0, 0, 0, 0, 0, 0, 0, 0, 0, 0, 0, 0, 0, 0, 0, 0, 0, 0, 0, 0, 0, 0, 0, 0, 0, 0, 0, 0, 0, 0, 0, 0, 0, 0, 0, 0, 0, 0, 0, 0, 0, 0, 0, 0, 0, 0, 0, 0, 0, 0, 0, 0, 0, 0, 0, 0, 0, 0, 0, 0, 0, 0, 0, 0, 0, 0, 0, 0, 0, 0, 0, 0, 0, 0, 0, 0, 0, 0, 0, 0, 0, 0, 0, 0, 0, 0, 0, 0, 0, 0, 0, 0, 0, 0, 0, 0, 0, 0, 0, 0, 0, 0, 0, 0, 0, 0, 0, 0, 0, 0, 0, 0, 0, 0, 0, 0, 0, 0, 0, 0, 0, 0, 0, 0, 0, 0, 0, 0, 0, 0, 0, 0, 0, 0, 0, 0, 0, 0, 0, 0, 0, 0, 0, 0, 0, 0, 0, 0, 0, 0, 0, 0, 0, 0, 0, 0, 0, 0, 0, 0, 0, 0, 0, 0, 0, 0, 0, 0, 0, 0, 0, 0, 0, 0, 0, 0, 0, 0, 0, 0, 0, 0, 0, 0, 0, 0, 0, 0, 0, 0, 0, 0, 0, 0, 0, 0, 0, 0, 0, 0, 0, 0, 0, 0, 0, 0, 0, 0, 0, 0, 0, 0, 0, 0, 0, 0, 0, 0, 0, 0, 0, 0, 0, 0, 0]]\n"
     ]
    }
   ],
   "source": [
    "# TODO: Convert test_review into a form usable by the model and save the results in test_data\n",
    "review_words, review_words_len = convert_and_pad(word_dict, review_to_words(test_review), 500)\n",
    "data = [[review_words_len]+ review_words]\n",
    "print(data)\n",
    "test_data =  pd.DataFrame(data)"
   ]
  },
  {
   "cell_type": "markdown",
   "metadata": {},
   "source": [
    "Now that we have processed the review, we can send the resulting array to our model to predict the sentiment of the review."
   ]
  },
  {
   "cell_type": "code",
   "execution_count": 55,
   "metadata": {},
   "outputs": [
    {
     "data": {
      "text/plain": [
       "array(0.9492088, dtype=float32)"
      ]
     },
     "execution_count": 55,
     "metadata": {},
     "output_type": "execute_result"
    }
   ],
   "source": [
    "predictor.predict(test_data)"
   ]
  },
  {
   "cell_type": "markdown",
   "metadata": {},
   "source": [
    "Since the return value of our model is close to `1`, we can be certain that the review we submitted is positive."
   ]
  },
  {
   "cell_type": "markdown",
   "metadata": {},
   "source": [
    "### Delete the endpoint\n",
    "\n",
    "Of course, just like in the XGBoost notebook, once we've deployed an endpoint it continues to run until we tell it to shut down. Since we are done using our endpoint for now, we can delete it."
   ]
  },
  {
   "cell_type": "code",
   "execution_count": 35,
   "metadata": {},
   "outputs": [],
   "source": [
    "estimator.delete_endpoint()"
   ]
  },
  {
   "cell_type": "markdown",
   "metadata": {},
   "source": [
    "## Step 6 (again) - Deploy the model for the web app\n",
    "\n",
    "Now that we know that our model is working, it's time to create some custom inference code so that we can send the model a review which has not been processed and have it determine the sentiment of the review.\n",
    "\n",
    "As we saw above, by default the estimator which we created, when deployed, will use the entry script and directory which we provided when creating the model. However, since we now wish to accept a string as input and our model expects a processed review, we need to write some custom inference code.\n",
    "\n",
    "We will store the code that we write in the `serve` directory. Provided in this directory is the `model.py` file that we used to construct our model, a `utils.py` file which contains the `review_to_words` and `convert_and_pad` pre-processing functions which we used during the initial data processing, and `predict.py`, the file which will contain our custom inference code. Note also that `requirements.txt` is present which will tell SageMaker what Python libraries are required by our custom inference code.\n",
    "\n",
    "When deploying a PyTorch model in SageMaker, you are expected to provide four functions which the SageMaker inference container will use.\n",
    " - `model_fn`: This function is the same function that we used in the training script and it tells SageMaker how to load our model.\n",
    " - `input_fn`: This function receives the raw serialized input that has been sent to the model's endpoint and its job is to de-serialize and make the input available for the inference code.\n",
    " - `output_fn`: This function takes the output of the inference code and its job is to serialize this output and return it to the caller of the model's endpoint.\n",
    " - `predict_fn`: The heart of the inference script, this is where the actual prediction is done and is the function which you will need to complete.\n",
    "\n",
    "For the simple website that we are constructing during this project, the `input_fn` and `output_fn` methods are relatively straightforward. We only require being able to accept a string as input and we expect to return a single value as output. You might imagine though that in a more complex application the input or output may be image data or some other binary data which would require some effort to serialize.\n",
    "\n",
    "### (TODO) Writing inference code\n",
    "\n",
    "Before writing our custom inference code, we will begin by taking a look at the code which has been provided."
   ]
  },
  {
   "cell_type": "code",
   "execution_count": null,
   "metadata": {},
   "outputs": [],
   "source": [
    "!pygmentize serve/predict.py"
   ]
  },
  {
   "cell_type": "markdown",
   "metadata": {},
   "source": [
    "As mentioned earlier, the `model_fn` method is the same as the one provided in the training code and the `input_fn` and `output_fn` methods are very simple and your task will be to complete the `predict_fn` method. Make sure that you save the completed file as `predict.py` in the `serve` directory.\n",
    "\n",
    "**TODO**: Complete the `predict_fn()` method in the `serve/predict.py` file."
   ]
  },
  {
   "cell_type": "markdown",
   "metadata": {},
   "source": [
    "### Deploying the model\n",
    "\n",
    "Now that the custom inference code has been written, we will create and deploy our model. To begin with, we need to construct a new PyTorchModel object which points to the model artifacts created during training and also points to the inference code that we wish to use. Then we can call the deploy method to launch the deployment container.\n",
    "\n",
    "**NOTE**: The default behaviour for a deployed PyTorch model is to assume that any input passed to the predictor is a `numpy` array. In our case we want to send a string so we need to construct a simple wrapper around the `RealTimePredictor` class to accomodate simple strings. In a more complicated situation you may want to provide a serialization object, for example if you wanted to sent image data."
   ]
  },
  {
   "cell_type": "code",
   "execution_count": 56,
   "metadata": {},
   "outputs": [
    {
     "name": "stdout",
     "output_type": "stream",
     "text": [
      "-------------!"
     ]
    }
   ],
   "source": [
    "from sagemaker.predictor import RealTimePredictor\n",
    "from sagemaker.pytorch import PyTorchModel\n",
    "\n",
    "class StringPredictor(RealTimePredictor):\n",
    "    def __init__(self, endpoint_name, sagemaker_session):\n",
    "        super(StringPredictor, self).__init__(endpoint_name, sagemaker_session, content_type='text/plain')\n",
    "\n",
    "model = PyTorchModel(model_data=estimator.model_data,\n",
    "                     role = role,\n",
    "                     framework_version='0.4.0',\n",
    "                     entry_point='predict.py',\n",
    "                     source_dir='serve',\n",
    "                     predictor_cls=StringPredictor)\n",
    "predictor = model.deploy(initial_instance_count=1, instance_type='ml.m4.xlarge')"
   ]
  },
  {
   "cell_type": "markdown",
   "metadata": {},
   "source": [
    "### Testing the model\n",
    "\n",
    "Now that we have deployed our model with the custom inference code, we should test to see if everything is working. Here we test our model by loading the first `250` positive and negative reviews and send them to the endpoint, then collect the results. The reason for only sending some of the data is that the amount of time it takes for our model to process the input and then perform inference is quite long and so testing the entire data set would be prohibitive."
   ]
  },
  {
   "cell_type": "code",
   "execution_count": 57,
   "metadata": {},
   "outputs": [],
   "source": [
    "import glob\n",
    "\n",
    "def test_reviews(data_dir='../data/aclImdb', stop=250):\n",
    "    \n",
    "    results = []\n",
    "    ground = []\n",
    "    \n",
    "    # We make sure to test both positive and negative reviews    \n",
    "    for sentiment in ['pos', 'neg']:\n",
    "        \n",
    "        path = os.path.join(data_dir, 'test', sentiment, '*.txt')\n",
    "        files = glob.glob(path)\n",
    "        \n",
    "        files_read = 0\n",
    "        \n",
    "        print('Starting ', sentiment, ' files')\n",
    "        \n",
    "        # Iterate through the files and send them to the predictor\n",
    "        for f in files:\n",
    "            with open(f) as review:\n",
    "                # First, we store the ground truth (was the review positive or negative)\n",
    "                if sentiment == 'pos':\n",
    "                    ground.append(1)\n",
    "                else:\n",
    "                    ground.append(0)\n",
    "                # Read in the review and convert to 'utf-8' for transmission via HTTP\n",
    "                review_input = review.read().encode('utf-8')\n",
    "                # Send the review to the predictor and store the results\n",
    "                results.append(int(predictor.predict(review_input)))\n",
    "                \n",
    "            # Sending reviews to our endpoint one at a time takes a while so we\n",
    "            # only send a small number of reviews\n",
    "            files_read += 1\n",
    "            if files_read == stop:\n",
    "                break\n",
    "            \n",
    "    return ground, results"
   ]
  },
  {
   "cell_type": "code",
   "execution_count": 58,
   "metadata": {},
   "outputs": [
    {
     "name": "stdout",
     "output_type": "stream",
     "text": [
      "Starting  pos  files\n",
      "Starting  neg  files\n"
     ]
    }
   ],
   "source": [
    "ground, results = test_reviews()"
   ]
  },
  {
   "cell_type": "code",
   "execution_count": 59,
   "metadata": {},
   "outputs": [
    {
     "data": {
      "text/plain": [
       "0.846"
      ]
     },
     "execution_count": 59,
     "metadata": {},
     "output_type": "execute_result"
    }
   ],
   "source": [
    "from sklearn.metrics import accuracy_score\n",
    "accuracy_score(ground, results)"
   ]
  },
  {
   "cell_type": "markdown",
   "metadata": {},
   "source": [
    "As an additional test, we can try sending the `test_review` that we looked at earlier."
   ]
  },
  {
   "cell_type": "code",
   "execution_count": 69,
   "metadata": {},
   "outputs": [
    {
     "data": {
      "text/plain": [
       "b'1'"
      ]
     },
     "execution_count": 69,
     "metadata": {},
     "output_type": "execute_result"
    }
   ],
   "source": [
    "predictor.predict(test_review)"
   ]
  },
  {
   "cell_type": "markdown",
   "metadata": {},
   "source": [
    "Now that we know our endpoint is working as expected, we can set up the web page that will interact with it. If you don't have time to finish the project now, make sure to skip down to the end of this notebook and shut down your endpoint. You can deploy it again when you come back."
   ]
  },
  {
   "cell_type": "markdown",
   "metadata": {},
   "source": [
    "## Step 7 (again): Use the model for the web app\n",
    "\n",
    "> **TODO:** This entire section and the next contain tasks for you to complete, mostly using the AWS console.\n",
    "\n",
    "So far we have been accessing our model endpoint by constructing a predictor object which uses the endpoint and then just using the predictor object to perform inference. What if we wanted to create a web app which accessed our model? The way things are set up currently makes that not possible since in order to access a SageMaker endpoint the app would first have to authenticate with AWS using an IAM role which included access to SageMaker endpoints. However, there is an easier way! We just need to use some additional AWS services.\n",
    "\n",
    "<img src=\"Web App Diagram.svg\">\n",
    "\n",
    "The diagram above gives an overview of how the various services will work together. On the far right is the model which we trained above and which is deployed using SageMaker. On the far left is our web app that collects a user's movie review, sends it off and expects a positive or negative sentiment in return.\n",
    "\n",
    "In the middle is where some of the magic happens. We will construct a Lambda function, which you can think of as a straightforward Python function that can be executed whenever a specified event occurs. We will give this function permission to send and recieve data from a SageMaker endpoint.\n",
    "\n",
    "Lastly, the method we will use to execute the Lambda function is a new endpoint that we will create using API Gateway. This endpoint will be a url that listens for data to be sent to it. Once it gets some data it will pass that data on to the Lambda function and then return whatever the Lambda function returns. Essentially it will act as an interface that lets our web app communicate with the Lambda function.\n",
    "\n",
    "### Setting up a Lambda function\n",
    "\n",
    "The first thing we are going to do is set up a Lambda function. This Lambda function will be executed whenever our public API has data sent to it. When it is executed it will receive the data, perform any sort of processing that is required, send the data (the review) to the SageMaker endpoint we've created and then return the result.\n",
    "\n",
    "#### Part A: Create an IAM Role for the Lambda function\n",
    "\n",
    "Since we want the Lambda function to call a SageMaker endpoint, we need to make sure that it has permission to do so. To do this, we will construct a role that we can later give the Lambda function.\n",
    "\n",
    "Using the AWS Console, navigate to the **IAM** page and click on **Roles**. Then, click on **Create role**. Make sure that the **AWS service** is the type of trusted entity selected and choose **Lambda** as the service that will use this role, then click **Next: Permissions**.\n",
    "\n",
    "In the search box type `sagemaker` and select the check box next to the **AmazonSageMakerFullAccess** policy. Then, click on **Next: Review**.\n",
    "\n",
    "Lastly, give this role a name. Make sure you use a name that you will remember later on, for example `LambdaSageMakerRole`. Then, click on **Create role**.\n",
    "\n",
    "#### Part B: Create a Lambda function\n",
    "\n",
    "Now it is time to actually create the Lambda function.\n",
    "\n",
    "Using the AWS Console, navigate to the AWS Lambda page and click on **Create a function**. When you get to the next page, make sure that **Author from scratch** is selected. Now, name your Lambda function, using a name that you will remember later on, for example `sentiment_analysis_func`. Make sure that the **Python 3.6** runtime is selected and then choose the role that you created in the previous part. Then, click on **Create Function**.\n",
    "\n",
    "On the next page you will see some information about the Lambda function you've just created. If you scroll down you should see an editor in which you can write the code that will be executed when your Lambda function is triggered. In our example, we will use the code below. \n",
    "\n",
    "```python\n",
    "# We need to use the low-level library to interact with SageMaker since the SageMaker API\n",
    "# is not available natively through Lambda.\n",
    "import boto3\n",
    "\n",
    "def lambda_handler(event, context):\n",
    "\n",
    "    # The SageMaker runtime is what allows us to invoke the endpoint that we've created.\n",
    "    runtime = boto3.Session().client('sagemaker-runtime')\n",
    "\n",
    "    # Now we use the SageMaker runtime to invoke our endpoint, sending the review we were given\n",
    "    response = runtime.invoke_endpoint(EndpointName = '**ENDPOINT NAME HERE**',    # The name of the endpoint we created\n",
    "                                       ContentType = 'text/plain',                 # The data format that is expected\n",
    "                                       Body = event['body'])                       # The actual review\n",
    "\n",
    "    # The response is an HTTP response whose body contains the result of our inference\n",
    "    result = response['Body'].read().decode('utf-8')\n",
    "\n",
    "    return {\n",
    "        'statusCode' : 200,\n",
    "        'headers' : { 'Content-Type' : 'text/plain', 'Access-Control-Allow-Origin' : '*' },\n",
    "        'body' : result\n",
    "    }\n",
    "```\n",
    "\n",
    "Once you have copy and pasted the code above into the Lambda code editor, replace the `**ENDPOINT NAME HERE**` portion with the name of the endpoint that we deployed earlier. You can determine the name of the endpoint using the code cell below."
   ]
  },
  {
   "cell_type": "code",
   "execution_count": 74,
   "metadata": {},
   "outputs": [
    {
     "data": {
      "text/plain": [
       "'sagemaker-pytorch-2020-06-01-03-40-30-528'"
      ]
     },
     "execution_count": 74,
     "metadata": {},
     "output_type": "execute_result"
    }
   ],
   "source": [
    "predictor.endpoint"
   ]
  },
  {
   "cell_type": "markdown",
   "metadata": {},
   "source": [
    "Once you have added the endpoint name to the Lambda function, click on **Save**. Your Lambda function is now up and running. Next we need to create a way for our web app to execute the Lambda function.\n",
    "\n",
    "### Setting up API Gateway\n",
    "\n",
    "Now that our Lambda function is set up, it is time to create a new API using API Gateway that will trigger the Lambda function we have just created.\n",
    "\n",
    "Using AWS Console, navigate to **Amazon API Gateway** and then click on **Get started**.\n",
    "\n",
    "On the next page, make sure that **New API** is selected and give the new api a name, for example, `sentiment_analysis_api`. Then, click on **Create API**.\n",
    "\n",
    "Now we have created an API, however it doesn't currently do anything. What we want it to do is to trigger the Lambda function that we created earlier.\n",
    "\n",
    "Select the **Actions** dropdown menu and click **Create Method**. A new blank method will be created, select its dropdown menu and select **POST**, then click on the check mark beside it.\n",
    "\n",
    "For the integration point, make sure that **Lambda Function** is selected and click on the **Use Lambda Proxy integration**. This option makes sure that the data that is sent to the API is then sent directly to the Lambda function with no processing. It also means that the return value must be a proper response object as it will also not be processed by API Gateway.\n",
    "\n",
    "Type the name of the Lambda function you created earlier into the **Lambda Function** text entry box and then click on **Save**. Click on **OK** in the pop-up box that then appears, giving permission to API Gateway to invoke the Lambda function you created.\n",
    "\n",
    "The last step in creating the API Gateway is to select the **Actions** dropdown and click on **Deploy API**. You will need to create a new Deployment stage and name it anything you like, for example `prod`.\n",
    "\n",
    "You have now successfully set up a public API to access your SageMaker model. Make sure to copy or write down the URL provided to invoke your newly created public API as this will be needed in the next step. This URL can be found at the top of the page, highlighted in blue next to the text **Invoke URL**."
   ]
  },
  {
   "cell_type": "markdown",
   "metadata": {},
   "source": [
    "## Step 4: Deploying our web app\n",
    "\n",
    "Now that we have a publicly available API, we can start using it in a web app. For our purposes, we have provided a simple static html file which can make use of the public api you created earlier.\n",
    "\n",
    "In the `website` folder there should be a file called `index.html`. Download the file to your computer and open that file up in a text editor of your choice. There should be a line which contains **\\*\\*REPLACE WITH PUBLIC API URL\\*\\***. Replace this string with the url that you wrote down in the last step and then save the file.\n",
    "\n",
    "Now, if you open `index.html` on your local computer, your browser will behave as a local web server and you can use the provided site to interact with your SageMaker model.\n",
    "\n",
    "If you'd like to go further, you can host this html file anywhere you'd like, for example using github or hosting a static site on Amazon's S3. Once you have done this you can share the link with anyone you'd like and have them play with it too!\n",
    "\n",
    "> **Important Note** In order for the web app to communicate with the SageMaker endpoint, the endpoint has to actually be deployed and running. This means that you are paying for it. Make sure that the endpoint is running when you want to use the web app but that you shut it down when you don't need it, otherwise you will end up with a surprisingly large AWS bill.\n",
    "\n",
    "**TODO:** Make sure that you include the edited `index.html` file in your project submission."
   ]
  },
  {
   "cell_type": "markdown",
   "metadata": {},
   "source": [
    "Now that your web app is working, trying playing around with it and see how well it works.\n",
    "\n",
    "**Question**: Give an example of a review that you entered into your web app. What was the predicted sentiment of your example review?"
   ]
  },
  {
   "cell_type": "markdown",
   "metadata": {},
   "source": [
    "**Answer:**"
   ]
  },
  {
   "cell_type": "markdown",
   "metadata": {},
   "source": [
    "### Delete the endpoint\n",
    "\n",
    "Remember to always shut down your endpoint if you are no longer using it. You are charged for the length of time that the endpoint is running so if you forget and leave it on you could end up with an unexpectedly large bill."
   ]
  },
  {
   "cell_type": "code",
   "execution_count": null,
   "metadata": {},
   "outputs": [],
   "source": [
    "#predictor.delete_endpoint()"
   ]
  },
  {
   "cell_type": "code",
   "execution_count": null,
   "metadata": {},
   "outputs": [],
   "source": []
  }
 ],
 "metadata": {
  "kernelspec": {
   "display_name": "conda_pytorch_p36",
   "language": "python",
   "name": "conda_pytorch_p36"
  },
  "language_info": {
   "codemirror_mode": {
    "name": "ipython",
    "version": 3
   },
   "file_extension": ".py",
   "mimetype": "text/x-python",
   "name": "python",
   "nbconvert_exporter": "python",
   "pygments_lexer": "ipython3",
   "version": "3.6.5"
  }
 },
 "nbformat": 4,
 "nbformat_minor": 2
}
