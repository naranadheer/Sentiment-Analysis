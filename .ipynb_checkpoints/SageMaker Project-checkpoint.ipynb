{
 "cells": [
  {
   "cell_type": "markdown",
   "metadata": {},
   "source": [
    "# Creating a Sentiment Analysis Web App\n",
    "## Using PyTorch and SageMaker\n",
    "\n",
    "_Deep Learning Nanodegree Program | Deployment_\n",
    "\n",
    "---\n",
    "\n",
    "Now that we have a basic understanding of how SageMaker works we will try to use it to construct a complete project from end to end. Our goal will be to have a simple web page which a user can use to enter a movie review. The web page will then send the review off to our deployed model which will predict the sentiment of the entered review.\n",
    "\n",
    "## Instructions\n",
    "\n",
    "Some template code has already been provided for you, and you will need to implement additional functionality to successfully complete this notebook. You will not need to modify the included code beyond what is requested. Sections that begin with '**TODO**' in the header indicate that you need to complete or implement some portion within them. Instructions will be provided for each section and the specifics of the implementation are marked in the code block with a `# TODO: ...` comment. Please be sure to read the instructions carefully!\n",
    "\n",
    "In addition to implementing code, there will be questions for you to answer which relate to the task and your implementation. Each section where you will answer a question is preceded by a '**Question:**' header. Carefully read each question and provide your answer below the '**Answer:**' header by editing the Markdown cell.\n",
    "\n",
    "> **Note**: Code and Markdown cells can be executed using the **Shift+Enter** keyboard shortcut. In addition, a cell can be edited by typically clicking it (double-click for Markdown cells) or by pressing **Enter** while it is highlighted.\n",
    "\n",
    "## General Outline\n",
    "\n",
    "Recall the general outline for SageMaker projects using a notebook instance.\n",
    "\n",
    "1. Download or otherwise retrieve the data.\n",
    "2. Process / Prepare the data.\n",
    "3. Upload the processed data to S3.\n",
    "4. Train a chosen model.\n",
    "5. Test the trained model (typically using a batch transform job).\n",
    "6. Deploy the trained model.\n",
    "7. Use the deployed model.\n",
    "\n",
    "For this project, you will be following the steps in the general outline with some modifications. \n",
    "\n",
    "First, you will not be testing the model in its own step. You will still be testing the model, however, you will do it by deploying your model and then using the deployed model by sending the test data to it. One of the reasons for doing this is so that you can make sure that your deployed model is working correctly before moving forward.\n",
    "\n",
    "In addition, you will deploy and use your trained model a second time. In the second iteration you will customize the way that your trained model is deployed by including some of your own code. In addition, your newly deployed model will be used in the sentiment analysis web app."
   ]
  },
  {
   "cell_type": "markdown",
   "metadata": {},
   "source": [
    "## Step 1: Downloading the data\n",
    "\n",
    "As in the XGBoost in SageMaker notebook, we will be using the [IMDb dataset](http://ai.stanford.edu/~amaas/data/sentiment/)\n",
    "\n",
    "> Maas, Andrew L., et al. [Learning Word Vectors for Sentiment Analysis](http://ai.stanford.edu/~amaas/data/sentiment/). In _Proceedings of the 49th Annual Meeting of the Association for Computational Linguistics: Human Language Technologies_. Association for Computational Linguistics, 2011."
   ]
  },
  {
   "cell_type": "code",
   "execution_count": 1,
   "metadata": {},
   "outputs": [
    {
     "name": "stdout",
     "output_type": "stream",
     "text": [
      "mkdir: cannot create directory ‘../data’: File exists\n",
      "--2020-05-30 16:47:24--  http://ai.stanford.edu/~amaas/data/sentiment/aclImdb_v1.tar.gz\n",
      "Resolving ai.stanford.edu (ai.stanford.edu)... 171.64.68.10\n",
      "Connecting to ai.stanford.edu (ai.stanford.edu)|171.64.68.10|:80... connected.\n",
      "HTTP request sent, awaiting response... 200 OK\n",
      "Length: 84125825 (80M) [application/x-gzip]\n",
      "Saving to: ‘../data/aclImdb_v1.tar.gz’\n",
      "\n",
      "../data/aclImdb_v1. 100%[===================>]  80.23M  10.2MB/s    in 10s     \n",
      "\n",
      "2020-05-30 16:47:35 (7.85 MB/s) - ‘../data/aclImdb_v1.tar.gz’ saved [84125825/84125825]\n",
      "\n"
     ]
    }
   ],
   "source": [
    "%mkdir ../data\n",
    "!wget -O ../data/aclImdb_v1.tar.gz http://ai.stanford.edu/~amaas/data/sentiment/aclImdb_v1.tar.gz\n",
    "!tar -zxf ../data/aclImdb_v1.tar.gz -C ../data"
   ]
  },
  {
   "cell_type": "markdown",
   "metadata": {},
   "source": [
    "## Step 2: Preparing and Processing the data\n",
    "\n",
    "Also, as in the XGBoost notebook, we will be doing some initial data processing. The first few steps are the same as in the XGBoost example. To begin with, we will read in each of the reviews and combine them into a single input structure. Then, we will split the dataset into a training set and a testing set."
   ]
  },
  {
   "cell_type": "code",
   "execution_count": 2,
   "metadata": {},
   "outputs": [],
   "source": [
    "import os\n",
    "import glob\n",
    "\n",
    "def read_imdb_data(data_dir='../data/aclImdb'):\n",
    "    data = {}\n",
    "    labels = {}\n",
    "    \n",
    "    for data_type in ['train', 'test']:\n",
    "        data[data_type] = {}\n",
    "        labels[data_type] = {}\n",
    "        \n",
    "        for sentiment in ['pos', 'neg']:\n",
    "            data[data_type][sentiment] = []\n",
    "            labels[data_type][sentiment] = []\n",
    "            \n",
    "            path = os.path.join(data_dir, data_type, sentiment, '*.txt')\n",
    "            files = glob.glob(path)\n",
    "            \n",
    "            for f in files:\n",
    "                with open(f) as review:\n",
    "                    data[data_type][sentiment].append(review.read())\n",
    "                    # Here we represent a positive review by '1' and a negative review by '0'\n",
    "                    labels[data_type][sentiment].append(1 if sentiment == 'pos' else 0)\n",
    "                    \n",
    "            assert len(data[data_type][sentiment]) == len(labels[data_type][sentiment]), \\\n",
    "                    \"{}/{} data size does not match labels size\".format(data_type, sentiment)\n",
    "                \n",
    "    return data, labels"
   ]
  },
  {
   "cell_type": "code",
   "execution_count": 3,
   "metadata": {},
   "outputs": [
    {
     "name": "stdout",
     "output_type": "stream",
     "text": [
      "dict_keys(['train', 'test'])\n",
      "dict_keys(['train', 'test'])\n",
      "IMDB reviews: train = 12500 pos / 12500 neg, test = 12500 pos / 12500 neg\n"
     ]
    }
   ],
   "source": [
    "data, labels = read_imdb_data()\n",
    "print((labels.keys()))\n",
    "print((data.keys()))\n",
    "print(\"IMDB reviews: train = {} pos / {} neg, test = {} pos / {} neg\".format(\n",
    "            len(data['train']['pos']), len(data['train']['neg']),\n",
    "            len(data['test']['pos']), len(data['test']['neg'])))"
   ]
  },
  {
   "cell_type": "markdown",
   "metadata": {},
   "source": [
    "Now that we've read the raw training and testing data from the downloaded dataset, we will combine the positive and negative reviews and shuffle the resulting records."
   ]
  },
  {
   "cell_type": "code",
   "execution_count": 4,
   "metadata": {},
   "outputs": [],
   "source": [
    "from sklearn.utils import shuffle\n",
    "\n",
    "def prepare_imdb_data(data, labels):\n",
    "    \"\"\"Prepare training and test sets from IMDb movie reviews.\"\"\"\n",
    "    \n",
    "    #Combine positive and negative reviews and labels\n",
    "    data_train = data['train']['pos'] + data['train']['neg']\n",
    "    data_test = data['test']['pos'] + data['test']['neg']\n",
    "    labels_train = labels['train']['pos'] + labels['train']['neg']\n",
    "    labels_test = labels['test']['pos'] + labels['test']['neg']\n",
    "    \n",
    "    #Shuffle reviews and corresponding labels within training and test sets\n",
    "    data_train, labels_train = shuffle(data_train, labels_train)\n",
    "    data_test, labels_test = shuffle(data_test, labels_test)\n",
    "    \n",
    "    # Return a unified training data, test data, training labels, test labets\n",
    "    return data_train, data_test, labels_train, labels_test"
   ]
  },
  {
   "cell_type": "code",
   "execution_count": 5,
   "metadata": {},
   "outputs": [
    {
     "name": "stdout",
     "output_type": "stream",
     "text": [
      "IMDb reviews (combined): train = 25000, test = 25000\n"
     ]
    }
   ],
   "source": [
    "train_X, test_X, train_y, test_y = prepare_imdb_data(data, labels)\n",
    "print(\"IMDb reviews (combined): train = {}, test = {}\".format(len(train_X), len(test_X)))\n"
   ]
  },
  {
   "cell_type": "markdown",
   "metadata": {},
   "source": [
    "Now that we have our training and testing sets unified and prepared, we should do a quick check and see an example of the data our model will be trained on. This is generally a good idea as it allows you to see how each of the further processing steps affects the reviews and it also ensures that the data has been loaded correctly."
   ]
  },
  {
   "cell_type": "code",
   "execution_count": 6,
   "metadata": {},
   "outputs": [
    {
     "name": "stdout",
     "output_type": "stream",
     "text": [
      "Plot is never the strong point of a Fred Astaire and Ginger Rogers movie, but \"Follow the Fleet\"'s screenplay is exceptionally mediocre. Fred and Ginger still come off all right--they play \"Bake\" Baker and Sherry Martin, dancers whose personal and professional partnership ended when Bake joined the Navy. When they meet again, their love-hate relationship generates some entertaining comic moments. But for much of the movie, they take a backseat to a tedious subplot about Sherry's sister Connie (Harriet Hilliard), her love for sailor Bilge Smith (Randolph Scott), Bilge's dalliance with another woman, and an old schooner that Connie inherited from her father. Though Hilliard is rather charming, this plot is uninteresting.<br /><br />But at the same time, \"Follow the Fleet\" is blessed with an exceptional Irving Berlin score that gives the stars plenty of chances to show off their talents. Astaire gets two good solos with \"We Saw the Sea\" and \"I'd Rather Lead a Band.\" He sings expressively and, of course, dances electrifyingly--and the sailor suit makes him look a little more boyish and athletic than usual. Rogers sings the catchy \"Let Yourself Go\" and later does a solo tap-dance to the same tune. <br /><br />The three duets really save the film, even though they're all shoehorned into the plot with silly excuses. Fred and Ginger win a dance contest by doing an energetic routine to another reprise of \"Let Yourself Go\". Later, they sing and dance \"I'm Putting All My Eggs in One Basket\" as if it were an early rehearsal of the number, flubbing the choreography to comic effect. At the end, the movie finally figures out how to get Fred and Ginger in evening clothes for a romantic duet--it makes it part of a show-within-the-show. The situation is contrived, but the song, \"Let's Face the Music and Dance\", is one of the most sinuously beautiful things Berlin ever wrote (it's reminiscent of Cole Porter), and the dancing matches it in elegance. Quintessential Astaire and Rogers.<br /><br />It would be a chore to sit through most of the dialogue sections of \"Follow the Fleet\" again, and, in fact, it's not necessary, because the plot rarely propels the musical numbers. But I could watch the songs over and over.\n",
      "1\n"
     ]
    }
   ],
   "source": [
    "print(train_X[100])\n",
    "print(train_y[100])"
   ]
  },
  {
   "cell_type": "markdown",
   "metadata": {},
   "source": [
    "The first step in processing the reviews is to make sure that any html tags that appear should be removed. In addition we wish to tokenize our input, that way words such as *entertained* and *entertaining* are considered the same with regard to sentiment analysis."
   ]
  },
  {
   "cell_type": "code",
   "execution_count": 7,
   "metadata": {},
   "outputs": [],
   "source": [
    "import nltk\n",
    "from nltk.corpus import stopwords\n",
    "from nltk.stem.porter import *\n",
    "\n",
    "import re\n",
    "from bs4 import BeautifulSoup\n",
    "\n",
    "def review_to_words(review):\n",
    "    nltk.download(\"stopwords\", quiet=True)\n",
    "    stemmer = PorterStemmer()\n",
    "    \n",
    "    text = BeautifulSoup(review, \"html.parser\").get_text() # Remove HTML tags\n",
    "    text = re.sub(r\"[^a-zA-Z0-9]\", \" \", text.lower()) # Convert to lower case\n",
    "    words = text.split() # Split string into words\n",
    "    words = [w for w in words if w not in stopwords.words(\"english\")] # Remove stopwords\n",
    "    words = [PorterStemmer().stem(w) for w in words] # stem\n",
    "    \n",
    "    return words"
   ]
  },
  {
   "cell_type": "markdown",
   "metadata": {},
   "source": [
    "The `review_to_words` method defined above uses `BeautifulSoup` to remove any html tags that appear and uses the `nltk` package to tokenize the reviews. As a check to ensure we know how everything is working, try applying `review_to_words` to one of the reviews in the training set."
   ]
  },
  {
   "cell_type": "code",
   "execution_count": 8,
   "metadata": {},
   "outputs": [
    {
     "name": "stdout",
     "output_type": "stream",
     "text": [
      "['plot', 'never', 'strong', 'point', 'fred', 'astair', 'ginger', 'roger', 'movi', 'follow', 'fleet', 'screenplay', 'except', 'mediocr', 'fred', 'ginger', 'still', 'come', 'right', 'play', 'bake', 'baker', 'sherri', 'martin', 'dancer', 'whose', 'person', 'profession', 'partnership', 'end', 'bake', 'join', 'navi', 'meet', 'love', 'hate', 'relationship', 'gener', 'entertain', 'comic', 'moment', 'much', 'movi', 'take', 'backseat', 'tediou', 'subplot', 'sherri', 'sister', 'conni', 'harriet', 'hilliard', 'love', 'sailor', 'bilg', 'smith', 'randolph', 'scott', 'bilg', 'dallianc', 'anoth', 'woman', 'old', 'schooner', 'conni', 'inherit', 'father', 'though', 'hilliard', 'rather', 'charm', 'plot', 'uninterest', 'time', 'follow', 'fleet', 'bless', 'except', 'irv', 'berlin', 'score', 'give', 'star', 'plenti', 'chanc', 'show', 'talent', 'astair', 'get', 'two', 'good', 'solo', 'saw', 'sea', 'rather', 'lead', 'band', 'sing', 'express', 'cours', 'danc', 'electrifyingli', 'sailor', 'suit', 'make', 'look', 'littl', 'boyish', 'athlet', 'usual', 'roger', 'sing', 'catchi', 'let', 'go', 'later', 'solo', 'tap', 'danc', 'tune', 'three', 'duet', 'realli', 'save', 'film', 'even', 'though', 'shoehorn', 'plot', 'silli', 'excus', 'fred', 'ginger', 'win', 'danc', 'contest', 'energet', 'routin', 'anoth', 'repris', 'let', 'go', 'later', 'sing', 'danc', 'put', 'egg', 'one', 'basket', 'earli', 'rehears', 'number', 'flub', 'choreographi', 'comic', 'effect', 'end', 'movi', 'final', 'figur', 'get', 'fred', 'ginger', 'even', 'cloth', 'romant', 'duet', 'make', 'part', 'show', 'within', 'show', 'situat', 'contriv', 'song', 'let', 'face', 'music', 'danc', 'one', 'sinuous', 'beauti', 'thing', 'berlin', 'ever', 'wrote', 'reminisc', 'cole', 'porter', 'danc', 'match', 'eleg', 'quintessenti', 'astair', 'roger', 'would', 'chore', 'sit', 'dialogu', 'section', 'follow', 'fleet', 'fact', 'necessari', 'plot', 'rare', 'propel', 'music', 'number', 'could', 'watch', 'song']\n"
     ]
    }
   ],
   "source": [
    "# TODO: Apply review_to_words to a review (train_X[100] or any other review)\n",
    "words=review_to_words(train_X[100])\n",
    "print(words)\n"
   ]
  },
  {
   "cell_type": "markdown",
   "metadata": {},
   "source": [
    "**Question:** Above we mentioned that `review_to_words` method removes html formatting and allows us to tokenize the words found in a review, for example, converting *entertained* and *entertaining* into *entertain* so that they are treated as though they are the same word. What else, if anything, does this method do to the input?"
   ]
  },
  {
   "cell_type": "markdown",
   "metadata": {},
   "source": [
    "**Answer:**"
   ]
  },
  {
   "cell_type": "markdown",
   "metadata": {},
   "source": [
    "The method below applies the `review_to_words` method to each of the reviews in the training and testing datasets. In addition it caches the results. This is because performing this processing step can take a long time. This way if you are unable to complete the notebook in the current session, you can come back without needing to process the data a second time."
   ]
  },
  {
   "cell_type": "code",
   "execution_count": 9,
   "metadata": {},
   "outputs": [],
   "source": [
    "import pickle\n",
    "\n",
    "cache_dir = os.path.join(\"../cache\", \"sentiment_analysis\")  # where to store cache files\n",
    "os.makedirs(cache_dir, exist_ok=True)  # ensure cache directory exists\n",
    "\n",
    "def preprocess_data(data_train, data_test, labels_train, labels_test,\n",
    "                    cache_dir=cache_dir, cache_file=\"preprocessed_data.pkl\"):\n",
    "    \"\"\"Convert each review to words; read from cache if available.\"\"\"\n",
    "\n",
    "    # If cache_file is not None, try to read from it first\n",
    "    cache_data = None\n",
    "    if cache_file is not None:\n",
    "        try:\n",
    "            with open(os.path.join(cache_dir, cache_file), \"rb\") as f:\n",
    "                cache_data = pickle.load(f)\n",
    "            print(\"Read preprocessed data from cache file:\", cache_file)\n",
    "        except:\n",
    "            pass  # unable to read from cache, but that's okay\n",
    "    \n",
    "    # If cache is missing, then do the heavy lifting\n",
    "    if cache_data is None:\n",
    "        # Preprocess training and test data to obtain words for each review\n",
    "        #words_train = list(map(review_to_words, data_train))\n",
    "        #words_test = list(map(review_to_words, data_test))\n",
    "        words_train = [review_to_words(review) for review in data_train]\n",
    "        words_test = [review_to_words(review) for review in data_test]\n",
    "        \n",
    "        # Write to cache file for future runs\n",
    "        if cache_file is not None:\n",
    "            cache_data = dict(words_train=words_train, words_test=words_test,\n",
    "                              labels_train=labels_train, labels_test=labels_test)\n",
    "            with open(os.path.join(cache_dir, cache_file), \"wb\") as f:\n",
    "                pickle.dump(cache_data, f)\n",
    "            print(\"Wrote preprocessed data to cache file:\", cache_file)\n",
    "    else:\n",
    "        # Unpack data loaded from cache file\n",
    "        words_train, words_test, labels_train, labels_test = (cache_data['words_train'],\n",
    "                cache_data['words_test'], cache_data['labels_train'], cache_data['labels_test'])\n",
    "    \n",
    "    return words_train, words_test, labels_train, labels_test"
   ]
  },
  {
   "cell_type": "code",
   "execution_count": 10,
   "metadata": {},
   "outputs": [
    {
     "name": "stdout",
     "output_type": "stream",
     "text": [
      "Read preprocessed data from cache file: preprocessed_data.pkl\n"
     ]
    }
   ],
   "source": [
    "# Preprocess data\n",
    "train_X, test_X, train_y, test_y = preprocess_data(train_X, test_X, train_y, test_y)"
   ]
  },
  {
   "cell_type": "markdown",
   "metadata": {},
   "source": [
    "## Transform the data\n",
    "\n",
    "In the XGBoost notebook we transformed the data from its word representation to a bag-of-words feature representation. For the model we are going to construct in this notebook we will construct a feature representation which is very similar. To start, we will represent each word as an integer. Of course, some of the words that appear in the reviews occur very infrequently and so likely don't contain much information for the purposes of sentiment analysis. The way we will deal with this problem is that we will fix the size of our working vocabulary and we will only include the words that appear most frequently. We will then combine all of the infrequent words into a single category and, in our case, we will label it as `1`.\n",
    "\n",
    "Since we will be using a recurrent neural network, it will be convenient if the length of each review is the same. To do this, we will fix a size for our reviews and then pad short reviews with the category 'no word' (which we will label `0`) and truncate long reviews."
   ]
  },
  {
   "cell_type": "markdown",
   "metadata": {},
   "source": [
    "### (TODO) Create a word dictionary\n",
    "\n",
    "To begin with, we need to construct a way to map words that appear in the reviews to integers. Here we fix the size of our vocabulary (including the 'no word' and 'infrequent' categories) to be `5000` but you may wish to change this to see how it affects the model.\n",
    "\n",
    "> **TODO:** Complete the implementation for the `build_dict()` method below. Note that even though the vocab_size is set to `5000`, we only want to construct a mapping for the most frequently appearing `4998` words. This is because we want to reserve the special labels `0` for 'no word' and `1` for 'infrequent word'."
   ]
  },
  {
   "cell_type": "code",
   "execution_count": 11,
   "metadata": {},
   "outputs": [],
   "source": [
    "import numpy as np\n",
    "\n",
    "def build_dict(data, vocab_size = 5000):\n",
    "    \"\"\"Construct and return a dictionary mapping each of the most frequently appearing words to a unique integer.\"\"\"\n",
    "    \n",
    "    # TODO: Determine how often each word appears in `data`. Note that `data` is a list of sentences and that a\n",
    "    #       sentence is a list of words.\n",
    "    \n",
    "    \n",
    "    word_count = {} # A dict storing the words that appear in the reviews along with how often they occur\n",
    "    \n",
    "    for line in data:\n",
    "        for word in line:\n",
    "            if word in word_count:\n",
    "                word_count[word]+=1\n",
    "            else:\n",
    "                word_count[word]=1\n",
    "                \n",
    "        \n",
    "    \n",
    "    # TODO: Sort the words found in `data` so that sorted_words[0] is the most frequently appearing word and\n",
    "    #       sorted_words[-1] is the least frequently appearing word.\n",
    "#     print(word_count)\n",
    "    sorted_words = sorted(word_count, key=lambda x: word_count[x],reverse=True)\n",
    "#     print(sorted_words)\n",
    "    word_dict = {} # This is what we are building, a dictionary that translates words into integers\n",
    "    for idx, word in enumerate(sorted_words[:vocab_size - 2]): # The -2 is so that we save room for the 'no word'\n",
    "        word_dict[word] = idx + 2                              # 'infrequent' labels\n",
    "        \n",
    "    return word_dict"
   ]
  },
  {
   "cell_type": "code",
   "execution_count": 12,
   "metadata": {},
   "outputs": [
    {
     "name": "stdout",
     "output_type": "stream",
     "text": [
      "{'movi': 2, 'film': 3, 'one': 4, 'like': 5, 'time': 6, 'good': 7, 'make': 8, 'charact': 9, 'get': 10, 'see': 11, 'watch': 12, 'stori': 13, 'even': 14, 'would': 15, 'realli': 16, 'well': 17, 'scene': 18, 'look': 19, 'show': 20, 'much': 21, 'end': 22, 'peopl': 23, 'bad': 24, 'go': 25, 'great': 26, 'also': 27, 'first': 28, 'love': 29, 'think': 30, 'way': 31, 'act': 32, 'play': 33, 'made': 34, 'thing': 35, 'could': 36, 'know': 37, 'say': 38, 'seem': 39, 'work': 40, 'plot': 41, 'two': 42, 'actor': 43, 'year': 44, 'come': 45, 'mani': 46, 'seen': 47, 'take': 48, 'want': 49, 'life': 50, 'never': 51, 'littl': 52, 'best': 53, 'tri': 54, 'man': 55, 'ever': 56, 'give': 57, 'better': 58, 'still': 59, 'perform': 60, 'find': 61, 'feel': 62, 'part': 63, 'back': 64, 'use': 65, 'someth': 66, 'director': 67, 'actual': 68, 'interest': 69, 'lot': 70, 'real': 71, 'old': 72, 'cast': 73, 'though': 74, 'live': 75, 'star': 76, 'enjoy': 77, 'guy': 78, 'anoth': 79, 'new': 80, 'role': 81, 'noth': 82, '10': 83, 'funni': 84, 'music': 85, 'point': 86, 'start': 87, 'set': 88, 'girl': 89, 'origin': 90, 'day': 91, 'world': 92, 'everi': 93, 'believ': 94, 'turn': 95, 'quit': 96, 'us': 97, 'direct': 98, 'thought': 99, 'fact': 100, 'minut': 101, 'horror': 102, 'kill': 103, 'action': 104, 'comedi': 105, 'pretti': 106, 'young': 107, 'wonder': 108, 'happen': 109, 'around': 110, 'got': 111, 'effect': 112, 'right': 113, 'long': 114, 'howev': 115, 'big': 116, 'line': 117, 'famili': 118, 'enough': 119, 'seri': 120, 'may': 121, 'need': 122, 'fan': 123, 'bit': 124, 'script': 125, 'beauti': 126, 'person': 127, 'becom': 128, 'without': 129, 'must': 130, 'alway': 131, 'friend': 132, 'tell': 133, 'reason': 134, 'saw': 135, 'last': 136, 'final': 137, 'kid': 138, 'almost': 139, 'put': 140, 'least': 141, 'sure': 142, 'done': 143, 'whole': 144, 'place': 145, 'complet': 146, 'kind': 147, 'differ': 148, 'expect': 149, 'shot': 150, 'far': 151, 'mean': 152, 'anyth': 153, 'book': 154, 'laugh': 155, 'might': 156, 'name': 157, 'sinc': 158, 'begin': 159, '2': 160, 'probabl': 161, 'woman': 162, 'help': 163, 'entertain': 164, 'let': 165, 'screen': 166, 'call': 167, 'tv': 168, 'moment': 169, 'away': 170, 'read': 171, 'yet': 172, 'rather': 173, 'worst': 174, 'run': 175, 'fun': 176, 'lead': 177, 'hard': 178, 'audienc': 179, 'idea': 180, 'anyon': 181, 'episod': 182, 'american': 183, 'found': 184, 'appear': 185, 'bore': 186, 'especi': 187, 'although': 188, 'hope': 189, 'keep': 190, 'cours': 191, 'anim': 192, 'job': 193, 'goe': 194, 'move': 195, 'sens': 196, 'dvd': 197, 'version': 198, 'war': 199, 'money': 200, 'someon': 201, 'mind': 202, 'mayb': 203, 'problem': 204, 'true': 205, 'hous': 206, 'everyth': 207, 'nice': 208, 'second': 209, 'rate': 210, 'three': 211, 'night': 212, 'face': 213, 'follow': 214, 'recommend': 215, 'main': 216, 'product': 217, 'worth': 218, 'leav': 219, 'human': 220, 'special': 221, 'excel': 222, 'togeth': 223, 'wast': 224, 'everyon': 225, 'sound': 226, 'john': 227, 'hand': 228, '1': 229, 'father': 230, 'later': 231, 'eye': 232, 'said': 233, 'view': 234, 'instead': 235, 'review': 236, 'boy': 237, 'high': 238, 'hour': 239, 'miss': 240, 'classic': 241, 'talk': 242, 'wife': 243, 'understand': 244, 'left': 245, 'care': 246, 'black': 247, 'death': 248, 'open': 249, 'murder': 250, 'write': 251, 'half': 252, 'head': 253, 'rememb': 254, 'chang': 255, 'viewer': 256, 'fight': 257, 'gener': 258, 'surpris': 259, 'short': 260, 'includ': 261, 'die': 262, 'fall': 263, 'less': 264, 'els': 265, 'entir': 266, 'piec': 267, 'involv': 268, 'pictur': 269, 'simpli': 270, 'power': 271, 'top': 272, 'home': 273, 'total': 274, 'usual': 275, 'budget': 276, 'attempt': 277, 'suppos': 278, 'releas': 279, 'hollywood': 280, 'terribl': 281, 'song': 282, 'men': 283, 'possibl': 284, 'featur': 285, 'portray': 286, 'disappoint': 287, 'poor': 288, '3': 289, 'coupl': 290, 'stupid': 291, 'camera': 292, 'dead': 293, 'wrong': 294, 'produc': 295, 'low': 296, 'video': 297, 'either': 298, 'aw': 299, 'definit': 300, 'except': 301, 'rest': 302, 'given': 303, 'absolut': 304, 'women': 305, 'lack': 306, 'word': 307, 'writer': 308, 'titl': 309, 'talent': 310, 'decid': 311, 'full': 312, 'perfect': 313, 'along': 314, 'style': 315, 'close': 316, 'truli': 317, 'school': 318, 'save': 319, 'emot': 320, 'age': 321, 'sex': 322, 'next': 323, 'bring': 324, 'mr': 325, 'case': 326, 'killer': 327, 'heart': 328, 'comment': 329, 'sort': 330, 'creat': 331, 'perhap': 332, 'came': 333, 'brother': 334, 'sever': 335, 'joke': 336, 'art': 337, 'dialogu': 338, 'game': 339, 'small': 340, 'base': 341, 'flick': 342, 'written': 343, 'sequenc': 344, 'meet': 345, 'earli': 346, 'often': 347, 'other': 348, 'mother': 349, 'develop': 350, 'humor': 351, 'actress': 352, 'consid': 353, 'dark': 354, 'guess': 355, 'amaz': 356, 'unfortun': 357, 'light': 358, 'lost': 359, 'exampl': 360, 'cinema': 361, 'drama': 362, 'ye': 363, 'white': 364, 'experi': 365, 'imagin': 366, 'mention': 367, 'stop': 368, 'natur': 369, 'forc': 370, 'manag': 371, 'felt': 372, 'cut': 373, 'present': 374, 'children': 375, 'fail': 376, 'son': 377, 'car': 378, 'qualiti': 379, 'support': 380, 'ask': 381, 'hit': 382, 'side': 383, 'voic': 384, 'extrem': 385, 'impress': 386, 'wors': 387, 'evil': 388, 'stand': 389, 'went': 390, 'certainli': 391, 'basic': 392, 'oh': 393, 'overal': 394, 'favorit': 395, 'horribl': 396, 'mysteri': 397, 'number': 398, 'type': 399, 'danc': 400, 'wait': 401, 'hero': 402, '5': 403, 'alreadi': 404, 'learn': 405, 'matter': 406, '4': 407, 'michael': 408, 'genr': 409, 'fine': 410, 'despit': 411, 'throughout': 412, 'walk': 413, 'success': 414, 'histori': 415, 'question': 416, 'zombi': 417, 'town': 418, 'realiz': 419, 'relationship': 420, 'past': 421, 'child': 422, 'daughter': 423, 'late': 424, 'b': 425, 'wish': 426, 'hate': 427, 'credit': 428, 'event': 429, 'theme': 430, 'touch': 431, 'citi': 432, 'today': 433, 'sometim': 434, 'behind': 435, 'god': 436, 'twist': 437, 'sit': 438, 'annoy': 439, 'stay': 440, 'deal': 441, 'abl': 442, 'rent': 443, 'pleas': 444, 'edit': 445, 'blood': 446, 'deserv': 447, 'comic': 448, 'anyway': 449, 'appar': 450, 'soon': 451, 'gave': 452, 'etc': 453, 'level': 454, 'slow': 455, 'chanc': 456, 'score': 457, 'bodi': 458, 'brilliant': 459, 'incred': 460, 'figur': 461, 'situat': 462, 'self': 463, 'major': 464, 'stuff': 465, 'decent': 466, 'element': 467, 'dream': 468, 'return': 469, 'obvious': 470, 'order': 471, 'continu': 472, 'pace': 473, 'ridicul': 474, 'happi': 475, 'group': 476, 'add': 477, 'highli': 478, 'thank': 479, 'ladi': 480, 'novel': 481, 'pain': 482, 'speak': 483, 'career': 484, 'shoot': 485, 'strang': 486, 'heard': 487, 'sad': 488, 'polic': 489, 'husband': 490, 'import': 491, 'break': 492, 'took': 493, 'cannot': 494, 'strong': 495, 'predict': 496, 'robert': 497, 'violenc': 498, 'hilari': 499, 'recent': 500, 'countri': 501, 'known': 502, 'particularli': 503, 'pick': 504, 'documentari': 505, 'season': 506, 'critic': 507, 'jame': 508, 'compar': 509, 'obviou': 510, 'alon': 511, 'told': 512, 'state': 513, 'rock': 514, 'visual': 515, 'exist': 516, 'offer': 517, 'theater': 518, 'opinion': 519, 'gore': 520, 'crap': 521, 'hold': 522, 'result': 523, 'realiti': 524, 'hear': 525, 'room': 526, 'effort': 527, 'clich': 528, 'thriller': 529, 'caus': 530, 'sequel': 531, 'explain': 532, 'serious': 533, 'king': 534, 'local': 535, 'ago': 536, 'none': 537, 'hell': 538, 'note': 539, 'allow': 540, 'david': 541, 'sister': 542, 'simpl': 543, 'femal': 544, 'deliv': 545, 'ok': 546, 'class': 547, 'convinc': 548, 'check': 549, 'suspens': 550, 'win': 551, 'buy': 552, 'oscar': 553, 'huge': 554, 'valu': 555, 'sexual': 556, 'cool': 557, 'scari': 558, 'similar': 559, 'excit': 560, 'apart': 561, 'exactli': 562, 'provid': 563, 'shown': 564, 'avoid': 565, 'seriou': 566, 'english': 567, 'taken': 568, 'whose': 569, 'cinematographi': 570, 'shock': 571, 'polit': 572, 'spoiler': 573, 'offic': 574, 'across': 575, 'middl': 576, 'pass': 577, 'street': 578, 'messag': 579, 'charm': 580, 'silli': 581, 'somewhat': 582, 'modern': 583, 'filmmak': 584, 'confus': 585, 'form': 586, 'tale': 587, 'singl': 588, 'jack': 589, 'mostli': 590, 'william': 591, 'attent': 592, 'carri': 593, 'sing': 594, 'five': 595, 'subject': 596, 'richard': 597, 'prove': 598, 'team': 599, 'stage': 600, 'cop': 601, 'unlik': 602, 'georg': 603, 'monster': 604, 'televis': 605, 'earth': 606, 'villain': 607, 'cover': 608, 'pay': 609, 'marri': 610, 'toward': 611, 'build': 612, 'pull': 613, 'parent': 614, 'due': 615, 'respect': 616, 'fill': 617, 'four': 618, 'dialog': 619, 'remind': 620, 'futur': 621, 'typic': 622, 'weak': 623, '7': 624, 'cheap': 625, 'intellig': 626, 'british': 627, 'atmospher': 628, '80': 629, 'clearli': 630, 'non': 631, 'paul': 632, 'dog': 633, '8': 634, 'fast': 635, 'knew': 636, 'artist': 637, 'crime': 638, 'easili': 639, 'escap': 640, 'doubt': 641, 'adult': 642, 'detail': 643, 'date': 644, 'member': 645, 'romant': 646, 'fire': 647, 'gun': 648, 'drive': 649, 'straight': 650, 'beyond': 651, 'fit': 652, 'attack': 653, 'imag': 654, 'upon': 655, 'posit': 656, 'whether': 657, 'fantast': 658, 'peter': 659, 'captur': 660, 'aspect': 661, 'appreci': 662, 'ten': 663, 'plan': 664, 'discov': 665, 'remain': 666, 'near': 667, 'period': 668, 'air': 669, 'realist': 670, 'mark': 671, 'red': 672, 'dull': 673, 'adapt': 674, 'within': 675, 'spend': 676, 'lose': 677, 'materi': 678, 'color': 679, 'chase': 680, 'mari': 681, 'storylin': 682, 'forget': 683, 'bunch': 684, 'clear': 685, 'lee': 686, 'victim': 687, 'nearli': 688, 'box': 689, 'york': 690, 'match': 691, 'inspir': 692, 'mess': 693, 'finish': 694, 'standard': 695, 'easi': 696, 'truth': 697, 'suffer': 698, 'busi': 699, 'space': 700, 'bill': 701, 'dramat': 702, 'western': 703, 'e': 704, 'list': 705, 'battl': 706, 'notic': 707, 'de': 708, 'french': 709, 'ad': 710, '9': 711, 'tom': 712, 'larg': 713, 'among': 714, 'eventu': 715, 'train': 716, 'accept': 717, 'agre': 718, 'soundtrack': 719, 'spirit': 720, 'third': 721, 'teenag': 722, 'adventur': 723, 'soldier': 724, 'sorri': 725, 'famou': 726, 'suggest': 727, 'drug': 728, 'normal': 729, 'cri': 730, 'babi': 731, 'ultim': 732, 'troubl': 733, 'contain': 734, 'certain': 735, 'cultur': 736, 'romanc': 737, 'rare': 738, 'lame': 739, 'somehow': 740, 'disney': 741, 'mix': 742, 'gone': 743, 'cartoon': 744, 'student': 745, 'reveal': 746, 'fear': 747, 'kept': 748, 'suck': 749, 'attract': 750, 'appeal': 751, 'premis': 752, 'design': 753, 'greatest': 754, 'secret': 755, 'shame': 756, 'throw': 757, 'scare': 758, 'copi': 759, 'wit': 760, 'admit': 761, 'america': 762, 'relat': 763, 'particular': 764, 'brought': 765, 'screenplay': 766, 'whatev': 767, 'pure': 768, '70': 769, 'averag': 770, 'harri': 771, 'master': 772, 'describ': 773, 'male': 774, 'treat': 775, '20': 776, 'issu': 777, 'fantasi': 778, 'warn': 779, 'inde': 780, 'background': 781, 'forward': 782, 'free': 783, 'project': 784, 'memor': 785, 'japanes': 786, 'poorli': 787, 'award': 788, 'locat': 789, 'amus': 790, 'potenti': 791, 'struggl': 792, 'magic': 793, 'weird': 794, 'societi': 795, 'okay': 796, 'imdb': 797, 'doctor': 798, 'accent': 799, 'hot': 800, 'water': 801, '30': 802, 'express': 803, 'alien': 804, 'dr': 805, 'odd': 806, 'choic': 807, 'crazi': 808, 'studio': 809, 'fiction': 810, 'control': 811, 'becam': 812, 'masterpiec': 813, 'fli': 814, 'difficult': 815, 'joe': 816, 'scream': 817, 'costum': 818, 'lover': 819, 'refer': 820, 'uniqu': 821, 'remak': 822, 'vampir': 823, 'girlfriend': 824, 'prison': 825, 'execut': 826, 'wear': 827, 'jump': 828, 'unless': 829, 'wood': 830, 'creepi': 831, 'cheesi': 832, 'superb': 833, 'otherwis': 834, 'parti': 835, 'roll': 836, 'ghost': 837, 'mad': 838, 'public': 839, 'depict': 840, 'badli': 841, 'earlier': 842, 'moral': 843, 'week': 844, 'jane': 845, 'dumb': 846, 'fi': 847, 'grow': 848, 'flaw': 849, 'deep': 850, 'sci': 851, 'cat': 852, 'maker': 853, 'connect': 854, 'older': 855, 'footag': 856, 'bother': 857, 'plenti': 858, 'outsid': 859, 'stick': 860, 'gay': 861, 'catch': 862, 'plu': 863, 'co': 864, 'popular': 865, 'equal': 866, 'social': 867, 'quickli': 868, 'disturb': 869, 'perfectli': 870, 'dress': 871, 'era': 872, '90': 873, 'mistak': 874, 'lie': 875, 'ride': 876, 'previou': 877, 'combin': 878, 'band': 879, 'concept': 880, 'rich': 881, 'answer': 882, 'surviv': 883, 'front': 884, 'sweet': 885, 'christma': 886, 'insid': 887, 'bare': 888, 'eat': 889, 'concern': 890, 'listen': 891, 'beat': 892, 'ben': 893, 'c': 894, 'serv': 895, 'term': 896, 'meant': 897, 'la': 898, 'german': 899, 'hardli': 900, 'stereotyp': 901, 'innoc': 902, 'law': 903, 'desper': 904, 'memori': 905, 'promis': 906, 'cute': 907, 'intent': 908, 'variou': 909, 'steal': 910, 'inform': 911, 'brain': 912, 'post': 913, 'tone': 914, 'island': 915, 'amount': 916, 'compani': 917, 'nuditi': 918, 'track': 919, 'store': 920, 'claim': 921, 'flat': 922, 'hair': 923, '50': 924, 'univers': 925, 'land': 926, 'kick': 927, 'scott': 928, 'danger': 929, 'fairli': 930, 'player': 931, 'step': 932, 'plain': 933, 'crew': 934, 'toni': 935, 'share': 936, 'centuri': 937, 'tast': 938, 'achiev': 939, 'engag': 940, 'cold': 941, 'travel': 942, 'rip': 943, 'suit': 944, 'record': 945, 'sadli': 946, 'manner': 947, 'wrote': 948, 'spot': 949, 'tension': 950, 'intens': 951, 'fascin': 952, 'familiar': 953, 'burn': 954, 'remark': 955, 'depth': 956, 'destroy': 957, 'histor': 958, 'sleep': 959, 'purpos': 960, 'languag': 961, 'ignor': 962, 'ruin': 963, 'delight': 964, 'unbeliev': 965, 'italian': 966, 'collect': 967, 'abil': 968, 'soul': 969, 'clever': 970, 'detect': 971, 'violent': 972, 'rape': 973, 'reach': 974, 'door': 975, 'liter': 976, 'scienc': 977, 'trash': 978, 'commun': 979, 'caught': 980, 'reveng': 981, 'creatur': 982, 'approach': 983, 'trip': 984, 'intrigu': 985, 'fashion': 986, 'introduc': 987, 'paint': 988, 'skill': 989, 'complex': 990, 'channel': 991, 'camp': 992, 'christian': 993, 'hole': 994, 'extra': 995, 'limit': 996, 'mental': 997, 'ann': 998, 'immedi': 999, 'mere': 1000, 'million': 1001, '6': 1002, 'slightli': 1003, 'comput': 1004, 'slasher': 1005, 'conclus': 1006, 'imposs': 1007, 'suddenli': 1008, 'crimin': 1009, 'teen': 1010, 'neither': 1011, 'physic': 1012, 'spent': 1013, 'nation': 1014, 'respons': 1015, 'planet': 1016, 'fake': 1017, 'receiv': 1018, 'blue': 1019, 'sick': 1020, 'bizarr': 1021, 'embarrass': 1022, 'indian': 1023, '15': 1024, 'ring': 1025, 'pop': 1026, 'drop': 1027, 'drag': 1028, 'haunt': 1029, 'suspect': 1030, 'pointless': 1031, 'edg': 1032, 'search': 1033, 'handl': 1034, 'common': 1035, 'biggest': 1036, 'arriv': 1037, 'faith': 1038, 'hurt': 1039, 'technic': 1040, 'angel': 1041, 'dad': 1042, 'genuin': 1043, 'awesom': 1044, 'f': 1045, 'solid': 1046, 'colleg': 1047, 'former': 1048, 'van': 1049, 'focu': 1050, 'count': 1051, 'heavi': 1052, 'tear': 1053, 'rais': 1054, 'wall': 1055, 'visit': 1056, 'younger': 1057, 'laughabl': 1058, 'excus': 1059, 'sign': 1060, 'fair': 1061, 'cult': 1062, 'motion': 1063, 'tough': 1064, 'key': 1065, 'desir': 1066, 'super': 1067, 'stun': 1068, 'addit': 1069, 'exploit': 1070, 'cloth': 1071, 'smith': 1072, 'tortur': 1073, 'davi': 1074, 'race': 1075, 'cross': 1076, 'author': 1077, 'jim': 1078, 'compel': 1079, 'minor': 1080, 'focus': 1081, 'consist': 1082, 'chemistri': 1083, 'commit': 1084, 'pathet': 1085, 'park': 1086, 'tradit': 1087, 'frank': 1088, 'obsess': 1089, 'grade': 1090, '60': 1091, 'asid': 1092, 'brutal': 1093, 'somewher': 1094, 'steve': 1095, 'depress': 1096, 'explor': 1097, 'rule': 1098, 'opportun': 1099, 'grant': 1100, 'u': 1101, 'honest': 1102, 'besid': 1103, 'dub': 1104, 'anti': 1105, 'trailer': 1106, 'intend': 1107, 'bar': 1108, 'west': 1109, 'scientist': 1110, 'regard': 1111, 'longer': 1112, 'decad': 1113, 'judg': 1114, 'silent': 1115, 'armi': 1116, 'creativ': 1117, 'wild': 1118, 'south': 1119, 'stewart': 1120, 'g': 1121, 'draw': 1122, 'road': 1123, 'govern': 1124, 'ex': 1125, 'boss': 1126, 'practic': 1127, 'festiv': 1128, 'gang': 1129, 'motiv': 1130, 'surprisingli': 1131, 'club': 1132, 'green': 1133, 'redeem': 1134, 'page': 1135, 'london': 1136, 'idiot': 1137, 'machin': 1138, 'display': 1139, 'aliv': 1140, 'militari': 1141, 'thrill': 1142, 'repeat': 1143, 'nobodi': 1144, 'yeah': 1145, 'folk': 1146, '100': 1147, '40': 1148, 'garbag': 1149, 'journey': 1150, 'tire': 1151, 'ground': 1152, 'smile': 1153, 'bought': 1154, 'mood': 1155, 'stone': 1156, 'sam': 1157, 'cost': 1158, 'noir': 1159, 'mouth': 1160, 'terrif': 1161, 'agent': 1162, 'utterli': 1163, 'requir': 1164, 'sexi': 1165, 'honestli': 1166, 'area': 1167, 'report': 1168, 'geniu': 1169, 'enter': 1170, 'investig': 1171, 'glad': 1172, 'humour': 1173, 'serial': 1174, 'occasion': 1175, 'narr': 1176, 'passion': 1177, 'marriag': 1178, 'climax': 1179, 'studi': 1180, 'industri': 1181, 'charli': 1182, 'center': 1183, 'ship': 1184, 'nowher': 1185, 'demon': 1186, 'bear': 1187, 'loos': 1188, 'hors': 1189, 'hang': 1190, 'wow': 1191, 'graphic': 1192, 'giant': 1193, 'admir': 1194, 'send': 1195, 'damn': 1196, 'loud': 1197, 'rel': 1198, 'profession': 1199, 'subtl': 1200, 'nake': 1201, 'blow': 1202, 'bottom': 1203, 'batman': 1204, 'insult': 1205, 'doubl': 1206, 'r': 1207, 'boyfriend': 1208, 'kelli': 1209, 'initi': 1210, 'frame': 1211, 'gem': 1212, 'opera': 1213, 'cinemat': 1214, 'drawn': 1215, 'affect': 1216, 'church': 1217, 'challeng': 1218, 'fulli': 1219, 'seek': 1220, 'evid': 1221, 'nightmar': 1222, 'l': 1223, 'j': 1224, 'arm': 1225, 'conflict': 1226, 'essenti': 1227, 'grace': 1228, 'wind': 1229, 'christoph': 1230, 'henri': 1231, 'narrat': 1232, 'assum': 1233, 'witch': 1234, 'hunt': 1235, 'push': 1236, 'chri': 1237, 'wise': 1238, 'nomin': 1239, 'repres': 1240, 'month': 1241, 'affair': 1242, 'hide': 1243, 'sceneri': 1244, 'avail': 1245, 'thu': 1246, 'bond': 1247, 'smart': 1248, 'justic': 1249, 'flashback': 1250, 'interview': 1251, 'outstand': 1252, 'satisfi': 1253, 'constantli': 1254, 'presenc': 1255, 'central': 1256, 'bed': 1257, 'iron': 1258, 'sell': 1259, 'content': 1260, 'gag': 1261, 'everybodi': 1262, 'slowli': 1263, 'hotel': 1264, 'hire': 1265, 'system': 1266, 'charl': 1267, 'individu': 1268, 'hey': 1269, 'thrown': 1270, 'adam': 1271, 'allen': 1272, 'jone': 1273, 'mediocr': 1274, 'ray': 1275, 'billi': 1276, 'lesson': 1277, 'cameo': 1278, 'photographi': 1279, 'fellow': 1280, 'pari': 1281, 'strike': 1282, 'rise': 1283, 'brief': 1284, 'absurd': 1285, 'independ': 1286, 'neg': 1287, 'impact': 1288, 'phone': 1289, 'ill': 1290, 'model': 1291, 'born': 1292, 'spoil': 1293, 'fresh': 1294, 'angl': 1295, 'likabl': 1296, 'abus': 1297, 'discuss': 1298, 'hill': 1299, 'sight': 1300, 'ahead': 1301, 'sent': 1302, 'photograph': 1303, 'logic': 1304, 'blame': 1305, 'occur': 1306, 'shine': 1307, 'bruce': 1308, 'mainli': 1309, 'forev': 1310, 'skip': 1311, 'commerci': 1312, 'surround': 1313, 'teacher': 1314, 'segment': 1315, 'held': 1316, 'blond': 1317, 'zero': 1318, 'resembl': 1319, 'trap': 1320, 'satir': 1321, 'summer': 1322, 'fool': 1323, 'queen': 1324, 'ball': 1325, 'six': 1326, 'tragedi': 1327, 'twice': 1328, 'sub': 1329, 'reaction': 1330, 'pack': 1331, 'bomb': 1332, 'protagonist': 1333, 'will': 1334, 'hospit': 1335, 'sport': 1336, 'mile': 1337, 'vote': 1338, 'mom': 1339, 'drink': 1340, 'trust': 1341, 'jerri': 1342, 'encount': 1343, 'plane': 1344, 'station': 1345, 'program': 1346, 'current': 1347, 'al': 1348, 'choos': 1349, 'martin': 1350, 'celebr': 1351, 'join': 1352, 'field': 1353, 'round': 1354, 'lord': 1355, 'favourit': 1356, 'tragic': 1357, 'vision': 1358, 'jean': 1359, 'robot': 1360, 'tie': 1361, 'arthur': 1362, 'roger': 1363, 'random': 1364, 'fortun': 1365, 'psycholog': 1366, 'dread': 1367, 'intern': 1368, 'improv': 1369, 'nonsens': 1370, 'prefer': 1371, 'epic': 1372, 'highlight': 1373, 'pleasur': 1374, 'formula': 1375, 'legend': 1376, 'dollar': 1377, '11': 1378, 'tape': 1379, 'thin': 1380, 'fox': 1381, 'gorgeou': 1382, 'object': 1383, 'wide': 1384, 'porn': 1385, 'buddi': 1386, 'ugli': 1387, 'influenc': 1388, 'nasti': 1389, 'prepar': 1390, 'ii': 1391, 'reflect': 1392, 'warm': 1393, 'supposedli': 1394, 'progress': 1395, 'worthi': 1396, 'youth': 1397, 'length': 1398, 'unusu': 1399, 'latter': 1400, 'crash': 1401, 'seven': 1402, 'shop': 1403, 'superior': 1404, 'childhood': 1405, 'remot': 1406, 'theatr': 1407, 'disgust': 1408, 'funniest': 1409, 'pilot': 1410, 'paid': 1411, 'trick': 1412, 'convers': 1413, 'castl': 1414, 'fell': 1415, 'rob': 1416, 'disast': 1417, 'establish': 1418, 'gangster': 1419, 'mine': 1420, 'suicid': 1421, 'heaven': 1422, 'ident': 1423, 'disappear': 1424, 'mask': 1425, 'singer': 1426, 'forgotten': 1427, 'decis': 1428, 'tend': 1429, 'heroin': 1430, 'partner': 1431, 'brian': 1432, 'recogn': 1433, 'alan': 1434, 'desert': 1435, 'p': 1436, 'thoroughli': 1437, 'stuck': 1438, 'ms': 1439, 'sky': 1440, 'accur': 1441, 'replac': 1442, 'market': 1443, 'seemingli': 1444, 'uncl': 1445, 'commentari': 1446, 'danni': 1447, 'clue': 1448, 'eddi': 1449, 'andi': 1450, 'devil': 1451, 'jackson': 1452, 'that': 1453, 'refus': 1454, 'therefor': 1455, 'pair': 1456, 'ed': 1457, 'river': 1458, 'unit': 1459, 'accid': 1460, 'fate': 1461, 'fault': 1462, 'tune': 1463, 'afraid': 1464, 'stephen': 1465, 'russian': 1466, 'clean': 1467, 'hidden': 1468, 'convey': 1469, 'quick': 1470, 'irrit': 1471, 'instanc': 1472, 'readi': 1473, 'test': 1474, 'captain': 1475, 'european': 1476, 'daniel': 1477, 'insan': 1478, 'frustrat': 1479, 'food': 1480, 'rescu': 1481, 'chines': 1482, '1950': 1483, 'wed': 1484, 'lock': 1485, 'angri': 1486, 'dirti': 1487, 'joy': 1488, 'steven': 1489, 'price': 1490, 'cage': 1491, 'bland': 1492, 'anymor': 1493, 'rang': 1494, 'wooden': 1495, 'rush': 1496, 'news': 1497, 'n': 1498, 'jason': 1499, 'martial': 1500, 'worri': 1501, 'board': 1502, 'twenti': 1503, 'led': 1504, '12': 1505, 'symbol': 1506, 'hunter': 1507, 'transform': 1508, 'cgi': 1509, 'x': 1510, 'johnni': 1511, 'piti': 1512, 'invent': 1513, 'onto': 1514, 'sentiment': 1515, 'attitud': 1516, 'process': 1517, 'explan': 1518, 'owner': 1519, 'awar': 1520, 'aim': 1521, 'floor': 1522, 'favor': 1523, 'energi': 1524, 'necessari': 1525, 'target': 1526, 'religi': 1527, 'opposit': 1528, 'window': 1529, 'insight': 1530, 'chick': 1531, 'blind': 1532, 'movement': 1533, 'comparison': 1534, 'research': 1535, 'mountain': 1536, 'deepli': 1537, 'possess': 1538, 'grand': 1539, 'rain': 1540, 'whatsoev': 1541, 'comed': 1542, 'mid': 1543, 'shadow': 1544, 'bank': 1545, 'began': 1546, 'princ': 1547, 'parodi': 1548, 'credibl': 1549, 'pre': 1550, 'weapon': 1551, 'friendship': 1552, 'taylor': 1553, 'teach': 1554, 'dougla': 1555, 'flesh': 1556, 'protect': 1557, 'bloodi': 1558, 'hint': 1559, 'terror': 1560, 'marvel': 1561, 'anybodi': 1562, 'drunk': 1563, 'leader': 1564, 'superman': 1565, 'accord': 1566, 'load': 1567, 'watchabl': 1568, 'brown': 1569, 'freddi': 1570, 'jeff': 1571, 'tim': 1572, 'appropri': 1573, 'hitler': 1574, 'seat': 1575, 'unknown': 1576, 'charg': 1577, 'keaton': 1578, 'knock': 1579, 'villag': 1580, 'media': 1581, 'enemi': 1582, 'unnecessari': 1583, 'england': 1584, 'empti': 1585, 'strength': 1586, 'buck': 1587, 'craft': 1588, 'wave': 1589, 'utter': 1590, 'perspect': 1591, 'dare': 1592, 'correct': 1593, 'ford': 1594, 'kiss': 1595, 'contrast': 1596, 'nativ': 1597, 'magnific': 1598, 'distract': 1599, 'anywher': 1600, 'knowledg': 1601, 'soap': 1602, 'speed': 1603, 'chill': 1604, 'nazi': 1605, 'breath': 1606, 'mission': 1607, '1980': 1608, 'ice': 1609, 'fred': 1610, 'crowd': 1611, 'jr': 1612, 'joan': 1613, 'moon': 1614, 'kate': 1615, 'frighten': 1616, 'soft': 1617, '000': 1618, 'dick': 1619, 'hundr': 1620, 'nick': 1621, 'dan': 1622, 'simon': 1623, 'radio': 1624, 'dozen': 1625, 'somebodi': 1626, 'academi': 1627, 'shakespear': 1628, 'thousand': 1629, 'loss': 1630, 'andrew': 1631, 'vehicl': 1632, 'root': 1633, 'sum': 1634, 'account': 1635, 'quot': 1636, 'leg': 1637, 'convent': 1638, 'behavior': 1639, '1970': 1640, 'gold': 1641, 'regular': 1642, 'worker': 1643, 'pretenti': 1644, 'demand': 1645, 'compet': 1646, 'notabl': 1647, 'stretch': 1648, 'candi': 1649, 'explos': 1650, 'privat': 1651, 'interpret': 1652, 'lynch': 1653, 'japan': 1654, 'debut': 1655, 'tarzan': 1656, 'constant': 1657, 'translat': 1658, 'sea': 1659, 'prais': 1660, 'spi': 1661, 'revolv': 1662, 'failur': 1663, 'franc': 1664, 'sat': 1665, 'ass': 1666, 'quiet': 1667, 'threaten': 1668, 'jesu': 1669, 'technolog': 1670, 'punch': 1671, 'met': 1672, 'higher': 1673, 'aid': 1674, 'toy': 1675, 'kevin': 1676, 'interact': 1677, 'abandon': 1678, 'mike': 1679, 'vh': 1680, 'command': 1681, 'separ': 1682, 'bet': 1683, 'confront': 1684, 'gotten': 1685, 'stunt': 1686, 'site': 1687, 'techniqu': 1688, 'recal': 1689, 'servic': 1690, 'belong': 1691, 'freak': 1692, 'cabl': 1693, 'foot': 1694, 'bug': 1695, 'fu': 1696, 'jimmi': 1697, 'capabl': 1698, 'african': 1699, 'bright': 1700, 'presid': 1701, 'succeed': 1702, 'fat': 1703, 'stock': 1704, 'boat': 1705, 'clark': 1706, 'spanish': 1707, 'gene': 1708, 'structur': 1709, 'paper': 1710, 'kidnap': 1711, 'whilst': 1712, 'belief': 1713, 'factor': 1714, 'tree': 1715, 'attend': 1716, 'complic': 1717, 'realism': 1718, 'realis': 1719, 'bob': 1720, 'witti': 1721, 'educ': 1722, 'finest': 1723, 'assist': 1724, 'broken': 1725, 'santa': 1726, 'v': 1727, 'up': 1728, 'depart': 1729, 'determin': 1730, 'observ': 1731, 'smoke': 1732, 'domin': 1733, 'hat': 1734, 'lewi': 1735, 'oper': 1736, 'rubbish': 1737, 'routin': 1738, 'fame': 1739, 'safe': 1740, 'lone': 1741, 'hook': 1742, 'morgan': 1743, 'foreign': 1744, 'kinda': 1745, 'advanc': 1746, 'rank': 1747, 'numer': 1748, 'shape': 1749, 'civil': 1750, 'washington': 1751, 'shallow': 1752, 'vs': 1753, 'rose': 1754, 'werewolf': 1755, 'morn': 1756, 'gari': 1757, 'ordinari': 1758, 'winner': 1759, 'accomplish': 1760, 'kong': 1761, 'peac': 1762, 'whenev': 1763, 'grab': 1764, 'virtual': 1765, 'luck': 1766, 'h': 1767, 'offens': 1768, 'complain': 1769, 'unfunni': 1770, 'activ': 1771, 'contriv': 1772, 'patient': 1773, 'welcom': 1774, 'bigger': 1775, 'pretend': 1776, 'trek': 1777, 'con': 1778, 'dimension': 1779, 'lesbian': 1780, 'flash': 1781, 'code': 1782, 'dri': 1783, 'wake': 1784, 'cain': 1785, 'eric': 1786, 'statu': 1787, 'corrupt': 1788, 'manipul': 1789, 'guard': 1790, 'dancer': 1791, 'albert': 1792, 'awkward': 1793, 'sourc': 1794, 'speech': 1795, 'context': 1796, 'gain': 1797, 'signific': 1798, 'anthoni': 1799, 'psycho': 1800, 'corni': 1801, 'sean': 1802, 'clip': 1803, '13': 1804, 'theatric': 1805, 'advic': 1806, 'reli': 1807, 'priest': 1808, 'religion': 1809, 'w': 1810, 'curiou': 1811, 'flow': 1812, 'addict': 1813, 'skin': 1814, 'asian': 1815, 'howard': 1816, 'jennif': 1817, 'secur': 1818, 'specif': 1819, 'luke': 1820, 'comfort': 1821, 'core': 1822, 'organ': 1823, 'golden': 1824, 'promot': 1825, 'cash': 1826, 'cheat': 1827, 'lucki': 1828, 'lower': 1829, 'associ': 1830, 'dislik': 1831, 'balanc': 1832, 'wing': 1833, 'spell': 1834, 'frankli': 1835, 'devic': 1836, 'degre': 1837, 'frequent': 1838, 'regret': 1839, 'contribut': 1840, 'lake': 1841, 'sake': 1842, 'forgiv': 1843, 'print': 1844, 'betti': 1845, 'thoma': 1846, 'mass': 1847, 'crack': 1848, 'gordon': 1849, 'unexpect': 1850, 'grown': 1851, 'depend': 1852, 'amateur': 1853, 'construct': 1854, 'invit': 1855, 'unfold': 1856, 'categori': 1857, 'anna': 1858, 'intellectu': 1859, 'honor': 1860, 'condit': 1861, 'walter': 1862, 'grew': 1863, 'matur': 1864, 'veteran': 1865, 'sole': 1866, 'spectacular': 1867, 'mirror': 1868, 'sudden': 1869, 'card': 1870, 'freedom': 1871, 'gift': 1872, 'liner': 1873, 'experienc': 1874, 'meanwhil': 1875, 'robin': 1876, 'grip': 1877, 'overli': 1878, 'demonstr': 1879, 'sheriff': 1880, 'circumst': 1881, 'brilliantli': 1882, 'drew': 1883, 'colour': 1884, 'crappi': 1885, 'subtitl': 1886, 'section': 1887, 'theori': 1888, 'unabl': 1889, 'oliv': 1890, 'laughter': 1891, 'pile': 1892, 'cook': 1893, 'altern': 1894, 'matt': 1895, 'path': 1896, 'parker': 1897, 'sheer': 1898, 'defin': 1899, 'relief': 1900, 'hall': 1901, 'lawyer': 1902, 'wander': 1903, 'accident': 1904, 'treatment': 1905, 'sinatra': 1906, 'hank': 1907, 'captiv': 1908, 'dragon': 1909, 'moor': 1910, 'gratuit': 1911, 'halloween': 1912, 'kung': 1913, 'unintent': 1914, 'broadway': 1915, 'cowboy': 1916, 'wayn': 1917, 'wound': 1918, 'barbara': 1919, 'jacki': 1920, 'k': 1921, 'surreal': 1922, 'spoof': 1923, 'winter': 1924, 'statement': 1925, 'canadian': 1926, 'treasur': 1927, 'gonna': 1928, 'compos': 1929, 'cheer': 1930, 'fare': 1931, 'fish': 1932, 'emerg': 1933, 'victor': 1934, 'woodi': 1935, 'sensit': 1936, 'unrealist': 1937, 'ran': 1938, 'neighbor': 1939, 'sympathet': 1940, 'driven': 1941, 'authent': 1942, 'glass': 1943, 'expos': 1944, 'topic': 1945, 'overlook': 1946, 'menac': 1947, 'chief': 1948, 'handsom': 1949, 'gross': 1950, 'michel': 1951, 'ancient': 1952, 'cinderella': 1953, 'pleasant': 1954, 'stranger': 1955, 'built': 1956, 'nevertheless': 1957, 'contemporari': 1958, 'feet': 1959, 'comedian': 1960, 'russel': 1961, 'network': 1962, 'underr': 1963, 'letter': 1964, 'miser': 1965, 'gori': 1966, 'earn': 1967, 'blockbust': 1968, 'endless': 1969, 'consider': 1970, 'brook': 1971, 'switch': 1972, 'solv': 1973, 'convict': 1974, 'edward': 1975, 'joseph': 1976, 'virgin': 1977, 'bullet': 1978, 'victoria': 1979, '0': 1980, 'scale': 1981, 'alex': 1982, 'chosen': 1983, 'cynic': 1984, 'scenario': 1985, 'sword': 1986, 'gut': 1987, 'outrag': 1988, 'com': 1989, 'curs': 1990, 'monkey': 1991, 'screenwrit': 1992, 'wrap': 1993, 'uk': 1994, 'driver': 1995, 'juli': 1996, 'proper': 1997, 'substanc': 1998, 'indic': 1999, 'bird': 2000, 'remov': 2001, 'par': 2002, 'court': 2003, 'nanci': 2004, 'inevit': 2005, 'grave': 2006, 'loser': 2007, 'consequ': 2008, 'advertis': 2009, 'rental': 2010, 'naiv': 2011, 'roy': 2012, 'bridg': 2013, 'invis': 2014, 'fatal': 2015, 'le': 2016, 'slap': 2017, 'germani': 2018, 'brave': 2019, 'anger': 2020, 'footbal': 2021, 'provok': 2022, 'ador': 2023, 'loui': 2024, 'alcohol': 2025, 'anderson': 2026, 'chan': 2027, 'professor': 2028, 'willi': 2029, 'ryan': 2030, 'stumbl': 2031, 'patrick': 2032, 'bat': 2033, 'sharp': 2034, 'australian': 2035, '1930': 2036, 'assassin': 2037, 'liber': 2038, 'saturday': 2039, 'deni': 2040, 'ape': 2041, 'lousi': 2042, 'eight': 2043, 'trilog': 2044, 'strongli': 2045, 'amateurish': 2046, 'cell': 2047, 'heck': 2048, 'refresh': 2049, 'sin': 2050, 'justifi': 2051, 'resid': 2052, 'san': 2053, 'vagu': 2054, 'terrifi': 2055, 'defeat': 2056, 'sympathi': 2057, 'mini': 2058, 'reput': 2059, 'indi': 2060, 'creator': 2061, 'endur': 2062, 'task': 2063, 'prevent': 2064, 'expert': 2065, 'tediou': 2066, 'tabl': 2067, 'trial': 2068, 'rival': 2069, 'offend': 2070, 'employ': 2071, 'basebal': 2072, 'imit': 2073, 'che': 2074, 'fairi': 2075, 'europ': 2076, 'pitch': 2077, 'weekend': 2078, 'dig': 2079, 'max': 2080, 'beach': 2081, 'complaint': 2082, 'risk': 2083, 'purchas': 2084, 'format': 2085, 'murphi': 2086, 'harsh': 2087, 'powel': 2088, 'bite': 2089, 'hype': 2090, 'glimps': 2091, 'nois': 2092, 'tini': 2093, 'reminisc': 2094, 'titan': 2095, 'asleep': 2096, 'north': 2097, 'strip': 2098, 'till': 2099, 'prime': 2100, 'fals': 2101, '14': 2102, 'descript': 2103, 'texa': 2104, 'revel': 2105, 'destruct': 2106, 'africa': 2107, 'uninterest': 2108, 'sitcom': 2109, 'inner': 2110, 'excess': 2111, 'arrest': 2112, 'surfac': 2113, 'spin': 2114, 'semi': 2115, 'dinosaur': 2116, 'makeup': 2117, 'hitchcock': 2118, 'maintain': 2119, 'massiv': 2120, 'twin': 2121, 'controversi': 2122, 'argu': 2123, 'expens': 2124, 'ideal': 2125, 'insist': 2126, 'kim': 2127, 'reject': 2128, 'melodrama': 2129, 'ludicr': 2130, 'stare': 2131, 'forest': 2132, 'host': 2133, 'subplot': 2134, 'atroci': 2135, 'ga': 2136, 'ala': 2137, 'supernatur': 2138, 'nail': 2139, 'erot': 2140, 'press': 2141, 'columbo': 2142, 'cant': 2143, 'notch': 2144, 'presum': 2145, 'dude': 2146, 'identifi': 2147, 'plagu': 2148, 'closer': 2149, 'forgett': 2150, 'guest': 2151, 'method': 2152, 'character': 2153, 'crude': 2154, 'foster': 2155, 'landscap': 2156, 'border': 2157, 'lion': 2158, 'beast': 2159, 'princess': 2160, 'ear': 2161, 'birth': 2162, 'accus': 2163, 'bound': 2164, 'pacino': 2165, 'previous': 2166, 'storytel': 2167, 'aunt': 2168, 'jungl': 2169, 'damag': 2170, 'urban': 2171, 'propaganda': 2172, 'jess': 2173, 'nude': 2174, 'chose': 2175, 'thirti': 2176, 'doll': 2177, 'guid': 2178, 'emma': 2179, 'warrior': 2180, 'whoever': 2181, '25': 2182, 'mate': 2183, 'pet': 2184, 'mainstream': 2185, 'upset': 2186, 'gritti': 2187, 'friday': 2188, 'exact': 2189, 'merit': 2190, 'latest': 2191, 'poster': 2192, 'cooper': 2193, 'deadli': 2194, 'size': 2195, 'wilson': 2196, 'citizen': 2197, 'contest': 2198, '1990': 2199, 'ton': 2200, 'blend': 2201, 'popul': 2202, 'buff': 2203, 'corps': 2204, 'rough': 2205, 'contact': 2206, 'sun': 2207, 'warner': 2208, 'settl': 2209, 'overcom': 2210, 'pitt': 2211, 'widow': 2212, 'environ': 2213, 'alic': 2214, 'select': 2215, 'metal': 2216, 'rat': 2217, 'mgm': 2218, 'bu': 2219, 'ted': 2220, 'revolut': 2221, 'guilti': 2222, 'particip': 2223, 'lift': 2224, 'link': 2225, 'johnson': 2226, 'corner': 2227, 'moron': 2228, 'exagger': 2229, 'afternoon': 2230, 'matrix': 2231, 'prostitut': 2232, 'accompani': 2233, 'corpor': 2234, '1960': 2235, 'doom': 2236, 'clair': 2237, 'multipl': 2238, 'leagu': 2239, 'instal': 2240, 'friendli': 2241, 'sincer': 2242, 'hood': 2243, 'holm': 2244, 'hip': 2245, 'examin': 2246, 'irish': 2247, 'defend': 2248, 'advis': 2249, 'sunday': 2250, 'junk': 2251, 'blah': 2252, 'aka': 2253, 'string': 2254, 'lugosi': 2255, 'grim': 2256, 'campi': 2257, 'shake': 2258, 'tight': 2259, 'shut': 2260, 'icon': 2261, 'pro': 2262, 'varieti': 2263, 'confid': 2264, 'rachel': 2265, 'jaw': 2266, 'directli': 2267, 'goal': 2268, 'attach': 2269, 'medic': 2270, 'denni': 2271, 'sullivan': 2272, 'mexican': 2273, 'sentenc': 2274, 'duke': 2275, 'terrorist': 2276, 'prior': 2277, 'legendari': 2278, 'vietnam': 2279, 'sarah': 2280, 'dean': 2281, 'truck': 2282, 'breast': 2283, 'courag': 2284, 'bourn': 2285, 'nose': 2286, 'donald': 2287, 'proceed': 2288, 'un': 2289, 'yell': 2290, 'split': 2291, 'entri': 2292, 'behav': 2293, 'hong': 2294, 'crush': 2295, 'lifetim': 2296, 'jerk': 2297, 'gather': 2298, 'concentr': 2299, 'forth': 2300, 'everywher': 2301, 'borrow': 2302, 'stolen': 2303, 'buri': 2304, 'unconvinc': 2305, 'swim': 2306, 'confess': 2307, 'spite': 2308, 'deliveri': 2309, 'lip': 2310, 'california': 2311, 'pan': 2312, 'turkey': 2313, 'julia': 2314, 'quest': 2315, 'freeman': 2316, 'downright': 2317, 'china': 2318, 'flight': 2319, 'offici': 2320, 'proud': 2321, 'hoffman': 2322, 'reward': 2323, 'worthwhil': 2324, 'betray': 2325, 'lazi': 2326, 'sink': 2327, 'inept': 2328, 'jail': 2329, 'jon': 2330, 'fabul': 2331, 'sir': 2332, 'encourag': 2333, 'fade': 2334, 'notori': 2335, 'survivor': 2336, 'cousin': 2337, 'susan': 2338, 'relev': 2339, 'bag': 2340, 'teeth': 2341, 'shower': 2342, 'lisa': 2343, 'retard': 2344, 'bell': 2345, 'branagh': 2346, 'imageri': 2347, 'storm': 2348, 'mexico': 2349, 'facial': 2350, 'bride': 2351, 'alright': 2352, 'trade': 2353, 'shark': 2354, 'finger': 2355, 'toler': 2356, 'quirki': 2357, 'tremend': 2358, 'hugh': 2359, 'stab': 2360, 'summari': 2361, 'bitter': 2362, 'von': 2363, 'ha': 2364, 'blown': 2365, 'pose': 2366, 'hyster': 2367, 'afterward': 2368, 'cruel': 2369, 'bone': 2370, 'ron': 2371, 'larri': 2372, 'ned': 2373, 'address': 2374, 'scheme': 2375, 'christ': 2376, 'snake': 2377, 'thumb': 2378, 'pursu': 2379, 'distinct': 2380, 'tour': 2381, 'swear': 2382, 'beg': 2383, 'traci': 2384, 'screw': 2385, 'feed': 2386, 'raw': 2387, 'stomach': 2388, 'chair': 2389, 'photo': 2390, 'obscur': 2391, 'mechan': 2392, 'occas': 2393, 'chain': 2394, 'gruesom': 2395, 'resist': 2396, 'necessarili': 2397, 'southern': 2398, 'holiday': 2399, 'cabin': 2400, 'hardi': 2401, 'heavili': 2402, 'sidney': 2403, 'render': 2404, 'argument': 2405, 'philip': 2406, 'satan': 2407, 'understood': 2408, 'indulg': 2409, 'racist': 2410, 'india': 2411, 'forgot': 2412, 'outfit': 2413, 'belov': 2414, 'obnoxi': 2415, 'integr': 2416, 'pregnant': 2417, 'tongu': 2418, 'midnight': 2419, 'stalk': 2420, 'fourth': 2421, 'lay': 2422, 'restor': 2423, 'ticket': 2424, 'deeper': 2425, 'slapstick': 2426, 'inhabit': 2427, 'garden': 2428, 'magazin': 2429, 'carol': 2430, '17': 2431, 'brad': 2432, 'shoe': 2433, 'incid': 2434, 'lincoln': 2435, 'devot': 2436, 'benefit': 2437, 'disbelief': 2438, 'guarante': 2439, 'elizabeth': 2440, 'underground': 2441, 'anticip': 2442, 'lili': 2443, 'maria': 2444, 'divorc': 2445, 'sandler': 2446, 'cring': 2447, 'capit': 2448, 'creation': 2449, 'amazingli': 2450, 'bbc': 2451, 'mildli': 2452, 'explod': 2453, 'slave': 2454, 'greater': 2455, 'princip': 2456, 'halfway': 2457, 'funnier': 2458, 'extraordinari': 2459, 'introduct': 2460, 'lesli': 2461, 'advantag': 2462, 'enhanc': 2463, 'punish': 2464, 'wreck': 2465, 'transfer': 2466, 'tap': 2467, 'extent': 2468, 'overwhelm': 2469, 'text': 2470, 'horrif': 2471, 'deliber': 2472, 'jessica': 2473, 'lane': 2474, 'lo': 2475, 'error': 2476, 'plant': 2477, 'dynam': 2478, 'east': 2479, 'preview': 2480, 'appli': 2481, 'vacat': 2482, 'miscast': 2483, 'sophist': 2484, 'homosexu': 2485, 'vincent': 2486, 'ensu': 2487, 'miller': 2488, 'basi': 2489, '2000': 2490, 'via': 2491, 'uncomfort': 2492, 'sleazi': 2493, 'steel': 2494, 'extend': 2495, 'measur': 2496, 'reed': 2497, 'mansion': 2498, 'elev': 2499, 'bollywood': 2500, 'spoken': 2501, 'mous': 2502, 'overact': 2503, 'fix': 2504, 'conceiv': 2505, 'cathol': 2506, 'dentist': 2507, 'beer': 2508, 'alter': 2509, 'assign': 2510, 'goofi': 2511, 'hippi': 2512, 'stanley': 2513, 'savag': 2514, 'blair': 2515, 'melt': 2516, 'daili': 2517, 'breathtak': 2518, 'inspector': 2519, 'burt': 2520, 'properli': 2521, 'succe': 2522, 'sacrific': 2523, 'nowaday': 2524, 'everyday': 2525, 'oppos': 2526, 'subsequ': 2527, 'carpent': 2528, 'circl': 2529, 'block': 2530, 'neck': 2531, 'massacr': 2532, 'laura': 2533, 'seagal': 2534, 'lesser': 2535, 'pool': 2536, 'portrait': 2537, 'access': 2538, 'fay': 2539, 'concert': 2540, 'fallen': 2541, 'christi': 2542, 'grey': 2543, 'mob': 2544, 'competit': 2545, 'jake': 2546, 'isol': 2547, 'chees': 2548, 'usa': 2549, 'sinist': 2550, 'relax': 2551, 'react': 2552, 'jewish': 2553, 'chop': 2554, 'creep': 2555, 'appal': 2556, 'ironi': 2557, 'immens': 2558, 'suitabl': 2559, 'lyric': 2560, 'nonetheless': 2561, 'spiritu': 2562, 'stink': 2563, 'nine': 2564, '2006': 2565, 'reduc': 2566, 'rage': 2567, 'showcas': 2568, 'navi': 2569, 'luci': 2570, 'retir': 2571, 'adopt': 2572, 'nut': 2573, 'shirt': 2574, 'user': 2575, 'needless': 2576, 'sold': 2577, 'spring': 2578, 'franchis': 2579, 'asham': 2580, 'jay': 2581, 'digit': 2582, 'per': 2583, 'bath': 2584, 'bulli': 2585, 'uninspir': 2586, 'zone': 2587, 'nurs': 2588, 'stanwyck': 2589, 'sutherland': 2590, '1940': 2591, 'laid': 2592, 'broadcast': 2593, 'upper': 2594, 'illustr': 2595, 'oddli': 2596, '2001': 2597, 'amongst': 2598, 'baker': 2599, 'fulfil': 2600, 'aspir': 2601, 'throat': 2602, 'stylish': 2603, 'brando': 2604, 'disguis': 2605, 'thief': 2606, 'nobl': 2607, 'pride': 2608, 'neighborhood': 2609, 'pound': 2610, 'wwii': 2611, 'endear': 2612, 'wanna': 2613, 'impli': 2614, '18': 2615, 'em': 2616, 'albeit': 2617, 'coher': 2618, 'dinner': 2619, 'bo': 2620, 'shoulder': 2621, 'cinematograph': 2622, 'shift': 2623, '16': 2624, 'prop': 2625, 'dawn': 2626, 'diseas': 2627, 'bett': 2628, 'distribut': 2629, 'tens': 2630, 'rochest': 2631, 'snow': 2632, 'silenc': 2633, 'contract': 2634, 'forti': 2635, 'function': 2636, 'wash': 2637, 'rebel': 2638, 'poignant': 2639, 'knife': 2640, 'shout': 2641, 'surf': 2642, 'matthau': 2643, 'horrend': 2644, 'height': 2645, 'eeri': 2646, 'instinct': 2647, 'cannib': 2648, 'derek': 2649, 'silver': 2650, 'chuck': 2651, 'cancel': 2652, 'reunion': 2653, 'duti': 2654, 'mindless': 2655, 'heat': 2656, 'henc': 2657, 'widmark': 2658, 'internet': 2659, 'elvira': 2660, 'proof': 2661, 'glori': 2662, 'musician': 2663, 'mill': 2664, 'repetit': 2665, 'greatli': 2666, 'torn': 2667, 'premier': 2668, 'pie': 2669, 'spielberg': 2670, 'etern': 2671, 'innov': 2672, 'neat': 2673, 'absorb': 2674, 'incoher': 2675, 'elvi': 2676, 'alik': 2677, 'itali': 2678, 'horrifi': 2679, 'lovabl': 2680, 'nelson': 2681, 'trite': 2682, 'homag': 2683, 'announc': 2684, 'bang': 2685, 'crisi': 2686, 'blank': 2687, 'redempt': 2688, 'precis': 2689, 'wealthi': 2690, 'diamond': 2691, 'britain': 2692, 'racism': 2693, 'fbi': 2694, 'infam': 2695, 'burton': 2696, 'flop': 2697, 'wilder': 2698, 'chaplin': 2699, 'helen': 2700, 'parallel': 2701, 'happili': 2702, 'dedic': 2703, 'pat': 2704, 'ensembl': 2705, 'streisand': 2706, 'hammer': 2707, 'resolut': 2708, 'carter': 2709, 'broke': 2710, 'disagre': 2711, 'plastic': 2712, 'st': 2713, 'oil': 2714, 'triumph': 2715, 'mar': 2716, 'factori': 2717, 'conclud': 2718, 'cube': 2719, 'fighter': 2720, 'weight': 2721, 'own': 2722, 'rocket': 2723, 'vega': 2724, 'chuckl': 2725, 'climb': 2726, 'march': 2727, 'row': 2728, 'bush': 2729, 'boot': 2730, 'spare': 2731, 'unforgett': 2732, 'sensibl': 2733, 'luca': 2734, 'wherea': 2735, 'mst3k': 2736, 'meaning': 2737, 'kurt': 2738, 'thug': 2739, 'lust': 2740, 'dane': 2741, 'dump': 2742, 'enorm': 2743, 'rap': 2744, 'caricatur': 2745, 'bobbi': 2746, 'stress': 2747, 'dear': 2748, 'brand': 2749, 'threat': 2750, 'fifti': 2751, 'butt': 2752, 'engin': 2753, 'adequ': 2754, 'difficulti': 2755, 'arnold': 2756, 'karloff': 2757, 'arrog': 2758, 'elabor': 2759, 'journalist': 2760, 'homeless': 2761, 'fest': 2762, 'secretari': 2763, 'swing': 2764, 'ralph': 2765, 'polish': 2766, 'ego': 2767, 'barri': 2768, 'flynn': 2769, 'hamlet': 2770, 'tool': 2771, 'simpson': 2772, 'unbear': 2773, 'spike': 2774, 'arrang': 2775, 'induc': 2776, 'grate': 2777, 'conspiraci': 2778, 'fanci': 2779, 'puppet': 2780, 'float': 2781, 'resort': 2782, 'guilt': 2783, 'boll': 2784, 'pig': 2785, 'basement': 2786, 'tribut': 2787, 'cruis': 2788, 'choreograph': 2789, 'exercis': 2790, 'muppet': 2791, 'phillip': 2792, 'ward': 2793, 'medium': 2794, 'file': 2795, 'slip': 2796, 'puzzl': 2797, 'ham': 2798, 'fianc': 2799, 'toilet': 2800, 'tower': 2801, 'babe': 2802, 'layer': 2803, 'editor': 2804, 'stan': 2805, 'document': 2806, '24': 2807, 'item': 2808, 'korean': 2809, 'scarecrow': 2810, 'slaughter': 2811, 'orient': 2812, 'catherin': 2813, 'territori': 2814, 'inexplic': 2815, 'assur': 2816, 'denzel': 2817, 'minim': 2818, 'persona': 2819, 'philosoph': 2820, 'doc': 2821, 'transit': 2822, 'glover': 2823, 'spark': 2824, 'portion': 2825, 'librari': 2826, 'larger': 2827, 'superfici': 2828, 'boredom': 2829, 'jet': 2830, 'jeremi': 2831, 'curti': 2832, 'ban': 2833, 'walken': 2834, 'shi': 2835, 'dorothi': 2836, 'sneak': 2837, 'pg': 2838, 'wolf': 2839, 'owe': 2840, 'financi': 2841, 'cusack': 2842, 'backdrop': 2843, 'metaphor': 2844, 'hudson': 2845, 'profound': 2846, 'multi': 2847, 'ambigu': 2848, 'whale': 2849, 'eleph': 2850, 'gadget': 2851, 'union': 2852, 'notion': 2853, 'viru': 2854, '2005': 2855, 'birthday': 2856, 'rave': 2857, 'implaus': 2858, 'stiff': 2859, 'ultra': 2860, 'hack': 2861, 'elsewher': 2862, '1st': 2863, 'pad': 2864, 'hawk': 2865, 'distanc': 2866, 'lloyd': 2867, 'slight': 2868, 'bibl': 2869, 'canada': 2870, 'eastwood': 2871, 'urg': 2872, 'deriv': 2873, 'squar': 2874, 'poison': 2875, 'disc': 2876, 'newspap': 2877, 'eva': 2878, 'reader': 2879, 'afford': 2880, 'superhero': 2881, 'cure': 2882, 'essenc': 2883, 'button': 2884, 'charisma': 2885, 'spread': 2886, 'drown': 2887, 'sadist': 2888, 'health': 2889, 'restaur': 2890, 'montag': 2891, 'huh': 2892, 'skit': 2893, 'heston': 2894, 'lab': 2895, 'scoobi': 2896, 'godfath': 2897, 'fetch': 2898, 'dealt': 2899, 'peak': 2900, 'companion': 2901, 'invest': 2902, 'maniac': 2903, 'muslim': 2904, 'estat': 2905, 'gradual': 2906, 'subtleti': 2907, 'kane': 2908, 'countless': 2909, 'alli': 2910, 'gothic': 2911, 'tea': 2912, 'ritter': 2913, 'cup': 2914, 'servant': 2915, 'miik': 2916, 'briefli': 2917, 'heroic': 2918, 'elect': 2919, 'electr': 2920, 'iii': 2921, 'charismat': 2922, 'salli': 2923, 'cole': 2924, 'toss': 2925, 'grandmoth': 2926, 'neil': 2927, 'admittedli': 2928, 'ingredi': 2929, 'reel': 2930, 'bud': 2931, 'tender': 2932, 'wannab': 2933, 'nuanc': 2934, 'resourc': 2935, 'punk': 2936, 'poverti': 2937, 'stood': 2938, 'mafia': 2939, 'label': 2940, 'reev': 2941, 'shall': 2942, 'gate': 2943, 'mild': 2944, 'pit': 2945, 'kubrick': 2946, 'stronger': 2947, 'pauli': 2948, 'carrey': 2949, 'dawson': 2950, 'smash': 2951, 'tag': 2952, 'easier': 2953, 'burst': 2954, 'cardboard': 2955, 'ian': 2956, 'cox': 2957, 'terri': 2958, 'outcom': 2959, 'fond': 2960, 'updat': 2961, 'bakshi': 2962, 'astair': 2963, 'useless': 2964, 'smooth': 2965, 'assault': 2966, 'exchang': 2967, 'sketch': 2968, 'increasingli': 2969, 'qualifi': 2970, 'coincid': 2971, 'vulner': 2972, 'melodramat': 2973, 'vari': 2974, 'divers': 2975, 'fist': 2976, 'samurai': 2977, '2002': 2978, 'resolv': 2979, 'rex': 2980, 'insert': 2981, 'templ': 2982, 'reynold': 2983, 'conveni': 2984, 'scratch': 2985, 'tame': 2986, 'luckili': 2987, 'blast': 2988, 'brillianc': 2989, 'suspend': 2990, 'be': 2991, 'pin': 2992, 'farm': 2993, 'ambiti': 2994, 'jami': 2995, 'nuclear': 2996, 'coach': 2997, 'seventi': 2998, 'strictli': 2999, 'meat': 3000, 'gotta': 3001, 'walker': 3002, 'matthew': 3003, 'fisher': 3004, 'hamilton': 3005, 'soprano': 3006, 'instantli': 3007, 'revers': 3008, 'grasp': 3009, 'kudo': 3010, 'closet': 3011, 'cave': 3012, 'eccentr': 3013, 'empir': 3014, 'ninja': 3015, 'brosnan': 3016, 'clock': 3017, 'timeless': 3018, 'butcher': 3019, 'discoveri': 3020, 'worthless': 3021, 'struck': 3022, 'spooki': 3023, 'recreat': 3024, 'convolut': 3025, 'joey': 3026, 'monk': 3027, 'selfish': 3028, 'communist': 3029, 'evok': 3030, 'importantli': 3031, 'seller': 3032, 'pal': 3033, 'cliff': 3034, 'fifteen': 3035, 'wipe': 3036, 'mitchel': 3037, 'clown': 3038, 'declar': 3039, 'bleak': 3040, 'partli': 3041, 'gray': 3042, 'sloppi': 3043, 'eighti': 3044, 'norman': 3045, 'miracl': 3046, 'sidekick': 3047, 'inconsist': 3048, 'debat': 3049, 'farc': 3050, 'stoog': 3051, 'ho': 3052, 'australia': 3053, 'psychiatrist': 3054, 'flawless': 3055, 'chew': 3056, 'lifestyl': 3057, 'enthusiast': 3058, 'aforement': 3059, 'piano': 3060, 'destin': 3061, 'seed': 3062, 'websit': 3063, 'superbl': 3064, 'cheek': 3065, '45': 3066, 'wrestl': 3067, 'soviet': 3068, 'drivel': 3069, 'anni': 3070, 'slice': 3071, 'regardless': 3072, 'kitchen': 3073, 'directori': 3074, 'wick': 3075, 'incompet': 3076, 'abc': 3077, 'pressur': 3078, 'dire': 3079, 'bash': 3080, 'emili': 3081, 'dash': 3082, 'akshay': 3083, 'splatter': 3084, 'dave': 3085, 'suppli': 3086, 'pleasantli': 3087, 'artifici': 3088, 'distant': 3089, 'seduc': 3090, 'mann': 3091, 'prize': 3092, 'jar': 3093, 'doo': 3094, 'helicopt': 3095, 'curios': 3096, 'ken': 3097, 'glow': 3098, 'boil': 3099, 'blob': 3100, 'increas': 3101, 'cagney': 3102, 'beaten': 3103, 'judi': 3104, 'chapter': 3105, 'recov': 3106, 'duo': 3107, 'lou': 3108, 'flower': 3109, 'cameron': 3110, 'cia': 3111, 'combat': 3112, 'perri': 3113, 'laurel': 3114, 'glenn': 3115, 'psychot': 3116, 'francisco': 3117, 'favour': 3118, 'eleg': 3119, 'craven': 3120, 'goldberg': 3121, 'hop': 3122, 'web': 3123, 'panic': 3124, 'drunken': 3125, 'ellen': 3126, 'ranger': 3127, 'turner': 3128, 'splendid': 3129, 'craig': 3130, 'ruth': 3131, 'shortli': 3132, '20th': 3133, 'gentl': 3134, 'min': 3135, 'rid': 3136, 'wizard': 3137, 'philosophi': 3138, 'alexand': 3139, 'greek': 3140, 'plausibl': 3141, 'flip': 3142, 'modesti': 3143, 'slightest': 3144, 'fx': 3145, 'hatr': 3146, 'falk': 3147, 'graduat': 3148, 'gandhi': 3149, 'legal': 3150, 'jealou': 3151, 'futurist': 3152, 'manhattan': 3153, 'ocean': 3154, 'unpleas': 3155, 'we': 3156, 'harm': 3157, 'fund': 3158, 'preciou': 3159, 'knight': 3160, 'lend': 3161, 'holi': 3162, 'tall': 3163, 'dracula': 3164, 'felix': 3165, 'explicit': 3166, 'scientif': 3167, 'childish': 3168, 'digniti': 3169, 'ami': 3170, 'thread': 3171, 'forbidden': 3172, 'mock': 3173, 'overdon': 3174, 'bless': 3175, 'nod': 3176, 'tank': 3177, 'giallo': 3178, 'reviv': 3179, 'broad': 3180, '99': 3181, 'eve': 3182, 'nerv': 3183, 'torment': 3184, 'awaken': 3185, 'pirat': 3186, 'elderli': 3187, 'fever': 3188, '2004': 3189, 'yesterday': 3190, 'repeatedli': 3191, 'thick': 3192, 'margaret': 3193, 'verhoeven': 3194, 'mel': 3195, 'unwatch': 3196, 'awe': 3197, 'eas': 3198, 'bin': 3199, 'politician': 3200, 'custom': 3201, 'rivet': 3202, 'romero': 3203, 'griffith': 3204, 'absenc': 3205, 'acclaim': 3206, 'ah': 3207, 'lean': 3208, 'royal': 3209, 'automat': 3210, 'kay': 3211, 'ambit': 3212, 'launch': 3213, 'timothi': 3214, 'publish': 3215, 'roman': 3216, 'stiller': 3217, 'uniform': 3218, 'transport': 3219, 'darker': 3220, 'antic': 3221, 'foul': 3222, 'tomato': 3223, 'wallac': 3224, 'bathroom': 3225, 'homicid': 3226, 'pulp': 3227, 'phrase': 3228, 'pierc': 3229, 'crook': 3230, 'warren': 3231, 'sunshin': 3232, 'termin': 3233, 'stinker': 3234, 'purpl': 3235, 'gabriel': 3236, 'li': 3237, 'donna': 3238, 'juvenil': 3239, 'ought': 3240, '2003': 3241, 'awak': 3242, 'pray': 3243, 'evolv': 3244, 'packag': 3245, 'brazil': 3246, 'hollow': 3247, 'sixti': 3248, 'marin': 3249, 'contrari': 3250, 'kenneth': 3251, 'revolutionari': 3252, 'horrid': 3253, 'rambo': 3254, 'choreographi': 3255, 'viciou': 3256, 'coloni': 3257, 'saint': 3258, 'karen': 3259, 'album': 3260, 'prom': 3261, 'q': 3262, 'eyr': 3263, 'conserv': 3264, 'stole': 3265, 'dose': 3266, 'beatti': 3267, 'overr': 3268, 'twelv': 3269, 'blade': 3270, 'mummi': 3271, 'defi': 3272, 'nerd': 3273, 'candid': 3274, 'option': 3275, 'boast': 3276, 'kapoor': 3277, 'ireland': 3278, 'mildr': 3279, 'ramon': 3280, 'detract': 3281, 'confirm': 3282, 'protest': 3283, 'funer': 3284, 'fulci': 3285, 'collabor': 3286, 'astonish': 3287, 'flame': 3288, 'global': 3289, 'trio': 3290, 'kirk': 3291, 'jazz': 3292, 'altman': 3293, 'natali': 3294, 'blake': 3295, 'bottl': 3296, 'whip': 3297, 'destini': 3298, 'shade': 3299, 'yellow': 3300, 'nicholson': 3301, 'spit': 3302, 'bull': 3303, 'racial': 3304, 'leap': 3305, 'mystic': 3306, 'enterpris': 3307, 'delici': 3308, 'tommi': 3309, 'audio': 3310, 'enchant': 3311, 'altogeth': 3312, 'vivid': 3313, 'harder': 3314, 'fonda': 3315, 'swedish': 3316, 'merci': 3317, 'visibl': 3318, 'inherit': 3319, 'reunit': 3320, 'todd': 3321, 'staff': 3322, 'bedroom': 3323, 'pseudo': 3324, 'meaningless': 3325, 'neo': 3326, 'adolesc': 3327, 'threw': 3328, 'popcorn': 3329, 'atlanti': 3330, 'voight': 3331, 'await': 3332, 'edi': 3333, 'ruthless': 3334, 'respond': 3335, 'moodi': 3336, 'exhibit': 3337, 'roommat': 3338, 'decor': 3339, 'crocodil': 3340, 'leonard': 3341, 'synopsi': 3342, 'uneven': 3343, 'befriend': 3344, 'suspici': 3345, 'wire': 3346, 'madonna': 3347, 'lemmon': 3348, 'fanat': 3349, 'bust': 3350, 'tip': 3351, 'kennedi': 3352, 'lawrenc': 3353, 'reserv': 3354, 'jew': 3355, 'clumsi': 3356, 'unsettl': 3357, 'holli': 3358, '2007': 3359, 'carl': 3360, 'audit': 3361, 'clint': 3362, 'incident': 3363, 'bargain': 3364, 'chao': 3365, 'voyag': 3366, 'abysm': 3367, 'garner': 3368, 'dimens': 3369, 'centr': 3370, 'bold': 3371, 'ventur': 3372, 'palma': 3373, 'rural': 3374, 'bradi': 3375, 'cd': 3376, 'hart': 3377, 'elimin': 3378, 'cuba': 3379, 'poetic': 3380, 'trail': 3381, 'humili': 3382, 'nearbi': 3383, 'characterist': 3384, 'echo': 3385, 'mall': 3386, 'acknowledg': 3387, 'tiger': 3388, 'wealth': 3389, 'versu': 3390, '2nd': 3391, 'daddi': 3392, 'immigr': 3393, 'neglect': 3394, 'troop': 3395, 'imperson': 3396, 'cari': 3397, 'ant': 3398, 'lit': 3399, 'timon': 3400, 'jeffrey': 3401, 'collaps': 3402, 'mickey': 3403, 'solo': 3404, 'paus': 3405, 'prejudic': 3406, 'saga': 3407, 'mistaken': 3408, 'marshal': 3409, 'infect': 3410, 'celluloid': 3411, 'homer': 3412, 'domest': 3413, 'repuls': 3414, 'pun': 3415, 'inappropri': 3416, 'apolog': 3417, 'coat': 3418, 'undoubtedli': 3419, 'cake': 3420, 'interrupt': 3421, 'equip': 3422, '1996': 3423, 'tribe': 3424, 'olivi': 3425, 'assembl': 3426, 'pant': 3427, 'coffe': 3428, 'inan': 3429, 'gear': 3430, 'promin': 3431, 'sore': 3432, 'hbo': 3433, 'leon': 3434, 'ginger': 3435, 'milk': 3436, 'chest': 3437, 'harvey': 3438, 'pen': 3439, 'aveng': 3440, 'colleagu': 3441, 'instant': 3442, 'retain': 3443, 'brooklyn': 3444, 'institut': 3445, 'solut': 3446, 'polanski': 3447, 'maggi': 3448, 'colonel': 3449, 'devast': 3450, 'airplan': 3451, 'embrac': 3452, 'furthermor': 3453, 'trace': 3454, 'highest': 3455, 'humbl': 3456, 'primari': 3457, 'pot': 3458, 'consum': 3459, 'vulgar': 3460, 'exot': 3461, 'jenni': 3462, 'florida': 3463, 'rick': 3464, 'descend': 3465, 'illog': 3466, 'sale': 3467, 'dutch': 3468, 'dian': 3469, 'ya': 3470, 'wive': 3471, 'seduct': 3472, 'smaller': 3473, '3rd': 3474, '1999': 3475, 'linda': 3476, 'cope': 3477, 'disabl': 3478, 'principl': 3479, 'outer': 3480, 'godzilla': 3481, 'bowl': 3482, 'gender': 3483, 'poke': 3484, 'strain': 3485, 'secondli': 3486, 'mixtur': 3487, 'bubbl': 3488, 'primarili': 3489, 'vast': 3490, 'yard': 3491, 'scope': 3492, 'blatant': 3493, 'hal': 3494, 'dive': 3495, 'predecessor': 3496, 'dud': 3497, 'lol': 3498, 'inferior': 3499, 'devoid': 3500, 'cue': 3501, 'glamor': 3502, 'beneath': 3503, 'gloriou': 3504, 'gundam': 3505, 'rabbit': 3506, 'disjoint': 3507, 'trademark': 3508, 'alfr': 3509, 'countrysid': 3510, 'arab': 3511, 'myer': 3512, 'simplist': 3513, 'aggress': 3514, 'z': 3515, 'breed': 3516, 'talki': 3517, 'domino': 3518, 'shirley': 3519, 'alert': 3520, 'casual': 3521, 'hideou': 3522, 'pearl': 3523, 'garbo': 3524, 'senseless': 3525, 'museum': 3526, 'shelf': 3527, 'april': 3528, 'grinch': 3529, 'et': 3530, 'invas': 3531, 'streep': 3532, 'stack': 3533, 'mail': 3534, 'unhappi': 3535, 'disgrac': 3536, 'obtain': 3537, 'mayor': 3538, 'defens': 3539, 'slide': 3540, 'uwe': 3541, 'vanish': 3542, 'sh': 3543, 'oz': 3544, 'applaud': 3545, 'robinson': 3546, 'experiment': 3547, 'loyal': 3548, 'robberi': 3549, 'illeg': 3550, 'rendit': 3551, 'stellar': 3552, 'acid': 3553, 'boom': 3554, 'khan': 3555, 'maci': 3556, 'stir': 3557, 'hardcor': 3558, 'hopeless': 3559, 'topless': 3560, 'emphasi': 3561, 'rifl': 3562, 'amanda': 3563, 'tenant': 3564, 'berlin': 3565, 'blew': 3566, 'tempt': 3567, 'spider': 3568, 'grandfath': 3569, 'wont': 3570, 'counter': 3571, 'recruit': 3572, 'hartley': 3573, 'declin': 3574, 'incomprehens': 3575, 'span': 3576, 'diana': 3577, 'fri': 3578, 'craze': 3579, 'soccer': 3580, 'dismiss': 3581, 'scroog': 3582, 'dicken': 3583, 'psychic': 3584, 'porno': 3585, 'sympath': 3586, 'ration': 3587, 'woo': 3588, 'resurrect': 3589, 'shaw': 3590, 'riot': 3591, 'niro': 3592, 'bitch': 3593, 'parad': 3594, 'trashi': 3595, 'lumet': 3596, 'ethnic': 3597, 'revolt': 3598, 'sibl': 3599, 'justin': 3600, 'faster': 3601, 'intim': 3602, 'goer': 3603, 'shed': 3604, 'wet': 3605, 'rider': 3606, 'hesit': 3607, 'jonathan': 3608, 'nephew': 3609, 'unreal': 3610, '00': 3611, 'gap': 3612, 'farmer': 3613, 'commend': 3614, 'partial': 3615, 'lena': 3616, 'honesti': 3617, 'weakest': 3618, 'region': 3619, 'mario': 3620, 'eager': 3621, 'enlighten': 3622, 'ballet': 3623, 'choru': 3624, 'steam': 3625, 'biographi': 3626, 'slick': 3627, 'feminist': 3628, 'ensur': 3629, 'wheel': 3630, 'wendi': 3631, 'immort': 3632, 'dealer': 3633, 'worm': 3634, 'patriot': 3635, 'andr': 3636, 'hopper': 3637, 'victori': 3638, 'wore': 3639, 'similarli': 3640, 'snap': 3641, 'charlott': 3642, 'nostalg': 3643, 'sappi': 3644, 'morri': 3645, 'franco': 3646, 'properti': 3647, 'vice': 3648, 'util': 3649, 'kingdom': 3650, 'sandra': 3651, 'repress': 3652, 'safeti': 3653, 'composit': 3654, 'blunt': 3655, 'leo': 3656, 'psychopath': 3657, 'mutant': 3658, 'prequel': 3659, 'owen': 3660, 'hung': 3661, 'skull': 3662, 'confin': 3663, 'macarthur': 3664, 'rope': 3665, 'rocki': 3666, 'dust': 3667, 'speci': 3668, 'bumbl': 3669, 'deed': 3670, 'strand': 3671, 'tad': 3672, 'bergman': 3673, 'rambl': 3674, 'kyle': 3675, 'pattern': 3676, 'drum': 3677, 'farrel': 3678, 'hyde': 3679, 'drain': 3680, 'latin': 3681, 'miseri': 3682, 'whoopi': 3683, 'tail': 3684, 'recycl': 3685, 'emperor': 3686, 'compass': 3687, 'compens': 3688, 'valuabl': 3689, 'heartbreak': 3690, 'montana': 3691, '1972': 3692, 'bow': 3693, 'despair': 3694, 'exit': 3695, 'nervou': 3696, 'snl': 3697, 'repli': 3698, 'cg': 3699, 'bonu': 3700, 'campbel': 3701, 'del': 3702, 'acquir': 3703, 'thru': 3704, 'dalton': 3705, 'oppress': 3706, 'downhil': 3707, 'percept': 3708, 'radic': 3709, 'rapist': 3710, 'contempl': 3711, 'bleed': 3712, '35': 3713, 'gimmick': 3714, 'tonight': 3715, 'da': 3716, 'olli': 3717, 'airport': 3718, 'orson': 3719, 'chess': 3720, 'wacki': 3721, 'pour': 3722, 'mistress': 3723, 'roth': 3724, 'romp': 3725, 'rotten': 3726, 'martian': 3727, 'carradin': 3728, 'gal': 3729, 'slug': 3730, 'slash': 3731, 'belt': 3732, 'mislead': 3733, 'taught': 3734, 'pervers': 3735, 'tackl': 3736, 'banal': 3737, 'unpredict': 3738, 'preach': 3739, 'arc': 3740, 'dazzl': 3741, 'heal': 3742, 'tooth': 3743, 'stilt': 3744, 'paltrow': 3745, 'arguabl': 3746, '1983': 3747, 'pervert': 3748, 'shelley': 3749, 'attorney': 3750, 'melodi': 3751, 'pursuit': 3752, 'champion': 3753, 'edgar': 3754, 'programm': 3755, 'graham': 3756, 'marti': 3757, 'dixon': 3758, 'employe': 3759, 'sensat': 3760, 'tiresom': 3761, 'cleverli': 3762, 'maid': 3763, 'gambl': 3764, 'passeng': 3765, 'bela': 3766, 'orang': 3767, 'rubi': 3768, 'raymond': 3769, 'virginia': 3770, 'closest': 3771, 'plight': 3772, 'poem': 3773, 'vocal': 3774, 'mesmer': 3775, 'uplift': 3776, 'vengeanc': 3777, 'conneri': 3778, 'chicken': 3779, 'franki': 3780, 'duval': 3781, 'gerard': 3782, 'climact': 3783, 'outing': 3784, 'monologu': 3785, 'bay': 3786, 'sirk': 3787, 'extens': 3788, 'yawn': 3789, 'calm': 3790, 'habit': 3791, 'secretli': 3792, 'clone': 3793, 'giggl': 3794, 'inject': 3795, 'whine': 3796, 'swallow': 3797, 'profan': 3798, 'engross': 3799, 'amitabh': 3800, '1968': 3801, 'mute': 3802, 'quarter': 3803, 'numb': 3804, 'suffic': 3805, 'abraham': 3806, 'convincingli': 3807, 'paranoia': 3808, 'tube': 3809, 'scottish': 3810, 'iran': 3811, 'pokemon': 3812, 'crystal': 3813, 'volum': 3814, 'lundgren': 3815, 'bend': 3816, 'plod': 3817, 'dispos': 3818, 'underst': 3819, 'ethan': 3820, 'nichola': 3821, 'lowest': 3822, 'im': 3823, 'junior': 3824, 'surpass': 3825, 'poetri': 3826, 'meander': 3827, 'taxi': 3828, 'spock': 3829, 'septemb': 3830, 'abort': 3831, 'austen': 3832, 'grotesqu': 3833, 'trend': 3834, 'richardson': 3835, 'earl': 3836, 'backward': 3837, 'franci': 3838, 'fed': 3839, 'chicago': 3840, 'frankenstein': 3841, 'linger': 3842, 'profess': 3843, 'expand': 3844, 'myth': 3845, 'compliment': 3846, 'greedi': 3847, 'instrument': 3848, 'rant': 3849, 'mundan': 3850, 'sue': 3851, 'muddl': 3852, 'eugen': 3853, 'cannon': 3854, 'econom': 3855, 'stallon': 3856, 'literatur': 3857, 'rubber': 3858, 'household': 3859, 'descent': 3860, 'simplic': 3861, 'hum': 3862, 'nostalgia': 3863, 'catchi': 3864, 'tourist': 3865, 'waitress': 3866, 'spoke': 3867, 'lure': 3868, 'dysfunct': 3869, 'der': 3870, 'bacal': 3871, 'alongsid': 3872, 'equival': 3873, 'irrelev': 3874, 'crucial': 3875, 'randi': 3876, 'dictat': 3877, 'insur': 3878, 'coast': 3879, 'mankind': 3880, 'stale': 3881, 'hello': 3882, 'lang': 3883, 'firstli': 3884, 'flee': 3885, 'duck': 3886, 'eaten': 3887, 'map': 3888, 'phantom': 3889, 'recognit': 3890, 'recognis': 3891, 'molli': 3892, 'occupi': 3893, 'omen': 3894, 'cent': 3895, 'dement': 3896, 'deaf': 3897, 'mortal': 3898, 'louis': 3899, 'phoni': 3900, 'carel': 3901, 'furi': 3902, 'sissi': 3903, 'june': 3904, 'damon': 3905, 'ashley': 3906, '1973': 3907, 'labor': 3908, 'heel': 3909, 'freez': 3910, 'daisi': 3911, 'rooney': 3912, 'distinguish': 3913, 'bike': 3914, 'likewis': 3915, 'damm': 3916, 'twilight': 3917, 'onlin': 3918, 'loyalti': 3919, 'drake': 3920, 'rude': 3921, 'reign': 3922, 'cyborg': 3923, 'lengthi': 3924, 'newli': 3925, 'wisdom': 3926, 'biko': 3927, 'blackmail': 3928, 'antwon': 3929, 'bump': 3930, 'dreari': 3931, 'grayson': 3932, 'buffalo': 3933, 'nineti': 3934, 'ridden': 3935, 'proce': 3936, 'pink': 3937, 'worn': 3938, 'interior': 3939, 'provoc': 3940, 'inher': 3941, 'boxer': 3942, 'startl': 3943, 'incorpor': 3944, 'analysi': 3945, 'vein': 3946, 'exposur': 3947, 'tunnel': 3948, 'emphas': 3949, 'approv': 3950, 'barrymor': 3951, 'unorigin': 3952, 'butler': 3953, 'basketbal': 3954, 'attribut': 3955, 'sailor': 3956, 'prey': 3957, 'chronicl': 3958, 'baddi': 3959, 'keith': 3960, 'indiffer': 3961, 'belushi': 3962, 'meg': 3963, 'robbin': 3964, 'meyer': 3965, 'bunni': 3966, 'walsh': 3967, 'mighti': 3968, 'er': 3969, 'elm': 3970, 'stalker': 3971, 'substitut': 3972, 'mormon': 3973, 'hypnot': 3974, 'condemn': 3975, 'predat': 3976, 'carla': 3977, 'degrad': 3978, 'othello': 3979, 'undeni': 3980, 'julian': 3981, 'underli': 3982, 'simmon': 3983, 'improvis': 3984, 'barrel': 3985, 'drift': 3986, 'millionair': 3987, 'unrel': 3988, 'nicol': 3989, 'fleet': 3990, 'edgi': 3991, 'marion': 3992, 'palac': 3993, 'warmth': 3994, 'vital': 3995, 'greed': 3996, 'shove': 3997, 'lampoon': 3998, 'mtv': 3999, 'exquisit': 4000, 'disord': 4001, '3d': 4002, 'priceless': 4003, 'agenda': 4004, 'reid': 4005, 'alarm': 4006, 'roof': 4007, 'watson': 4008, 'firm': 4009, 'unawar': 4010, 'hay': 4011, 'novak': 4012, 'errol': 4013, 'nyc': 4014, 'dolph': 4015, 'rukh': 4016, 'alison': 4017, 'enthusiasm': 4018, 'profit': 4019, 'showdown': 4020, 'preserv': 4021, 'distort': 4022, 'what': 4023, 'peck': 4024, 'eastern': 4025, 'iraq': 4026, 'glanc': 4027, 'valentin': 4028, 'unleash': 4029, 'testament': 4030, 'randomli': 4031, 'drip': 4032, 'coup': 4033, '1933': 4034, 'israel': 4035, 'minimum': 4036, 'campaign': 4037, 'simultan': 4038, 'orlean': 4039, 'crown': 4040, 'sergeant': 4041, 'petti': 4042, '13th': 4043, 'gestur': 4044, 'thompson': 4045, 'peril': 4046, 'beatl': 4047, 'pamela': 4048, 'ponder': 4049, 'spain': 4050, 'cassidi': 4051, 'session': 4052, 'nun': 4053, 'championship': 4054, 'angela': 4055, 'zizek': 4056, 'brenda': 4057, 'jan': 4058, 'restrain': 4059, 'represent': 4060, 'stroke': 4061, 'rout': 4062, 'shootout': 4063, 'perpetu': 4064, 'contradict': 4065, 'stake': 4066, 'han': 4067, 'realm': 4068, 'unimagin': 4069, 'crawl': 4070, 'buster': 4071, 'calib': 4072, 'climat': 4073, 'crow': 4074, 'valley': 4075, 'empathi': 4076, 'bro': 4077, 'reson': 4078, 'mon': 4079, 'travesti': 4080, 'din': 4081, '1984': 4082, 'wig': 4083, 'gentleman': 4084, 'regist': 4085, 'cooki': 4086, 'kurosawa': 4087, 'quinn': 4088, 'sabrina': 4089, 'exposit': 4090, 'miyazaki': 4091, 'cream': 4092, 'scotland': 4093, 'fido': 4094, 'greg': 4095, 'delic': 4096, 'darren': 4097, 'shaki': 4098, 'femm': 4099, 'warrant': 4100, 'unsatisfi': 4101, 'stargat': 4102, '1997': 4103, 'compromis': 4104, 'unseen': 4105, 'derang': 4106, 'abomin': 4107, 'ustinov': 4108, 'spacey': 4109, 'crawford': 4110, 'distress': 4111, 'painter': 4112, 'tacki': 4113, 'perceiv': 4114, 'pole': 4115, 'pretens': 4116, 'demis': 4117, 'passabl': 4118, 'censor': 4119, 'cloud': 4120, 'geek': 4121, 'traumat': 4122, 'sucker': 4123, 'ross': 4124, '1987': 4125, 'sammi': 4126, 'absent': 4127, 'mclaglen': 4128, 'shoddi': 4129, 'josh': 4130, 'wax': 4131, 'monoton': 4132, 'fuller': 4133, 'soderbergh': 4134, 'baldwin': 4135, 'meryl': 4136, 'dana': 4137, 'businessman': 4138, 'clash': 4139, 'wholli': 4140, 'furiou': 4141, 'correctli': 4142, 'unravel': 4143, 'anchor': 4144, 'uncov': 4145, 'fenc': 4146, 'primit': 4147, 'austin': 4148, 'nathan': 4149, 'exclus': 4150, 'dee': 4151, 'jewel': 4152, 'click': 4153, 'norm': 4154, 'sid': 4155, 'polici': 4156, '1993': 4157, 'seal': 4158, 'judgment': 4159, 'reluct': 4160, 'verbal': 4161, 'kumar': 4162, 'valid': 4163, 'fog': 4164, 'tarantino': 4165, 'deceas': 4166, 'accuraci': 4167, 'expedit': 4168, 'tech': 4169, 'deniro': 4170, 'antonioni': 4171, 'slam': 4172, 'temper': 4173, 'clerk': 4174, 'mode': 4175, 'ritual': 4176, '1971': 4177, 'sand': 4178, 'enforc': 4179, 'trait': 4180, 'roller': 4181, 'joel': 4182, 'fart': 4183, '2008': 4184, 'dreck': 4185, 'conduct': 4186, 'debt': 4187, 'wang': 4188, 'seldom': 4189, 'malon': 4190, 'darn': 4191, '1995': 4192, 'sustain': 4193, 'unfair': 4194, 'shanghai': 4195, 'fought': 4196, 'fabric': 4197, 'alec': 4198, 'hallucin': 4199, 'crippl': 4200, 'patienc': 4201, 'pocket': 4202, 'sheet': 4203, 'wretch': 4204, 'vanc': 4205, 'murray': 4206, 'logan': 4207, 'behold': 4208, 'tax': 4209, 'bake': 4210, '3000': 4211, 'sunni': 4212, 'nicola': 4213, 'exhaust': 4214, 'divid': 4215, 'critiqu': 4216, 'bridget': 4217, 'helpless': 4218, 'robber': 4219, 'soup': 4220, 'canyon': 4221, 'stark': 4222, 'technicolor': 4223, 'legaci': 4224, 'conscious': 4225, 'grief': 4226, 'despis': 4227, 'outlin': 4228, 'bias': 4229, 'pete': 4230, 'schedul': 4231, 'rita': 4232, 'preposter': 4233, 'phil': 4234, 'clau': 4235, 'runner': 4236, 'fundament': 4237, 'sweep': 4238, 'guitar': 4239, 'shell': 4240, 'isabel': 4241, 'scriptwrit': 4242, 'penni': 4243, 'stuart': 4244, 'squad': 4245, 'tactic': 4246, 'preston': 4247, 'kansa': 4248, 'lacklust': 4249, 'jodi': 4250, 'jacket': 4251, 'marc': 4252, 'russia': 4253, 'flair': 4254, 'consciou': 4255, 'restrict': 4256, 'vomit': 4257, 'newman': 4258, 'gregori': 4259, 'downey': 4260, 'culmin': 4261, 'alicia': 4262, 'bloom': 4263, 'alley': 4264, 'inabl': 4265, 'sniper': 4266, 'liberti': 4267, 'boyl': 4268, 'rear': 4269, 'propos': 4270, 'palanc': 4271, 'agenc': 4272, 'invad': 4273, 'unexpectedli': 4274, 'sentinel': 4275, 'sugar': 4276, 'drove': 4277, 'rehash': 4278, 'connor': 4279, 'passag': 4280, 'delv': 4281, 'cigarett': 4282, 'implic': 4283, 'improb': 4284, 'lush': 4285, 'wrench': 4286, 'horn': 4287, 'chainsaw': 4288, 'rod': 4289, 'delet': 4290, 'bacon': 4291, 'foxx': 4292, 'mccoy': 4293, 'tendenc': 4294, 'yeti': 4295, '22': 4296, 'behaviour': 4297, '1936': 4298, 'arrow': 4299, 'rampag': 4300, 'asylum': 4301, 'ladder': 4302, 'cap': 4303, 'aesthet': 4304, 'sharon': 4305, 'rehears': 4306, 'pale': 4307, 'tripe': 4308, 'karl': 4309, 'vet': 4310, 'kolchak': 4311, 'feat': 4312, 'awhil': 4313, 'rhythm': 4314, 'hulk': 4315, 'thunderbird': 4316, 'loneli': 4317, 'newcom': 4318, '1920': 4319, 'shortcom': 4320, 'coaster': 4321, 'aristocrat': 4322, 'globe': 4323, 'underneath': 4324, 'filler': 4325, 'tomorrow': 4326, 'hackney': 4327, 'wildli': 4328, 'amazon': 4329, 'stream': 4330, 'conscienc': 4331, 'suspicion': 4332, '19th': 4333, 'paradis': 4334, 'sung': 4335, 'weav': 4336, 'basing': 4337, 'suffici': 4338, 'financ': 4339, 'elit': 4340, 'spice': 4341, 'rumor': 4342, '1978': 4343, 'wagner': 4344, 'lurk': 4345, 'prank': 4346, 'el': 4347, 'hungri': 4348, 'minu': 4349, 'paramount': 4350, 'tasteless': 4351, 'visitor': 4352, 'fright': 4353, '1988': 4354, 'scoop': 4355, 'atroc': 4356, 'minist': 4357, 'quietli': 4358, 'ram': 4359, '75': 4360, 'choppi': 4361, 'recogniz': 4362, 'lectur': 4363, 'curli': 4364, 'leigh': 4365, 'wwe': 4366, 'rub': 4367, 'penn': 4368, 'worship': 4369, '1989': 4370, 'entranc': 4371, 'literari': 4372, 'teas': 4373, 'ingeni': 4374, 'inmat': 4375, 'abrupt': 4376, 'impos': 4377, 'dirt': 4378, 'straightforward': 4379, 'posey': 4380, '1939': 4381, 'chavez': 4382, 'hopkin': 4383, 'heist': 4384, 'paxton': 4385, 'couch': 4386, 'bread': 4387, 'counterpart': 4388, 'iv': 4389, 'grudg': 4390, 'tierney': 4391, 'en': 4392, 'brit': 4393, 'cancer': 4394, 'naughti': 4395, 'secondari': 4396, 'immers': 4397, 'smell': 4398, 'standout': 4399, 'chamberlain': 4400, 'springer': 4401, 'beverli': 4402, 'yearn': 4403, 'nemesi': 4404, 'enthral': 4405, 'attenborough': 4406, 'skeptic': 4407, 'policeman': 4408, 'ace': 4409, 'watcher': 4410, 'missil': 4411, 'laurenc': 4412, 'cattl': 4413, 'moreov': 4414, 'heartfelt': 4415, 'transcend': 4416, 'sublim': 4417, 'duel': 4418, 'quaid': 4419, 'injuri': 4420, 'misguid': 4421, 'net': 4422, 'convert': 4423, '1986': 4424, 'variat': 4425, 'entitl': 4426, 'clan': 4427, 'morbid': 4428, 'bernard': 4429, 'geni': 4430, 'nolan': 4431, 'sassi': 4432, 'esther': 4433, 'lindsay': 4434, 'ratso': 4435, 'reliabl': 4436, 'spiral': 4437, 'egg': 4438, 'characteris': 4439, 'dont': 4440, 'obstacl': 4441, 'uncut': 4442, 'mytholog': 4443, 'brood': 4444, 'setup': 4445, 'buzz': 4446, 'bye': 4447, 'steadi': 4448, 'facil': 4449, 'diari': 4450, 'hopelessli': 4451, 'artsi': 4452, 'kitti': 4453, '1979': 4454, 'enabl': 4455, 'puppi': 4456, 'cruelti': 4457, 'moder': 4458, 'grin': 4459, 'tyler': 4460, 'unexplain': 4461, 'rosemari': 4462, 'youngest': 4463, 'graini': 4464, 'poe': 4465, 'bean': 4466, 'hk': 4467, 'kidman': 4468, 'out': 4469, 'vader': 4470, 'carlito': 4471, 'bounc': 4472, 'bewar': 4473, 'sweat': 4474, 'fuel': 4475, 'athlet': 4476, 'bronson': 4477, 'hain': 4478, 'hammi': 4479, 'exterior': 4480, 'underworld': 4481, 'brendan': 4482, 'decept': 4483, 'effici': 4484, 'patricia': 4485, '1969': 4486, 'acquaint': 4487, 'christin': 4488, 'weather': 4489, 'spontan': 4490, 'narrow': 4491, 'clueless': 4492, 'preming': 4493, 'heap': 4494, 'niec': 4495, 'oblig': 4496, 'baffl': 4497, 'despic': 4498, 'kline': 4499, 'gillian': 4500, 'gina': 4501, 'disastr': 4502, 'martha': 4503, 'rome': 4504, 'headach': 4505, '73': 4506, 'outlaw': 4507, 'suprem': 4508, 'circu': 4509, 'trigger': 4510, 'loath': 4511, 'sooner': 4512, 'injur': 4513, 'shatter': 4514, 'virtu': 4515, '19': 4516, 'astound': 4517, 'enlist': 4518, 'candl': 4519, 'lester': 4520, 'viewpoint': 4521, 'housewif': 4522, 'loi': 4523, 'biker': 4524, 'harmless': 4525, 'mermaid': 4526, 'analyz': 4527, 'goof': 4528, 'angst': 4529, 'tick': 4530, 'taboo': 4531, 'scar': 4532, 'hepburn': 4533, 'preachi': 4534, 'dandi': 4535, 'mayhem': 4536, 'sleepwalk': 4537, 'insipid': 4538, 'renaiss': 4539, 'dilemma': 4540, 'fontain': 4541, 'uh': 4542, 'claustrophob': 4543, 'amor': 4544, 'dish': 4545, 'macho': 4546, 'camcord': 4547, 'boston': 4548, 'hokey': 4549, 'scorses': 4550, 'overlong': 4551, 'hooker': 4552, 'ebert': 4553, 'intric': 4554, 'hostag': 4555, 'steer': 4556, 'stair': 4557, 'immatur': 4558, 'whore': 4559, 'foolish': 4560, 'idol': 4561, 'phenomenon': 4562, 'salt': 4563, 'gere': 4564, 'guin': 4565, 'slimi': 4566, 'spade': 4567, 'bent': 4568, 'glorifi': 4569, 'redund': 4570, 'zoom': 4571, 'dismal': 4572, 'sox': 4573, 'cassavet': 4574, 'corbett': 4575, 'oldest': 4576, 'surgeri': 4577, 'contempt': 4578, 'fluff': 4579, 'stimul': 4580, 'tripl': 4581, 'ariel': 4582, 'filth': 4583, 'alvin': 4584, 'flag': 4585, 'dwarf': 4586, 'rhyme': 4587, 'radiat': 4588, 'down': 4589, 'gasp': 4590, 'harold': 4591, 'assert': 4592, 'faint': 4593, 'mutual': 4594, 'messi': 4595, 'gabl': 4596, 'obligatori': 4597, 'schlock': 4598, 'remad': 4599, 'spinal': 4600, 'frantic': 4601, 'margin': 4602, 'keen': 4603, 'cohen': 4604, 'fascist': 4605, 'zane': 4606, '1981': 4607, '1976': 4608, 'strongest': 4609, 'joker': 4610, 'conquer': 4611, 'flirt': 4612, 'widescreen': 4613, 'shred': 4614, 'preced': 4615, 'astronaut': 4616, 'corman': 4617, 'muscl': 4618, 'trivia': 4619, 'perman': 4620, 'beard': 4621, 'shield': 4622, 'flashi': 4623, 'naschi': 4624, 'mount': 4625, 'transplant': 4626, 'antagonist': 4627, 'cow': 4628, 'nolt': 4629, 'spree': 4630, 'proport': 4631, 'cush': 4632, 'strive': 4633, 'neurot': 4634, 'repris': 4635, 'vaniti': 4636, 'departur': 4637, 'instruct': 4638, 'boob': 4639, 'bitten': 4640, 'flock': 4641, 'inflict': 4642, 'brush': 4643, 'bachelor': 4644, 'scandal': 4645, 'discern': 4646, 'www': 4647, 'resum': 4648, 'claud': 4649, 'interestingli': 4650, '28': 4651, 'mobil': 4652, 'someday': 4653, 'fishburn': 4654, 'carey': 4655, 'ritchi': 4656, 'triangl': 4657, '1945': 4658, 'danish': 4659, 'divin': 4660, 'sensual': 4661, 'archiv': 4662, '95': 4663, 'off': 4664, 'mol': 4665, 'barn': 4666, 'info': 4667, 'raj': 4668, 'persuad': 4669, 'wield': 4670, 'deer': 4671, 'hara': 4672, 'aborigin': 4673, 'axe': 4674, 'artwork': 4675, 'colin': 4676, 'frontier': 4677, 'undermin': 4678, 'casino': 4679, 'mobster': 4680, 'earnest': 4681, 'hilar': 4682, 'kathryn': 4683, 'submit': 4684, 'cycl': 4685, 'jade': 4686, 'dim': 4687, 'vibrant': 4688, 'timberlak': 4689, 'dylan': 4690, 'pickford': 4691, 'hug': 4692, 'recit': 4693, 'europa': 4694, 'ish': 4695, 'loretta': 4696, 'pacif': 4697, 'helm': 4698, 'senior': 4699, 'banter': 4700, 'clad': 4701, 'biblic': 4702, 'prophet': 4703, 'traffic': 4704, 'harrison': 4705, 'wendigo': 4706, 'pixar': 4707, 'cher': 4708, 'hapless': 4709, 'anton': 4710, 'neill': 4711, 'proclaim': 4712, 'cb': 4713, 'fragil': 4714, 'dame': 4715, 'melissa': 4716, 'luka': 4717, 'rot': 4718, 'bate': 4719, 'miracul': 4720, 'heartwarm': 4721, 'carlo': 4722, 'cliffhang': 4723, 'parson': 4724, 'vile': 4725, 'aris': 4726, 'lui': 4727, 'misfortun': 4728, 'winchest': 4729, 'legitim': 4730, 'breakfast': 4731, 'northern': 4732, 'estrang': 4733, 'electron': 4734, 'toronto': 4735, 'orphan': 4736, 'trier': 4737, 'razor': 4738, 'http': 4739, 'jo': 4740, 'seedi': 4741, 'marlon': 4742, 'flavor': 4743, 'token': 4744, 'shepherd': 4745, 'bikini': 4746, 'akin': 4747, 'cerebr': 4748, 'sicken': 4749, 'static': 4750, 'redneck': 4751, 'wardrob': 4752, 'pc': 4753, 'blatantli': 4754, 'bondag': 4755, 'foil': 4756, 'antholog': 4757, 'isra': 4758, 'lucil': 4759, 'mason': 4760, 'jordan': 4761, 'holocaust': 4762, 'uma': 4763, 'venom': 4764, 'articl': 4765, 'rooki': 4766, 'nope': 4767, 'feast': 4768, 'choke': 4769, 'vanessa': 4770, 'illus': 4771, 'eli': 4772, 'alexandr': 4773, 'milo': 4774, 'mathieu': 4775, 'cartoonish': 4776, 'boyer': 4777, 'wrestler': 4778, 'deem': 4779, 'glare': 4780, 'outdat': 4781, 'knightley': 4782, 'oppon': 4783, 'feminin': 4784, 'shorter': 4785, 'fifth': 4786, 'smack': 4787, 'audrey': 4788, 'ideolog': 4789, 'huston': 4790, 'tack': 4791, 'gilbert': 4792, 'comprehend': 4793, 'swept': 4794, 'highway': 4795, 'disregard': 4796, 'abund': 4797, 'peer': 4798, 'clinic': 4799, 'charlton': 4800, 'styliz': 4801, 'retriev': 4802, 'psych': 4803, 'turd': 4804, 'leather': 4805, 'frog': 4806, 'howl': 4807, 'affleck': 4808, 'dudley': 4809, 'magician': 4810, 'ceremoni': 4811, 'linear': 4812, 'gunga': 4813, 'nightclub': 4814, 'mitch': 4815, 'deliver': 4816, 'lighter': 4817, 'whack': 4818, 'boo': 4819, 'cemeteri': 4820, 'moe': 4821, 'compris': 4822, 'sleaz': 4823, 'evolut': 4824, 'breakdown': 4825, 'chip': 4826, 'durat': 4827, 'conrad': 4828, 'summar': 4829, 'plate': 4830, 'potter': 4831, 'client': 4832, 'btw': 4833, 'collector': 4834, 'tara': 4835, '4th': 4836, 'senat': 4837, 'greet': 4838, 'phenomen': 4839, '1991': 4840, 'bogu': 4841, 'cuban': 4842, 'corn': 4843, 'lavish': 4844, 'braveheart': 4845, 'snatch': 4846, 'monument': 4847, 'salman': 4848, 'goldsworthi': 4849, 'spine': 4850, 'bastard': 4851, 'einstein': 4852, 'toe': 4853, 'lifeless': 4854, 'uniformli': 4855, 'energet': 4856, 'spawn': 4857, 'newer': 4858, '1994': 4859, 'ie': 4860, 'capot': 4861, 'healthi': 4862, 'undertak': 4863, 'bori': 4864, 'trauma': 4865, 'signal': 4866, 'firmli': 4867, 'jule': 4868, 'undead': 4869, 'gilliam': 4870, 'belli': 4871, 'kent': 4872, 'historian': 4873, 'nina': 4874, 'sorrow': 4875, 'wtf': 4876, 'bulk': 4877, 'embark': 4878, 'fluid': 4879, 'constitut': 4880, 'judd': 4881, 'mcqueen': 4882, '1974': 4883, 'cecil': 4884, 'clara': 4885, 'jam': 4886, 'jedi': 4887, 'spectacl': 4888, 'kazan': 4889, 'neatli': 4890, 'inaccuraci': 4891, 'luxuri': 4892, 'lex': 4893, 'armstrong': 4894, 'outright': 4895, 'alleg': 4896, 'evelyn': 4897, 'appl': 4898, 'pronounc': 4899, 'occup': 4900, 'eleven': 4901, '1977': 4902, 'replay': 4903, 'jare': 4904, 'randolph': 4905, 'creek': 4906, 'ol': 4907, 'liu': 4908, 'truman': 4909, 'paula': 4910, 'blur': 4911, 'relentless': 4912, 'comprehens': 4913, 'sacrif': 4914, 'conan': 4915, 'galaxi': 4916, 'palm': 4917, 'tokyo': 4918, 'lauren': 4919, 'id': 4920, 'curtain': 4921, 'abound': 4922, 'bsg': 4923, 'porter': 4924, 'bait': 4925, 'kiddi': 4926, 'goldblum': 4927, 'pepper': 4928, 'comb': 4929, 'miami': 4930, 'propheci': 4931, 'aussi': 4932, 'roar': 4933, 'forgiven': 4934, 'pioneer': 4935, 'unattract': 4936, 'vain': 4937, 'mum': 4938, 'meal': 4939, '1985': 4940, 'sidewalk': 4941, 'unsuspect': 4942, 'spray': 4943, 'subtli': 4944, 'knee': 4945, 'congratul': 4946, 'groan': 4947, 'fruit': 4948, 'vignett': 4949, 'antonio': 4950, 'decapit': 4951, 'miniseri': 4952, 'inaccur': 4953, 'walt': 4954, 'genet': 4955, 'poker': 4956, 'lanc': 4957, 'rosario': 4958, 'inclus': 4959, 'basket': 4960, 'ash': 4961, 'cape': 4962, 'carmen': 4963, 'weari': 4964, 'bravo': 4965, 'mice': 4966, 'bach': 4967, 'motorcycl': 4968, 'jill': 4969, 'optimist': 4970, 'growth': 4971, 'frontal': 4972, 'monti': 4973, 'scariest': 4974, 'spill': 4975, 'incorrect': 4976, 'omin': 4977, 'drone': 4978, 'rapidli': 4979, 'modest': 4980, 'weaker': 4981, 'substanti': 4982, 'verg': 4983, '21st': 4984, 'sparkl': 4985, 'asset': 4986, 'scarfac': 4987, 'vastli': 4988, 'assort': 4989, 'dubiou': 4990, 'detach': 4991, 'ingrid': 4992, 'sophi': 4993, 'reincarn': 4994, 'turtl': 4995, 'profil': 4996, 'playboy': 4997, 'handicap': 4998, 'macabr': 4999}\n"
     ]
    }
   ],
   "source": [
    "word_dict = build_dict(train_X)\n",
    "print(word_dict)"
   ]
  },
  {
   "cell_type": "markdown",
   "metadata": {},
   "source": [
    "**Question:** What are the five most frequently appearing (tokenized) words in the training set? Does it makes sense that these words appear frequently in the training set?"
   ]
  },
  {
   "cell_type": "markdown",
   "metadata": {},
   "source": [
    "**Answer:**"
   ]
  },
  {
   "cell_type": "code",
   "execution_count": 13,
   "metadata": {},
   "outputs": [
    {
     "name": "stdout",
     "output_type": "stream",
     "text": [
      "{'movi': 2, 'film': 3, 'one': 4, 'like': 5, 'time': 6, 'good': 7, 'make': 8, 'charact': 9, 'get': 10, 'see': 11, 'watch': 12, 'stori': 13, 'even': 14, 'would': 15, 'realli': 16, 'well': 17, 'scene': 18, 'look': 19, 'show': 20, 'much': 21, 'end': 22, 'peopl': 23, 'bad': 24, 'go': 25, 'great': 26, 'also': 27, 'first': 28, 'love': 29, 'think': 30, 'way': 31, 'act': 32, 'play': 33, 'made': 34, 'thing': 35, 'could': 36, 'know': 37, 'say': 38, 'seem': 39, 'work': 40, 'plot': 41, 'two': 42, 'actor': 43, 'year': 44, 'come': 45, 'mani': 46, 'seen': 47, 'take': 48, 'want': 49, 'life': 50, 'never': 51, 'littl': 52, 'best': 53, 'tri': 54, 'man': 55, 'ever': 56, 'give': 57, 'better': 58, 'still': 59, 'perform': 60, 'find': 61, 'feel': 62, 'part': 63, 'back': 64, 'use': 65, 'someth': 66, 'director': 67, 'actual': 68, 'interest': 69, 'lot': 70, 'real': 71, 'old': 72, 'cast': 73, 'though': 74, 'live': 75, 'star': 76, 'enjoy': 77, 'guy': 78, 'anoth': 79, 'new': 80, 'role': 81, 'noth': 82, '10': 83, 'funni': 84, 'music': 85, 'point': 86, 'start': 87, 'set': 88, 'girl': 89, 'origin': 90, 'day': 91, 'world': 92, 'everi': 93, 'believ': 94, 'turn': 95, 'quit': 96, 'us': 97, 'direct': 98, 'thought': 99, 'fact': 100, 'minut': 101, 'horror': 102, 'kill': 103, 'action': 104, 'comedi': 105, 'pretti': 106, 'young': 107, 'wonder': 108, 'happen': 109, 'around': 110, 'got': 111, 'effect': 112, 'right': 113, 'long': 114, 'howev': 115, 'big': 116, 'line': 117, 'famili': 118, 'enough': 119, 'seri': 120, 'may': 121, 'need': 122, 'fan': 123, 'bit': 124, 'script': 125, 'beauti': 126, 'person': 127, 'becom': 128, 'without': 129, 'must': 130, 'alway': 131, 'friend': 132, 'tell': 133, 'reason': 134, 'saw': 135, 'last': 136, 'final': 137, 'kid': 138, 'almost': 139, 'put': 140, 'least': 141, 'sure': 142, 'done': 143, 'whole': 144, 'place': 145, 'complet': 146, 'kind': 147, 'differ': 148, 'expect': 149, 'shot': 150, 'far': 151, 'mean': 152, 'anyth': 153, 'book': 154, 'laugh': 155, 'might': 156, 'name': 157, 'sinc': 158, 'begin': 159, '2': 160, 'probabl': 161, 'woman': 162, 'help': 163, 'entertain': 164, 'let': 165, 'screen': 166, 'call': 167, 'tv': 168, 'moment': 169, 'away': 170, 'read': 171, 'yet': 172, 'rather': 173, 'worst': 174, 'run': 175, 'fun': 176, 'lead': 177, 'hard': 178, 'audienc': 179, 'idea': 180, 'anyon': 181, 'episod': 182, 'american': 183, 'found': 184, 'appear': 185, 'bore': 186, 'especi': 187, 'although': 188, 'hope': 189, 'keep': 190, 'cours': 191, 'anim': 192, 'job': 193, 'goe': 194, 'move': 195, 'sens': 196, 'dvd': 197, 'version': 198, 'war': 199, 'money': 200, 'someon': 201, 'mind': 202, 'mayb': 203, 'problem': 204, 'true': 205, 'hous': 206, 'everyth': 207, 'nice': 208, 'second': 209, 'rate': 210, 'three': 211, 'night': 212, 'face': 213, 'follow': 214, 'recommend': 215, 'main': 216, 'product': 217, 'worth': 218, 'leav': 219, 'human': 220, 'special': 221, 'excel': 222, 'togeth': 223, 'wast': 224, 'everyon': 225, 'sound': 226, 'john': 227, 'hand': 228, '1': 229, 'father': 230, 'later': 231, 'eye': 232, 'said': 233, 'view': 234, 'instead': 235, 'review': 236, 'boy': 237, 'high': 238, 'hour': 239, 'miss': 240, 'classic': 241, 'talk': 242, 'wife': 243, 'understand': 244, 'left': 245, 'care': 246, 'black': 247, 'death': 248, 'open': 249, 'murder': 250, 'write': 251, 'half': 252, 'head': 253, 'rememb': 254, 'chang': 255, 'viewer': 256, 'fight': 257, 'gener': 258, 'surpris': 259, 'short': 260, 'includ': 261, 'die': 262, 'fall': 263, 'less': 264, 'els': 265, 'entir': 266, 'piec': 267, 'involv': 268, 'pictur': 269, 'simpli': 270, 'power': 271, 'top': 272, 'home': 273, 'total': 274, 'usual': 275, 'budget': 276, 'attempt': 277, 'suppos': 278, 'releas': 279, 'hollywood': 280, 'terribl': 281, 'song': 282, 'men': 283, 'possibl': 284, 'featur': 285, 'portray': 286, 'disappoint': 287, 'poor': 288, '3': 289, 'coupl': 290, 'stupid': 291, 'camera': 292, 'dead': 293, 'wrong': 294, 'produc': 295, 'low': 296, 'video': 297, 'either': 298, 'aw': 299, 'definit': 300, 'except': 301, 'rest': 302, 'given': 303, 'absolut': 304, 'women': 305, 'lack': 306, 'word': 307, 'writer': 308, 'titl': 309, 'talent': 310, 'decid': 311, 'full': 312, 'perfect': 313, 'along': 314, 'style': 315, 'close': 316, 'truli': 317, 'school': 318, 'save': 319, 'emot': 320, 'age': 321, 'sex': 322, 'next': 323, 'bring': 324, 'mr': 325, 'case': 326, 'killer': 327, 'heart': 328, 'comment': 329, 'sort': 330, 'creat': 331, 'perhap': 332, 'came': 333, 'brother': 334, 'sever': 335, 'joke': 336, 'art': 337, 'dialogu': 338, 'game': 339, 'small': 340, 'base': 341, 'flick': 342, 'written': 343, 'sequenc': 344, 'meet': 345, 'earli': 346, 'often': 347, 'other': 348, 'mother': 349, 'develop': 350, 'humor': 351, 'actress': 352, 'consid': 353, 'dark': 354, 'guess': 355, 'amaz': 356, 'unfortun': 357, 'light': 358, 'lost': 359, 'exampl': 360, 'cinema': 361, 'drama': 362, 'ye': 363, 'white': 364, 'experi': 365, 'imagin': 366, 'mention': 367, 'stop': 368, 'natur': 369, 'forc': 370, 'manag': 371, 'felt': 372, 'cut': 373, 'present': 374, 'children': 375, 'fail': 376, 'son': 377, 'car': 378, 'qualiti': 379, 'support': 380, 'ask': 381, 'hit': 382, 'side': 383, 'voic': 384, 'extrem': 385, 'impress': 386, 'wors': 387, 'evil': 388, 'stand': 389, 'went': 390, 'certainli': 391, 'basic': 392, 'oh': 393, 'overal': 394, 'favorit': 395, 'horribl': 396, 'mysteri': 397, 'number': 398, 'type': 399, 'danc': 400, 'wait': 401, 'hero': 402, '5': 403, 'alreadi': 404, 'learn': 405, 'matter': 406, '4': 407, 'michael': 408, 'genr': 409, 'fine': 410, 'despit': 411, 'throughout': 412, 'walk': 413, 'success': 414, 'histori': 415, 'question': 416, 'zombi': 417, 'town': 418, 'realiz': 419, 'relationship': 420, 'past': 421, 'child': 422, 'daughter': 423, 'late': 424, 'b': 425, 'wish': 426, 'hate': 427, 'credit': 428, 'event': 429, 'theme': 430, 'touch': 431, 'citi': 432, 'today': 433, 'sometim': 434, 'behind': 435, 'god': 436, 'twist': 437, 'sit': 438, 'annoy': 439, 'stay': 440, 'deal': 441, 'abl': 442, 'rent': 443, 'pleas': 444, 'edit': 445, 'blood': 446, 'deserv': 447, 'comic': 448, 'anyway': 449, 'appar': 450, 'soon': 451, 'gave': 452, 'etc': 453, 'level': 454, 'slow': 455, 'chanc': 456, 'score': 457, 'bodi': 458, 'brilliant': 459, 'incred': 460, 'figur': 461, 'situat': 462, 'self': 463, 'major': 464, 'stuff': 465, 'decent': 466, 'element': 467, 'dream': 468, 'return': 469, 'obvious': 470, 'order': 471, 'continu': 472, 'pace': 473, 'ridicul': 474, 'happi': 475, 'group': 476, 'add': 477, 'highli': 478, 'thank': 479, 'ladi': 480, 'novel': 481, 'pain': 482, 'speak': 483, 'career': 484, 'shoot': 485, 'strang': 486, 'heard': 487, 'sad': 488, 'polic': 489, 'husband': 490, 'import': 491, 'break': 492, 'took': 493, 'cannot': 494, 'strong': 495, 'predict': 496, 'robert': 497, 'violenc': 498, 'hilari': 499, 'recent': 500, 'countri': 501, 'known': 502, 'particularli': 503, 'pick': 504, 'documentari': 505, 'season': 506, 'critic': 507, 'jame': 508, 'compar': 509, 'obviou': 510, 'alon': 511, 'told': 512, 'state': 513, 'rock': 514, 'visual': 515, 'exist': 516, 'offer': 517, 'theater': 518, 'opinion': 519, 'gore': 520, 'crap': 521, 'hold': 522, 'result': 523, 'realiti': 524, 'hear': 525, 'room': 526, 'effort': 527, 'clich': 528, 'thriller': 529, 'caus': 530, 'sequel': 531, 'explain': 532, 'serious': 533, 'king': 534, 'local': 535, 'ago': 536, 'none': 537, 'hell': 538, 'note': 539, 'allow': 540, 'david': 541, 'sister': 542, 'simpl': 543, 'femal': 544, 'deliv': 545, 'ok': 546, 'class': 547, 'convinc': 548, 'check': 549, 'suspens': 550, 'win': 551, 'buy': 552, 'oscar': 553, 'huge': 554, 'valu': 555, 'sexual': 556, 'cool': 557, 'scari': 558, 'similar': 559, 'excit': 560, 'apart': 561, 'exactli': 562, 'provid': 563, 'shown': 564, 'avoid': 565, 'seriou': 566, 'english': 567, 'taken': 568, 'whose': 569, 'cinematographi': 570, 'shock': 571, 'polit': 572, 'spoiler': 573, 'offic': 574, 'across': 575, 'middl': 576, 'pass': 577, 'street': 578, 'messag': 579, 'charm': 580, 'silli': 581, 'somewhat': 582, 'modern': 583, 'filmmak': 584, 'confus': 585, 'form': 586, 'tale': 587, 'singl': 588, 'jack': 589, 'mostli': 590, 'william': 591, 'attent': 592, 'carri': 593, 'sing': 594, 'five': 595, 'subject': 596, 'richard': 597, 'prove': 598, 'team': 599, 'stage': 600, 'cop': 601, 'unlik': 602, 'georg': 603, 'monster': 604, 'televis': 605, 'earth': 606, 'villain': 607, 'cover': 608, 'pay': 609, 'marri': 610, 'toward': 611, 'build': 612, 'pull': 613, 'parent': 614, 'due': 615, 'respect': 616, 'fill': 617, 'four': 618, 'dialog': 619, 'remind': 620, 'futur': 621, 'typic': 622, 'weak': 623, '7': 624, 'cheap': 625, 'intellig': 626, 'british': 627, 'atmospher': 628, '80': 629, 'clearli': 630, 'non': 631, 'paul': 632, 'dog': 633, '8': 634, 'fast': 635, 'knew': 636, 'artist': 637, 'crime': 638, 'easili': 639, 'escap': 640, 'doubt': 641, 'adult': 642, 'detail': 643, 'date': 644, 'member': 645, 'romant': 646, 'fire': 647, 'gun': 648, 'drive': 649, 'straight': 650, 'beyond': 651, 'fit': 652, 'attack': 653, 'imag': 654, 'upon': 655, 'posit': 656, 'whether': 657, 'fantast': 658, 'peter': 659, 'captur': 660, 'aspect': 661, 'appreci': 662, 'ten': 663, 'plan': 664, 'discov': 665, 'remain': 666, 'near': 667, 'period': 668, 'air': 669, 'realist': 670, 'mark': 671, 'red': 672, 'dull': 673, 'adapt': 674, 'within': 675, 'spend': 676, 'lose': 677, 'materi': 678, 'color': 679, 'chase': 680, 'mari': 681, 'storylin': 682, 'forget': 683, 'bunch': 684, 'clear': 685, 'lee': 686, 'victim': 687, 'nearli': 688, 'box': 689, 'york': 690, 'match': 691, 'inspir': 692, 'mess': 693, 'finish': 694, 'standard': 695, 'easi': 696, 'truth': 697, 'suffer': 698, 'busi': 699, 'space': 700, 'bill': 701, 'dramat': 702, 'western': 703, 'e': 704, 'list': 705, 'battl': 706, 'notic': 707, 'de': 708, 'french': 709, 'ad': 710, '9': 711, 'tom': 712, 'larg': 713, 'among': 714, 'eventu': 715, 'train': 716, 'accept': 717, 'agre': 718, 'soundtrack': 719, 'spirit': 720, 'third': 721, 'teenag': 722, 'adventur': 723, 'soldier': 724, 'sorri': 725, 'famou': 726, 'suggest': 727, 'drug': 728, 'normal': 729, 'cri': 730, 'babi': 731, 'ultim': 732, 'troubl': 733, 'contain': 734, 'certain': 735, 'cultur': 736, 'romanc': 737, 'rare': 738, 'lame': 739, 'somehow': 740, 'disney': 741, 'mix': 742, 'gone': 743, 'cartoon': 744, 'student': 745, 'reveal': 746, 'fear': 747, 'kept': 748, 'suck': 749, 'attract': 750, 'appeal': 751, 'premis': 752, 'design': 753, 'greatest': 754, 'secret': 755, 'shame': 756, 'throw': 757, 'scare': 758, 'copi': 759, 'wit': 760, 'admit': 761, 'america': 762, 'relat': 763, 'particular': 764, 'brought': 765, 'screenplay': 766, 'whatev': 767, 'pure': 768, '70': 769, 'averag': 770, 'harri': 771, 'master': 772, 'describ': 773, 'male': 774, 'treat': 775, '20': 776, 'issu': 777, 'fantasi': 778, 'warn': 779, 'inde': 780, 'background': 781, 'forward': 782, 'free': 783, 'project': 784, 'memor': 785, 'japanes': 786, 'poorli': 787, 'award': 788, 'locat': 789, 'amus': 790, 'potenti': 791, 'struggl': 792, 'magic': 793, 'weird': 794, 'societi': 795, 'okay': 796, 'imdb': 797, 'doctor': 798, 'accent': 799, 'hot': 800, 'water': 801, '30': 802, 'express': 803, 'alien': 804, 'dr': 805, 'odd': 806, 'choic': 807, 'crazi': 808, 'studio': 809, 'fiction': 810, 'control': 811, 'becam': 812, 'masterpiec': 813, 'fli': 814, 'difficult': 815, 'joe': 816, 'scream': 817, 'costum': 818, 'lover': 819, 'refer': 820, 'uniqu': 821, 'remak': 822, 'vampir': 823, 'girlfriend': 824, 'prison': 825, 'execut': 826, 'wear': 827, 'jump': 828, 'unless': 829, 'wood': 830, 'creepi': 831, 'cheesi': 832, 'superb': 833, 'otherwis': 834, 'parti': 835, 'roll': 836, 'ghost': 837, 'mad': 838, 'public': 839, 'depict': 840, 'badli': 841, 'earlier': 842, 'moral': 843, 'week': 844, 'jane': 845, 'dumb': 846, 'fi': 847, 'grow': 848, 'flaw': 849, 'deep': 850, 'sci': 851, 'cat': 852, 'maker': 853, 'connect': 854, 'older': 855, 'footag': 856, 'bother': 857, 'plenti': 858, 'outsid': 859, 'stick': 860, 'gay': 861, 'catch': 862, 'plu': 863, 'co': 864, 'popular': 865, 'equal': 866, 'social': 867, 'quickli': 868, 'disturb': 869, 'perfectli': 870, 'dress': 871, 'era': 872, '90': 873, 'mistak': 874, 'lie': 875, 'ride': 876, 'previou': 877, 'combin': 878, 'band': 879, 'concept': 880, 'rich': 881, 'answer': 882, 'surviv': 883, 'front': 884, 'sweet': 885, 'christma': 886, 'insid': 887, 'bare': 888, 'eat': 889, 'concern': 890, 'listen': 891, 'beat': 892, 'ben': 893, 'c': 894, 'serv': 895, 'term': 896, 'meant': 897, 'la': 898, 'german': 899, 'hardli': 900, 'stereotyp': 901, 'innoc': 902, 'law': 903, 'desper': 904, 'memori': 905, 'promis': 906, 'cute': 907, 'intent': 908, 'variou': 909, 'steal': 910, 'inform': 911, 'brain': 912, 'post': 913, 'tone': 914, 'island': 915, 'amount': 916, 'compani': 917, 'nuditi': 918, 'track': 919, 'store': 920, 'claim': 921, 'flat': 922, 'hair': 923, '50': 924, 'univers': 925, 'land': 926, 'kick': 927, 'scott': 928, 'danger': 929, 'fairli': 930, 'player': 931, 'step': 932, 'plain': 933, 'crew': 934, 'toni': 935, 'share': 936, 'centuri': 937, 'tast': 938, 'achiev': 939, 'engag': 940, 'cold': 941, 'travel': 942, 'rip': 943, 'suit': 944, 'record': 945, 'sadli': 946, 'manner': 947, 'wrote': 948, 'spot': 949, 'tension': 950, 'intens': 951, 'fascin': 952, 'familiar': 953, 'burn': 954, 'remark': 955, 'depth': 956, 'destroy': 957, 'histor': 958, 'sleep': 959, 'purpos': 960, 'languag': 961, 'ignor': 962, 'ruin': 963, 'delight': 964, 'unbeliev': 965, 'italian': 966, 'collect': 967, 'abil': 968, 'soul': 969, 'clever': 970, 'detect': 971, 'violent': 972, 'rape': 973, 'reach': 974, 'door': 975, 'liter': 976, 'scienc': 977, 'trash': 978, 'commun': 979, 'caught': 980, 'reveng': 981, 'creatur': 982, 'approach': 983, 'trip': 984, 'intrigu': 985, 'fashion': 986, 'introduc': 987, 'paint': 988, 'skill': 989, 'complex': 990, 'channel': 991, 'camp': 992, 'christian': 993, 'hole': 994, 'extra': 995, 'limit': 996, 'mental': 997, 'ann': 998, 'immedi': 999, 'mere': 1000, 'million': 1001, '6': 1002, 'slightli': 1003, 'comput': 1004, 'slasher': 1005, 'conclus': 1006, 'imposs': 1007, 'suddenli': 1008, 'crimin': 1009, 'teen': 1010, 'neither': 1011, 'physic': 1012, 'spent': 1013, 'nation': 1014, 'respons': 1015, 'planet': 1016, 'fake': 1017, 'receiv': 1018, 'blue': 1019, 'sick': 1020, 'bizarr': 1021, 'embarrass': 1022, 'indian': 1023, '15': 1024, 'ring': 1025, 'pop': 1026, 'drop': 1027, 'drag': 1028, 'haunt': 1029, 'suspect': 1030, 'pointless': 1031, 'edg': 1032, 'search': 1033, 'handl': 1034, 'common': 1035, 'biggest': 1036, 'arriv': 1037, 'faith': 1038, 'hurt': 1039, 'technic': 1040, 'angel': 1041, 'dad': 1042, 'genuin': 1043, 'awesom': 1044, 'f': 1045, 'solid': 1046, 'colleg': 1047, 'former': 1048, 'van': 1049, 'focu': 1050, 'count': 1051, 'heavi': 1052, 'tear': 1053, 'rais': 1054, 'wall': 1055, 'visit': 1056, 'younger': 1057, 'laughabl': 1058, 'excus': 1059, 'sign': 1060, 'fair': 1061, 'cult': 1062, 'motion': 1063, 'tough': 1064, 'key': 1065, 'desir': 1066, 'super': 1067, 'stun': 1068, 'addit': 1069, 'exploit': 1070, 'cloth': 1071, 'smith': 1072, 'tortur': 1073, 'davi': 1074, 'race': 1075, 'cross': 1076, 'author': 1077, 'jim': 1078, 'compel': 1079, 'minor': 1080, 'focus': 1081, 'consist': 1082, 'chemistri': 1083, 'commit': 1084, 'pathet': 1085, 'park': 1086, 'tradit': 1087, 'frank': 1088, 'obsess': 1089, 'grade': 1090, '60': 1091, 'asid': 1092, 'brutal': 1093, 'somewher': 1094, 'steve': 1095, 'depress': 1096, 'explor': 1097, 'rule': 1098, 'opportun': 1099, 'grant': 1100, 'u': 1101, 'honest': 1102, 'besid': 1103, 'dub': 1104, 'anti': 1105, 'trailer': 1106, 'intend': 1107, 'bar': 1108, 'west': 1109, 'scientist': 1110, 'regard': 1111, 'longer': 1112, 'decad': 1113, 'judg': 1114, 'silent': 1115, 'armi': 1116, 'creativ': 1117, 'wild': 1118, 'south': 1119, 'stewart': 1120, 'g': 1121, 'draw': 1122, 'road': 1123, 'govern': 1124, 'ex': 1125, 'boss': 1126, 'practic': 1127, 'festiv': 1128, 'gang': 1129, 'motiv': 1130, 'surprisingli': 1131, 'club': 1132, 'green': 1133, 'redeem': 1134, 'page': 1135, 'london': 1136, 'idiot': 1137, 'machin': 1138, 'display': 1139, 'aliv': 1140, 'militari': 1141, 'thrill': 1142, 'repeat': 1143, 'nobodi': 1144, 'yeah': 1145, 'folk': 1146, '100': 1147, '40': 1148, 'garbag': 1149, 'journey': 1150, 'tire': 1151, 'ground': 1152, 'smile': 1153, 'bought': 1154, 'mood': 1155, 'stone': 1156, 'sam': 1157, 'cost': 1158, 'noir': 1159, 'mouth': 1160, 'terrif': 1161, 'agent': 1162, 'utterli': 1163, 'requir': 1164, 'sexi': 1165, 'honestli': 1166, 'area': 1167, 'report': 1168, 'geniu': 1169, 'enter': 1170, 'investig': 1171, 'glad': 1172, 'humour': 1173, 'serial': 1174, 'occasion': 1175, 'narr': 1176, 'passion': 1177, 'marriag': 1178, 'climax': 1179, 'studi': 1180, 'industri': 1181, 'charli': 1182, 'center': 1183, 'ship': 1184, 'nowher': 1185, 'demon': 1186, 'bear': 1187, 'loos': 1188, 'hors': 1189, 'hang': 1190, 'wow': 1191, 'graphic': 1192, 'giant': 1193, 'admir': 1194, 'send': 1195, 'damn': 1196, 'loud': 1197, 'rel': 1198, 'profession': 1199, 'subtl': 1200, 'nake': 1201, 'blow': 1202, 'bottom': 1203, 'batman': 1204, 'insult': 1205, 'doubl': 1206, 'r': 1207, 'boyfriend': 1208, 'kelli': 1209, 'initi': 1210, 'frame': 1211, 'gem': 1212, 'opera': 1213, 'cinemat': 1214, 'drawn': 1215, 'affect': 1216, 'church': 1217, 'challeng': 1218, 'fulli': 1219, 'seek': 1220, 'evid': 1221, 'nightmar': 1222, 'l': 1223, 'j': 1224, 'arm': 1225, 'conflict': 1226, 'essenti': 1227, 'grace': 1228, 'wind': 1229, 'christoph': 1230, 'henri': 1231, 'narrat': 1232, 'assum': 1233, 'witch': 1234, 'hunt': 1235, 'push': 1236, 'chri': 1237, 'wise': 1238, 'nomin': 1239, 'repres': 1240, 'month': 1241, 'affair': 1242, 'hide': 1243, 'sceneri': 1244, 'avail': 1245, 'thu': 1246, 'bond': 1247, 'smart': 1248, 'justic': 1249, 'flashback': 1250, 'interview': 1251, 'outstand': 1252, 'satisfi': 1253, 'constantli': 1254, 'presenc': 1255, 'central': 1256, 'bed': 1257, 'iron': 1258, 'sell': 1259, 'content': 1260, 'gag': 1261, 'everybodi': 1262, 'slowli': 1263, 'hotel': 1264, 'hire': 1265, 'system': 1266, 'charl': 1267, 'individu': 1268, 'hey': 1269, 'thrown': 1270, 'adam': 1271, 'allen': 1272, 'jone': 1273, 'mediocr': 1274, 'ray': 1275, 'billi': 1276, 'lesson': 1277, 'cameo': 1278, 'photographi': 1279, 'fellow': 1280, 'pari': 1281, 'strike': 1282, 'rise': 1283, 'brief': 1284, 'absurd': 1285, 'independ': 1286, 'neg': 1287, 'impact': 1288, 'phone': 1289, 'ill': 1290, 'model': 1291, 'born': 1292, 'spoil': 1293, 'fresh': 1294, 'angl': 1295, 'likabl': 1296, 'abus': 1297, 'discuss': 1298, 'hill': 1299, 'sight': 1300, 'ahead': 1301, 'sent': 1302, 'photograph': 1303, 'logic': 1304, 'blame': 1305, 'occur': 1306, 'shine': 1307, 'bruce': 1308, 'mainli': 1309, 'forev': 1310, 'skip': 1311, 'commerci': 1312, 'surround': 1313, 'teacher': 1314, 'segment': 1315, 'held': 1316, 'blond': 1317, 'zero': 1318, 'resembl': 1319, 'trap': 1320, 'satir': 1321, 'summer': 1322, 'fool': 1323, 'queen': 1324, 'ball': 1325, 'six': 1326, 'tragedi': 1327, 'twice': 1328, 'sub': 1329, 'reaction': 1330, 'pack': 1331, 'bomb': 1332, 'protagonist': 1333, 'will': 1334, 'hospit': 1335, 'sport': 1336, 'mile': 1337, 'vote': 1338, 'mom': 1339, 'drink': 1340, 'trust': 1341, 'jerri': 1342, 'encount': 1343, 'plane': 1344, 'station': 1345, 'program': 1346, 'current': 1347, 'al': 1348, 'choos': 1349, 'martin': 1350, 'celebr': 1351, 'join': 1352, 'field': 1353, 'round': 1354, 'lord': 1355, 'favourit': 1356, 'tragic': 1357, 'vision': 1358, 'jean': 1359, 'robot': 1360, 'tie': 1361, 'arthur': 1362, 'roger': 1363, 'random': 1364, 'fortun': 1365, 'psycholog': 1366, 'dread': 1367, 'intern': 1368, 'improv': 1369, 'nonsens': 1370, 'prefer': 1371, 'epic': 1372, 'highlight': 1373, 'pleasur': 1374, 'formula': 1375, 'legend': 1376, 'dollar': 1377, '11': 1378, 'tape': 1379, 'thin': 1380, 'fox': 1381, 'gorgeou': 1382, 'object': 1383, 'wide': 1384, 'porn': 1385, 'buddi': 1386, 'ugli': 1387, 'influenc': 1388, 'nasti': 1389, 'prepar': 1390, 'ii': 1391, 'reflect': 1392, 'warm': 1393, 'supposedli': 1394, 'progress': 1395, 'worthi': 1396, 'youth': 1397, 'length': 1398, 'unusu': 1399, 'latter': 1400, 'crash': 1401, 'seven': 1402, 'shop': 1403, 'superior': 1404, 'childhood': 1405, 'remot': 1406, 'theatr': 1407, 'disgust': 1408, 'funniest': 1409, 'pilot': 1410, 'paid': 1411, 'trick': 1412, 'convers': 1413, 'castl': 1414, 'fell': 1415, 'rob': 1416, 'disast': 1417, 'establish': 1418, 'gangster': 1419, 'mine': 1420, 'suicid': 1421, 'heaven': 1422, 'ident': 1423, 'disappear': 1424, 'mask': 1425, 'singer': 1426, 'forgotten': 1427, 'decis': 1428, 'tend': 1429, 'heroin': 1430, 'partner': 1431, 'brian': 1432, 'recogn': 1433, 'alan': 1434, 'desert': 1435, 'p': 1436, 'thoroughli': 1437, 'stuck': 1438, 'ms': 1439, 'sky': 1440, 'accur': 1441, 'replac': 1442, 'market': 1443, 'seemingli': 1444, 'uncl': 1445, 'commentari': 1446, 'danni': 1447, 'clue': 1448, 'eddi': 1449, 'andi': 1450, 'devil': 1451, 'jackson': 1452, 'that': 1453, 'refus': 1454, 'therefor': 1455, 'pair': 1456, 'ed': 1457, 'river': 1458, 'unit': 1459, 'accid': 1460, 'fate': 1461, 'fault': 1462, 'tune': 1463, 'afraid': 1464, 'stephen': 1465, 'russian': 1466, 'clean': 1467, 'hidden': 1468, 'convey': 1469, 'quick': 1470, 'irrit': 1471, 'instanc': 1472, 'readi': 1473, 'test': 1474, 'captain': 1475, 'european': 1476, 'daniel': 1477, 'insan': 1478, 'frustrat': 1479, 'food': 1480, 'rescu': 1481, 'chines': 1482, '1950': 1483, 'wed': 1484, 'lock': 1485, 'angri': 1486, 'dirti': 1487, 'joy': 1488, 'steven': 1489, 'price': 1490, 'cage': 1491, 'bland': 1492, 'anymor': 1493, 'rang': 1494, 'wooden': 1495, 'rush': 1496, 'news': 1497, 'n': 1498, 'jason': 1499, 'martial': 1500, 'worri': 1501, 'board': 1502, 'twenti': 1503, 'led': 1504, '12': 1505, 'symbol': 1506, 'hunter': 1507, 'transform': 1508, 'cgi': 1509, 'x': 1510, 'johnni': 1511, 'piti': 1512, 'invent': 1513, 'onto': 1514, 'sentiment': 1515, 'attitud': 1516, 'process': 1517, 'explan': 1518, 'owner': 1519, 'awar': 1520, 'aim': 1521, 'floor': 1522, 'favor': 1523, 'energi': 1524, 'necessari': 1525, 'target': 1526, 'religi': 1527, 'opposit': 1528, 'window': 1529, 'insight': 1530, 'chick': 1531, 'blind': 1532, 'movement': 1533, 'comparison': 1534, 'research': 1535, 'mountain': 1536, 'deepli': 1537, 'possess': 1538, 'grand': 1539, 'rain': 1540, 'whatsoev': 1541, 'comed': 1542, 'mid': 1543, 'shadow': 1544, 'bank': 1545, 'began': 1546, 'princ': 1547, 'parodi': 1548, 'credibl': 1549, 'pre': 1550, 'weapon': 1551, 'friendship': 1552, 'taylor': 1553, 'teach': 1554, 'dougla': 1555, 'flesh': 1556, 'protect': 1557, 'bloodi': 1558, 'hint': 1559, 'terror': 1560, 'marvel': 1561, 'anybodi': 1562, 'drunk': 1563, 'leader': 1564, 'superman': 1565, 'accord': 1566, 'load': 1567, 'watchabl': 1568, 'brown': 1569, 'freddi': 1570, 'jeff': 1571, 'tim': 1572, 'appropri': 1573, 'hitler': 1574, 'seat': 1575, 'unknown': 1576, 'charg': 1577, 'keaton': 1578, 'knock': 1579, 'villag': 1580, 'media': 1581, 'enemi': 1582, 'unnecessari': 1583, 'england': 1584, 'empti': 1585, 'strength': 1586, 'buck': 1587, 'craft': 1588, 'wave': 1589, 'utter': 1590, 'perspect': 1591, 'dare': 1592, 'correct': 1593, 'ford': 1594, 'kiss': 1595, 'contrast': 1596, 'nativ': 1597, 'magnific': 1598, 'distract': 1599, 'anywher': 1600, 'knowledg': 1601, 'soap': 1602, 'speed': 1603, 'chill': 1604, 'nazi': 1605, 'breath': 1606, 'mission': 1607, '1980': 1608, 'ice': 1609, 'fred': 1610, 'crowd': 1611, 'jr': 1612, 'joan': 1613, 'moon': 1614, 'kate': 1615, 'frighten': 1616, 'soft': 1617, '000': 1618, 'dick': 1619, 'hundr': 1620, 'nick': 1621, 'dan': 1622, 'simon': 1623, 'radio': 1624, 'dozen': 1625, 'somebodi': 1626, 'academi': 1627, 'shakespear': 1628, 'thousand': 1629, 'loss': 1630, 'andrew': 1631, 'vehicl': 1632, 'root': 1633, 'sum': 1634, 'account': 1635, 'quot': 1636, 'leg': 1637, 'convent': 1638, 'behavior': 1639, '1970': 1640, 'gold': 1641, 'regular': 1642, 'worker': 1643, 'pretenti': 1644, 'demand': 1645, 'compet': 1646, 'notabl': 1647, 'stretch': 1648, 'candi': 1649, 'explos': 1650, 'privat': 1651, 'interpret': 1652, 'lynch': 1653, 'japan': 1654, 'debut': 1655, 'tarzan': 1656, 'constant': 1657, 'translat': 1658, 'sea': 1659, 'prais': 1660, 'spi': 1661, 'revolv': 1662, 'failur': 1663, 'franc': 1664, 'sat': 1665, 'ass': 1666, 'quiet': 1667, 'threaten': 1668, 'jesu': 1669, 'technolog': 1670, 'punch': 1671, 'met': 1672, 'higher': 1673, 'aid': 1674, 'toy': 1675, 'kevin': 1676, 'interact': 1677, 'abandon': 1678, 'mike': 1679, 'vh': 1680, 'command': 1681, 'separ': 1682, 'bet': 1683, 'confront': 1684, 'gotten': 1685, 'stunt': 1686, 'site': 1687, 'techniqu': 1688, 'recal': 1689, 'servic': 1690, 'belong': 1691, 'freak': 1692, 'cabl': 1693, 'foot': 1694, 'bug': 1695, 'fu': 1696, 'jimmi': 1697, 'capabl': 1698, 'african': 1699, 'bright': 1700, 'presid': 1701, 'succeed': 1702, 'fat': 1703, 'stock': 1704, 'boat': 1705, 'clark': 1706, 'spanish': 1707, 'gene': 1708, 'structur': 1709, 'paper': 1710, 'kidnap': 1711, 'whilst': 1712, 'belief': 1713, 'factor': 1714, 'tree': 1715, 'attend': 1716, 'complic': 1717, 'realism': 1718, 'realis': 1719, 'bob': 1720, 'witti': 1721, 'educ': 1722, 'finest': 1723, 'assist': 1724, 'broken': 1725, 'santa': 1726, 'v': 1727, 'up': 1728, 'depart': 1729, 'determin': 1730, 'observ': 1731, 'smoke': 1732, 'domin': 1733, 'hat': 1734, 'lewi': 1735, 'oper': 1736, 'rubbish': 1737, 'routin': 1738, 'fame': 1739, 'safe': 1740, 'lone': 1741, 'hook': 1742, 'morgan': 1743, 'foreign': 1744, 'kinda': 1745, 'advanc': 1746, 'rank': 1747, 'numer': 1748, 'shape': 1749, 'civil': 1750, 'washington': 1751, 'shallow': 1752, 'vs': 1753, 'rose': 1754, 'werewolf': 1755, 'morn': 1756, 'gari': 1757, 'ordinari': 1758, 'winner': 1759, 'accomplish': 1760, 'kong': 1761, 'peac': 1762, 'whenev': 1763, 'grab': 1764, 'virtual': 1765, 'luck': 1766, 'h': 1767, 'offens': 1768, 'complain': 1769, 'unfunni': 1770, 'activ': 1771, 'contriv': 1772, 'patient': 1773, 'welcom': 1774, 'bigger': 1775, 'pretend': 1776, 'trek': 1777, 'con': 1778, 'dimension': 1779, 'lesbian': 1780, 'flash': 1781, 'code': 1782, 'dri': 1783, 'wake': 1784, 'cain': 1785, 'eric': 1786, 'statu': 1787, 'corrupt': 1788, 'manipul': 1789, 'guard': 1790, 'dancer': 1791, 'albert': 1792, 'awkward': 1793, 'sourc': 1794, 'speech': 1795, 'context': 1796, 'gain': 1797, 'signific': 1798, 'anthoni': 1799, 'psycho': 1800, 'corni': 1801, 'sean': 1802, 'clip': 1803, '13': 1804, 'theatric': 1805, 'advic': 1806, 'reli': 1807, 'priest': 1808, 'religion': 1809, 'w': 1810, 'curiou': 1811, 'flow': 1812, 'addict': 1813, 'skin': 1814, 'asian': 1815, 'howard': 1816, 'jennif': 1817, 'secur': 1818, 'specif': 1819, 'luke': 1820, 'comfort': 1821, 'core': 1822, 'organ': 1823, 'golden': 1824, 'promot': 1825, 'cash': 1826, 'cheat': 1827, 'lucki': 1828, 'lower': 1829, 'associ': 1830, 'dislik': 1831, 'balanc': 1832, 'wing': 1833, 'spell': 1834, 'frankli': 1835, 'devic': 1836, 'degre': 1837, 'frequent': 1838, 'regret': 1839, 'contribut': 1840, 'lake': 1841, 'sake': 1842, 'forgiv': 1843, 'print': 1844, 'betti': 1845, 'thoma': 1846, 'mass': 1847, 'crack': 1848, 'gordon': 1849, 'unexpect': 1850, 'grown': 1851, 'depend': 1852, 'amateur': 1853, 'construct': 1854, 'invit': 1855, 'unfold': 1856, 'categori': 1857, 'anna': 1858, 'intellectu': 1859, 'honor': 1860, 'condit': 1861, 'walter': 1862, 'grew': 1863, 'matur': 1864, 'veteran': 1865, 'sole': 1866, 'spectacular': 1867, 'mirror': 1868, 'sudden': 1869, 'card': 1870, 'freedom': 1871, 'gift': 1872, 'liner': 1873, 'experienc': 1874, 'meanwhil': 1875, 'robin': 1876, 'grip': 1877, 'overli': 1878, 'demonstr': 1879, 'sheriff': 1880, 'circumst': 1881, 'brilliantli': 1882, 'drew': 1883, 'colour': 1884, 'crappi': 1885, 'subtitl': 1886, 'section': 1887, 'theori': 1888, 'unabl': 1889, 'oliv': 1890, 'laughter': 1891, 'pile': 1892, 'cook': 1893, 'altern': 1894, 'matt': 1895, 'path': 1896, 'parker': 1897, 'sheer': 1898, 'defin': 1899, 'relief': 1900, 'hall': 1901, 'lawyer': 1902, 'wander': 1903, 'accident': 1904, 'treatment': 1905, 'sinatra': 1906, 'hank': 1907, 'captiv': 1908, 'dragon': 1909, 'moor': 1910, 'gratuit': 1911, 'halloween': 1912, 'kung': 1913, 'unintent': 1914, 'broadway': 1915, 'cowboy': 1916, 'wayn': 1917, 'wound': 1918, 'barbara': 1919, 'jacki': 1920, 'k': 1921, 'surreal': 1922, 'spoof': 1923, 'winter': 1924, 'statement': 1925, 'canadian': 1926, 'treasur': 1927, 'gonna': 1928, 'compos': 1929, 'cheer': 1930, 'fare': 1931, 'fish': 1932, 'emerg': 1933, 'victor': 1934, 'woodi': 1935, 'sensit': 1936, 'unrealist': 1937, 'ran': 1938, 'neighbor': 1939, 'sympathet': 1940, 'driven': 1941, 'authent': 1942, 'glass': 1943, 'expos': 1944, 'topic': 1945, 'overlook': 1946, 'menac': 1947, 'chief': 1948, 'handsom': 1949, 'gross': 1950, 'michel': 1951, 'ancient': 1952, 'cinderella': 1953, 'pleasant': 1954, 'stranger': 1955, 'built': 1956, 'nevertheless': 1957, 'contemporari': 1958, 'feet': 1959, 'comedian': 1960, 'russel': 1961, 'network': 1962, 'underr': 1963, 'letter': 1964, 'miser': 1965, 'gori': 1966, 'earn': 1967, 'blockbust': 1968, 'endless': 1969, 'consider': 1970, 'brook': 1971, 'switch': 1972, 'solv': 1973, 'convict': 1974, 'edward': 1975, 'joseph': 1976, 'virgin': 1977, 'bullet': 1978, 'victoria': 1979, '0': 1980, 'scale': 1981, 'alex': 1982, 'chosen': 1983, 'cynic': 1984, 'scenario': 1985, 'sword': 1986, 'gut': 1987, 'outrag': 1988, 'com': 1989, 'curs': 1990, 'monkey': 1991, 'screenwrit': 1992, 'wrap': 1993, 'uk': 1994, 'driver': 1995, 'juli': 1996, 'proper': 1997, 'substanc': 1998, 'indic': 1999, 'bird': 2000, 'remov': 2001, 'par': 2002, 'court': 2003, 'nanci': 2004, 'inevit': 2005, 'grave': 2006, 'loser': 2007, 'consequ': 2008, 'advertis': 2009, 'rental': 2010, 'naiv': 2011, 'roy': 2012, 'bridg': 2013, 'invis': 2014, 'fatal': 2015, 'le': 2016, 'slap': 2017, 'germani': 2018, 'brave': 2019, 'anger': 2020, 'footbal': 2021, 'provok': 2022, 'ador': 2023, 'loui': 2024, 'alcohol': 2025, 'anderson': 2026, 'chan': 2027, 'professor': 2028, 'willi': 2029, 'ryan': 2030, 'stumbl': 2031, 'patrick': 2032, 'bat': 2033, 'sharp': 2034, 'australian': 2035, '1930': 2036, 'assassin': 2037, 'liber': 2038, 'saturday': 2039, 'deni': 2040, 'ape': 2041, 'lousi': 2042, 'eight': 2043, 'trilog': 2044, 'strongli': 2045, 'amateurish': 2046, 'cell': 2047, 'heck': 2048, 'refresh': 2049, 'sin': 2050, 'justifi': 2051, 'resid': 2052, 'san': 2053, 'vagu': 2054, 'terrifi': 2055, 'defeat': 2056, 'sympathi': 2057, 'mini': 2058, 'reput': 2059, 'indi': 2060, 'creator': 2061, 'endur': 2062, 'task': 2063, 'prevent': 2064, 'expert': 2065, 'tediou': 2066, 'tabl': 2067, 'trial': 2068, 'rival': 2069, 'offend': 2070, 'employ': 2071, 'basebal': 2072, 'imit': 2073, 'che': 2074, 'fairi': 2075, 'europ': 2076, 'pitch': 2077, 'weekend': 2078, 'dig': 2079, 'max': 2080, 'beach': 2081, 'complaint': 2082, 'risk': 2083, 'purchas': 2084, 'format': 2085, 'murphi': 2086, 'harsh': 2087, 'powel': 2088, 'bite': 2089, 'hype': 2090, 'glimps': 2091, 'nois': 2092, 'tini': 2093, 'reminisc': 2094, 'titan': 2095, 'asleep': 2096, 'north': 2097, 'strip': 2098, 'till': 2099, 'prime': 2100, 'fals': 2101, '14': 2102, 'descript': 2103, 'texa': 2104, 'revel': 2105, 'destruct': 2106, 'africa': 2107, 'uninterest': 2108, 'sitcom': 2109, 'inner': 2110, 'excess': 2111, 'arrest': 2112, 'surfac': 2113, 'spin': 2114, 'semi': 2115, 'dinosaur': 2116, 'makeup': 2117, 'hitchcock': 2118, 'maintain': 2119, 'massiv': 2120, 'twin': 2121, 'controversi': 2122, 'argu': 2123, 'expens': 2124, 'ideal': 2125, 'insist': 2126, 'kim': 2127, 'reject': 2128, 'melodrama': 2129, 'ludicr': 2130, 'stare': 2131, 'forest': 2132, 'host': 2133, 'subplot': 2134, 'atroci': 2135, 'ga': 2136, 'ala': 2137, 'supernatur': 2138, 'nail': 2139, 'erot': 2140, 'press': 2141, 'columbo': 2142, 'cant': 2143, 'notch': 2144, 'presum': 2145, 'dude': 2146, 'identifi': 2147, 'plagu': 2148, 'closer': 2149, 'forgett': 2150, 'guest': 2151, 'method': 2152, 'character': 2153, 'crude': 2154, 'foster': 2155, 'landscap': 2156, 'border': 2157, 'lion': 2158, 'beast': 2159, 'princess': 2160, 'ear': 2161, 'birth': 2162, 'accus': 2163, 'bound': 2164, 'pacino': 2165, 'previous': 2166, 'storytel': 2167, 'aunt': 2168, 'jungl': 2169, 'damag': 2170, 'urban': 2171, 'propaganda': 2172, 'jess': 2173, 'nude': 2174, 'chose': 2175, 'thirti': 2176, 'doll': 2177, 'guid': 2178, 'emma': 2179, 'warrior': 2180, 'whoever': 2181, '25': 2182, 'mate': 2183, 'pet': 2184, 'mainstream': 2185, 'upset': 2186, 'gritti': 2187, 'friday': 2188, 'exact': 2189, 'merit': 2190, 'latest': 2191, 'poster': 2192, 'cooper': 2193, 'deadli': 2194, 'size': 2195, 'wilson': 2196, 'citizen': 2197, 'contest': 2198, '1990': 2199, 'ton': 2200, 'blend': 2201, 'popul': 2202, 'buff': 2203, 'corps': 2204, 'rough': 2205, 'contact': 2206, 'sun': 2207, 'warner': 2208, 'settl': 2209, 'overcom': 2210, 'pitt': 2211, 'widow': 2212, 'environ': 2213, 'alic': 2214, 'select': 2215, 'metal': 2216, 'rat': 2217, 'mgm': 2218, 'bu': 2219, 'ted': 2220, 'revolut': 2221, 'guilti': 2222, 'particip': 2223, 'lift': 2224, 'link': 2225, 'johnson': 2226, 'corner': 2227, 'moron': 2228, 'exagger': 2229, 'afternoon': 2230, 'matrix': 2231, 'prostitut': 2232, 'accompani': 2233, 'corpor': 2234, '1960': 2235, 'doom': 2236, 'clair': 2237, 'multipl': 2238, 'leagu': 2239, 'instal': 2240, 'friendli': 2241, 'sincer': 2242, 'hood': 2243, 'holm': 2244, 'hip': 2245, 'examin': 2246, 'irish': 2247, 'defend': 2248, 'advis': 2249, 'sunday': 2250, 'junk': 2251, 'blah': 2252, 'aka': 2253, 'string': 2254, 'lugosi': 2255, 'grim': 2256, 'campi': 2257, 'shake': 2258, 'tight': 2259, 'shut': 2260, 'icon': 2261, 'pro': 2262, 'varieti': 2263, 'confid': 2264, 'rachel': 2265, 'jaw': 2266, 'directli': 2267, 'goal': 2268, 'attach': 2269, 'medic': 2270, 'denni': 2271, 'sullivan': 2272, 'mexican': 2273, 'sentenc': 2274, 'duke': 2275, 'terrorist': 2276, 'prior': 2277, 'legendari': 2278, 'vietnam': 2279, 'sarah': 2280, 'dean': 2281, 'truck': 2282, 'breast': 2283, 'courag': 2284, 'bourn': 2285, 'nose': 2286, 'donald': 2287, 'proceed': 2288, 'un': 2289, 'yell': 2290, 'split': 2291, 'entri': 2292, 'behav': 2293, 'hong': 2294, 'crush': 2295, 'lifetim': 2296, 'jerk': 2297, 'gather': 2298, 'concentr': 2299, 'forth': 2300, 'everywher': 2301, 'borrow': 2302, 'stolen': 2303, 'buri': 2304, 'unconvinc': 2305, 'swim': 2306, 'confess': 2307, 'spite': 2308, 'deliveri': 2309, 'lip': 2310, 'california': 2311, 'pan': 2312, 'turkey': 2313, 'julia': 2314, 'quest': 2315, 'freeman': 2316, 'downright': 2317, 'china': 2318, 'flight': 2319, 'offici': 2320, 'proud': 2321, 'hoffman': 2322, 'reward': 2323, 'worthwhil': 2324, 'betray': 2325, 'lazi': 2326, 'sink': 2327, 'inept': 2328, 'jail': 2329, 'jon': 2330, 'fabul': 2331, 'sir': 2332, 'encourag': 2333, 'fade': 2334, 'notori': 2335, 'survivor': 2336, 'cousin': 2337, 'susan': 2338, 'relev': 2339, 'bag': 2340, 'teeth': 2341, 'shower': 2342, 'lisa': 2343, 'retard': 2344, 'bell': 2345, 'branagh': 2346, 'imageri': 2347, 'storm': 2348, 'mexico': 2349, 'facial': 2350, 'bride': 2351, 'alright': 2352, 'trade': 2353, 'shark': 2354, 'finger': 2355, 'toler': 2356, 'quirki': 2357, 'tremend': 2358, 'hugh': 2359, 'stab': 2360, 'summari': 2361, 'bitter': 2362, 'von': 2363, 'ha': 2364, 'blown': 2365, 'pose': 2366, 'hyster': 2367, 'afterward': 2368, 'cruel': 2369, 'bone': 2370, 'ron': 2371, 'larri': 2372, 'ned': 2373, 'address': 2374, 'scheme': 2375, 'christ': 2376, 'snake': 2377, 'thumb': 2378, 'pursu': 2379, 'distinct': 2380, 'tour': 2381, 'swear': 2382, 'beg': 2383, 'traci': 2384, 'screw': 2385, 'feed': 2386, 'raw': 2387, 'stomach': 2388, 'chair': 2389, 'photo': 2390, 'obscur': 2391, 'mechan': 2392, 'occas': 2393, 'chain': 2394, 'gruesom': 2395, 'resist': 2396, 'necessarili': 2397, 'southern': 2398, 'holiday': 2399, 'cabin': 2400, 'hardi': 2401, 'heavili': 2402, 'sidney': 2403, 'render': 2404, 'argument': 2405, 'philip': 2406, 'satan': 2407, 'understood': 2408, 'indulg': 2409, 'racist': 2410, 'india': 2411, 'forgot': 2412, 'outfit': 2413, 'belov': 2414, 'obnoxi': 2415, 'integr': 2416, 'pregnant': 2417, 'tongu': 2418, 'midnight': 2419, 'stalk': 2420, 'fourth': 2421, 'lay': 2422, 'restor': 2423, 'ticket': 2424, 'deeper': 2425, 'slapstick': 2426, 'inhabit': 2427, 'garden': 2428, 'magazin': 2429, 'carol': 2430, '17': 2431, 'brad': 2432, 'shoe': 2433, 'incid': 2434, 'lincoln': 2435, 'devot': 2436, 'benefit': 2437, 'disbelief': 2438, 'guarante': 2439, 'elizabeth': 2440, 'underground': 2441, 'anticip': 2442, 'lili': 2443, 'maria': 2444, 'divorc': 2445, 'sandler': 2446, 'cring': 2447, 'capit': 2448, 'creation': 2449, 'amazingli': 2450, 'bbc': 2451, 'mildli': 2452, 'explod': 2453, 'slave': 2454, 'greater': 2455, 'princip': 2456, 'halfway': 2457, 'funnier': 2458, 'extraordinari': 2459, 'introduct': 2460, 'lesli': 2461, 'advantag': 2462, 'enhanc': 2463, 'punish': 2464, 'wreck': 2465, 'transfer': 2466, 'tap': 2467, 'extent': 2468, 'overwhelm': 2469, 'text': 2470, 'horrif': 2471, 'deliber': 2472, 'jessica': 2473, 'lane': 2474, 'lo': 2475, 'error': 2476, 'plant': 2477, 'dynam': 2478, 'east': 2479, 'preview': 2480, 'appli': 2481, 'vacat': 2482, 'miscast': 2483, 'sophist': 2484, 'homosexu': 2485, 'vincent': 2486, 'ensu': 2487, 'miller': 2488, 'basi': 2489, '2000': 2490, 'via': 2491, 'uncomfort': 2492, 'sleazi': 2493, 'steel': 2494, 'extend': 2495, 'measur': 2496, 'reed': 2497, 'mansion': 2498, 'elev': 2499, 'bollywood': 2500, 'spoken': 2501, 'mous': 2502, 'overact': 2503, 'fix': 2504, 'conceiv': 2505, 'cathol': 2506, 'dentist': 2507, 'beer': 2508, 'alter': 2509, 'assign': 2510, 'goofi': 2511, 'hippi': 2512, 'stanley': 2513, 'savag': 2514, 'blair': 2515, 'melt': 2516, 'daili': 2517, 'breathtak': 2518, 'inspector': 2519, 'burt': 2520, 'properli': 2521, 'succe': 2522, 'sacrific': 2523, 'nowaday': 2524, 'everyday': 2525, 'oppos': 2526, 'subsequ': 2527, 'carpent': 2528, 'circl': 2529, 'block': 2530, 'neck': 2531, 'massacr': 2532, 'laura': 2533, 'seagal': 2534, 'lesser': 2535, 'pool': 2536, 'portrait': 2537, 'access': 2538, 'fay': 2539, 'concert': 2540, 'fallen': 2541, 'christi': 2542, 'grey': 2543, 'mob': 2544, 'competit': 2545, 'jake': 2546, 'isol': 2547, 'chees': 2548, 'usa': 2549, 'sinist': 2550, 'relax': 2551, 'react': 2552, 'jewish': 2553, 'chop': 2554, 'creep': 2555, 'appal': 2556, 'ironi': 2557, 'immens': 2558, 'suitabl': 2559, 'lyric': 2560, 'nonetheless': 2561, 'spiritu': 2562, 'stink': 2563, 'nine': 2564, '2006': 2565, 'reduc': 2566, 'rage': 2567, 'showcas': 2568, 'navi': 2569, 'luci': 2570, 'retir': 2571, 'adopt': 2572, 'nut': 2573, 'shirt': 2574, 'user': 2575, 'needless': 2576, 'sold': 2577, 'spring': 2578, 'franchis': 2579, 'asham': 2580, 'jay': 2581, 'digit': 2582, 'per': 2583, 'bath': 2584, 'bulli': 2585, 'uninspir': 2586, 'zone': 2587, 'nurs': 2588, 'stanwyck': 2589, 'sutherland': 2590, '1940': 2591, 'laid': 2592, 'broadcast': 2593, 'upper': 2594, 'illustr': 2595, 'oddli': 2596, '2001': 2597, 'amongst': 2598, 'baker': 2599, 'fulfil': 2600, 'aspir': 2601, 'throat': 2602, 'stylish': 2603, 'brando': 2604, 'disguis': 2605, 'thief': 2606, 'nobl': 2607, 'pride': 2608, 'neighborhood': 2609, 'pound': 2610, 'wwii': 2611, 'endear': 2612, 'wanna': 2613, 'impli': 2614, '18': 2615, 'em': 2616, 'albeit': 2617, 'coher': 2618, 'dinner': 2619, 'bo': 2620, 'shoulder': 2621, 'cinematograph': 2622, 'shift': 2623, '16': 2624, 'prop': 2625, 'dawn': 2626, 'diseas': 2627, 'bett': 2628, 'distribut': 2629, 'tens': 2630, 'rochest': 2631, 'snow': 2632, 'silenc': 2633, 'contract': 2634, 'forti': 2635, 'function': 2636, 'wash': 2637, 'rebel': 2638, 'poignant': 2639, 'knife': 2640, 'shout': 2641, 'surf': 2642, 'matthau': 2643, 'horrend': 2644, 'height': 2645, 'eeri': 2646, 'instinct': 2647, 'cannib': 2648, 'derek': 2649, 'silver': 2650, 'chuck': 2651, 'cancel': 2652, 'reunion': 2653, 'duti': 2654, 'mindless': 2655, 'heat': 2656, 'henc': 2657, 'widmark': 2658, 'internet': 2659, 'elvira': 2660, 'proof': 2661, 'glori': 2662, 'musician': 2663, 'mill': 2664, 'repetit': 2665, 'greatli': 2666, 'torn': 2667, 'premier': 2668, 'pie': 2669, 'spielberg': 2670, 'etern': 2671, 'innov': 2672, 'neat': 2673, 'absorb': 2674, 'incoher': 2675, 'elvi': 2676, 'alik': 2677, 'itali': 2678, 'horrifi': 2679, 'lovabl': 2680, 'nelson': 2681, 'trite': 2682, 'homag': 2683, 'announc': 2684, 'bang': 2685, 'crisi': 2686, 'blank': 2687, 'redempt': 2688, 'precis': 2689, 'wealthi': 2690, 'diamond': 2691, 'britain': 2692, 'racism': 2693, 'fbi': 2694, 'infam': 2695, 'burton': 2696, 'flop': 2697, 'wilder': 2698, 'chaplin': 2699, 'helen': 2700, 'parallel': 2701, 'happili': 2702, 'dedic': 2703, 'pat': 2704, 'ensembl': 2705, 'streisand': 2706, 'hammer': 2707, 'resolut': 2708, 'carter': 2709, 'broke': 2710, 'disagre': 2711, 'plastic': 2712, 'st': 2713, 'oil': 2714, 'triumph': 2715, 'mar': 2716, 'factori': 2717, 'conclud': 2718, 'cube': 2719, 'fighter': 2720, 'weight': 2721, 'own': 2722, 'rocket': 2723, 'vega': 2724, 'chuckl': 2725, 'climb': 2726, 'march': 2727, 'row': 2728, 'bush': 2729, 'boot': 2730, 'spare': 2731, 'unforgett': 2732, 'sensibl': 2733, 'luca': 2734, 'wherea': 2735, 'mst3k': 2736, 'meaning': 2737, 'kurt': 2738, 'thug': 2739, 'lust': 2740, 'dane': 2741, 'dump': 2742, 'enorm': 2743, 'rap': 2744, 'caricatur': 2745, 'bobbi': 2746, 'stress': 2747, 'dear': 2748, 'brand': 2749, 'threat': 2750, 'fifti': 2751, 'butt': 2752, 'engin': 2753, 'adequ': 2754, 'difficulti': 2755, 'arnold': 2756, 'karloff': 2757, 'arrog': 2758, 'elabor': 2759, 'journalist': 2760, 'homeless': 2761, 'fest': 2762, 'secretari': 2763, 'swing': 2764, 'ralph': 2765, 'polish': 2766, 'ego': 2767, 'barri': 2768, 'flynn': 2769, 'hamlet': 2770, 'tool': 2771, 'simpson': 2772, 'unbear': 2773, 'spike': 2774, 'arrang': 2775, 'induc': 2776, 'grate': 2777, 'conspiraci': 2778, 'fanci': 2779, 'puppet': 2780, 'float': 2781, 'resort': 2782, 'guilt': 2783, 'boll': 2784, 'pig': 2785, 'basement': 2786, 'tribut': 2787, 'cruis': 2788, 'choreograph': 2789, 'exercis': 2790, 'muppet': 2791, 'phillip': 2792, 'ward': 2793, 'medium': 2794, 'file': 2795, 'slip': 2796, 'puzzl': 2797, 'ham': 2798, 'fianc': 2799, 'toilet': 2800, 'tower': 2801, 'babe': 2802, 'layer': 2803, 'editor': 2804, 'stan': 2805, 'document': 2806, '24': 2807, 'item': 2808, 'korean': 2809, 'scarecrow': 2810, 'slaughter': 2811, 'orient': 2812, 'catherin': 2813, 'territori': 2814, 'inexplic': 2815, 'assur': 2816, 'denzel': 2817, 'minim': 2818, 'persona': 2819, 'philosoph': 2820, 'doc': 2821, 'transit': 2822, 'glover': 2823, 'spark': 2824, 'portion': 2825, 'librari': 2826, 'larger': 2827, 'superfici': 2828, 'boredom': 2829, 'jet': 2830, 'jeremi': 2831, 'curti': 2832, 'ban': 2833, 'walken': 2834, 'shi': 2835, 'dorothi': 2836, 'sneak': 2837, 'pg': 2838, 'wolf': 2839, 'owe': 2840, 'financi': 2841, 'cusack': 2842, 'backdrop': 2843, 'metaphor': 2844, 'hudson': 2845, 'profound': 2846, 'multi': 2847, 'ambigu': 2848, 'whale': 2849, 'eleph': 2850, 'gadget': 2851, 'union': 2852, 'notion': 2853, 'viru': 2854, '2005': 2855, 'birthday': 2856, 'rave': 2857, 'implaus': 2858, 'stiff': 2859, 'ultra': 2860, 'hack': 2861, 'elsewher': 2862, '1st': 2863, 'pad': 2864, 'hawk': 2865, 'distanc': 2866, 'lloyd': 2867, 'slight': 2868, 'bibl': 2869, 'canada': 2870, 'eastwood': 2871, 'urg': 2872, 'deriv': 2873, 'squar': 2874, 'poison': 2875, 'disc': 2876, 'newspap': 2877, 'eva': 2878, 'reader': 2879, 'afford': 2880, 'superhero': 2881, 'cure': 2882, 'essenc': 2883, 'button': 2884, 'charisma': 2885, 'spread': 2886, 'drown': 2887, 'sadist': 2888, 'health': 2889, 'restaur': 2890, 'montag': 2891, 'huh': 2892, 'skit': 2893, 'heston': 2894, 'lab': 2895, 'scoobi': 2896, 'godfath': 2897, 'fetch': 2898, 'dealt': 2899, 'peak': 2900, 'companion': 2901, 'invest': 2902, 'maniac': 2903, 'muslim': 2904, 'estat': 2905, 'gradual': 2906, 'subtleti': 2907, 'kane': 2908, 'countless': 2909, 'alli': 2910, 'gothic': 2911, 'tea': 2912, 'ritter': 2913, 'cup': 2914, 'servant': 2915, 'miik': 2916, 'briefli': 2917, 'heroic': 2918, 'elect': 2919, 'electr': 2920, 'iii': 2921, 'charismat': 2922, 'salli': 2923, 'cole': 2924, 'toss': 2925, 'grandmoth': 2926, 'neil': 2927, 'admittedli': 2928, 'ingredi': 2929, 'reel': 2930, 'bud': 2931, 'tender': 2932, 'wannab': 2933, 'nuanc': 2934, 'resourc': 2935, 'punk': 2936, 'poverti': 2937, 'stood': 2938, 'mafia': 2939, 'label': 2940, 'reev': 2941, 'shall': 2942, 'gate': 2943, 'mild': 2944, 'pit': 2945, 'kubrick': 2946, 'stronger': 2947, 'pauli': 2948, 'carrey': 2949, 'dawson': 2950, 'smash': 2951, 'tag': 2952, 'easier': 2953, 'burst': 2954, 'cardboard': 2955, 'ian': 2956, 'cox': 2957, 'terri': 2958, 'outcom': 2959, 'fond': 2960, 'updat': 2961, 'bakshi': 2962, 'astair': 2963, 'useless': 2964, 'smooth': 2965, 'assault': 2966, 'exchang': 2967, 'sketch': 2968, 'increasingli': 2969, 'qualifi': 2970, 'coincid': 2971, 'vulner': 2972, 'melodramat': 2973, 'vari': 2974, 'divers': 2975, 'fist': 2976, 'samurai': 2977, '2002': 2978, 'resolv': 2979, 'rex': 2980, 'insert': 2981, 'templ': 2982, 'reynold': 2983, 'conveni': 2984, 'scratch': 2985, 'tame': 2986, 'luckili': 2987, 'blast': 2988, 'brillianc': 2989, 'suspend': 2990, 'be': 2991, 'pin': 2992, 'farm': 2993, 'ambiti': 2994, 'jami': 2995, 'nuclear': 2996, 'coach': 2997, 'seventi': 2998, 'strictli': 2999, 'meat': 3000, 'gotta': 3001, 'walker': 3002, 'matthew': 3003, 'fisher': 3004, 'hamilton': 3005, 'soprano': 3006, 'instantli': 3007, 'revers': 3008, 'grasp': 3009, 'kudo': 3010, 'closet': 3011, 'cave': 3012, 'eccentr': 3013, 'empir': 3014, 'ninja': 3015, 'brosnan': 3016, 'clock': 3017, 'timeless': 3018, 'butcher': 3019, 'discoveri': 3020, 'worthless': 3021, 'struck': 3022, 'spooki': 3023, 'recreat': 3024, 'convolut': 3025, 'joey': 3026, 'monk': 3027, 'selfish': 3028, 'communist': 3029, 'evok': 3030, 'importantli': 3031, 'seller': 3032, 'pal': 3033, 'cliff': 3034, 'fifteen': 3035, 'wipe': 3036, 'mitchel': 3037, 'clown': 3038, 'declar': 3039, 'bleak': 3040, 'partli': 3041, 'gray': 3042, 'sloppi': 3043, 'eighti': 3044, 'norman': 3045, 'miracl': 3046, 'sidekick': 3047, 'inconsist': 3048, 'debat': 3049, 'farc': 3050, 'stoog': 3051, 'ho': 3052, 'australia': 3053, 'psychiatrist': 3054, 'flawless': 3055, 'chew': 3056, 'lifestyl': 3057, 'enthusiast': 3058, 'aforement': 3059, 'piano': 3060, 'destin': 3061, 'seed': 3062, 'websit': 3063, 'superbl': 3064, 'cheek': 3065, '45': 3066, 'wrestl': 3067, 'soviet': 3068, 'drivel': 3069, 'anni': 3070, 'slice': 3071, 'regardless': 3072, 'kitchen': 3073, 'directori': 3074, 'wick': 3075, 'incompet': 3076, 'abc': 3077, 'pressur': 3078, 'dire': 3079, 'bash': 3080, 'emili': 3081, 'dash': 3082, 'akshay': 3083, 'splatter': 3084, 'dave': 3085, 'suppli': 3086, 'pleasantli': 3087, 'artifici': 3088, 'distant': 3089, 'seduc': 3090, 'mann': 3091, 'prize': 3092, 'jar': 3093, 'doo': 3094, 'helicopt': 3095, 'curios': 3096, 'ken': 3097, 'glow': 3098, 'boil': 3099, 'blob': 3100, 'increas': 3101, 'cagney': 3102, 'beaten': 3103, 'judi': 3104, 'chapter': 3105, 'recov': 3106, 'duo': 3107, 'lou': 3108, 'flower': 3109, 'cameron': 3110, 'cia': 3111, 'combat': 3112, 'perri': 3113, 'laurel': 3114, 'glenn': 3115, 'psychot': 3116, 'francisco': 3117, 'favour': 3118, 'eleg': 3119, 'craven': 3120, 'goldberg': 3121, 'hop': 3122, 'web': 3123, 'panic': 3124, 'drunken': 3125, 'ellen': 3126, 'ranger': 3127, 'turner': 3128, 'splendid': 3129, 'craig': 3130, 'ruth': 3131, 'shortli': 3132, '20th': 3133, 'gentl': 3134, 'min': 3135, 'rid': 3136, 'wizard': 3137, 'philosophi': 3138, 'alexand': 3139, 'greek': 3140, 'plausibl': 3141, 'flip': 3142, 'modesti': 3143, 'slightest': 3144, 'fx': 3145, 'hatr': 3146, 'falk': 3147, 'graduat': 3148, 'gandhi': 3149, 'legal': 3150, 'jealou': 3151, 'futurist': 3152, 'manhattan': 3153, 'ocean': 3154, 'unpleas': 3155, 'we': 3156, 'harm': 3157, 'fund': 3158, 'preciou': 3159, 'knight': 3160, 'lend': 3161, 'holi': 3162, 'tall': 3163, 'dracula': 3164, 'felix': 3165, 'explicit': 3166, 'scientif': 3167, 'childish': 3168, 'digniti': 3169, 'ami': 3170, 'thread': 3171, 'forbidden': 3172, 'mock': 3173, 'overdon': 3174, 'bless': 3175, 'nod': 3176, 'tank': 3177, 'giallo': 3178, 'reviv': 3179, 'broad': 3180, '99': 3181, 'eve': 3182, 'nerv': 3183, 'torment': 3184, 'awaken': 3185, 'pirat': 3186, 'elderli': 3187, 'fever': 3188, '2004': 3189, 'yesterday': 3190, 'repeatedli': 3191, 'thick': 3192, 'margaret': 3193, 'verhoeven': 3194, 'mel': 3195, 'unwatch': 3196, 'awe': 3197, 'eas': 3198, 'bin': 3199, 'politician': 3200, 'custom': 3201, 'rivet': 3202, 'romero': 3203, 'griffith': 3204, 'absenc': 3205, 'acclaim': 3206, 'ah': 3207, 'lean': 3208, 'royal': 3209, 'automat': 3210, 'kay': 3211, 'ambit': 3212, 'launch': 3213, 'timothi': 3214, 'publish': 3215, 'roman': 3216, 'stiller': 3217, 'uniform': 3218, 'transport': 3219, 'darker': 3220, 'antic': 3221, 'foul': 3222, 'tomato': 3223, 'wallac': 3224, 'bathroom': 3225, 'homicid': 3226, 'pulp': 3227, 'phrase': 3228, 'pierc': 3229, 'crook': 3230, 'warren': 3231, 'sunshin': 3232, 'termin': 3233, 'stinker': 3234, 'purpl': 3235, 'gabriel': 3236, 'li': 3237, 'donna': 3238, 'juvenil': 3239, 'ought': 3240, '2003': 3241, 'awak': 3242, 'pray': 3243, 'evolv': 3244, 'packag': 3245, 'brazil': 3246, 'hollow': 3247, 'sixti': 3248, 'marin': 3249, 'contrari': 3250, 'kenneth': 3251, 'revolutionari': 3252, 'horrid': 3253, 'rambo': 3254, 'choreographi': 3255, 'viciou': 3256, 'coloni': 3257, 'saint': 3258, 'karen': 3259, 'album': 3260, 'prom': 3261, 'q': 3262, 'eyr': 3263, 'conserv': 3264, 'stole': 3265, 'dose': 3266, 'beatti': 3267, 'overr': 3268, 'twelv': 3269, 'blade': 3270, 'mummi': 3271, 'defi': 3272, 'nerd': 3273, 'candid': 3274, 'option': 3275, 'boast': 3276, 'kapoor': 3277, 'ireland': 3278, 'mildr': 3279, 'ramon': 3280, 'detract': 3281, 'confirm': 3282, 'protest': 3283, 'funer': 3284, 'fulci': 3285, 'collabor': 3286, 'astonish': 3287, 'flame': 3288, 'global': 3289, 'trio': 3290, 'kirk': 3291, 'jazz': 3292, 'altman': 3293, 'natali': 3294, 'blake': 3295, 'bottl': 3296, 'whip': 3297, 'destini': 3298, 'shade': 3299, 'yellow': 3300, 'nicholson': 3301, 'spit': 3302, 'bull': 3303, 'racial': 3304, 'leap': 3305, 'mystic': 3306, 'enterpris': 3307, 'delici': 3308, 'tommi': 3309, 'audio': 3310, 'enchant': 3311, 'altogeth': 3312, 'vivid': 3313, 'harder': 3314, 'fonda': 3315, 'swedish': 3316, 'merci': 3317, 'visibl': 3318, 'inherit': 3319, 'reunit': 3320, 'todd': 3321, 'staff': 3322, 'bedroom': 3323, 'pseudo': 3324, 'meaningless': 3325, 'neo': 3326, 'adolesc': 3327, 'threw': 3328, 'popcorn': 3329, 'atlanti': 3330, 'voight': 3331, 'await': 3332, 'edi': 3333, 'ruthless': 3334, 'respond': 3335, 'moodi': 3336, 'exhibit': 3337, 'roommat': 3338, 'decor': 3339, 'crocodil': 3340, 'leonard': 3341, 'synopsi': 3342, 'uneven': 3343, 'befriend': 3344, 'suspici': 3345, 'wire': 3346, 'madonna': 3347, 'lemmon': 3348, 'fanat': 3349, 'bust': 3350, 'tip': 3351, 'kennedi': 3352, 'lawrenc': 3353, 'reserv': 3354, 'jew': 3355, 'clumsi': 3356, 'unsettl': 3357, 'holli': 3358, '2007': 3359, 'carl': 3360, 'audit': 3361, 'clint': 3362, 'incident': 3363, 'bargain': 3364, 'chao': 3365, 'voyag': 3366, 'abysm': 3367, 'garner': 3368, 'dimens': 3369, 'centr': 3370, 'bold': 3371, 'ventur': 3372, 'palma': 3373, 'rural': 3374, 'bradi': 3375, 'cd': 3376, 'hart': 3377, 'elimin': 3378, 'cuba': 3379, 'poetic': 3380, 'trail': 3381, 'humili': 3382, 'nearbi': 3383, 'characterist': 3384, 'echo': 3385, 'mall': 3386, 'acknowledg': 3387, 'tiger': 3388, 'wealth': 3389, 'versu': 3390, '2nd': 3391, 'daddi': 3392, 'immigr': 3393, 'neglect': 3394, 'troop': 3395, 'imperson': 3396, 'cari': 3397, 'ant': 3398, 'lit': 3399, 'timon': 3400, 'jeffrey': 3401, 'collaps': 3402, 'mickey': 3403, 'solo': 3404, 'paus': 3405, 'prejudic': 3406, 'saga': 3407, 'mistaken': 3408, 'marshal': 3409, 'infect': 3410, 'celluloid': 3411, 'homer': 3412, 'domest': 3413, 'repuls': 3414, 'pun': 3415, 'inappropri': 3416, 'apolog': 3417, 'coat': 3418, 'undoubtedli': 3419, 'cake': 3420, 'interrupt': 3421, 'equip': 3422, '1996': 3423, 'tribe': 3424, 'olivi': 3425, 'assembl': 3426, 'pant': 3427, 'coffe': 3428, 'inan': 3429, 'gear': 3430, 'promin': 3431, 'sore': 3432, 'hbo': 3433, 'leon': 3434, 'ginger': 3435, 'milk': 3436, 'chest': 3437, 'harvey': 3438, 'pen': 3439, 'aveng': 3440, 'colleagu': 3441, 'instant': 3442, 'retain': 3443, 'brooklyn': 3444, 'institut': 3445, 'solut': 3446, 'polanski': 3447, 'maggi': 3448, 'colonel': 3449, 'devast': 3450, 'airplan': 3451, 'embrac': 3452, 'furthermor': 3453, 'trace': 3454, 'highest': 3455, 'humbl': 3456, 'primari': 3457, 'pot': 3458, 'consum': 3459, 'vulgar': 3460, 'exot': 3461, 'jenni': 3462, 'florida': 3463, 'rick': 3464, 'descend': 3465, 'illog': 3466, 'sale': 3467, 'dutch': 3468, 'dian': 3469, 'ya': 3470, 'wive': 3471, 'seduct': 3472, 'smaller': 3473, '3rd': 3474, '1999': 3475, 'linda': 3476, 'cope': 3477, 'disabl': 3478, 'principl': 3479, 'outer': 3480, 'godzilla': 3481, 'bowl': 3482, 'gender': 3483, 'poke': 3484, 'strain': 3485, 'secondli': 3486, 'mixtur': 3487, 'bubbl': 3488, 'primarili': 3489, 'vast': 3490, 'yard': 3491, 'scope': 3492, 'blatant': 3493, 'hal': 3494, 'dive': 3495, 'predecessor': 3496, 'dud': 3497, 'lol': 3498, 'inferior': 3499, 'devoid': 3500, 'cue': 3501, 'glamor': 3502, 'beneath': 3503, 'gloriou': 3504, 'gundam': 3505, 'rabbit': 3506, 'disjoint': 3507, 'trademark': 3508, 'alfr': 3509, 'countrysid': 3510, 'arab': 3511, 'myer': 3512, 'simplist': 3513, 'aggress': 3514, 'z': 3515, 'breed': 3516, 'talki': 3517, 'domino': 3518, 'shirley': 3519, 'alert': 3520, 'casual': 3521, 'hideou': 3522, 'pearl': 3523, 'garbo': 3524, 'senseless': 3525, 'museum': 3526, 'shelf': 3527, 'april': 3528, 'grinch': 3529, 'et': 3530, 'invas': 3531, 'streep': 3532, 'stack': 3533, 'mail': 3534, 'unhappi': 3535, 'disgrac': 3536, 'obtain': 3537, 'mayor': 3538, 'defens': 3539, 'slide': 3540, 'uwe': 3541, 'vanish': 3542, 'sh': 3543, 'oz': 3544, 'applaud': 3545, 'robinson': 3546, 'experiment': 3547, 'loyal': 3548, 'robberi': 3549, 'illeg': 3550, 'rendit': 3551, 'stellar': 3552, 'acid': 3553, 'boom': 3554, 'khan': 3555, 'maci': 3556, 'stir': 3557, 'hardcor': 3558, 'hopeless': 3559, 'topless': 3560, 'emphasi': 3561, 'rifl': 3562, 'amanda': 3563, 'tenant': 3564, 'berlin': 3565, 'blew': 3566, 'tempt': 3567, 'spider': 3568, 'grandfath': 3569, 'wont': 3570, 'counter': 3571, 'recruit': 3572, 'hartley': 3573, 'declin': 3574, 'incomprehens': 3575, 'span': 3576, 'diana': 3577, 'fri': 3578, 'craze': 3579, 'soccer': 3580, 'dismiss': 3581, 'scroog': 3582, 'dicken': 3583, 'psychic': 3584, 'porno': 3585, 'sympath': 3586, 'ration': 3587, 'woo': 3588, 'resurrect': 3589, 'shaw': 3590, 'riot': 3591, 'niro': 3592, 'bitch': 3593, 'parad': 3594, 'trashi': 3595, 'lumet': 3596, 'ethnic': 3597, 'revolt': 3598, 'sibl': 3599, 'justin': 3600, 'faster': 3601, 'intim': 3602, 'goer': 3603, 'shed': 3604, 'wet': 3605, 'rider': 3606, 'hesit': 3607, 'jonathan': 3608, 'nephew': 3609, 'unreal': 3610, '00': 3611, 'gap': 3612, 'farmer': 3613, 'commend': 3614, 'partial': 3615, 'lena': 3616, 'honesti': 3617, 'weakest': 3618, 'region': 3619, 'mario': 3620, 'eager': 3621, 'enlighten': 3622, 'ballet': 3623, 'choru': 3624, 'steam': 3625, 'biographi': 3626, 'slick': 3627, 'feminist': 3628, 'ensur': 3629, 'wheel': 3630, 'wendi': 3631, 'immort': 3632, 'dealer': 3633, 'worm': 3634, 'patriot': 3635, 'andr': 3636, 'hopper': 3637, 'victori': 3638, 'wore': 3639, 'similarli': 3640, 'snap': 3641, 'charlott': 3642, 'nostalg': 3643, 'sappi': 3644, 'morri': 3645, 'franco': 3646, 'properti': 3647, 'vice': 3648, 'util': 3649, 'kingdom': 3650, 'sandra': 3651, 'repress': 3652, 'safeti': 3653, 'composit': 3654, 'blunt': 3655, 'leo': 3656, 'psychopath': 3657, 'mutant': 3658, 'prequel': 3659, 'owen': 3660, 'hung': 3661, 'skull': 3662, 'confin': 3663, 'macarthur': 3664, 'rope': 3665, 'rocki': 3666, 'dust': 3667, 'speci': 3668, 'bumbl': 3669, 'deed': 3670, 'strand': 3671, 'tad': 3672, 'bergman': 3673, 'rambl': 3674, 'kyle': 3675, 'pattern': 3676, 'drum': 3677, 'farrel': 3678, 'hyde': 3679, 'drain': 3680, 'latin': 3681, 'miseri': 3682, 'whoopi': 3683, 'tail': 3684, 'recycl': 3685, 'emperor': 3686, 'compass': 3687, 'compens': 3688, 'valuabl': 3689, 'heartbreak': 3690, 'montana': 3691, '1972': 3692, 'bow': 3693, 'despair': 3694, 'exit': 3695, 'nervou': 3696, 'snl': 3697, 'repli': 3698, 'cg': 3699, 'bonu': 3700, 'campbel': 3701, 'del': 3702, 'acquir': 3703, 'thru': 3704, 'dalton': 3705, 'oppress': 3706, 'downhil': 3707, 'percept': 3708, 'radic': 3709, 'rapist': 3710, 'contempl': 3711, 'bleed': 3712, '35': 3713, 'gimmick': 3714, 'tonight': 3715, 'da': 3716, 'olli': 3717, 'airport': 3718, 'orson': 3719, 'chess': 3720, 'wacki': 3721, 'pour': 3722, 'mistress': 3723, 'roth': 3724, 'romp': 3725, 'rotten': 3726, 'martian': 3727, 'carradin': 3728, 'gal': 3729, 'slug': 3730, 'slash': 3731, 'belt': 3732, 'mislead': 3733, 'taught': 3734, 'pervers': 3735, 'tackl': 3736, 'banal': 3737, 'unpredict': 3738, 'preach': 3739, 'arc': 3740, 'dazzl': 3741, 'heal': 3742, 'tooth': 3743, 'stilt': 3744, 'paltrow': 3745, 'arguabl': 3746, '1983': 3747, 'pervert': 3748, 'shelley': 3749, 'attorney': 3750, 'melodi': 3751, 'pursuit': 3752, 'champion': 3753, 'edgar': 3754, 'programm': 3755, 'graham': 3756, 'marti': 3757, 'dixon': 3758, 'employe': 3759, 'sensat': 3760, 'tiresom': 3761, 'cleverli': 3762, 'maid': 3763, 'gambl': 3764, 'passeng': 3765, 'bela': 3766, 'orang': 3767, 'rubi': 3768, 'raymond': 3769, 'virginia': 3770, 'closest': 3771, 'plight': 3772, 'poem': 3773, 'vocal': 3774, 'mesmer': 3775, 'uplift': 3776, 'vengeanc': 3777, 'conneri': 3778, 'chicken': 3779, 'franki': 3780, 'duval': 3781, 'gerard': 3782, 'climact': 3783, 'outing': 3784, 'monologu': 3785, 'bay': 3786, 'sirk': 3787, 'extens': 3788, 'yawn': 3789, 'calm': 3790, 'habit': 3791, 'secretli': 3792, 'clone': 3793, 'giggl': 3794, 'inject': 3795, 'whine': 3796, 'swallow': 3797, 'profan': 3798, 'engross': 3799, 'amitabh': 3800, '1968': 3801, 'mute': 3802, 'quarter': 3803, 'numb': 3804, 'suffic': 3805, 'abraham': 3806, 'convincingli': 3807, 'paranoia': 3808, 'tube': 3809, 'scottish': 3810, 'iran': 3811, 'pokemon': 3812, 'crystal': 3813, 'volum': 3814, 'lundgren': 3815, 'bend': 3816, 'plod': 3817, 'dispos': 3818, 'underst': 3819, 'ethan': 3820, 'nichola': 3821, 'lowest': 3822, 'im': 3823, 'junior': 3824, 'surpass': 3825, 'poetri': 3826, 'meander': 3827, 'taxi': 3828, 'spock': 3829, 'septemb': 3830, 'abort': 3831, 'austen': 3832, 'grotesqu': 3833, 'trend': 3834, 'richardson': 3835, 'earl': 3836, 'backward': 3837, 'franci': 3838, 'fed': 3839, 'chicago': 3840, 'frankenstein': 3841, 'linger': 3842, 'profess': 3843, 'expand': 3844, 'myth': 3845, 'compliment': 3846, 'greedi': 3847, 'instrument': 3848, 'rant': 3849, 'mundan': 3850, 'sue': 3851, 'muddl': 3852, 'eugen': 3853, 'cannon': 3854, 'econom': 3855, 'stallon': 3856, 'literatur': 3857, 'rubber': 3858, 'household': 3859, 'descent': 3860, 'simplic': 3861, 'hum': 3862, 'nostalgia': 3863, 'catchi': 3864, 'tourist': 3865, 'waitress': 3866, 'spoke': 3867, 'lure': 3868, 'dysfunct': 3869, 'der': 3870, 'bacal': 3871, 'alongsid': 3872, 'equival': 3873, 'irrelev': 3874, 'crucial': 3875, 'randi': 3876, 'dictat': 3877, 'insur': 3878, 'coast': 3879, 'mankind': 3880, 'stale': 3881, 'hello': 3882, 'lang': 3883, 'firstli': 3884, 'flee': 3885, 'duck': 3886, 'eaten': 3887, 'map': 3888, 'phantom': 3889, 'recognit': 3890, 'recognis': 3891, 'molli': 3892, 'occupi': 3893, 'omen': 3894, 'cent': 3895, 'dement': 3896, 'deaf': 3897, 'mortal': 3898, 'louis': 3899, 'phoni': 3900, 'carel': 3901, 'furi': 3902, 'sissi': 3903, 'june': 3904, 'damon': 3905, 'ashley': 3906, '1973': 3907, 'labor': 3908, 'heel': 3909, 'freez': 3910, 'daisi': 3911, 'rooney': 3912, 'distinguish': 3913, 'bike': 3914, 'likewis': 3915, 'damm': 3916, 'twilight': 3917, 'onlin': 3918, 'loyalti': 3919, 'drake': 3920, 'rude': 3921, 'reign': 3922, 'cyborg': 3923, 'lengthi': 3924, 'newli': 3925, 'wisdom': 3926, 'biko': 3927, 'blackmail': 3928, 'antwon': 3929, 'bump': 3930, 'dreari': 3931, 'grayson': 3932, 'buffalo': 3933, 'nineti': 3934, 'ridden': 3935, 'proce': 3936, 'pink': 3937, 'worn': 3938, 'interior': 3939, 'provoc': 3940, 'inher': 3941, 'boxer': 3942, 'startl': 3943, 'incorpor': 3944, 'analysi': 3945, 'vein': 3946, 'exposur': 3947, 'tunnel': 3948, 'emphas': 3949, 'approv': 3950, 'barrymor': 3951, 'unorigin': 3952, 'butler': 3953, 'basketbal': 3954, 'attribut': 3955, 'sailor': 3956, 'prey': 3957, 'chronicl': 3958, 'baddi': 3959, 'keith': 3960, 'indiffer': 3961, 'belushi': 3962, 'meg': 3963, 'robbin': 3964, 'meyer': 3965, 'bunni': 3966, 'walsh': 3967, 'mighti': 3968, 'er': 3969, 'elm': 3970, 'stalker': 3971, 'substitut': 3972, 'mormon': 3973, 'hypnot': 3974, 'condemn': 3975, 'predat': 3976, 'carla': 3977, 'degrad': 3978, 'othello': 3979, 'undeni': 3980, 'julian': 3981, 'underli': 3982, 'simmon': 3983, 'improvis': 3984, 'barrel': 3985, 'drift': 3986, 'millionair': 3987, 'unrel': 3988, 'nicol': 3989, 'fleet': 3990, 'edgi': 3991, 'marion': 3992, 'palac': 3993, 'warmth': 3994, 'vital': 3995, 'greed': 3996, 'shove': 3997, 'lampoon': 3998, 'mtv': 3999, 'exquisit': 4000, 'disord': 4001, '3d': 4002, 'priceless': 4003, 'agenda': 4004, 'reid': 4005, 'alarm': 4006, 'roof': 4007, 'watson': 4008, 'firm': 4009, 'unawar': 4010, 'hay': 4011, 'novak': 4012, 'errol': 4013, 'nyc': 4014, 'dolph': 4015, 'rukh': 4016, 'alison': 4017, 'enthusiasm': 4018, 'profit': 4019, 'showdown': 4020, 'preserv': 4021, 'distort': 4022, 'what': 4023, 'peck': 4024, 'eastern': 4025, 'iraq': 4026, 'glanc': 4027, 'valentin': 4028, 'unleash': 4029, 'testament': 4030, 'randomli': 4031, 'drip': 4032, 'coup': 4033, '1933': 4034, 'israel': 4035, 'minimum': 4036, 'campaign': 4037, 'simultan': 4038, 'orlean': 4039, 'crown': 4040, 'sergeant': 4041, 'petti': 4042, '13th': 4043, 'gestur': 4044, 'thompson': 4045, 'peril': 4046, 'beatl': 4047, 'pamela': 4048, 'ponder': 4049, 'spain': 4050, 'cassidi': 4051, 'session': 4052, 'nun': 4053, 'championship': 4054, 'angela': 4055, 'zizek': 4056, 'brenda': 4057, 'jan': 4058, 'restrain': 4059, 'represent': 4060, 'stroke': 4061, 'rout': 4062, 'shootout': 4063, 'perpetu': 4064, 'contradict': 4065, 'stake': 4066, 'han': 4067, 'realm': 4068, 'unimagin': 4069, 'crawl': 4070, 'buster': 4071, 'calib': 4072, 'climat': 4073, 'crow': 4074, 'valley': 4075, 'empathi': 4076, 'bro': 4077, 'reson': 4078, 'mon': 4079, 'travesti': 4080, 'din': 4081, '1984': 4082, 'wig': 4083, 'gentleman': 4084, 'regist': 4085, 'cooki': 4086, 'kurosawa': 4087, 'quinn': 4088, 'sabrina': 4089, 'exposit': 4090, 'miyazaki': 4091, 'cream': 4092, 'scotland': 4093, 'fido': 4094, 'greg': 4095, 'delic': 4096, 'darren': 4097, 'shaki': 4098, 'femm': 4099, 'warrant': 4100, 'unsatisfi': 4101, 'stargat': 4102, '1997': 4103, 'compromis': 4104, 'unseen': 4105, 'derang': 4106, 'abomin': 4107, 'ustinov': 4108, 'spacey': 4109, 'crawford': 4110, 'distress': 4111, 'painter': 4112, 'tacki': 4113, 'perceiv': 4114, 'pole': 4115, 'pretens': 4116, 'demis': 4117, 'passabl': 4118, 'censor': 4119, 'cloud': 4120, 'geek': 4121, 'traumat': 4122, 'sucker': 4123, 'ross': 4124, '1987': 4125, 'sammi': 4126, 'absent': 4127, 'mclaglen': 4128, 'shoddi': 4129, 'josh': 4130, 'wax': 4131, 'monoton': 4132, 'fuller': 4133, 'soderbergh': 4134, 'baldwin': 4135, 'meryl': 4136, 'dana': 4137, 'businessman': 4138, 'clash': 4139, 'wholli': 4140, 'furiou': 4141, 'correctli': 4142, 'unravel': 4143, 'anchor': 4144, 'uncov': 4145, 'fenc': 4146, 'primit': 4147, 'austin': 4148, 'nathan': 4149, 'exclus': 4150, 'dee': 4151, 'jewel': 4152, 'click': 4153, 'norm': 4154, 'sid': 4155, 'polici': 4156, '1993': 4157, 'seal': 4158, 'judgment': 4159, 'reluct': 4160, 'verbal': 4161, 'kumar': 4162, 'valid': 4163, 'fog': 4164, 'tarantino': 4165, 'deceas': 4166, 'accuraci': 4167, 'expedit': 4168, 'tech': 4169, 'deniro': 4170, 'antonioni': 4171, 'slam': 4172, 'temper': 4173, 'clerk': 4174, 'mode': 4175, 'ritual': 4176, '1971': 4177, 'sand': 4178, 'enforc': 4179, 'trait': 4180, 'roller': 4181, 'joel': 4182, 'fart': 4183, '2008': 4184, 'dreck': 4185, 'conduct': 4186, 'debt': 4187, 'wang': 4188, 'seldom': 4189, 'malon': 4190, 'darn': 4191, '1995': 4192, 'sustain': 4193, 'unfair': 4194, 'shanghai': 4195, 'fought': 4196, 'fabric': 4197, 'alec': 4198, 'hallucin': 4199, 'crippl': 4200, 'patienc': 4201, 'pocket': 4202, 'sheet': 4203, 'wretch': 4204, 'vanc': 4205, 'murray': 4206, 'logan': 4207, 'behold': 4208, 'tax': 4209, 'bake': 4210, '3000': 4211, 'sunni': 4212, 'nicola': 4213, 'exhaust': 4214, 'divid': 4215, 'critiqu': 4216, 'bridget': 4217, 'helpless': 4218, 'robber': 4219, 'soup': 4220, 'canyon': 4221, 'stark': 4222, 'technicolor': 4223, 'legaci': 4224, 'conscious': 4225, 'grief': 4226, 'despis': 4227, 'outlin': 4228, 'bias': 4229, 'pete': 4230, 'schedul': 4231, 'rita': 4232, 'preposter': 4233, 'phil': 4234, 'clau': 4235, 'runner': 4236, 'fundament': 4237, 'sweep': 4238, 'guitar': 4239, 'shell': 4240, 'isabel': 4241, 'scriptwrit': 4242, 'penni': 4243, 'stuart': 4244, 'squad': 4245, 'tactic': 4246, 'preston': 4247, 'kansa': 4248, 'lacklust': 4249, 'jodi': 4250, 'jacket': 4251, 'marc': 4252, 'russia': 4253, 'flair': 4254, 'consciou': 4255, 'restrict': 4256, 'vomit': 4257, 'newman': 4258, 'gregori': 4259, 'downey': 4260, 'culmin': 4261, 'alicia': 4262, 'bloom': 4263, 'alley': 4264, 'inabl': 4265, 'sniper': 4266, 'liberti': 4267, 'boyl': 4268, 'rear': 4269, 'propos': 4270, 'palanc': 4271, 'agenc': 4272, 'invad': 4273, 'unexpectedli': 4274, 'sentinel': 4275, 'sugar': 4276, 'drove': 4277, 'rehash': 4278, 'connor': 4279, 'passag': 4280, 'delv': 4281, 'cigarett': 4282, 'implic': 4283, 'improb': 4284, 'lush': 4285, 'wrench': 4286, 'horn': 4287, 'chainsaw': 4288, 'rod': 4289, 'delet': 4290, 'bacon': 4291, 'foxx': 4292, 'mccoy': 4293, 'tendenc': 4294, 'yeti': 4295, '22': 4296, 'behaviour': 4297, '1936': 4298, 'arrow': 4299, 'rampag': 4300, 'asylum': 4301, 'ladder': 4302, 'cap': 4303, 'aesthet': 4304, 'sharon': 4305, 'rehears': 4306, 'pale': 4307, 'tripe': 4308, 'karl': 4309, 'vet': 4310, 'kolchak': 4311, 'feat': 4312, 'awhil': 4313, 'rhythm': 4314, 'hulk': 4315, 'thunderbird': 4316, 'loneli': 4317, 'newcom': 4318, '1920': 4319, 'shortcom': 4320, 'coaster': 4321, 'aristocrat': 4322, 'globe': 4323, 'underneath': 4324, 'filler': 4325, 'tomorrow': 4326, 'hackney': 4327, 'wildli': 4328, 'amazon': 4329, 'stream': 4330, 'conscienc': 4331, 'suspicion': 4332, '19th': 4333, 'paradis': 4334, 'sung': 4335, 'weav': 4336, 'basing': 4337, 'suffici': 4338, 'financ': 4339, 'elit': 4340, 'spice': 4341, 'rumor': 4342, '1978': 4343, 'wagner': 4344, 'lurk': 4345, 'prank': 4346, 'el': 4347, 'hungri': 4348, 'minu': 4349, 'paramount': 4350, 'tasteless': 4351, 'visitor': 4352, 'fright': 4353, '1988': 4354, 'scoop': 4355, 'atroc': 4356, 'minist': 4357, 'quietli': 4358, 'ram': 4359, '75': 4360, 'choppi': 4361, 'recogniz': 4362, 'lectur': 4363, 'curli': 4364, 'leigh': 4365, 'wwe': 4366, 'rub': 4367, 'penn': 4368, 'worship': 4369, '1989': 4370, 'entranc': 4371, 'literari': 4372, 'teas': 4373, 'ingeni': 4374, 'inmat': 4375, 'abrupt': 4376, 'impos': 4377, 'dirt': 4378, 'straightforward': 4379, 'posey': 4380, '1939': 4381, 'chavez': 4382, 'hopkin': 4383, 'heist': 4384, 'paxton': 4385, 'couch': 4386, 'bread': 4387, 'counterpart': 4388, 'iv': 4389, 'grudg': 4390, 'tierney': 4391, 'en': 4392, 'brit': 4393, 'cancer': 4394, 'naughti': 4395, 'secondari': 4396, 'immers': 4397, 'smell': 4398, 'standout': 4399, 'chamberlain': 4400, 'springer': 4401, 'beverli': 4402, 'yearn': 4403, 'nemesi': 4404, 'enthral': 4405, 'attenborough': 4406, 'skeptic': 4407, 'policeman': 4408, 'ace': 4409, 'watcher': 4410, 'missil': 4411, 'laurenc': 4412, 'cattl': 4413, 'moreov': 4414, 'heartfelt': 4415, 'transcend': 4416, 'sublim': 4417, 'duel': 4418, 'quaid': 4419, 'injuri': 4420, 'misguid': 4421, 'net': 4422, 'convert': 4423, '1986': 4424, 'variat': 4425, 'entitl': 4426, 'clan': 4427, 'morbid': 4428, 'bernard': 4429, 'geni': 4430, 'nolan': 4431, 'sassi': 4432, 'esther': 4433, 'lindsay': 4434, 'ratso': 4435, 'reliabl': 4436, 'spiral': 4437, 'egg': 4438, 'characteris': 4439, 'dont': 4440, 'obstacl': 4441, 'uncut': 4442, 'mytholog': 4443, 'brood': 4444, 'setup': 4445, 'buzz': 4446, 'bye': 4447, 'steadi': 4448, 'facil': 4449, 'diari': 4450, 'hopelessli': 4451, 'artsi': 4452, 'kitti': 4453, '1979': 4454, 'enabl': 4455, 'puppi': 4456, 'cruelti': 4457, 'moder': 4458, 'grin': 4459, 'tyler': 4460, 'unexplain': 4461, 'rosemari': 4462, 'youngest': 4463, 'graini': 4464, 'poe': 4465, 'bean': 4466, 'hk': 4467, 'kidman': 4468, 'out': 4469, 'vader': 4470, 'carlito': 4471, 'bounc': 4472, 'bewar': 4473, 'sweat': 4474, 'fuel': 4475, 'athlet': 4476, 'bronson': 4477, 'hain': 4478, 'hammi': 4479, 'exterior': 4480, 'underworld': 4481, 'brendan': 4482, 'decept': 4483, 'effici': 4484, 'patricia': 4485, '1969': 4486, 'acquaint': 4487, 'christin': 4488, 'weather': 4489, 'spontan': 4490, 'narrow': 4491, 'clueless': 4492, 'preming': 4493, 'heap': 4494, 'niec': 4495, 'oblig': 4496, 'baffl': 4497, 'despic': 4498, 'kline': 4499, 'gillian': 4500, 'gina': 4501, 'disastr': 4502, 'martha': 4503, 'rome': 4504, 'headach': 4505, '73': 4506, 'outlaw': 4507, 'suprem': 4508, 'circu': 4509, 'trigger': 4510, 'loath': 4511, 'sooner': 4512, 'injur': 4513, 'shatter': 4514, 'virtu': 4515, '19': 4516, 'astound': 4517, 'enlist': 4518, 'candl': 4519, 'lester': 4520, 'viewpoint': 4521, 'housewif': 4522, 'loi': 4523, 'biker': 4524, 'harmless': 4525, 'mermaid': 4526, 'analyz': 4527, 'goof': 4528, 'angst': 4529, 'tick': 4530, 'taboo': 4531, 'scar': 4532, 'hepburn': 4533, 'preachi': 4534, 'dandi': 4535, 'mayhem': 4536, 'sleepwalk': 4537, 'insipid': 4538, 'renaiss': 4539, 'dilemma': 4540, 'fontain': 4541, 'uh': 4542, 'claustrophob': 4543, 'amor': 4544, 'dish': 4545, 'macho': 4546, 'camcord': 4547, 'boston': 4548, 'hokey': 4549, 'scorses': 4550, 'overlong': 4551, 'hooker': 4552, 'ebert': 4553, 'intric': 4554, 'hostag': 4555, 'steer': 4556, 'stair': 4557, 'immatur': 4558, 'whore': 4559, 'foolish': 4560, 'idol': 4561, 'phenomenon': 4562, 'salt': 4563, 'gere': 4564, 'guin': 4565, 'slimi': 4566, 'spade': 4567, 'bent': 4568, 'glorifi': 4569, 'redund': 4570, 'zoom': 4571, 'dismal': 4572, 'sox': 4573, 'cassavet': 4574, 'corbett': 4575, 'oldest': 4576, 'surgeri': 4577, 'contempt': 4578, 'fluff': 4579, 'stimul': 4580, 'tripl': 4581, 'ariel': 4582, 'filth': 4583, 'alvin': 4584, 'flag': 4585, 'dwarf': 4586, 'rhyme': 4587, 'radiat': 4588, 'down': 4589, 'gasp': 4590, 'harold': 4591, 'assert': 4592, 'faint': 4593, 'mutual': 4594, 'messi': 4595, 'gabl': 4596, 'obligatori': 4597, 'schlock': 4598, 'remad': 4599, 'spinal': 4600, 'frantic': 4601, 'margin': 4602, 'keen': 4603, 'cohen': 4604, 'fascist': 4605, 'zane': 4606, '1981': 4607, '1976': 4608, 'strongest': 4609, 'joker': 4610, 'conquer': 4611, 'flirt': 4612, 'widescreen': 4613, 'shred': 4614, 'preced': 4615, 'astronaut': 4616, 'corman': 4617, 'muscl': 4618, 'trivia': 4619, 'perman': 4620, 'beard': 4621, 'shield': 4622, 'flashi': 4623, 'naschi': 4624, 'mount': 4625, 'transplant': 4626, 'antagonist': 4627, 'cow': 4628, 'nolt': 4629, 'spree': 4630, 'proport': 4631, 'cush': 4632, 'strive': 4633, 'neurot': 4634, 'repris': 4635, 'vaniti': 4636, 'departur': 4637, 'instruct': 4638, 'boob': 4639, 'bitten': 4640, 'flock': 4641, 'inflict': 4642, 'brush': 4643, 'bachelor': 4644, 'scandal': 4645, 'discern': 4646, 'www': 4647, 'resum': 4648, 'claud': 4649, 'interestingli': 4650, '28': 4651, 'mobil': 4652, 'someday': 4653, 'fishburn': 4654, 'carey': 4655, 'ritchi': 4656, 'triangl': 4657, '1945': 4658, 'danish': 4659, 'divin': 4660, 'sensual': 4661, 'archiv': 4662, '95': 4663, 'off': 4664, 'mol': 4665, 'barn': 4666, 'info': 4667, 'raj': 4668, 'persuad': 4669, 'wield': 4670, 'deer': 4671, 'hara': 4672, 'aborigin': 4673, 'axe': 4674, 'artwork': 4675, 'colin': 4676, 'frontier': 4677, 'undermin': 4678, 'casino': 4679, 'mobster': 4680, 'earnest': 4681, 'hilar': 4682, 'kathryn': 4683, 'submit': 4684, 'cycl': 4685, 'jade': 4686, 'dim': 4687, 'vibrant': 4688, 'timberlak': 4689, 'dylan': 4690, 'pickford': 4691, 'hug': 4692, 'recit': 4693, 'europa': 4694, 'ish': 4695, 'loretta': 4696, 'pacif': 4697, 'helm': 4698, 'senior': 4699, 'banter': 4700, 'clad': 4701, 'biblic': 4702, 'prophet': 4703, 'traffic': 4704, 'harrison': 4705, 'wendigo': 4706, 'pixar': 4707, 'cher': 4708, 'hapless': 4709, 'anton': 4710, 'neill': 4711, 'proclaim': 4712, 'cb': 4713, 'fragil': 4714, 'dame': 4715, 'melissa': 4716, 'luka': 4717, 'rot': 4718, 'bate': 4719, 'miracul': 4720, 'heartwarm': 4721, 'carlo': 4722, 'cliffhang': 4723, 'parson': 4724, 'vile': 4725, 'aris': 4726, 'lui': 4727, 'misfortun': 4728, 'winchest': 4729, 'legitim': 4730, 'breakfast': 4731, 'northern': 4732, 'estrang': 4733, 'electron': 4734, 'toronto': 4735, 'orphan': 4736, 'trier': 4737, 'razor': 4738, 'http': 4739, 'jo': 4740, 'seedi': 4741, 'marlon': 4742, 'flavor': 4743, 'token': 4744, 'shepherd': 4745, 'bikini': 4746, 'akin': 4747, 'cerebr': 4748, 'sicken': 4749, 'static': 4750, 'redneck': 4751, 'wardrob': 4752, 'pc': 4753, 'blatantli': 4754, 'bondag': 4755, 'foil': 4756, 'antholog': 4757, 'isra': 4758, 'lucil': 4759, 'mason': 4760, 'jordan': 4761, 'holocaust': 4762, 'uma': 4763, 'venom': 4764, 'articl': 4765, 'rooki': 4766, 'nope': 4767, 'feast': 4768, 'choke': 4769, 'vanessa': 4770, 'illus': 4771, 'eli': 4772, 'alexandr': 4773, 'milo': 4774, 'mathieu': 4775, 'cartoonish': 4776, 'boyer': 4777, 'wrestler': 4778, 'deem': 4779, 'glare': 4780, 'outdat': 4781, 'knightley': 4782, 'oppon': 4783, 'feminin': 4784, 'shorter': 4785, 'fifth': 4786, 'smack': 4787, 'audrey': 4788, 'ideolog': 4789, 'huston': 4790, 'tack': 4791, 'gilbert': 4792, 'comprehend': 4793, 'swept': 4794, 'highway': 4795, 'disregard': 4796, 'abund': 4797, 'peer': 4798, 'clinic': 4799, 'charlton': 4800, 'styliz': 4801, 'retriev': 4802, 'psych': 4803, 'turd': 4804, 'leather': 4805, 'frog': 4806, 'howl': 4807, 'affleck': 4808, 'dudley': 4809, 'magician': 4810, 'ceremoni': 4811, 'linear': 4812, 'gunga': 4813, 'nightclub': 4814, 'mitch': 4815, 'deliver': 4816, 'lighter': 4817, 'whack': 4818, 'boo': 4819, 'cemeteri': 4820, 'moe': 4821, 'compris': 4822, 'sleaz': 4823, 'evolut': 4824, 'breakdown': 4825, 'chip': 4826, 'durat': 4827, 'conrad': 4828, 'summar': 4829, 'plate': 4830, 'potter': 4831, 'client': 4832, 'btw': 4833, 'collector': 4834, 'tara': 4835, '4th': 4836, 'senat': 4837, 'greet': 4838, 'phenomen': 4839, '1991': 4840, 'bogu': 4841, 'cuban': 4842, 'corn': 4843, 'lavish': 4844, 'braveheart': 4845, 'snatch': 4846, 'monument': 4847, 'salman': 4848, 'goldsworthi': 4849, 'spine': 4850, 'bastard': 4851, 'einstein': 4852, 'toe': 4853, 'lifeless': 4854, 'uniformli': 4855, 'energet': 4856, 'spawn': 4857, 'newer': 4858, '1994': 4859, 'ie': 4860, 'capot': 4861, 'healthi': 4862, 'undertak': 4863, 'bori': 4864, 'trauma': 4865, 'signal': 4866, 'firmli': 4867, 'jule': 4868, 'undead': 4869, 'gilliam': 4870, 'belli': 4871, 'kent': 4872, 'historian': 4873, 'nina': 4874, 'sorrow': 4875, 'wtf': 4876, 'bulk': 4877, 'embark': 4878, 'fluid': 4879, 'constitut': 4880, 'judd': 4881, 'mcqueen': 4882, '1974': 4883, 'cecil': 4884, 'clara': 4885, 'jam': 4886, 'jedi': 4887, 'spectacl': 4888, 'kazan': 4889, 'neatli': 4890, 'inaccuraci': 4891, 'luxuri': 4892, 'lex': 4893, 'armstrong': 4894, 'outright': 4895, 'alleg': 4896, 'evelyn': 4897, 'appl': 4898, 'pronounc': 4899, 'occup': 4900, 'eleven': 4901, '1977': 4902, 'replay': 4903, 'jare': 4904, 'randolph': 4905, 'creek': 4906, 'ol': 4907, 'liu': 4908, 'truman': 4909, 'paula': 4910, 'blur': 4911, 'relentless': 4912, 'comprehens': 4913, 'sacrif': 4914, 'conan': 4915, 'galaxi': 4916, 'palm': 4917, 'tokyo': 4918, 'lauren': 4919, 'id': 4920, 'curtain': 4921, 'abound': 4922, 'bsg': 4923, 'porter': 4924, 'bait': 4925, 'kiddi': 4926, 'goldblum': 4927, 'pepper': 4928, 'comb': 4929, 'miami': 4930, 'propheci': 4931, 'aussi': 4932, 'roar': 4933, 'forgiven': 4934, 'pioneer': 4935, 'unattract': 4936, 'vain': 4937, 'mum': 4938, 'meal': 4939, '1985': 4940, 'sidewalk': 4941, 'unsuspect': 4942, 'spray': 4943, 'subtli': 4944, 'knee': 4945, 'congratul': 4946, 'groan': 4947, 'fruit': 4948, 'vignett': 4949, 'antonio': 4950, 'decapit': 4951, 'miniseri': 4952, 'inaccur': 4953, 'walt': 4954, 'genet': 4955, 'poker': 4956, 'lanc': 4957, 'rosario': 4958, 'inclus': 4959, 'basket': 4960, 'ash': 4961, 'cape': 4962, 'carmen': 4963, 'weari': 4964, 'bravo': 4965, 'mice': 4966, 'bach': 4967, 'motorcycl': 4968, 'jill': 4969, 'optimist': 4970, 'growth': 4971, 'frontal': 4972, 'monti': 4973, 'scariest': 4974, 'spill': 4975, 'incorrect': 4976, 'omin': 4977, 'drone': 4978, 'rapidli': 4979, 'modest': 4980, 'weaker': 4981, 'substanti': 4982, 'verg': 4983, '21st': 4984, 'sparkl': 4985, 'asset': 4986, 'scarfac': 4987, 'vastli': 4988, 'assort': 4989, 'dubiou': 4990, 'detach': 4991, 'ingrid': 4992, 'sophi': 4993, 'reincarn': 4994, 'turtl': 4995, 'profil': 4996, 'playboy': 4997, 'handicap': 4998, 'macabr': 4999}\n"
     ]
    }
   ],
   "source": [
    "# TODO: Use this space to determine the five most frequently appearing words in the training set.\n",
    "print(word_dict)\n"
   ]
  },
  {
   "cell_type": "markdown",
   "metadata": {},
   "source": [
    "### Save `word_dict`\n",
    "\n",
    "Later on when we construct an endpoint which processes a submitted review we will need to make use of the `word_dict` which we have created. As such, we will save it to a file now for future use."
   ]
  },
  {
   "cell_type": "code",
   "execution_count": 14,
   "metadata": {},
   "outputs": [],
   "source": [
    "data_dir = '../data/pytorch' # The folder we will use for storing data\n",
    "if not os.path.exists(data_dir): # Make sure that the folder exists\n",
    "    os.makedirs(data_dir)"
   ]
  },
  {
   "cell_type": "code",
   "execution_count": 15,
   "metadata": {},
   "outputs": [],
   "source": [
    "with open(os.path.join(data_dir, 'word_dict.pkl'), \"wb\") as f:\n",
    "    pickle.dump(word_dict, f)"
   ]
  },
  {
   "cell_type": "markdown",
   "metadata": {},
   "source": [
    "### Transform the reviews\n",
    "\n",
    "Now that we have our word dictionary which allows us to transform the words appearing in the reviews into integers, it is time to make use of it and convert our reviews to their integer sequence representation, making sure to pad or truncate to a fixed length, which in our case is `500`."
   ]
  },
  {
   "cell_type": "code",
   "execution_count": 16,
   "metadata": {},
   "outputs": [],
   "source": [
    "def convert_and_pad(word_dict, sentence, pad=500):\n",
    "    NOWORD = 0 # We will use 0 to represent the 'no word' category\n",
    "    INFREQ = 1 # and we use 1 to represent the infrequent words, i.e., words not appearing in word_dict\n",
    "    \n",
    "    working_sentence = [NOWORD] * pad\n",
    "    \n",
    "    for word_index, word in enumerate(sentence[:pad]):\n",
    "        if word in word_dict:\n",
    "            working_sentence[word_index] = word_dict[word]\n",
    "        else:\n",
    "            working_sentence[word_index] = INFREQ\n",
    "            \n",
    "    return working_sentence, min(len(sentence), pad)\n",
    "\n",
    "def convert_and_pad_data(word_dict, data, pad=500):\n",
    "    result = []\n",
    "    lengths = []\n",
    "    \n",
    "    for sentence in data:\n",
    "        converted, leng = convert_and_pad(word_dict, sentence, pad)\n",
    "        result.append(converted)\n",
    "        lengths.append(leng)\n",
    "        \n",
    "    return np.array(result), np.array(lengths)"
   ]
  },
  {
   "cell_type": "code",
   "execution_count": 17,
   "metadata": {},
   "outputs": [],
   "source": [
    "train_X, train_X_len = convert_and_pad_data(word_dict, train_X)\n",
    "test_X, test_X_len = convert_and_pad_data(word_dict, test_X)"
   ]
  },
  {
   "cell_type": "markdown",
   "metadata": {},
   "source": [
    "As a quick check to make sure that things are working as intended, check to see what one of the reviews in the training set looks like after having been processeed. Does this look reasonable? What is the length of a review in the training set?"
   ]
  },
  {
   "cell_type": "code",
   "execution_count": 18,
   "metadata": {},
   "outputs": [
    {
     "name": "stdout",
     "output_type": "stream",
     "text": [
      "500\n",
      "[ 22  20  79 ... 291 103  67]\n"
     ]
    }
   ],
   "source": [
    "# Use this cell to examine one of the processed reviews to make sure everything is working as intended.\n",
    "print(len(test_X[100]))\n",
    "print(train_X_len)"
   ]
  },
  {
   "cell_type": "markdown",
   "metadata": {},
   "source": [
    "**Question:** In the cells above we use the `preprocess_data` and `convert_and_pad_data` methods to process both the training and testing set. Why or why not might this be a problem?"
   ]
  },
  {
   "cell_type": "markdown",
   "metadata": {},
   "source": [
    "**Answer:**\n",
    "\n",
    "The preprocess_data converts to words which helps to see how frequent they are and useful to vectorize,since model only understands vectors.\n",
    "\n",
    "convert_and_pad_data maps frequent and no frequent words with only 500 words in a review,since first 500 is enough to analyze review."
   ]
  },
  {
   "cell_type": "markdown",
   "metadata": {},
   "source": [
    "## Step 3: Upload the data to S3\n",
    "\n",
    "As in the XGBoost notebook, we will need to upload the training dataset to S3 in order for our training code to access it. For now we will save it locally and we will upload to S3 later on.\n",
    "\n",
    "### Save the processed training dataset locally\n",
    "\n",
    "It is important to note the format of the data that we are saving as we will need to know it when we write the training code. In our case, each row of the dataset has the form `label`, `length`, `review[500]` where `review[500]` is a sequence of `500` integers representing the words in the review."
   ]
  },
  {
   "cell_type": "code",
   "execution_count": 19,
   "metadata": {},
   "outputs": [],
   "source": [
    "import pandas as pd\n",
    "    \n",
    "pd.concat([pd.DataFrame(train_y), pd.DataFrame(train_X_len), pd.DataFrame(train_X)], axis=1) \\\n",
    "        .to_csv(os.path.join(data_dir, 'train.csv'), header=False, index=False)"
   ]
  },
  {
   "cell_type": "markdown",
   "metadata": {},
   "source": [
    "### Uploading the training data\n",
    "\n",
    "\n",
    "Next, we need to upload the training data to the SageMaker default S3 bucket so that we can provide access to it while training our model."
   ]
  },
  {
   "cell_type": "code",
   "execution_count": 20,
   "metadata": {},
   "outputs": [],
   "source": [
    "import sagemaker\n",
    "\n",
    "sagemaker_session = sagemaker.Session()\n",
    "\n",
    "bucket = sagemaker_session.default_bucket()\n",
    "prefix = 'sagemaker/sentiment_rnn'\n",
    "\n",
    "role = sagemaker.get_execution_role()"
   ]
  },
  {
   "cell_type": "code",
   "execution_count": 21,
   "metadata": {},
   "outputs": [],
   "source": [
    "input_data = sagemaker_session.upload_data(path=data_dir, bucket=bucket, key_prefix=prefix)"
   ]
  },
  {
   "cell_type": "markdown",
   "metadata": {},
   "source": [
    "**NOTE:** The cell above uploads the entire contents of our data directory. This includes the `word_dict.pkl` file. This is fortunate as we will need this later on when we create an endpoint that accepts an arbitrary review. For now, we will just take note of the fact that it resides in the data directory (and so also in the S3 training bucket) and that we will need to make sure it gets saved in the model directory."
   ]
  },
  {
   "cell_type": "markdown",
   "metadata": {},
   "source": [
    "## Step 4: Build and Train the PyTorch Model\n",
    "\n",
    "In the XGBoost notebook we discussed what a model is in the SageMaker framework. In particular, a model comprises three objects\n",
    "\n",
    " - Model Artifacts,\n",
    " - Training Code, and\n",
    " - Inference Code,\n",
    " \n",
    "each of which interact with one another. In the XGBoost example we used training and inference code that was provided by Amazon. Here we will still be using containers provided by Amazon with the added benefit of being able to include our own custom code.\n",
    "\n",
    "We will start by implementing our own neural network in PyTorch along with a training script. For the purposes of this project we have provided the necessary model object in the `model.py` file, inside of the `train` folder. You can see the provided implementation by running the cell below."
   ]
  },
  {
   "cell_type": "code",
   "execution_count": 22,
   "metadata": {},
   "outputs": [
    {
     "name": "stdout",
     "output_type": "stream",
     "text": [
      "\u001b[34mimport\u001b[39;49;00m \u001b[04m\u001b[36mtorch.nn\u001b[39;49;00m \u001b[34mas\u001b[39;49;00m \u001b[04m\u001b[36mnn\u001b[39;49;00m\r\n",
      "\r\n",
      "\u001b[34mclass\u001b[39;49;00m \u001b[04m\u001b[32mLSTMClassifier\u001b[39;49;00m(nn.Module):\r\n",
      "    \u001b[33m\"\"\"\u001b[39;49;00m\r\n",
      "\u001b[33m    This is the simple RNN model we will be using to perform Sentiment Analysis.\u001b[39;49;00m\r\n",
      "\u001b[33m    \"\"\"\u001b[39;49;00m\r\n",
      "\r\n",
      "    \u001b[34mdef\u001b[39;49;00m \u001b[32m__init__\u001b[39;49;00m(\u001b[36mself\u001b[39;49;00m, embedding_dim, hidden_dim, vocab_size):\r\n",
      "        \u001b[33m\"\"\"\u001b[39;49;00m\r\n",
      "\u001b[33m        Initialize the model by settingg up the various layers.\u001b[39;49;00m\r\n",
      "\u001b[33m        \"\"\"\u001b[39;49;00m\r\n",
      "        \u001b[36msuper\u001b[39;49;00m(LSTMClassifier, \u001b[36mself\u001b[39;49;00m).\u001b[32m__init__\u001b[39;49;00m()\r\n",
      "\r\n",
      "        \u001b[36mself\u001b[39;49;00m.embedding = nn.Embedding(vocab_size, embedding_dim, padding_idx=\u001b[34m0\u001b[39;49;00m)\r\n",
      "        \u001b[36mself\u001b[39;49;00m.lstm = nn.LSTM(embedding_dim, hidden_dim)\r\n",
      "        \u001b[36mself\u001b[39;49;00m.dense = nn.Linear(in_features=hidden_dim, out_features=\u001b[34m1\u001b[39;49;00m)\r\n",
      "        \u001b[36mself\u001b[39;49;00m.sig = nn.Sigmoid()\r\n",
      "        \r\n",
      "        \u001b[36mself\u001b[39;49;00m.word_dict = \u001b[36mNone\u001b[39;49;00m\r\n",
      "\r\n",
      "    \u001b[34mdef\u001b[39;49;00m \u001b[32mforward\u001b[39;49;00m(\u001b[36mself\u001b[39;49;00m, x):\r\n",
      "        \u001b[33m\"\"\"\u001b[39;49;00m\r\n",
      "\u001b[33m        Perform a forward pass of our model on some input.\u001b[39;49;00m\r\n",
      "\u001b[33m        \"\"\"\u001b[39;49;00m\r\n",
      "        x = x.t()\r\n",
      "        lengths = x[\u001b[34m0\u001b[39;49;00m,:]\r\n",
      "        reviews = x[\u001b[34m1\u001b[39;49;00m:,:]\r\n",
      "        embeds = \u001b[36mself\u001b[39;49;00m.embedding(reviews)\r\n",
      "        lstm_out, _ = \u001b[36mself\u001b[39;49;00m.lstm(embeds)\r\n",
      "        out = \u001b[36mself\u001b[39;49;00m.dense(lstm_out)\r\n",
      "        out = out[lengths - \u001b[34m1\u001b[39;49;00m, \u001b[36mrange\u001b[39;49;00m(\u001b[36mlen\u001b[39;49;00m(lengths))]\r\n",
      "        \u001b[34mreturn\u001b[39;49;00m \u001b[36mself\u001b[39;49;00m.sig(out.squeeze())\r\n"
     ]
    }
   ],
   "source": [
    "!pygmentize train/model.py"
   ]
  },
  {
   "cell_type": "markdown",
   "metadata": {},
   "source": [
    "The important takeaway from the implementation provided is that there are three parameters that we may wish to tweak to improve the performance of our model. These are the embedding dimension, the hidden dimension and the size of the vocabulary. We will likely want to make these parameters configurable in the training script so that if we wish to modify them we do not need to modify the script itself. We will see how to do this later on. To start we will write some of the training code in the notebook so that we can more easily diagnose any issues that arise.\n",
    "\n",
    "First we will load a small portion of the training data set to use as a sample. It would be very time consuming to try and train the model completely in the notebook as we do not have access to a gpu and the compute instance that we are using is not particularly powerful. However, we can work on a small bit of the data to get a feel for how our training script is behaving."
   ]
  },
  {
   "cell_type": "code",
   "execution_count": 23,
   "metadata": {},
   "outputs": [],
   "source": [
    "import torch\n",
    "import torch.utils.data\n",
    "\n",
    "# Read in only the first 250 rows\n",
    "train_sample = pd.read_csv(os.path.join(data_dir, 'train.csv'), header=None, names=None, nrows=250)\n",
    "\n",
    "# Turn the input pandas dataframe into tensors\n",
    "train_sample_y = torch.from_numpy(train_sample[[0]].values).float().squeeze()\n",
    "train_sample_X = torch.from_numpy(train_sample.drop([0], axis=1).values).long()\n",
    "\n",
    "# Build the dataset\n",
    "train_sample_ds = torch.utils.data.TensorDataset(train_sample_X, train_sample_y)\n",
    "# Build the dataloader\n",
    "train_sample_dl = torch.utils.data.DataLoader(train_sample_ds, batch_size=50)"
   ]
  },
  {
   "cell_type": "markdown",
   "metadata": {},
   "source": [
    "### (TODO) Writing the training method\n",
    "\n",
    "Next we need to write the training code itself. This should be very similar to training methods that you have written before to train PyTorch models. We will leave any difficult aspects such as model saving / loading and parameter loading until a little later."
   ]
  },
  {
   "cell_type": "code",
   "execution_count": 24,
   "metadata": {},
   "outputs": [],
   "source": [
    "def train(model, train_loader, epochs, optimizer, loss_fn, device):\n",
    "    for epoch in range(1, epochs + 1):\n",
    "        model.train()\n",
    "        total_loss = 0\n",
    "        for batch in train_loader:         \n",
    "            batch_X, batch_y = batch\n",
    "            \n",
    "            batch_X = batch_X.to(device)\n",
    "            batch_y = batch_y.to(device)\n",
    "            \n",
    "            # TODO: Complete this train method to train the model provided.\n",
    "            optimizer.zero_grad()\n",
    "            output = model.forward(batch_X)\n",
    "            loss = loss_fn(output,batch_y)\n",
    "            loss.backward()\n",
    "            optimizer.step()\n",
    "            \n",
    "            total_loss += loss.data.item()\n",
    "        print(\"Epoch: {}, BCELoss: {}\".format(epoch, total_loss / len(train_loader)))"
   ]
  },
  {
   "cell_type": "markdown",
   "metadata": {},
   "source": [
    "Supposing we have the training method above, we will test that it is working by writing a bit of code in the notebook that executes our training method on the small sample training set that we loaded earlier. The reason for doing this in the notebook is so that we have an opportunity to fix any errors that arise early when they are easier to diagnose."
   ]
  },
  {
   "cell_type": "code",
   "execution_count": 25,
   "metadata": {},
   "outputs": [
    {
     "name": "stdout",
     "output_type": "stream",
     "text": [
      "Epoch: 1, BCELoss: 0.6901430010795593\n",
      "Epoch: 2, BCELoss: 0.6822965741157532\n",
      "Epoch: 3, BCELoss: 0.6756961584091187\n",
      "Epoch: 4, BCELoss: 0.6679929852485657\n",
      "Epoch: 5, BCELoss: 0.6578490138053894\n"
     ]
    }
   ],
   "source": [
    "import torch.optim as optim\n",
    "from train.model import LSTMClassifier\n",
    "\n",
    "device = torch.device(\"cuda\" if torch.cuda.is_available() else \"cpu\")\n",
    "model = LSTMClassifier(32, 100, 5000).to(device)\n",
    "optimizer = optim.Adam(model.parameters())\n",
    "loss_fn = torch.nn.BCELoss()\n",
    "\n",
    "train(model, train_sample_dl, 5, optimizer, loss_fn, device)"
   ]
  },
  {
   "cell_type": "markdown",
   "metadata": {},
   "source": [
    "In order to construct a PyTorch model using SageMaker we must provide SageMaker with a training script. We may optionally include a directory which will be copied to the container and from which our training code will be run. When the training container is executed it will check the uploaded directory (if there is one) for a `requirements.txt` file and install any required Python libraries, after which the training script will be run."
   ]
  },
  {
   "cell_type": "markdown",
   "metadata": {},
   "source": [
    "### (TODO) Training the model\n",
    "\n",
    "When a PyTorch model is constructed in SageMaker, an entry point must be specified. This is the Python file which will be executed when the model is trained. Inside of the `train` directory is a file called `train.py` which has been provided and which contains most of the necessary code to train our model. The only thing that is missing is the implementation of the `train()` method which you wrote earlier in this notebook.\n",
    "\n",
    "**TODO**: Copy the `train()` method written above and paste it into the `train/train.py` file where required.\n",
    "\n",
    "The way that SageMaker passes hyperparameters to the training script is by way of arguments. These arguments can then be parsed and used in the training script. To see how this is done take a look at the provided `train/train.py` file."
   ]
  },
  {
   "cell_type": "code",
   "execution_count": 31,
   "metadata": {},
   "outputs": [],
   "source": [
    "from sagemaker.pytorch import PyTorch\n",
    "\n",
    "estimator = PyTorch(entry_point=\"train.py\",\n",
    "                    source_dir=\"train\",\n",
    "                    role=role,\n",
    "                    framework_version='0.4.0',\n",
    "                    train_instance_count=1,\n",
    "                    train_instance_type='ml.p2.xlarge',\n",
    "                    hyperparameters={\n",
    "                        'epochs': 10,\n",
    "                        'hidden_dim': 200,\n",
    "                    })"
   ]
  },
  {
   "cell_type": "code",
   "execution_count": 32,
   "metadata": {},
   "outputs": [
    {
     "ename": "ResourceLimitExceeded",
     "evalue": "An error occurred (ResourceLimitExceeded) when calling the CreateTrainingJob operation: The account-level service limit 'ml.p2.xlarge for training job usage' is 0 Instances, with current utilization of 0 Instances and a request delta of 1 Instances. Please contact AWS support to request an increase for this limit.",
     "output_type": "error",
     "traceback": [
      "\u001b[0;31m---------------------------------------------------------------------------\u001b[0m",
      "\u001b[0;31mResourceLimitExceeded\u001b[0m                     Traceback (most recent call last)",
      "\u001b[0;32m<ipython-input-32-0e8223086435>\u001b[0m in \u001b[0;36m<module>\u001b[0;34m()\u001b[0m\n\u001b[0;32m----> 1\u001b[0;31m \u001b[0mestimator\u001b[0m\u001b[0;34m.\u001b[0m\u001b[0mfit\u001b[0m\u001b[0;34m(\u001b[0m\u001b[0;34m{\u001b[0m\u001b[0;34m'training'\u001b[0m\u001b[0;34m:\u001b[0m \u001b[0minput_data\u001b[0m\u001b[0;34m}\u001b[0m\u001b[0;34m)\u001b[0m\u001b[0;34m\u001b[0m\u001b[0m\n\u001b[0m",
      "\u001b[0;32m~/anaconda3/envs/pytorch_p36/lib/python3.6/site-packages/sagemaker/estimator.py\u001b[0m in \u001b[0;36mfit\u001b[0;34m(self, inputs, wait, logs, job_name, experiment_config)\u001b[0m\n\u001b[1;32m    472\u001b[0m         \u001b[0mself\u001b[0m\u001b[0;34m.\u001b[0m\u001b[0m_prepare_for_training\u001b[0m\u001b[0;34m(\u001b[0m\u001b[0mjob_name\u001b[0m\u001b[0;34m=\u001b[0m\u001b[0mjob_name\u001b[0m\u001b[0;34m)\u001b[0m\u001b[0;34m\u001b[0m\u001b[0m\n\u001b[1;32m    473\u001b[0m \u001b[0;34m\u001b[0m\u001b[0m\n\u001b[0;32m--> 474\u001b[0;31m         \u001b[0mself\u001b[0m\u001b[0;34m.\u001b[0m\u001b[0mlatest_training_job\u001b[0m \u001b[0;34m=\u001b[0m \u001b[0m_TrainingJob\u001b[0m\u001b[0;34m.\u001b[0m\u001b[0mstart_new\u001b[0m\u001b[0;34m(\u001b[0m\u001b[0mself\u001b[0m\u001b[0;34m,\u001b[0m \u001b[0minputs\u001b[0m\u001b[0;34m,\u001b[0m \u001b[0mexperiment_config\u001b[0m\u001b[0;34m)\u001b[0m\u001b[0;34m\u001b[0m\u001b[0m\n\u001b[0m\u001b[1;32m    475\u001b[0m         \u001b[0mself\u001b[0m\u001b[0;34m.\u001b[0m\u001b[0mjobs\u001b[0m\u001b[0;34m.\u001b[0m\u001b[0mappend\u001b[0m\u001b[0;34m(\u001b[0m\u001b[0mself\u001b[0m\u001b[0;34m.\u001b[0m\u001b[0mlatest_training_job\u001b[0m\u001b[0;34m)\u001b[0m\u001b[0;34m\u001b[0m\u001b[0m\n\u001b[1;32m    476\u001b[0m         \u001b[0;32mif\u001b[0m \u001b[0mwait\u001b[0m\u001b[0;34m:\u001b[0m\u001b[0;34m\u001b[0m\u001b[0m\n",
      "\u001b[0;32m~/anaconda3/envs/pytorch_p36/lib/python3.6/site-packages/sagemaker/estimator.py\u001b[0m in \u001b[0;36mstart_new\u001b[0;34m(cls, estimator, inputs, experiment_config)\u001b[0m\n\u001b[1;32m   1036\u001b[0m             \u001b[0mtrain_args\u001b[0m\u001b[0;34m[\u001b[0m\u001b[0;34m\"enable_sagemaker_metrics\"\u001b[0m\u001b[0;34m]\u001b[0m \u001b[0;34m=\u001b[0m \u001b[0mestimator\u001b[0m\u001b[0;34m.\u001b[0m\u001b[0menable_sagemaker_metrics\u001b[0m\u001b[0;34m\u001b[0m\u001b[0m\n\u001b[1;32m   1037\u001b[0m \u001b[0;34m\u001b[0m\u001b[0m\n\u001b[0;32m-> 1038\u001b[0;31m         \u001b[0mestimator\u001b[0m\u001b[0;34m.\u001b[0m\u001b[0msagemaker_session\u001b[0m\u001b[0;34m.\u001b[0m\u001b[0mtrain\u001b[0m\u001b[0;34m(\u001b[0m\u001b[0;34m**\u001b[0m\u001b[0mtrain_args\u001b[0m\u001b[0;34m)\u001b[0m\u001b[0;34m\u001b[0m\u001b[0m\n\u001b[0m\u001b[1;32m   1039\u001b[0m \u001b[0;34m\u001b[0m\u001b[0m\n\u001b[1;32m   1040\u001b[0m         \u001b[0;32mreturn\u001b[0m \u001b[0mcls\u001b[0m\u001b[0;34m(\u001b[0m\u001b[0mestimator\u001b[0m\u001b[0;34m.\u001b[0m\u001b[0msagemaker_session\u001b[0m\u001b[0;34m,\u001b[0m \u001b[0mestimator\u001b[0m\u001b[0;34m.\u001b[0m\u001b[0m_current_job_name\u001b[0m\u001b[0;34m)\u001b[0m\u001b[0;34m\u001b[0m\u001b[0m\n",
      "\u001b[0;32m~/anaconda3/envs/pytorch_p36/lib/python3.6/site-packages/sagemaker/session.py\u001b[0m in \u001b[0;36mtrain\u001b[0;34m(self, input_mode, input_config, role, job_name, output_config, resource_config, vpc_config, hyperparameters, stop_condition, tags, metric_definitions, enable_network_isolation, image, algorithm_arn, encrypt_inter_container_traffic, train_use_spot_instances, checkpoint_s3_uri, checkpoint_local_path, experiment_config, debugger_rule_configs, debugger_hook_config, tensorboard_output_config, enable_sagemaker_metrics)\u001b[0m\n\u001b[1;32m    588\u001b[0m         \u001b[0mLOGGER\u001b[0m\u001b[0;34m.\u001b[0m\u001b[0minfo\u001b[0m\u001b[0;34m(\u001b[0m\u001b[0;34m\"Creating training-job with name: %s\"\u001b[0m\u001b[0;34m,\u001b[0m \u001b[0mjob_name\u001b[0m\u001b[0;34m)\u001b[0m\u001b[0;34m\u001b[0m\u001b[0m\n\u001b[1;32m    589\u001b[0m         \u001b[0mLOGGER\u001b[0m\u001b[0;34m.\u001b[0m\u001b[0mdebug\u001b[0m\u001b[0;34m(\u001b[0m\u001b[0;34m\"train request: %s\"\u001b[0m\u001b[0;34m,\u001b[0m \u001b[0mjson\u001b[0m\u001b[0;34m.\u001b[0m\u001b[0mdumps\u001b[0m\u001b[0;34m(\u001b[0m\u001b[0mtrain_request\u001b[0m\u001b[0;34m,\u001b[0m \u001b[0mindent\u001b[0m\u001b[0;34m=\u001b[0m\u001b[0;36m4\u001b[0m\u001b[0;34m)\u001b[0m\u001b[0;34m)\u001b[0m\u001b[0;34m\u001b[0m\u001b[0m\n\u001b[0;32m--> 590\u001b[0;31m         \u001b[0mself\u001b[0m\u001b[0;34m.\u001b[0m\u001b[0msagemaker_client\u001b[0m\u001b[0;34m.\u001b[0m\u001b[0mcreate_training_job\u001b[0m\u001b[0;34m(\u001b[0m\u001b[0;34m**\u001b[0m\u001b[0mtrain_request\u001b[0m\u001b[0;34m)\u001b[0m\u001b[0;34m\u001b[0m\u001b[0m\n\u001b[0m\u001b[1;32m    591\u001b[0m \u001b[0;34m\u001b[0m\u001b[0m\n\u001b[1;32m    592\u001b[0m     def process(\n",
      "\u001b[0;32m~/anaconda3/envs/pytorch_p36/lib/python3.6/site-packages/botocore/client.py\u001b[0m in \u001b[0;36m_api_call\u001b[0;34m(self, *args, **kwargs)\u001b[0m\n\u001b[1;32m    314\u001b[0m                     \"%s() only accepts keyword arguments.\" % py_operation_name)\n\u001b[1;32m    315\u001b[0m             \u001b[0;31m# The \"self\" in this scope is referring to the BaseClient.\u001b[0m\u001b[0;34m\u001b[0m\u001b[0;34m\u001b[0m\u001b[0m\n\u001b[0;32m--> 316\u001b[0;31m             \u001b[0;32mreturn\u001b[0m \u001b[0mself\u001b[0m\u001b[0;34m.\u001b[0m\u001b[0m_make_api_call\u001b[0m\u001b[0;34m(\u001b[0m\u001b[0moperation_name\u001b[0m\u001b[0;34m,\u001b[0m \u001b[0mkwargs\u001b[0m\u001b[0;34m)\u001b[0m\u001b[0;34m\u001b[0m\u001b[0m\n\u001b[0m\u001b[1;32m    317\u001b[0m \u001b[0;34m\u001b[0m\u001b[0m\n\u001b[1;32m    318\u001b[0m         \u001b[0m_api_call\u001b[0m\u001b[0;34m.\u001b[0m\u001b[0m__name__\u001b[0m \u001b[0;34m=\u001b[0m \u001b[0mstr\u001b[0m\u001b[0;34m(\u001b[0m\u001b[0mpy_operation_name\u001b[0m\u001b[0;34m)\u001b[0m\u001b[0;34m\u001b[0m\u001b[0m\n",
      "\u001b[0;32m~/anaconda3/envs/pytorch_p36/lib/python3.6/site-packages/botocore/client.py\u001b[0m in \u001b[0;36m_make_api_call\u001b[0;34m(self, operation_name, api_params)\u001b[0m\n\u001b[1;32m    624\u001b[0m             \u001b[0merror_code\u001b[0m \u001b[0;34m=\u001b[0m \u001b[0mparsed_response\u001b[0m\u001b[0;34m.\u001b[0m\u001b[0mget\u001b[0m\u001b[0;34m(\u001b[0m\u001b[0;34m\"Error\"\u001b[0m\u001b[0;34m,\u001b[0m \u001b[0;34m{\u001b[0m\u001b[0;34m}\u001b[0m\u001b[0;34m)\u001b[0m\u001b[0;34m.\u001b[0m\u001b[0mget\u001b[0m\u001b[0;34m(\u001b[0m\u001b[0;34m\"Code\"\u001b[0m\u001b[0;34m)\u001b[0m\u001b[0;34m\u001b[0m\u001b[0m\n\u001b[1;32m    625\u001b[0m             \u001b[0merror_class\u001b[0m \u001b[0;34m=\u001b[0m \u001b[0mself\u001b[0m\u001b[0;34m.\u001b[0m\u001b[0mexceptions\u001b[0m\u001b[0;34m.\u001b[0m\u001b[0mfrom_code\u001b[0m\u001b[0;34m(\u001b[0m\u001b[0merror_code\u001b[0m\u001b[0;34m)\u001b[0m\u001b[0;34m\u001b[0m\u001b[0m\n\u001b[0;32m--> 626\u001b[0;31m             \u001b[0;32mraise\u001b[0m \u001b[0merror_class\u001b[0m\u001b[0;34m(\u001b[0m\u001b[0mparsed_response\u001b[0m\u001b[0;34m,\u001b[0m \u001b[0moperation_name\u001b[0m\u001b[0;34m)\u001b[0m\u001b[0;34m\u001b[0m\u001b[0m\n\u001b[0m\u001b[1;32m    627\u001b[0m         \u001b[0;32melse\u001b[0m\u001b[0;34m:\u001b[0m\u001b[0;34m\u001b[0m\u001b[0m\n\u001b[1;32m    628\u001b[0m             \u001b[0;32mreturn\u001b[0m \u001b[0mparsed_response\u001b[0m\u001b[0;34m\u001b[0m\u001b[0m\n",
      "\u001b[0;31mResourceLimitExceeded\u001b[0m: An error occurred (ResourceLimitExceeded) when calling the CreateTrainingJob operation: The account-level service limit 'ml.p2.xlarge for training job usage' is 0 Instances, with current utilization of 0 Instances and a request delta of 1 Instances. Please contact AWS support to request an increase for this limit."
     ]
    }
   ],
   "source": [
    "estimator.fit({'training': input_data})"
   ]
  },
  {
   "cell_type": "markdown",
   "metadata": {},
   "source": [
    "## Step 5: Testing the model\n",
    "\n",
    "As mentioned at the top of this notebook, we will be testing this model by first deploying it and then sending the testing data to the deployed endpoint. We will do this so that we can make sure that the deployed model is working correctly.\n",
    "\n",
    "## Step 6: Deploy the model for testing\n",
    "\n",
    "Now that we have trained our model, we would like to test it to see how it performs. Currently our model takes input of the form `review_length, review[500]` where `review[500]` is a sequence of `500` integers which describe the words present in the review, encoded using `word_dict`. Fortunately for us, SageMaker provides built-in inference code for models with simple inputs such as this.\n",
    "\n",
    "There is one thing that we need to provide, however, and that is a function which loads the saved model. This function must be called `model_fn()` and takes as its only parameter a path to the directory where the model artifacts are stored. This function must also be present in the python file which we specified as the entry point. In our case the model loading function has been provided and so no changes need to be made.\n",
    "\n",
    "**NOTE**: When the built-in inference code is run it must import the `model_fn()` method from the `train.py` file. This is why the training code is wrapped in a main guard ( ie, `if __name__ == '__main__':` )\n",
    "\n",
    "Since we don't need to change anything in the code that was uploaded during training, we can simply deploy the current model as-is.\n",
    "\n",
    "**NOTE:** When deploying a model you are asking SageMaker to launch an compute instance that will wait for data to be sent to it. As a result, this compute instance will continue to run until *you* shut it down. This is important to know since the cost of a deployed endpoint depends on how long it has been running for.\n",
    "\n",
    "In other words **If you are no longer using a deployed endpoint, shut it down!**\n",
    "\n",
    "**TODO:** Deploy the trained model."
   ]
  },
  {
   "cell_type": "code",
   "execution_count": null,
   "metadata": {},
   "outputs": [],
   "source": [
    "# TODO: Deploy the trained model\n",
    "predictor = estimator.deploy(initial_instance_count=1, instance_type='ml.p2.xlarge')"
   ]
  },
  {
   "cell_type": "markdown",
   "metadata": {},
   "source": [
    "## Step 7 - Use the model for testing\n",
    "\n",
    "Once deployed, we can read in the test data and send it off to our deployed model to get some results. Once we collect all of the results we can determine how accurate our model is."
   ]
  },
  {
   "cell_type": "code",
   "execution_count": null,
   "metadata": {},
   "outputs": [],
   "source": [
    "test_X = pd.concat([pd.DataFrame(test_X_len), pd.DataFrame(test_X)], axis=1)"
   ]
  },
  {
   "cell_type": "code",
   "execution_count": null,
   "metadata": {},
   "outputs": [],
   "source": [
    "# We split the data into chunks and send each chunk seperately, accumulating the results.\n",
    "\n",
    "def predict(data, rows=512):\n",
    "    split_array = np.array_split(data, int(data.shape[0] / float(rows) + 1))\n",
    "    predictions = np.array([])\n",
    "    for array in split_array:\n",
    "        predictions = np.append(predictions, predictor.predict(array))\n",
    "    \n",
    "    return predictions"
   ]
  },
  {
   "cell_type": "code",
   "execution_count": null,
   "metadata": {},
   "outputs": [],
   "source": [
    "predictions = predict(test_X.values)\n",
    "predictions = [round(num) for num in predictions]"
   ]
  },
  {
   "cell_type": "code",
   "execution_count": null,
   "metadata": {},
   "outputs": [],
   "source": [
    "from sklearn.metrics import accuracy_score\n",
    "accuracy_score(test_y, predictions)"
   ]
  },
  {
   "cell_type": "markdown",
   "metadata": {},
   "source": [
    "**Question:** How does this model compare to the XGBoost model you created earlier? Why might these two models perform differently on this dataset? Which do *you* think is better for sentiment analysis?"
   ]
  },
  {
   "cell_type": "markdown",
   "metadata": {},
   "source": [
    "**Answer:**"
   ]
  },
  {
   "cell_type": "markdown",
   "metadata": {},
   "source": [
    "### (TODO) More testing\n",
    "\n",
    "We now have a trained model which has been deployed and which we can send processed reviews to and which returns the predicted sentiment. However, ultimately we would like to be able to send our model an unprocessed review. That is, we would like to send the review itself as a string. For example, suppose we wish to send the following review to our model."
   ]
  },
  {
   "cell_type": "code",
   "execution_count": null,
   "metadata": {},
   "outputs": [],
   "source": [
    "test_review = 'The simplest pleasures in life are the best, and this film is one of them. Combining a rather basic storyline of love and adventure this movie transcends the usual weekend fair with wit and unmitigated charm.'"
   ]
  },
  {
   "cell_type": "markdown",
   "metadata": {},
   "source": [
    "The question we now need to answer is, how do we send this review to our model?\n",
    "\n",
    "Recall in the first section of this notebook we did a bunch of data processing to the IMDb dataset. In particular, we did two specific things to the provided reviews.\n",
    " - Removed any html tags and stemmed the input\n",
    " - Encoded the review as a sequence of integers using `word_dict`\n",
    " \n",
    "In order process the review we will need to repeat these two steps.\n",
    "\n",
    "**TODO**: Using the `review_to_words` and `convert_and_pad` methods from section one, convert `test_review` into a numpy array `test_data` suitable to send to our model. Remember that our model expects input of the form `review_length, review[500]`."
   ]
  },
  {
   "cell_type": "code",
   "execution_count": null,
   "metadata": {},
   "outputs": [],
   "source": [
    "# TODO: Convert test_review into a form usable by the model and save the results in test_data\n",
    "test_data = None"
   ]
  },
  {
   "cell_type": "markdown",
   "metadata": {},
   "source": [
    "Now that we have processed the review, we can send the resulting array to our model to predict the sentiment of the review."
   ]
  },
  {
   "cell_type": "code",
   "execution_count": null,
   "metadata": {},
   "outputs": [],
   "source": [
    "predictor.predict(test_data)"
   ]
  },
  {
   "cell_type": "markdown",
   "metadata": {},
   "source": [
    "Since the return value of our model is close to `1`, we can be certain that the review we submitted is positive."
   ]
  },
  {
   "cell_type": "markdown",
   "metadata": {},
   "source": [
    "### Delete the endpoint\n",
    "\n",
    "Of course, just like in the XGBoost notebook, once we've deployed an endpoint it continues to run until we tell it to shut down. Since we are done using our endpoint for now, we can delete it."
   ]
  },
  {
   "cell_type": "code",
   "execution_count": null,
   "metadata": {},
   "outputs": [],
   "source": [
    "estimator.delete_endpoint()"
   ]
  },
  {
   "cell_type": "markdown",
   "metadata": {},
   "source": [
    "## Step 6 (again) - Deploy the model for the web app\n",
    "\n",
    "Now that we know that our model is working, it's time to create some custom inference code so that we can send the model a review which has not been processed and have it determine the sentiment of the review.\n",
    "\n",
    "As we saw above, by default the estimator which we created, when deployed, will use the entry script and directory which we provided when creating the model. However, since we now wish to accept a string as input and our model expects a processed review, we need to write some custom inference code.\n",
    "\n",
    "We will store the code that we write in the `serve` directory. Provided in this directory is the `model.py` file that we used to construct our model, a `utils.py` file which contains the `review_to_words` and `convert_and_pad` pre-processing functions which we used during the initial data processing, and `predict.py`, the file which will contain our custom inference code. Note also that `requirements.txt` is present which will tell SageMaker what Python libraries are required by our custom inference code.\n",
    "\n",
    "When deploying a PyTorch model in SageMaker, you are expected to provide four functions which the SageMaker inference container will use.\n",
    " - `model_fn`: This function is the same function that we used in the training script and it tells SageMaker how to load our model.\n",
    " - `input_fn`: This function receives the raw serialized input that has been sent to the model's endpoint and its job is to de-serialize and make the input available for the inference code.\n",
    " - `output_fn`: This function takes the output of the inference code and its job is to serialize this output and return it to the caller of the model's endpoint.\n",
    " - `predict_fn`: The heart of the inference script, this is where the actual prediction is done and is the function which you will need to complete.\n",
    "\n",
    "For the simple website that we are constructing during this project, the `input_fn` and `output_fn` methods are relatively straightforward. We only require being able to accept a string as input and we expect to return a single value as output. You might imagine though that in a more complex application the input or output may be image data or some other binary data which would require some effort to serialize.\n",
    "\n",
    "### (TODO) Writing inference code\n",
    "\n",
    "Before writing our custom inference code, we will begin by taking a look at the code which has been provided."
   ]
  },
  {
   "cell_type": "code",
   "execution_count": null,
   "metadata": {},
   "outputs": [],
   "source": [
    "!pygmentize serve/predict.py"
   ]
  },
  {
   "cell_type": "markdown",
   "metadata": {},
   "source": [
    "As mentioned earlier, the `model_fn` method is the same as the one provided in the training code and the `input_fn` and `output_fn` methods are very simple and your task will be to complete the `predict_fn` method. Make sure that you save the completed file as `predict.py` in the `serve` directory.\n",
    "\n",
    "**TODO**: Complete the `predict_fn()` method in the `serve/predict.py` file."
   ]
  },
  {
   "cell_type": "markdown",
   "metadata": {},
   "source": [
    "### Deploying the model\n",
    "\n",
    "Now that the custom inference code has been written, we will create and deploy our model. To begin with, we need to construct a new PyTorchModel object which points to the model artifacts created during training and also points to the inference code that we wish to use. Then we can call the deploy method to launch the deployment container.\n",
    "\n",
    "**NOTE**: The default behaviour for a deployed PyTorch model is to assume that any input passed to the predictor is a `numpy` array. In our case we want to send a string so we need to construct a simple wrapper around the `RealTimePredictor` class to accomodate simple strings. In a more complicated situation you may want to provide a serialization object, for example if you wanted to sent image data."
   ]
  },
  {
   "cell_type": "code",
   "execution_count": null,
   "metadata": {},
   "outputs": [],
   "source": [
    "from sagemaker.predictor import RealTimePredictor\n",
    "from sagemaker.pytorch import PyTorchModel\n",
    "\n",
    "class StringPredictor(RealTimePredictor):\n",
    "    def __init__(self, endpoint_name, sagemaker_session):\n",
    "        super(StringPredictor, self).__init__(endpoint_name, sagemaker_session, content_type='text/plain')\n",
    "\n",
    "model = PyTorchModel(model_data=estimator.model_data,\n",
    "                     role = role,\n",
    "                     framework_version='0.4.0',\n",
    "                     entry_point='predict.py',\n",
    "                     source_dir='serve',\n",
    "                     predictor_cls=StringPredictor)\n",
    "predictor = model.deploy(initial_instance_count=1, instance_type='ml.m4.xlarge')"
   ]
  },
  {
   "cell_type": "markdown",
   "metadata": {},
   "source": [
    "### Testing the model\n",
    "\n",
    "Now that we have deployed our model with the custom inference code, we should test to see if everything is working. Here we test our model by loading the first `250` positive and negative reviews and send them to the endpoint, then collect the results. The reason for only sending some of the data is that the amount of time it takes for our model to process the input and then perform inference is quite long and so testing the entire data set would be prohibitive."
   ]
  },
  {
   "cell_type": "code",
   "execution_count": null,
   "metadata": {},
   "outputs": [],
   "source": [
    "import glob\n",
    "\n",
    "def test_reviews(data_dir='../data/aclImdb', stop=250):\n",
    "    \n",
    "    results = []\n",
    "    ground = []\n",
    "    \n",
    "    # We make sure to test both positive and negative reviews    \n",
    "    for sentiment in ['pos', 'neg']:\n",
    "        \n",
    "        path = os.path.join(data_dir, 'test', sentiment, '*.txt')\n",
    "        files = glob.glob(path)\n",
    "        \n",
    "        files_read = 0\n",
    "        \n",
    "        print('Starting ', sentiment, ' files')\n",
    "        \n",
    "        # Iterate through the files and send them to the predictor\n",
    "        for f in files:\n",
    "            with open(f) as review:\n",
    "                # First, we store the ground truth (was the review positive or negative)\n",
    "                if sentiment == 'pos':\n",
    "                    ground.append(1)\n",
    "                else:\n",
    "                    ground.append(0)\n",
    "                # Read in the review and convert to 'utf-8' for transmission via HTTP\n",
    "                review_input = review.read().encode('utf-8')\n",
    "                # Send the review to the predictor and store the results\n",
    "                results.append(int(predictor.predict(review_input)))\n",
    "                \n",
    "            # Sending reviews to our endpoint one at a time takes a while so we\n",
    "            # only send a small number of reviews\n",
    "            files_read += 1\n",
    "            if files_read == stop:\n",
    "                break\n",
    "            \n",
    "    return ground, results"
   ]
  },
  {
   "cell_type": "code",
   "execution_count": null,
   "metadata": {},
   "outputs": [],
   "source": [
    "ground, results = test_reviews()"
   ]
  },
  {
   "cell_type": "code",
   "execution_count": null,
   "metadata": {},
   "outputs": [],
   "source": [
    "from sklearn.metrics import accuracy_score\n",
    "accuracy_score(ground, results)"
   ]
  },
  {
   "cell_type": "markdown",
   "metadata": {},
   "source": [
    "As an additional test, we can try sending the `test_review` that we looked at earlier."
   ]
  },
  {
   "cell_type": "code",
   "execution_count": null,
   "metadata": {},
   "outputs": [],
   "source": [
    "predictor.predict(test_review)"
   ]
  },
  {
   "cell_type": "markdown",
   "metadata": {},
   "source": [
    "Now that we know our endpoint is working as expected, we can set up the web page that will interact with it. If you don't have time to finish the project now, make sure to skip down to the end of this notebook and shut down your endpoint. You can deploy it again when you come back."
   ]
  },
  {
   "cell_type": "markdown",
   "metadata": {},
   "source": [
    "## Step 7 (again): Use the model for the web app\n",
    "\n",
    "> **TODO:** This entire section and the next contain tasks for you to complete, mostly using the AWS console.\n",
    "\n",
    "So far we have been accessing our model endpoint by constructing a predictor object which uses the endpoint and then just using the predictor object to perform inference. What if we wanted to create a web app which accessed our model? The way things are set up currently makes that not possible since in order to access a SageMaker endpoint the app would first have to authenticate with AWS using an IAM role which included access to SageMaker endpoints. However, there is an easier way! We just need to use some additional AWS services.\n",
    "\n",
    "<img src=\"Web App Diagram.svg\">\n",
    "\n",
    "The diagram above gives an overview of how the various services will work together. On the far right is the model which we trained above and which is deployed using SageMaker. On the far left is our web app that collects a user's movie review, sends it off and expects a positive or negative sentiment in return.\n",
    "\n",
    "In the middle is where some of the magic happens. We will construct a Lambda function, which you can think of as a straightforward Python function that can be executed whenever a specified event occurs. We will give this function permission to send and recieve data from a SageMaker endpoint.\n",
    "\n",
    "Lastly, the method we will use to execute the Lambda function is a new endpoint that we will create using API Gateway. This endpoint will be a url that listens for data to be sent to it. Once it gets some data it will pass that data on to the Lambda function and then return whatever the Lambda function returns. Essentially it will act as an interface that lets our web app communicate with the Lambda function.\n",
    "\n",
    "### Setting up a Lambda function\n",
    "\n",
    "The first thing we are going to do is set up a Lambda function. This Lambda function will be executed whenever our public API has data sent to it. When it is executed it will receive the data, perform any sort of processing that is required, send the data (the review) to the SageMaker endpoint we've created and then return the result.\n",
    "\n",
    "#### Part A: Create an IAM Role for the Lambda function\n",
    "\n",
    "Since we want the Lambda function to call a SageMaker endpoint, we need to make sure that it has permission to do so. To do this, we will construct a role that we can later give the Lambda function.\n",
    "\n",
    "Using the AWS Console, navigate to the **IAM** page and click on **Roles**. Then, click on **Create role**. Make sure that the **AWS service** is the type of trusted entity selected and choose **Lambda** as the service that will use this role, then click **Next: Permissions**.\n",
    "\n",
    "In the search box type `sagemaker` and select the check box next to the **AmazonSageMakerFullAccess** policy. Then, click on **Next: Review**.\n",
    "\n",
    "Lastly, give this role a name. Make sure you use a name that you will remember later on, for example `LambdaSageMakerRole`. Then, click on **Create role**.\n",
    "\n",
    "#### Part B: Create a Lambda function\n",
    "\n",
    "Now it is time to actually create the Lambda function.\n",
    "\n",
    "Using the AWS Console, navigate to the AWS Lambda page and click on **Create a function**. When you get to the next page, make sure that **Author from scratch** is selected. Now, name your Lambda function, using a name that you will remember later on, for example `sentiment_analysis_func`. Make sure that the **Python 3.6** runtime is selected and then choose the role that you created in the previous part. Then, click on **Create Function**.\n",
    "\n",
    "On the next page you will see some information about the Lambda function you've just created. If you scroll down you should see an editor in which you can write the code that will be executed when your Lambda function is triggered. In our example, we will use the code below. \n",
    "\n",
    "```python\n",
    "# We need to use the low-level library to interact with SageMaker since the SageMaker API\n",
    "# is not available natively through Lambda.\n",
    "import boto3\n",
    "\n",
    "def lambda_handler(event, context):\n",
    "\n",
    "    # The SageMaker runtime is what allows us to invoke the endpoint that we've created.\n",
    "    runtime = boto3.Session().client('sagemaker-runtime')\n",
    "\n",
    "    # Now we use the SageMaker runtime to invoke our endpoint, sending the review we were given\n",
    "    response = runtime.invoke_endpoint(EndpointName = '**ENDPOINT NAME HERE**',    # The name of the endpoint we created\n",
    "                                       ContentType = 'text/plain',                 # The data format that is expected\n",
    "                                       Body = event['body'])                       # The actual review\n",
    "\n",
    "    # The response is an HTTP response whose body contains the result of our inference\n",
    "    result = response['Body'].read().decode('utf-8')\n",
    "\n",
    "    return {\n",
    "        'statusCode' : 200,\n",
    "        'headers' : { 'Content-Type' : 'text/plain', 'Access-Control-Allow-Origin' : '*' },\n",
    "        'body' : result\n",
    "    }\n",
    "```\n",
    "\n",
    "Once you have copy and pasted the code above into the Lambda code editor, replace the `**ENDPOINT NAME HERE**` portion with the name of the endpoint that we deployed earlier. You can determine the name of the endpoint using the code cell below."
   ]
  },
  {
   "cell_type": "code",
   "execution_count": null,
   "metadata": {},
   "outputs": [],
   "source": [
    "predictor.endpoint"
   ]
  },
  {
   "cell_type": "markdown",
   "metadata": {},
   "source": [
    "Once you have added the endpoint name to the Lambda function, click on **Save**. Your Lambda function is now up and running. Next we need to create a way for our web app to execute the Lambda function.\n",
    "\n",
    "### Setting up API Gateway\n",
    "\n",
    "Now that our Lambda function is set up, it is time to create a new API using API Gateway that will trigger the Lambda function we have just created.\n",
    "\n",
    "Using AWS Console, navigate to **Amazon API Gateway** and then click on **Get started**.\n",
    "\n",
    "On the next page, make sure that **New API** is selected and give the new api a name, for example, `sentiment_analysis_api`. Then, click on **Create API**.\n",
    "\n",
    "Now we have created an API, however it doesn't currently do anything. What we want it to do is to trigger the Lambda function that we created earlier.\n",
    "\n",
    "Select the **Actions** dropdown menu and click **Create Method**. A new blank method will be created, select its dropdown menu and select **POST**, then click on the check mark beside it.\n",
    "\n",
    "For the integration point, make sure that **Lambda Function** is selected and click on the **Use Lambda Proxy integration**. This option makes sure that the data that is sent to the API is then sent directly to the Lambda function with no processing. It also means that the return value must be a proper response object as it will also not be processed by API Gateway.\n",
    "\n",
    "Type the name of the Lambda function you created earlier into the **Lambda Function** text entry box and then click on **Save**. Click on **OK** in the pop-up box that then appears, giving permission to API Gateway to invoke the Lambda function you created.\n",
    "\n",
    "The last step in creating the API Gateway is to select the **Actions** dropdown and click on **Deploy API**. You will need to create a new Deployment stage and name it anything you like, for example `prod`.\n",
    "\n",
    "You have now successfully set up a public API to access your SageMaker model. Make sure to copy or write down the URL provided to invoke your newly created public API as this will be needed in the next step. This URL can be found at the top of the page, highlighted in blue next to the text **Invoke URL**."
   ]
  },
  {
   "cell_type": "markdown",
   "metadata": {},
   "source": [
    "## Step 4: Deploying our web app\n",
    "\n",
    "Now that we have a publicly available API, we can start using it in a web app. For our purposes, we have provided a simple static html file which can make use of the public api you created earlier.\n",
    "\n",
    "In the `website` folder there should be a file called `index.html`. Download the file to your computer and open that file up in a text editor of your choice. There should be a line which contains **\\*\\*REPLACE WITH PUBLIC API URL\\*\\***. Replace this string with the url that you wrote down in the last step and then save the file.\n",
    "\n",
    "Now, if you open `index.html` on your local computer, your browser will behave as a local web server and you can use the provided site to interact with your SageMaker model.\n",
    "\n",
    "If you'd like to go further, you can host this html file anywhere you'd like, for example using github or hosting a static site on Amazon's S3. Once you have done this you can share the link with anyone you'd like and have them play with it too!\n",
    "\n",
    "> **Important Note** In order for the web app to communicate with the SageMaker endpoint, the endpoint has to actually be deployed and running. This means that you are paying for it. Make sure that the endpoint is running when you want to use the web app but that you shut it down when you don't need it, otherwise you will end up with a surprisingly large AWS bill.\n",
    "\n",
    "**TODO:** Make sure that you include the edited `index.html` file in your project submission."
   ]
  },
  {
   "cell_type": "markdown",
   "metadata": {},
   "source": [
    "Now that your web app is working, trying playing around with it and see how well it works.\n",
    "\n",
    "**Question**: Give an example of a review that you entered into your web app. What was the predicted sentiment of your example review?"
   ]
  },
  {
   "cell_type": "markdown",
   "metadata": {},
   "source": [
    "**Answer:**"
   ]
  },
  {
   "cell_type": "markdown",
   "metadata": {},
   "source": [
    "### Delete the endpoint\n",
    "\n",
    "Remember to always shut down your endpoint if you are no longer using it. You are charged for the length of time that the endpoint is running so if you forget and leave it on you could end up with an unexpectedly large bill."
   ]
  },
  {
   "cell_type": "code",
   "execution_count": null,
   "metadata": {},
   "outputs": [],
   "source": [
    "predictor.delete_endpoint()"
   ]
  },
  {
   "cell_type": "code",
   "execution_count": null,
   "metadata": {},
   "outputs": [],
   "source": []
  }
 ],
 "metadata": {
  "kernelspec": {
   "display_name": "conda_pytorch_p36",
   "language": "python",
   "name": "conda_pytorch_p36"
  },
  "language_info": {
   "codemirror_mode": {
    "name": "ipython",
    "version": 3
   },
   "file_extension": ".py",
   "mimetype": "text/x-python",
   "name": "python",
   "nbconvert_exporter": "python",
   "pygments_lexer": "ipython3",
   "version": "3.6.5"
  }
 },
 "nbformat": 4,
 "nbformat_minor": 2
}
